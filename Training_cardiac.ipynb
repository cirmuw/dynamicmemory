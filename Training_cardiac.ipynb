{
 "cells": [
  {
   "cell_type": "code",
   "execution_count": 4,
   "metadata": {},
   "outputs": [],
   "source": [
    "from catinous.dataset import BatchDataset, ContinuousDataset\n",
    "from catinous.dynamicmemory.DynamicMemoryModel import DynamicMemoryModel \n",
    "import catinous.dynamicmemory.DynamicMemoryModel as dmodel\n",
    "import catinous.utils as cutils\n",
    "import os\n",
    "import pandas as pd\n",
    "from py_jotools import mut, slurm\n",
    "import matplotlib.pyplot as plt\n",
    "import numpy as np\n",
    "import seaborn as sns\n",
    "from matplotlib.colors import ListedColormap, LinearSegmentedColormap"
   ]
  },
  {
   "cell_type": "code",
   "execution_count": 2,
   "metadata": {},
   "outputs": [
    {
     "name": "stdout",
     "output_type": "stream",
     "text": [
      "cardiac_batch49616\n",
      "sshpass -f ~/.ssh/pass ssh mperkonigg@cn5.cir.meduniwien.ac.at sbatch --export=NONE --partition centos7 /scratch/cardiac_batch49616.job\n",
      "Submitted batch job 3204031\n",
      "\n"
     ]
    }
   ],
   "source": [
    "schedule = True\n",
    "\n",
    "sparams = {\n",
    "    'binary': '/home/cir/mperkonigg/env/catinous/bin/python',\n",
    "    'cwd': '/home/cir/mperkonigg/catinous/catinous',\n",
    "    'gpu': 1,\n",
    "    'partition': 'centos7',\n",
    "    'memory': 100000,\n",
    "    'jobname': 'cardiac_batch',\n",
    "    'outputpath': '/home/cir/mperkonigg/slurmoutput/',\n",
    "    'mailuser': 'matthias.perkonigg@meduniwien.ac.at',\n",
    "    'minutes': '240'}\n",
    "\n",
    "\n",
    "hparams = {\n",
    "    'continuous': False,\n",
    "    'datasetfile': '/project/catinous/cardiacslicessplit.csv',\n",
    "    'batch_size': 16,\n",
    "    'training_batch_size': 16,\n",
    "    'task': 'cardiac',\n",
    "    'model': 'fcn',\n",
    "    'scanner': 'Siemens',\n",
    "     'noncontinuous_steps': 500,\n",
    "    'noncontinuous_train_splits': ['base','train'],\n",
    "    'use_memory': False\n",
    "}\n",
    "\n",
    "if schedule:\n",
    "    slurm.srun(dmodel.trained_model, [hparams], params=sparams, remote=True)\n",
    "else:\n",
    "    model, logs, df_cache, basemodel_lr = dmodel.trained_model(hparams)"
   ]
  },
  {
   "cell_type": "code",
   "execution_count": 13,
   "metadata": {},
   "outputs": [
    {
     "name": "stdout",
     "output_type": "stream",
     "text": [
      "cardiac_batch68947\n",
      "sshpass -f ~/.ssh/pass ssh mperkonigg@cn5.cir.meduniwien.ac.at sbatch --export=NONE --partition centos7 /scratch/cardiac_batch68947.job\n",
      "Submitted batch job 3204048\n",
      "\n"
     ]
    }
   ],
   "source": [
    "schedule = True\n",
    "\n",
    "sparams = {\n",
    "    'binary': '/home/cir/mperkonigg/env/catinous/bin/python',\n",
    "    'cwd': '/home/cir/mperkonigg/catinous/catinous',\n",
    "    'gpu': 1,\n",
    "    'partition': 'centos7',\n",
    "    'memory': 100000,\n",
    "    'jobname': 'cardiac_batch',\n",
    "    'outputpath': '/home/cir/mperkonigg/slurmoutput/',\n",
    "    'mailuser': 'matthias.perkonigg@meduniwien.ac.at',\n",
    "    'minutes': '240'}\n",
    "hparams = {\n",
    "    'continuous': False,\n",
    "    'datasetfile': '/project/catinous/cardiacslicessplit.csv',\n",
    "    'batch_size': 16,\n",
    "    'training_batch_size': 16,\n",
    "    'task': 'cardiac',\n",
    "    'model': 'fcn',\n",
    "    'scanner': 'Siemens',\n",
    "     'noncontinuous_steps': 500,\n",
    "    'noncontinuous_train_splits': ['base'],\n",
    "    'use_memory': False\n",
    "}\n",
    "\n",
    "if schedule:\n",
    "    slurm.srun(dmodel.trained_model, [hparams], params=sparams, remote=True)\n",
    "else:\n",
    "    model, logs, df_cache, basemodel_lr = dmodel.trained_model(hparams)"
   ]
  },
  {
   "cell_type": "code",
   "execution_count": 3,
   "metadata": {},
   "outputs": [
    {
     "name": "stdout",
     "output_type": "stream",
     "text": [
      "cardiac_batch26452\n",
      "sshpass -f ~/.ssh/pass ssh mperkonigg@cn5.cir.meduniwien.ac.at sbatch --export=NONE --partition centos7 /scratch/cardiac_batch26452.job\n",
      "Submitted batch job 3204032\n",
      "\n"
     ]
    }
   ],
   "source": [
    "hparams = {\n",
    "    'continuous': False,\n",
    "    'datasetfile': '/project/catinous/cardiacslicessplit.csv',\n",
    "    'batch_size': 16,\n",
    "    'training_batch_size': 16,\n",
    "    'task': 'cardiac',\n",
    "    'model': 'fcn',\n",
    "    'scanner': 'Canon',\n",
    "     'noncontinuous_steps': 500,\n",
    "    'noncontinuous_train_splits': ['base','train'],\n",
    "    'use_memory': False\n",
    "}\n",
    "\n",
    "if schedule:\n",
    "    slurm.srun(dmodel.trained_model, [hparams], params=sparams, remote=True)\n",
    "else:\n",
    "    model, logs, df_cache, basemodel_lr = dmodel.trained_model(hparams)"
   ]
  },
  {
   "cell_type": "code",
   "execution_count": 10,
   "metadata": {},
   "outputs": [],
   "source": [
    "ds = ContinuousDataset.CardiacContinuous('/project/catinous/cardiacslicessplit.csv', order=['Siemens', 'GE', 'Philips', 'Canon'], seed=42)"
   ]
  },
  {
   "cell_type": "code",
   "execution_count": 11,
   "metadata": {},
   "outputs": [
    {
     "data": {
      "text/plain": [
       "<matplotlib.image.AxesImage at 0x7f1b1568dda0>"
      ]
     },
     "execution_count": 11,
     "metadata": {},
     "output_type": "execute_result"
    },
    {
     "data": {
      "image/png": "[encoded data removed]",
      "text/plain": [
       "<Figure size 1440x1440 with 1 Axes>"
      ]
     },
     "metadata": {
      "needs_background": "light"
     },
     "output_type": "display_data"
    }
   ],
   "source": [
    "newcmp = ListedColormap([sns.color_palette()[0], sns.color_palette()[1], sns.color_palette()[2], sns.color_palette()[3]], name='OrangeBlue')\n",
    "res = ds.df.scanner == 'Siemens'\n",
    "res1 = ds.df.scanner == 'GE'\n",
    "res2 = ds.df.scanner == 'Philips'\n",
    "res3 = ds.df.scanner == 'Canon'\n",
    "res[res1] = 2\n",
    "res[res2] = 3\n",
    "res[res3] = 4\n",
    "plt.figure(figsize=(20,20))\n",
    "plt.imshow(np.tile(res,(500,1)), cmap=newcmp)"
   ]
  },
  {
   "cell_type": "code",
   "execution_count": null,
   "metadata": {},
   "outputs": [],
   "source": []
  }
 ],
 "metadata": {
  "kernelspec": {
   "display_name": "Python 3",
   "language": "python",
   "name": "python3"
  },
  "language_info": {
   "codemirror_mode": {
    "name": "ipython",
    "version": 3
   },
   "file_extension": ".py",
   "mimetype": "text/x-python",
   "name": "python",
   "nbconvert_exporter": "python",
   "pygments_lexer": "ipython3",
   "version": "3.6.9"
  }
 },
 "nbformat": 4,
 "nbformat_minor": 4
}
