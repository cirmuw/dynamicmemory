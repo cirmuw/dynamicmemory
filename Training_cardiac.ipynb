{
 "cells": [
  {
   "cell_type": "code",
   "execution_count": 1,
   "metadata": {},
   "outputs": [
    {
     "name": "stderr",
     "output_type": "stream",
     "text": [
      "In /home/mperkonigg/.local/lib/python3.6/site-packages/matplotlib/mpl-data/stylelib/_classic_test.mplstyle: \n",
      "The text.latex.preview rcparam was deprecated in Matplotlib 3.3 and will be removed two minor releases later.\n",
      "In /home/mperkonigg/.local/lib/python3.6/site-packages/matplotlib/mpl-data/stylelib/_classic_test.mplstyle: \n",
      "The mathtext.fallback_to_cm rcparam was deprecated in Matplotlib 3.3 and will be removed two minor releases later.\n",
      "In /home/mperkonigg/.local/lib/python3.6/site-packages/matplotlib/mpl-data/stylelib/_classic_test.mplstyle: Support for setting the 'mathtext.fallback_to_cm' rcParam is deprecated since 3.3 and will be removed two minor releases later; use 'mathtext.fallback : 'cm' instead.\n",
      "In /home/mperkonigg/.local/lib/python3.6/site-packages/matplotlib/mpl-data/stylelib/_classic_test.mplstyle: \n",
      "The validate_bool_maybe_none function was deprecated in Matplotlib 3.3 and will be removed two minor releases later.\n",
      "In /home/mperkonigg/.local/lib/python3.6/site-packages/matplotlib/mpl-data/stylelib/_classic_test.mplstyle: \n",
      "The savefig.jpeg_quality rcparam was deprecated in Matplotlib 3.3 and will be removed two minor releases later.\n",
      "In /home/mperkonigg/.local/lib/python3.6/site-packages/matplotlib/mpl-data/stylelib/_classic_test.mplstyle: \n",
      "The keymap.all_axes rcparam was deprecated in Matplotlib 3.3 and will be removed two minor releases later.\n",
      "In /home/mperkonigg/.local/lib/python3.6/site-packages/matplotlib/mpl-data/stylelib/_classic_test.mplstyle: \n",
      "The animation.avconv_path rcparam was deprecated in Matplotlib 3.3 and will be removed two minor releases later.\n",
      "In /home/mperkonigg/.local/lib/python3.6/site-packages/matplotlib/mpl-data/stylelib/_classic_test.mplstyle: \n",
      "The animation.avconv_args rcparam was deprecated in Matplotlib 3.3 and will be removed two minor releases later.\n"
     ]
    }
   ],
   "source": [
    "from catinous.dataset import BatchDataset, ContinuousDataset\n",
    "from catinous.dynamicmemory.DynamicMemoryModel import DynamicMemoryModel \n",
    "import catinous.dynamicmemory.DynamicMemoryModel as dmodel\n",
    "import catinous.utils as cutils\n",
    "import os\n",
    "import pandas as pd\n",
    "from py_jotools import mut, slurm\n",
    "import matplotlib.pyplot as plt\n",
    "import numpy as np\n",
    "import seaborn as sns\n",
    "from matplotlib.colors import ListedColormap, LinearSegmentedColormap\n",
    "import catinous.evalfunctions as evalfu"
   ]
  },
  {
   "cell_type": "code",
   "execution_count": 2,
   "metadata": {},
   "outputs": [
    {
     "name": "stdout",
     "output_type": "stream",
     "text": [
      "cardiac_batch49616\n",
      "sshpass -f ~/.ssh/pass ssh mperkonigg@cn5.cir.meduniwien.ac.at sbatch --export=NONE --partition centos7 /scratch/cardiac_batch49616.job\n",
      "Submitted batch job 3204031\n",
      "\n"
     ]
    }
   ],
   "source": [
    "schedule = True\n",
    "\n",
    "sparams = {\n",
    "    'binary': '/home/cir/mperkonigg/env/catinous/bin/python',\n",
    "    'cwd': '/home/cir/mperkonigg/catinous/catinous',\n",
    "    'gpu': 1,\n",
    "    'partition': 'centos7',\n",
    "    'memory': 100000,\n",
    "    'jobname': 'cardiac_batch',\n",
    "    'outputpath': '/home/cir/mperkonigg/slurmoutput/',\n",
    "    'mailuser': 'matthias.perkonigg@meduniwien.ac.at',\n",
    "    'minutes': '240'}\n",
    "\n",
    "\n",
    "hparams = {\n",
    "    'continuous': False,\n",
    "    'datasetfile': '/project/catinous/cardiacslicessplitsingle.csv',\n",
    "    'batch_size': 16,\n",
    "    'training_batch_size': 16,\n",
    "    'task': 'cardiac',\n",
    "    'model': 'fcn',\n",
    "    'scanner': 'Siemens',\n",
    "     'noncontinuous_steps': 500,\n",
    "    'noncontinuous_train_splits': ['base','train'],\n",
    "    'use_memory': False\n",
    "}\n",
    "\n",
    "if schedule:\n",
    "    slurm.srun(dmodel.trained_model, [hparams], params=sparams, remote=True)\n",
    "else:\n",
    "    model, logs, df_cache, basemodel_lr = dmodel.trained_model(hparams)"
   ]
  },
  {
   "cell_type": "code",
   "execution_count": 19,
   "metadata": {},
   "outputs": [
    {
     "name": "stdout",
     "output_type": "stream",
     "text": [
      "cardiac_batch44621\n",
      "sshpass -f ~/.ssh/pass ssh cn1.cir.meduniwien.ac.at sbatch --export=NONE --partition centos7 /scratch/cardiac_batch44621.job\n",
      "Submitted batch job 3213694\n",
      "\n"
     ]
    }
   ],
   "source": [
    "schedule = True\n",
    "\n",
    "sparams = {\n",
    "    'binary': '/home/cir/mperkonigg/env/catinous/bin/python',\n",
    "    'cwd': '/home/cir/mperkonigg/catinous/catinous',\n",
    "    'gpu': 1,\n",
    "    'partition': 'centos7',\n",
    "    'memory': 100000,\n",
    "    'jobname': 'cardiac_batch',\n",
    "    'outputpath': '/home/cir/mperkonigg/slurmoutput/',\n",
    "    'mailuser': 'matthias.perkonigg@meduniwien.ac.at',\n",
    "    'minutes': '240'}\n",
    "hparams = {\n",
    "    'continuous': False,\n",
    "    'datasetfile': '/project/catinous/cardiacslicessplitsingle.csv',\n",
    "    'batch_size': 16,\n",
    "    'training_batch_size': 16,\n",
    "    'task': 'cardiac',\n",
    "    'model': 'fcn',\n",
    "    'scanner': 'Siemens',\n",
    "     'noncontinuous_steps': 1000,\n",
    "    'noncontinuous_train_splits': ['base'],\n",
    "    'use_memory': False\n",
    "}\n",
    "\n",
    "if schedule:\n",
    "    slurm.srun(dmodel.trained_model, [hparams], params=sparams, remote=True)\n",
    "else:\n",
    "    model, logs, df_cache, basemodel_lr = dmodel.trained_model(hparams)"
   ]
  },
  {
   "cell_type": "code",
   "execution_count": 14,
   "metadata": {},
   "outputs": [
    {
     "name": "stdout",
     "output_type": "stream",
     "text": [
      "cardiac_batch78098\n",
      "sshpass -f ~/.ssh/pass ssh mperkonigg@cn5.cir.meduniwien.ac.at sbatch --export=NONE --partition centos7 /scratch/cardiac_batch78098.job\n",
      "Submitted batch job 3204189\n",
      "\n"
     ]
    }
   ],
   "source": [
    "sparams = {\n",
    "    'binary': '/home/cir/mperkonigg/env/catinous/bin/python',\n",
    "    'cwd': '/home/cir/mperkonigg/catinous/catinous',\n",
    "    'gpu': 1,\n",
    "    'partition': 'centos7',\n",
    "    'memory': 100000,\n",
    "    'jobname': 'cardiac_batch',\n",
    "    'outputpath': '/home/cir/mperkonigg/slurmoutput/',\n",
    "    'mailuser': 'matthias.perkonigg@meduniwien.ac.at',\n",
    "    'minutes': '600',\n",
    "    'cpusptask': 8}\n",
    "\n",
    "hparams = {\n",
    "    'continuous': False,\n",
    "    'datasetfile': '/project/catinous/cardiacslicessplit.csv',\n",
    "    'batch_size': 16,\n",
    "    'training_batch_size': 16,\n",
    "    'task': 'cardiac',\n",
    "    'model': 'fcn',\n",
    "    'scanner': 'Canon',\n",
    "     'noncontinuous_steps': 500,\n",
    "    'noncontinuous_train_splits': ['base','train'],\n",
    "    'use_memory': False\n",
    "}\n",
    "\n",
    "if schedule:\n",
    "    slurm.srun(dmodel.trained_model, [hparams], params=sparams, remote=True)\n",
    "else:\n",
    "    model, logs, df_cache, basemodel_lr = dmodel.trained_model(hparams)"
   ]
  },
  {
   "cell_type": "code",
   "execution_count": 4,
   "metadata": {},
   "outputs": [
    {
     "name": "stdout",
     "output_type": "stream",
     "text": [
      "/project/catinous/trained_models/cardiac_cont_cardiacslicessplitsingle_basemodel_batch_mem_tf08_2_663d121011.pt False\n",
      "cardiac_cont69294\n",
      "sshpass -f ~/.ssh/pass ssh cn1.cir.meduniwien.ac.at sbatch --export=NONE --partition centos7 /scratch/cardiac_cont69294.job\n",
      "Submitted batch job 3214592\n",
      "\n",
      "/project/catinous/trained_models/cardiac_cont_cardiacslicessplitsingle_basemodel_batch_mem_tf08_3_cea87b528d.pt False\n",
      "cardiac_cont28436\n",
      "sshpass -f ~/.ssh/pass ssh cn1.cir.meduniwien.ac.at sbatch --export=NONE --partition centos7 /scratch/cardiac_cont28436.job\n",
      "Submitted batch job 3214593\n",
      "\n",
      "/project/catinous/trained_models/cardiac_cont_cardiacslicessplitsingle_basemodel_batch_mem_tf08_4_33688665fd.pt False\n",
      "cardiac_cont72332\n",
      "sshpass -f ~/.ssh/pass ssh cn1.cir.meduniwien.ac.at sbatch --export=NONE --partition centos7 /scratch/cardiac_cont72332.job\n",
      "Submitted batch job 3214594\n",
      "\n",
      "/project/catinous/trained_models/cardiac_cont_cardiacslicessplitsingle_basemodel_batch_mem_tf08_5_b08dca2c09.pt False\n",
      "cardiac_cont14783\n",
      "sshpass -f ~/.ssh/pass ssh cn1.cir.meduniwien.ac.at sbatch --export=NONE --partition centos7 /scratch/cardiac_cont14783.job\n",
      "Submitted batch job 3214595\n",
      "\n"
     ]
    }
   ],
   "source": [
    "schedule = True\n",
    "\n",
    "sparams = {\n",
    "    'binary': '/home/cir/mperkonigg/env/catinous/bin/python',\n",
    "    'cwd': '/home/cir/mperkonigg/catinous/catinous',\n",
    "    'gpu': 1,\n",
    "    'partition': 'centos7',\n",
    "    'memory': 100000,\n",
    "    'jobname': 'cardiac_cont',\n",
    "    'outputpath': '/home/cir/mperkonigg/slurmoutput/',\n",
    "    'mailuser': 'matthias.perkonigg@meduniwien.ac.at',\n",
    "    'minutes': '600',\n",
    "    'cpusptask': 8}\n",
    "\n",
    "hparams={'root_dir':'/project/catinous/',\n",
    "         'datasetfile': '/project/catinous/cardiacslicessplitsingle.csv',\n",
    "         'batch_size': 16,\n",
    "         'training_batch_size': 16,\n",
    "         'transition_phase_after':0.8,\n",
    "         'memorymaximum': 128,\n",
    "         'use_memory':True,\n",
    "         'random_memory': True,\n",
    "         'balance_memory': False,\n",
    "         'order': ['Siemens', 'GE', 'Philips', 'Canon'],\n",
    "         'continuous': True,\n",
    "         'val_check_interval': 10,\n",
    "        'base_model': 'cardiac_batch_cardiacslicessplitsingle_base_1_ebc3df72a1.pt', # cardiac_batch_cardiacslicessplit_base_1_7826e2e7a0\n",
    "        'run_postfix': 1,\n",
    "        'gram_weights': [1, 1, 1, 1],\n",
    "        'dim': 2,\n",
    "         'task': 'cardiac',\n",
    "         'model': 'fcn',\n",
    "         'seed': 1654130,\n",
    "         'stylemodel': True,\n",
    "         'pseudodomain_detection': True\n",
    "        }\n",
    "\n",
    "seeds = [1654130, 6654961, 5819225, 1215862, 132054]\n",
    "\n",
    "for i in range(5):\n",
    "    hparams['seed'] = seeds[i]\n",
    "    hparams['run_postfix'] = i+1\n",
    "    print(dmodel.cached_path(hparams), dmodel.is_cached(hparams))\n",
    "    if schedule:\n",
    "        slurm.srun(dmodel.trained_model, [hparams], params=sparams, remote=True)\n",
    "    else:\n",
    "        model, logs, df_cache, basemodel_lr = dmodel.trained_model(hparams)\n",
    "    "
   ]
  },
  {
   "cell_type": "code",
   "execution_count": 4,
   "metadata": {},
   "outputs": [
    {
     "name": "stdout",
     "output_type": "stream",
     "text": [
      "cardiac_cont95008\n",
      "sshpass -f ~/.ssh/pass ssh cn1.cir.meduniwien.ac.at sbatch --export=NONE --partition centos7 /scratch/cardiac_cont95008.job\n",
      "Submitted batch job 3214561\n",
      "\n"
     ]
    }
   ],
   "source": [
    "schedule = True\n",
    "\n",
    "sparams = {\n",
    "    'binary': '/home/cir/mperkonigg/env/catinous/bin/python',\n",
    "    'cwd': '/home/cir/mperkonigg/catinous/catinous',\n",
    "    'gpu': 1,\n",
    "    'partition': 'centos7',\n",
    "    'memory': 100000,\n",
    "    'jobname': 'cardiac_cont',\n",
    "    'outputpath': '/home/cir/mperkonigg/slurmoutput/',\n",
    "    'mailuser': 'matthias.perkonigg@meduniwien.ac.at',\n",
    "    'minutes': '600',\n",
    "    'cpusptask': 8}\n",
    "\n",
    "hparams={'root_dir':'/project/catinous/',\n",
    "         'datasetfile': '/project/catinous/cardiacslicessplitsingle.csv',\n",
    "         'batch_size': 16,\n",
    "         'training_batch_size': 16,\n",
    "         'transition_phase_after':0.8,\n",
    "         'memorymaximum': 128,\n",
    "         'use_memory':True,\n",
    "         'random_memory': True,\n",
    "         'balance_memory': False,\n",
    "         #'force_misclassified': True,\n",
    "         #'misclass_threshold': 0.8,\n",
    "         'order': ['Siemens', 'GE', 'Philips', 'Canon'],\n",
    "         'continuous': True,\n",
    "         'val_check_interval': 10,\n",
    "        'base_model': 'cardiac_batch_cardiacslicessplitsingle_base_1_ebc3df72a1.pt', #'cardiac_batch_cardiacslicessplit_base_1_7826e2e7a0.pt',\n",
    "        'run_postfix': 1,\n",
    "        'gram_weights': [1, 1, 1, 1],\n",
    "        'dim': 2,\n",
    "         'task': 'cardiac',\n",
    "         'model': 'fcn',\n",
    "         'seed': 1654130,\n",
    "         'stylemodel': True\n",
    "        }\n",
    "\n",
    "\n",
    "seeds = [1654130, 6654961, 5819225, 1215862, 132054]\n",
    "\n",
    "for i in range(5):\n",
    "        hparams['seed'] = seeds[i]\n",
    "        hparams['run_postfix'] = i+1\n",
    "        if schedule:\n",
    "            slurm.srun(dmodel.trained_model, [hparams], params=sparams, remote=True)\n",
    "        else:\n",
    "            model, logs, df_cache, basemodel_lr = dmodel.trained_model(hparams)\n",
    "        break"
   ]
  },
  {
   "cell_type": "code",
   "execution_count": 9,
   "metadata": {},
   "outputs": [
    {
     "name": "stdout",
     "output_type": "stream",
     "text": [
      "cardiac_cont84717\n",
      "sshpass -f ~/.ssh/pass ssh cn1.cir.meduniwien.ac.at sbatch --export=NONE --partition centos7 /scratch/cardiac_cont84717.job\n",
      "Submitted batch job 3215894\n",
      "\n",
      "cardiac_cont82087\n",
      "sshpass -f ~/.ssh/pass ssh cn1.cir.meduniwien.ac.at sbatch --export=NONE --partition centos7 /scratch/cardiac_cont82087.job\n",
      "Submitted batch job 3215895\n",
      "\n",
      "cardiac_cont80435\n",
      "sshpass -f ~/.ssh/pass ssh cn1.cir.meduniwien.ac.at sbatch --export=NONE --partition centos7 /scratch/cardiac_cont80435.job\n",
      "Submitted batch job 3215896\n",
      "\n",
      "cardiac_cont23664\n",
      "sshpass -f ~/.ssh/pass ssh cn1.cir.meduniwien.ac.at sbatch --export=NONE --partition centos7 /scratch/cardiac_cont23664.job\n",
      "Submitted batch job 3215897\n",
      "\n",
      "cardiac_cont18053\n",
      "sshpass -f ~/.ssh/pass ssh cn1.cir.meduniwien.ac.at sbatch --export=NONE --partition centos7 /scratch/cardiac_cont18053.job\n",
      "Submitted batch job 3215898\n",
      "\n"
     ]
    }
   ],
   "source": [
    "schedule = True\n",
    "\n",
    "sparams = {\n",
    "    'binary': '/home/cir/mperkonigg/env/catinous/bin/python',\n",
    "    'cwd': '/home/cir/mperkonigg/catinous/catinous',\n",
    "    'gpu': 1,\n",
    "    'partition': 'centos7',\n",
    "    'memory': 100000,\n",
    "    'jobname': 'cardiac_cont',\n",
    "    'outputpath': '/home/cir/mperkonigg/slurmoutput/',\n",
    "    'mailuser': 'matthias.perkonigg@meduniwien.ac.at',\n",
    "    'minutes': '600',\n",
    "    'cpusptask': 8}\n",
    "\n",
    "hparams={'root_dir':'/project/catinous/',\n",
    "         'datasetfile': '/project/catinous/cardiacslicessplitsingle.csv',\n",
    "         'batch_size': 16,\n",
    "         'training_batch_size': 16,\n",
    "         'transition_phase_after':0.8,\n",
    "         'memorymaximum': 128,\n",
    "         'use_memory':False,\n",
    "         'random_memory': True,\n",
    "         'balance_memory': False,\n",
    "         'order': ['Siemens', 'GE', 'Philips', 'Canon'],\n",
    "         'continuous': True,\n",
    "         'val_check_interval': 10,\n",
    "        'base_model': 'cardiac_batch_cardiacslicessplitsingle_base_1_ebc3df72a1.pt',#'cardiac_batch_cardiacslicessplit_base_1_7826e2e7a0.pt',\n",
    "        'run_postfix': 1,\n",
    "        'gram_weights': [1, 1, 1, 1],\n",
    "        'dim': 2,\n",
    "         'task': 'cardiac',\n",
    "         'model': 'fcn',\n",
    "         'seed': 1654130\n",
    "        }\n",
    "\n",
    "\n",
    "seeds = [1654130, 6654961, 5819225, 1215862, 132054]\n",
    "\n",
    "for i in range(5):\n",
    "        hparams['seed'] = seeds[i]\n",
    "        hparams['run_postfix'] = i+1\n",
    "        #print(dmodel.cached_path(hparams), dmodel.is_cached(hparams))\n",
    "        if schedule:\n",
    "            slurm.srun(dmodel.trained_model, [hparams], params=sparams, remote=True)\n",
    "        else:\n",
    "            model, logs, df_cache, basemodel_lr = dmodel.trained_model(hparams)"
   ]
  },
  {
   "cell_type": "code",
   "execution_count": 3,
   "metadata": {},
   "outputs": [],
   "source": [
    "ds = ContinuousDataset.CardiacContinuous('/project/catinous/cardiacslicessplit.csv', order=['Siemens', 'GE', 'Philips', 'Canon'], seed=1654130)"
   ]
  },
  {
   "cell_type": "code",
   "execution_count": 4,
   "metadata": {},
   "outputs": [
    {
     "data": {
      "text/plain": [
       "<matplotlib.image.AxesImage at 0x7f5bcfe89048>"
      ]
     },
     "execution_count": 4,
     "metadata": {},
     "output_type": "execute_result"
    },
    {
     "data": {
      "image/png": "[encoded data removed]",
      "text/plain": [
       "<Figure size 1440x1440 with 1 Axes>"
      ]
     },
     "metadata": {
      "needs_background": "light"
     },
     "output_type": "display_data"
    }
   ],
   "source": [
    "newcmp = ListedColormap([sns.color_palette()[0], sns.color_palette()[1], sns.color_palette()[2], sns.color_palette()[3]], name='OrangeBlue')\n",
    "res = ds.df.scanner == 'Siemens'\n",
    "res1 = ds.df.scanner == 'GE'\n",
    "res2 = ds.df.scanner == 'Philips'\n",
    "res3 = ds.df.scanner == 'Canon'\n",
    "res[res1] = 2\n",
    "res[res2] = 3\n",
    "res[res3] = 4\n",
    "plt.figure(figsize=(20,20))\n",
    "plt.imshow(np.tile(res,(500,1)), cmap=newcmp)"
   ]
  },
  {
   "cell_type": "code",
   "execution_count": 5,
   "metadata": {},
   "outputs": [
    {
     "name": "stdout",
     "output_type": "stream",
     "text": [
      "eval_cardiac48817\n",
      "sshpass -f ~/.ssh/pass ssh cn1.cir.meduniwien.ac.at sbatch --export=NONE --partition centos7 /scratch/eval_cardiac48817.job\n",
      "Submitted batch job 3215868\n",
      "\n",
      "eval_cardiac10993\n",
      "sshpass -f ~/.ssh/pass ssh cn1.cir.meduniwien.ac.at sbatch --export=NONE --partition centos7 /scratch/eval_cardiac10993.job\n",
      "Submitted batch job 3215869\n",
      "\n",
      "eval_cardiac84277\n",
      "sshpass -f ~/.ssh/pass ssh cn1.cir.meduniwien.ac.at sbatch --export=NONE --partition centos7 /scratch/eval_cardiac84277.job\n",
      "Submitted batch job 3215870\n",
      "\n",
      "eval_cardiac58148\n",
      "sshpass -f ~/.ssh/pass ssh cn1.cir.meduniwien.ac.at sbatch --export=NONE --partition centos7 /scratch/eval_cardiac58148.job\n",
      "Submitted batch job 3215871\n",
      "\n",
      "eval_cardiac80315\n",
      "sshpass -f ~/.ssh/pass ssh cn1.cir.meduniwien.ac.at sbatch --export=NONE --partition centos7 /scratch/eval_cardiac80315.job\n",
      "Submitted batch job 3215872\n",
      "\n"
     ]
    }
   ],
   "source": [
    "sparams = {\n",
    "    'binary': '/home/cir/mperkonigg/env/catinous/bin/python',\n",
    "    'cwd': '/home/cir/mperkonigg/catinous/catinous',\n",
    "    'gpu': 1,\n",
    "    'partition': 'centos7',\n",
    "    'memory': 100000,\n",
    "    'jobname': 'eval_cardiac',\n",
    "    'outputpath': '/home/cir/mperkonigg/slurmoutput/',\n",
    "    'mailuser': 'matthias.perkonigg@meduniwien.ac.at',\n",
    "    'minutes': '600',\n",
    "    'cpusptask': 2}\n",
    "\n",
    "\n",
    "hparams={'root_dir':'/project/catinous/',\n",
    "         'datasetfile': '/project/catinous/cardiacslicessplitsingle.csv',\n",
    "         'batch_size': 16,\n",
    "         'training_batch_size': 16,\n",
    "         'transition_phase_after':0.8,\n",
    "         'memorymaximum': 128,\n",
    "         'use_memory':True,\n",
    "         'random_memory': True,\n",
    "         'balance_memory': False,\n",
    "         #'force_misclassified': True,\n",
    "         #'misclass_threshold': 0.8,\n",
    "         'order': ['Siemens', 'GE', 'Philips', 'Canon'],\n",
    "         'continuous': True,\n",
    "         'val_check_interval': 10,\n",
    "        'base_model': 'cardiac_batch_cardiacslicessplitsingle_base_1_ebc3df72a1.pt', #'cardiac_batch_cardiacslicessplit_base_1_7826e2e7a0.pt',\n",
    "        'run_postfix': 1,\n",
    "        'gram_weights': [1, 1, 1, 1],\n",
    "        'dim': 2,\n",
    "         'task': 'cardiac',\n",
    "         'model': 'fcn',\n",
    "         'seed': 1654130,\n",
    "         'stylemodel': True\n",
    "        }\n",
    "\n",
    "#hparams['force_misclassified'] = True\n",
    "#hparams['misclass_threshold'] = 0.80\n",
    "\n",
    "hparams = cutils.default_params(DynamicMemoryModel.get_default_hparams(), hparams)\n",
    "seeds = [1654130, 6654961, 5819225, 1215862, 132054]\n",
    "\n",
    "for i, seed in enumerate(seeds):\n",
    "        hparams['seed']= seed\n",
    "        hparams['run_postfix'] = i+1\n",
    "\n",
    "        outputfile = f'/project/catinous/results/cardiac/{cutils.get_expname(hparams)}_dicescores.csv'\n",
    "\n",
    "        #print(outputfile)\n",
    "        slurm.srun(evalfu.eval_cardiac, [hparams, outputfile], params=sparams, remote=True)\n",
    "        #evalfu.eval_cardiac(hparams, outputfile)"
   ]
  },
  {
   "cell_type": "code",
   "execution_count": 3,
   "metadata": {},
   "outputs": [
    {
     "data": {
      "text/plain": [
       "'/project/catinous/trained_models/cardiac_cont_cardiacslicessplitsingle_basemodel_batch_mem_tf08_1_5f7a07df57.pt'"
      ]
     },
     "execution_count": 3,
     "metadata": {},
     "output_type": "execute_result"
    }
   ],
   "source": [
    "hparams={'root_dir':'/project/catinous/',\n",
    "         'datasetfile': '/project/catinous/cardiacslicessplitsingle.csv',\n",
    "         'batch_size': 16,\n",
    "         'training_batch_size': 16,\n",
    "         'transition_phase_after':0.8,\n",
    "         'memorymaximum': 128,\n",
    "         'use_memory':True,\n",
    "         'random_memory': True,\n",
    "         'balance_memory': False,\n",
    "         #'force_misclassified': True,\n",
    "         #'misclass_threshold': 0.8,\n",
    "         'order': ['Siemens', 'GE', 'Philips', 'Canon'],\n",
    "         'continuous': True,\n",
    "         'val_check_interval': 10,\n",
    "        'base_model': 'cardiac_batch_cardiacslicessplitsingle_base_1_ebc3df72a1.pt', #'cardiac_batch_cardiacslicessplit_base_1_7826e2e7a0.pt',\n",
    "        'run_postfix': 1,\n",
    "        'gram_weights': [1, 1, 1, 1],\n",
    "        'dim': 2,\n",
    "         'task': 'cardiac',\n",
    "         'model': 'fcn',\n",
    "         'seed': 1654130,\n",
    "         'stylemodel': True\n",
    "        }\n",
    "\n",
    "dmodel.cached_path(hparams)"
   ]
  },
  {
   "cell_type": "code",
   "execution_count": null,
   "metadata": {},
   "outputs": [],
   "source": [
    "{'root_dir': '/project/catinous/', 'datasetfile': '/project/catinous/cardiacslicessplitsingle.csv', 'batch_size': 16, 'training_batch_size': 16, 'transition_phase_after': 0.8, 'memorymaximum': 128, 'use_memory': False, 'random_memory': True, 'balance_memory': False, 'order': ['Siemens', 'GE', 'Philips', 'Canon'], 'continuous': True, 'noncontinuous_steps': 3000, 'noncontinuous_train_splits': ['train', 'base_train'], 'val_check_interval': 10, 'base_model': 'cardiac_batch_cardiacslicessplitsingle_base_1_ebc3df72a1.pt', 'run_postfix': 1, 'dim': 2, 'task': 'cardiac', 'model': 'fcn', 'seed': 1654130}"
   ]
  },
  {
   "cell_type": "code",
   "execution_count": 3,
   "metadata": {},
   "outputs": [
    {
     "data": {
      "text/plain": [
       "{'root_dir': '/project/catinous/',\n",
       " 'datasetfile': '/project/catinous/cardiacslicessplitsingle.csv',\n",
       " 'batch_size': 16,\n",
       " 'training_batch_size': 16,\n",
       " 'transition_phase_after': 0.8,\n",
       " 'memorymaximum': 128,\n",
       " 'use_memory': False,\n",
       " 'random_memory': True,\n",
       " 'balance_memory': False,\n",
       " 'order': ['Siemens', 'GE', 'Philips', 'Canon'],\n",
       " 'continuous': True,\n",
       " 'noncontinuous_steps': 3000,\n",
       " 'noncontinuous_train_splits': ['train', 'base_train'],\n",
       " 'val_check_interval': 10,\n",
       " 'base_model': 'cardiac_batch_cardiacslicessplitsingle_base_1_ebc3df72a1.pt',\n",
       " 'run_postfix': 1,\n",
       " 'dim': 2,\n",
       " 'task': 'cardiac',\n",
       " 'model': 'fcn',\n",
       " 'seed': 1654130}"
      ]
     },
     "execution_count": 3,
     "metadata": {},
     "output_type": "execute_result"
    }
   ],
   "source": [
    "hparams"
   ]
  },
  {
   "cell_type": "code",
   "execution_count": 20,
   "metadata": {},
   "outputs": [
    {
     "name": "stdout",
     "output_type": "stream",
     "text": [
      "/project/catinous/trained_models/cardiac_batch_cardiacslicessplitsingle_base_1_ebc3df72a1.pt\n",
      "Read: /project/catinous/trained_models/cardiac_batch_cardiacslicessplitsingle_base_1_ebc3df72a1.pt\n"
     ]
    }
   ],
   "source": [
    "hparams = {\n",
    "    'continuous': False,\n",
    "    'datasetfile': '/project/catinous/cardiacslicessplitsingle.csv',\n",
    "    'batch_size': 16,\n",
    "    'training_batch_size': 16,\n",
    "    'task': 'cardiac',\n",
    "    'model': 'fcn',\n",
    "    'scanner': 'Siemens',\n",
    "     'noncontinuous_steps': 1000,\n",
    "    'noncontinuous_train_splits': ['base'],\n",
    "    'use_memory': False\n",
    "}\n",
    "hparams = cutils.default_params(DynamicMemoryModel.get_default_hparams(), hparams)\n",
    "\n",
    "\n",
    "outputfile = f'/project/catinous/results/cardiac/{cutils.get_expname(hparams)}_dicescores.csv'\n",
    "\n",
    "evalfu.eval_cardiac(hparams, outputfile)"
   ]
  },
  {
   "cell_type": "code",
   "execution_count": 12,
   "metadata": {},
   "outputs": [
    {
     "data": {
      "text/plain": [
       "{'continuous': False,\n",
       " 'root_dir': '/project/catinous/',\n",
       " 'datasetfile': '/project/catinous/cardiacslicessplit.csv',\n",
       " 'batch_size': 16,\n",
       " 'training_batch_size': 16,\n",
       " 'task': 'cardiac',\n",
       " 'model': 'fcn',\n",
       " 'scanner': 'Siemens',\n",
       " 'noncontinuous_steps': 500,\n",
       " 'noncontinuous_train_splits': ['base'],\n",
       " 'use_memory': False,\n",
       " 'transition_phase_after': 0.7,\n",
       " 'cachemaximum': 128,\n",
       " 'random_memory': True,\n",
       " 'balance_memory': False,\n",
       " 'order': ['lr', 'hr', 'hr_ts'],\n",
       " 'val_check_interval': 100,\n",
       " 'base_model': None,\n",
       " 'run_postfix': 1}"
      ]
     },
     "execution_count": 12,
     "metadata": {},
     "output_type": "execute_result"
    }
   ],
   "source": [
    "hparams"
   ]
  },
  {
   "cell_type": "code",
   "execution_count": 5,
   "metadata": {},
   "outputs": [
    {
     "data": {
      "text/plain": [
       "'cardiac_batch_cardiacslicessplit_base_1_199f06e106'"
      ]
     },
     "execution_count": 5,
     "metadata": {},
     "output_type": "execute_result"
    }
   ],
   "source": [
    "cutils.get_expname(hparams)"
   ]
  },
  {
   "cell_type": "code",
   "execution_count": 10,
   "metadata": {},
   "outputs": [],
   "source": [
    "df = pd.read_csv('/project/catinous/cardiacslicessplitsingle.csv')"
   ]
  },
  {
   "cell_type": "code",
   "execution_count": 12,
   "metadata": {},
   "outputs": [
    {
     "data": {
      "text/html": [
       "<div>\n",
       "<style scoped>\n",
       "    .dataframe tbody tr th:only-of-type {\n",
       "        vertical-align: middle;\n",
       "    }\n",
       "\n",
       "    .dataframe tbody tr th {\n",
       "        vertical-align: top;\n",
       "    }\n",
       "\n",
       "    .dataframe thead th {\n",
       "        text-align: right;\n",
       "    }\n",
       "</style>\n",
       "<table border=\"1\" class=\"dataframe\">\n",
       "  <thead>\n",
       "    <tr style=\"text-align: right;\">\n",
       "      <th></th>\n",
       "      <th></th>\n",
       "      <th>filepath</th>\n",
       "      <th>t</th>\n",
       "      <th>slice</th>\n",
       "      <th>slicepath</th>\n",
       "    </tr>\n",
       "    <tr>\n",
       "      <th>scanner</th>\n",
       "      <th>split</th>\n",
       "      <th></th>\n",
       "      <th></th>\n",
       "      <th></th>\n",
       "      <th></th>\n",
       "    </tr>\n",
       "  </thead>\n",
       "  <tbody>\n",
       "    <tr>\n",
       "      <th rowspan=\"3\" valign=\"top\">Canon</th>\n",
       "      <th>test</th>\n",
       "      <td>252</td>\n",
       "      <td>252</td>\n",
       "      <td>252</td>\n",
       "      <td>252</td>\n",
       "    </tr>\n",
       "    <tr>\n",
       "      <th>train</th>\n",
       "      <td>758</td>\n",
       "      <td>758</td>\n",
       "      <td>758</td>\n",
       "      <td>758</td>\n",
       "    </tr>\n",
       "    <tr>\n",
       "      <th>val</th>\n",
       "      <td>258</td>\n",
       "      <td>258</td>\n",
       "      <td>258</td>\n",
       "      <td>258</td>\n",
       "    </tr>\n",
       "    <tr>\n",
       "      <th rowspan=\"3\" valign=\"top\">GE</th>\n",
       "      <th>test</th>\n",
       "      <td>246</td>\n",
       "      <td>246</td>\n",
       "      <td>246</td>\n",
       "      <td>246</td>\n",
       "    </tr>\n",
       "    <tr>\n",
       "      <th>train</th>\n",
       "      <td>720</td>\n",
       "      <td>720</td>\n",
       "      <td>720</td>\n",
       "      <td>720</td>\n",
       "    </tr>\n",
       "    <tr>\n",
       "      <th>val</th>\n",
       "      <td>248</td>\n",
       "      <td>248</td>\n",
       "      <td>248</td>\n",
       "      <td>248</td>\n",
       "    </tr>\n",
       "    <tr>\n",
       "      <th rowspan=\"3\" valign=\"top\">Philips</th>\n",
       "      <th>test</th>\n",
       "      <td>216</td>\n",
       "      <td>216</td>\n",
       "      <td>216</td>\n",
       "      <td>216</td>\n",
       "    </tr>\n",
       "    <tr>\n",
       "      <th>train</th>\n",
       "      <td>2206</td>\n",
       "      <td>2206</td>\n",
       "      <td>2206</td>\n",
       "      <td>2206</td>\n",
       "    </tr>\n",
       "    <tr>\n",
       "      <th>val</th>\n",
       "      <td>220</td>\n",
       "      <td>220</td>\n",
       "      <td>220</td>\n",
       "      <td>220</td>\n",
       "    </tr>\n",
       "    <tr>\n",
       "      <th rowspan=\"4\" valign=\"top\">Siemens</th>\n",
       "      <th>base</th>\n",
       "      <td>1120</td>\n",
       "      <td>1120</td>\n",
       "      <td>1120</td>\n",
       "      <td>1120</td>\n",
       "    </tr>\n",
       "    <tr>\n",
       "      <th>test</th>\n",
       "      <td>228</td>\n",
       "      <td>228</td>\n",
       "      <td>228</td>\n",
       "      <td>228</td>\n",
       "    </tr>\n",
       "    <tr>\n",
       "      <th>train</th>\n",
       "      <td>614</td>\n",
       "      <td>614</td>\n",
       "      <td>614</td>\n",
       "      <td>614</td>\n",
       "    </tr>\n",
       "    <tr>\n",
       "      <th>val</th>\n",
       "      <td>234</td>\n",
       "      <td>234</td>\n",
       "      <td>234</td>\n",
       "      <td>234</td>\n",
       "    </tr>\n",
       "  </tbody>\n",
       "</table>\n",
       "</div>"
      ],
      "text/plain": [
       "               filepath     t  slice  slicepath\n",
       "scanner split                                  \n",
       "Canon   test        252   252    252        252\n",
       "        train       758   758    758        758\n",
       "        val         258   258    258        258\n",
       "GE      test        246   246    246        246\n",
       "        train       720   720    720        720\n",
       "        val         248   248    248        248\n",
       "Philips test        216   216    216        216\n",
       "        train      2206  2206   2206       2206\n",
       "        val         220   220    220        220\n",
       "Siemens base       1120  1120   1120       1120\n",
       "        test        228   228    228        228\n",
       "        train       614   614    614        614\n",
       "        val         234   234    234        234"
      ]
     },
     "execution_count": 12,
     "metadata": {},
     "output_type": "execute_result"
    }
   ],
   "source": [
    "df.groupby(['scanner', 'split']).count()"
   ]
  },
  {
   "cell_type": "code",
   "execution_count": null,
   "metadata": {},
   "outputs": [],
   "source": []
  }
 ],
 "metadata": {
  "kernelspec": {
   "display_name": "Python 3",
   "language": "python",
   "name": "python3"
  },
  "language_info": {
   "codemirror_mode": {
    "name": "ipython",
    "version": 3
   },
   "file_extension": ".py",
   "mimetype": "text/x-python",
   "name": "python",
   "nbconvert_exporter": "python",
   "pygments_lexer": "ipython3",
   "version": "3.6.9"
  }
 },
 "nbformat": 4,
 "nbformat_minor": 4
}
