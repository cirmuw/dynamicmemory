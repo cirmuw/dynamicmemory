{
 "cells": [
  {
   "cell_type": "code",
   "execution_count": 1,
   "metadata": {},
   "outputs": [],
   "source": [
    "from catinous.dataset import BatchDataset, ContinuousDataset\n",
    "from catinous.dynamicmemory.DynamicMemoryModel import DynamicMemoryModel \n",
    "import catinous.dynamicmemory.DynamicMemoryModel as dmodel\n",
    "import catinous.utils as cutils\n",
    "import os\n",
    "import pandas as pd\n",
    "from py_jotools import mut, slurm"
   ]
  },
  {
   "cell_type": "code",
   "execution_count": 3,
   "metadata": {},
   "outputs": [
    {
     "name": "stdout",
     "output_type": "stream",
     "text": [
      "cardiac_batch41848\n",
      "sshpass -f ~/.ssh/pass ssh cn1.cir.meduniwien.ac.at sbatch --export=NONE --partition centos7 /scratch/cardiac_batch41848.job\n",
      "\n"
     ]
    }
   ],
   "source": [
    "schedule = True\n",
    "\n",
    "sparams = {\n",
    "    'binary': '/home/cir/mperkonigg/env/catinous/bin/python',\n",
    "    'cwd': '/home/cir/mperkonigg/catinous/catinous',\n",
    "    'gpu': 1,\n",
    "    'partition': 'centos7',\n",
    "    'memory': 100000,\n",
    "    'jobname': 'cardiac_batch',\n",
    "    'outputpath': '/home/cir/mperkonigg/slurmoutput/',\n",
    "    'mailuser': 'matthias.perkonigg@meduniwien.ac.at',\n",
    "    'minutes': '240'}\n",
    "\n",
    "\n",
    "hparams = {\n",
    "    'continuous': False,\n",
    "    'datasetfile': '/project/catinous/cardiacslicessplit.csv',\n",
    "    'batch_size': 16,\n",
    "    'training_batch_size': 16,\n",
    "    'task': 'cardiac',\n",
    "    'model': 'fcn',\n",
    "    'scanner': 'Siemens',\n",
    "     'noncontinuous_steps': 500,\n",
    "    'noncontinuous_train_splits': ['base','train'],\n",
    "    'use_memory': False\n",
    "}\n",
    "\n",
    "if schedule:\n",
    "    slurm.srun(dmodel.trained_model, [hparams], params=sparams, remote=True)\n",
    "else:\n",
    "    model, logs, df_cache, basemodel_lr = dmodel.trained_model(hparams)"
   ]
  },
  {
   "cell_type": "code",
   "execution_count": null,
   "metadata": {},
   "outputs": [],
   "source": []
  }
 ],
 "metadata": {
  "kernelspec": {
   "display_name": "catinous",
   "language": "python",
   "name": "catinous"
  },
  "language_info": {
   "codemirror_mode": {
    "name": "ipython",
    "version": 3
   },
   "file_extension": ".py",
   "mimetype": "text/x-python",
   "name": "python",
   "nbconvert_exporter": "python",
   "pygments_lexer": "ipython3",
   "version": "3.6.8"
  }
 },
 "nbformat": 4,
 "nbformat_minor": 2
}
