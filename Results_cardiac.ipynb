{
 "cells": [
  {
   "cell_type": "code",
   "execution_count": 1,
   "metadata": {},
   "outputs": [],
   "source": [
    "from catinous.dataset import BatchDataset, ContinuousDataset\n",
    "from catinous.dynamicmemory.DynamicMemoryModel import DynamicMemoryModel \n",
    "import catinous.dynamicmemory.DynamicMemoryModel as dmodel\n",
    "import catinous.utils as cutils\n",
    "import os\n",
    "import pandas as pd"
   ]
  },
  {
   "cell_type": "code",
   "execution_count": 23,
   "metadata": {},
   "outputs": [
    {
     "data": {
      "text/html": [
       "<div>\n",
       "<style scoped>\n",
       "    .dataframe tbody tr th:only-of-type {\n",
       "        vertical-align: middle;\n",
       "    }\n",
       "\n",
       "    .dataframe tbody tr th {\n",
       "        vertical-align: top;\n",
       "    }\n",
       "\n",
       "    .dataframe thead th {\n",
       "        text-align: right;\n",
       "    }\n",
       "</style>\n",
       "<table border=\"1\" class=\"dataframe\">\n",
       "  <thead>\n",
       "    <tr style=\"text-align: right;\">\n",
       "      <th></th>\n",
       "      <th>scanner</th>\n",
       "      <th>val_Siemens</th>\n",
       "      <th>val_GE</th>\n",
       "      <th>val_Philips</th>\n",
       "      <th>val_Canon</th>\n",
       "    </tr>\n",
       "  </thead>\n",
       "  <tbody>\n",
       "    <tr>\n",
       "      <th>0</th>\n",
       "      <td>Siemens</td>\n",
       "      <td>0.807649</td>\n",
       "      <td>0.827656</td>\n",
       "      <td>0.843444</td>\n",
       "      <td>0.801174</td>\n",
       "    </tr>\n",
       "    <tr>\n",
       "      <th>1</th>\n",
       "      <td>GE</td>\n",
       "      <td>0.712092</td>\n",
       "      <td>0.826061</td>\n",
       "      <td>0.786773</td>\n",
       "      <td>0.774519</td>\n",
       "    </tr>\n",
       "    <tr>\n",
       "      <th>2</th>\n",
       "      <td>Philips</td>\n",
       "      <td>0.745954</td>\n",
       "      <td>0.782469</td>\n",
       "      <td>0.860170</td>\n",
       "      <td>0.828817</td>\n",
       "    </tr>\n",
       "    <tr>\n",
       "      <th>3</th>\n",
       "      <td>Canon</td>\n",
       "      <td>0.714380</td>\n",
       "      <td>0.752285</td>\n",
       "      <td>0.746388</td>\n",
       "      <td>0.878775</td>\n",
       "    </tr>\n",
       "    <tr>\n",
       "      <th>4</th>\n",
       "      <td>None</td>\n",
       "      <td>0.836838</td>\n",
       "      <td>0.848288</td>\n",
       "      <td>0.853259</td>\n",
       "      <td>0.875537</td>\n",
       "    </tr>\n",
       "  </tbody>\n",
       "</table>\n",
       "</div>"
      ],
      "text/plain": [
       "   scanner  val_Siemens    val_GE  val_Philips  val_Canon\n",
       "0  Siemens     0.807649  0.827656     0.843444   0.801174\n",
       "1       GE     0.712092  0.826061     0.786773   0.774519\n",
       "2  Philips     0.745954  0.782469     0.860170   0.828817\n",
       "3    Canon     0.714380  0.752285     0.746388   0.878775\n",
       "4     None     0.836838  0.848288     0.853259   0.875537"
      ]
     },
     "execution_count": 23,
     "metadata": {},
     "output_type": "execute_result"
    }
   ],
   "source": [
    "hparams = {\n",
    "    'continuous': False,\n",
    "    'datasetfile': '/project/catinous/cardiacslicessplit.csv',\n",
    "    'batch_size': 16,\n",
    "    'training_batch_size': 16,\n",
    "    'task': 'cardiac',\n",
    "    'model': 'fcn',\n",
    "    'scanner': 'Siemens',\n",
    "     'noncontinuous_steps': 500,\n",
    "    'noncontinuous_train_splits': ['base', 'train'],\n",
    "    'use_memory': False\n",
    "}\n",
    "\n",
    "val_dice1_Siemens = []\n",
    "val_dice2_Siemens = []\n",
    "val_dice3_Siemens = []\n",
    "val_dice1_GE = []\n",
    "val_dice1_Philips = []\n",
    "val_dice1_Canon = []\n",
    "\n",
    "for scanner in ['Siemens', 'GE', 'Philips', 'Canon', None]:\n",
    "    hparams['scanner'] = scanner\n",
    "    if scanner is None:\n",
    "        hparams['order'] = ['Siemens', 'GE', 'Philips', 'Canon']\n",
    "    #model, logs, df_cache = catsmodel.trained_model(hparams)\n",
    "    expparams = cutils.default_params(DynamicMemoryModel.get_default_hparams(), hparams)\n",
    "    exp_name = cutils.get_expname(expparams)\n",
    "\n",
    "    max_version = max([int(x.split('_')[1]) for x in os.listdir(cutils.LOGGING_FOLDER + exp_name)])\n",
    "    logs = pd.read_csv(cutils.LOGGING_FOLDER + exp_name + '/version_{}/metrics.csv'.format(max_version))\n",
    "    \n",
    "    val_dice1_Siemens.append(logs.iloc[-1].val_dice1_Siemens)\n",
    "    val_dice1_GE.append(logs.iloc[-1].val_dice1_GE)\n",
    "    val_dice1_Philips.append(logs.iloc[-1].val_dice1_Philips)\n",
    "    val_dice1_Canon.append(logs.iloc[-1].val_dice1_Canon)\n",
    "\n",
    "pd.DataFrame({'scanner': ['Siemens', 'GE', 'Philips', 'Canon', None], 'val_Siemens': val_dice1_Siemens, \n",
    "              'val_GE': val_dice1_GE, 'val_Philips': val_dice1_Philips, 'val_Canon': val_dice1_Canon})"
   ]
  },
  {
   "cell_type": "code",
   "execution_count": null,
   "metadata": {},
   "outputs": [],
   "source": [
    "hparams = {\n",
    "    'continuous': False,\n",
    "    'datasetfile': '/project/catinous/cardiacslicessplit.csv',\n",
    "    'batch_size': 16,\n",
    "    'training_batch_size': 16,\n",
    "    'task': 'cardiac',\n",
    "    'model': 'fcn',\n",
    "    'scanner': 'Siemens',\n",
    "     'noncontinuous_steps': 500,\n",
    "    'noncontinuous_train_splits': ['base', 'train'],\n",
    "    'use_memory': False\n",
    "}\n",
    "\n",
    "series_list = []\n",
    "\n",
    "for scanner in ['Siemens', 'GE', 'Philips', 'Canon', None]:\n",
    "    hparams['scanner'] = scanner\n",
    "    if scanner is None:\n",
    "        hparams['order'] = ['Siemens', 'GE', 'Philips', 'Canon']\n",
    "    #model, logs, df_cache = catsmodel.trained_model(hparams)\n",
    "    expparams = cutils.default_params(DynamicMemoryModel.get_default_hparams(), hparams)\n",
    "    exp_name = cutils.get_expname(expparams)\n",
    "\n",
    "    max_version = max([int(x.split('_')[1]) for x in os.listdir(cutils.LOGGING_FOLDER + exp_name)])\n",
    "    logs = pd.read_csv(cutils.LOGGING_FOLDER + exp_name + '/version_{}/metrics.csv'.format(max_version))\n",
    "    \n",
    "    series = logs.iloc[-1]\n",
    "    series['scanner'] = scanner\n",
    "    \n",
    "    series_list.append(series)\n",
    "\n",
    "    \n",
    "df_res = pd.DataFrame(series_list)\n",
    "df_res = df_res.drop(columns=['created_at', 'epoch', 'train_loss'])\n",
    "df_res"
   ]
  },
  {
   "cell_type": "code",
   "execution_count": 24,
   "metadata": {},
   "outputs": [
    {
     "data": {
      "text/plain": [
       "created_at           2021-01-04 11:11:35.809529\n",
       "epoch                                       NaN\n",
       "train_loss                                  NaN\n",
       "val_dice1_Canon                        0.795759\n",
       "val_dice1_GE                           0.821302\n",
       "val_dice1_Philips                       0.83066\n",
       "val_dice1_Siemens                      0.820307\n",
       "val_dice2_Canon                        0.622149\n",
       "val_dice2_GE                           0.727665\n",
       "val_dice2_Philips                      0.751006\n",
       "val_dice2_Siemens                      0.710215\n",
       "val_dice3_Canon                        0.580211\n",
       "val_dice3_GE                           0.763741\n",
       "val_dice3_Philips                      0.721128\n",
       "val_dice3_Siemens                      0.767016\n",
       "Name: 14, dtype: object"
      ]
     },
     "execution_count": 24,
     "metadata": {},
     "output_type": "execute_result"
    }
   ],
   "source": [
    "hparams = {\n",
    "    'continuous': False,\n",
    "    'datasetfile': '/project/catinous/cardiacslicessplit.csv',\n",
    "    'batch_size': 16,\n",
    "    'training_batch_size': 16,\n",
    "    'task': 'cardiac',\n",
    "    'model': 'fcn',\n",
    "    'scanner': 'Siemens',\n",
    "     'noncontinuous_steps': 500,\n",
    "    'noncontinuous_train_splits': ['base'],\n",
    "    'use_memory': False\n",
    "}\n",
    "\n",
    "expparams = cutils.default_params(DynamicMemoryModel.get_default_hparams(), hparams)\n",
    "exp_name = cutils.get_expname(expparams)\n",
    "max_version = max([int(x.split('_')[1]) for x in os.listdir(cutils.LOGGING_FOLDER + exp_name)])\n",
    "logs = pd.read_csv(cutils.LOGGING_FOLDER + exp_name + '/version_{}/metrics.csv'.format(max_version))\n",
    "logs.iloc[-1]  "
   ]
  },
  {
   "cell_type": "code",
   "execution_count": 25,
   "metadata": {},
   "outputs": [
    {
     "data": {
      "text/plain": [
       "'cardiac_batch_cardiacslicessplit_base_1_7826e2e7a0'"
      ]
     },
     "execution_count": 25,
     "metadata": {},
     "output_type": "execute_result"
    }
   ],
   "source": [
    "exp_name"
   ]
  },
  {
   "cell_type": "code",
   "execution_count": null,
   "metadata": {},
   "outputs": [],
   "source": []
  }
 ],
 "metadata": {
  "kernelspec": {
   "display_name": "Python 3",
   "language": "python",
   "name": "python3"
  },
  "language_info": {
   "codemirror_mode": {
    "name": "ipython",
    "version": 3
   },
   "file_extension": ".py",
   "mimetype": "text/x-python",
   "name": "python",
   "nbconvert_exporter": "python",
   "pygments_lexer": "ipython3",
   "version": "3.6.9"
  }
 },
 "nbformat": 4,
 "nbformat_minor": 4
}
