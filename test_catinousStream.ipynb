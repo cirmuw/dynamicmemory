{
 "nbformat": 4,
 "nbformat_minor": 2,
 "metadata": {
  "language_info": {
   "name": "python",
   "codemirror_mode": {
    "name": "ipython",
    "version": 3
   },
   "version": "3.6.8-final"
  },
  "orig_nbformat": 2,
  "file_extension": ".py",
  "mimetype": "text/x-python",
  "name": "python",
  "npconvert_exporter": "python",
  "pygments_lexer": "ipython3",
  "version": 3,
  "kernelspec": {
   "name": "candid2",
   "display_name": "Candid (new)"
  }
 },
 "cells": [
  {
   "cell_type": "code",
   "execution_count": 30,
   "metadata": {},
   "outputs": [
    {
     "name": "stdout",
     "output_type": "stream",
     "text": "The autoreload extension is already loaded. To reload it, use:\n  %reload_ext autoreload\n"
    }
   ],
   "source": [
    "# from py_jotools import boiler\n",
    "# boiler.autoreload()\n",
    "\n",
    "from catinous.CatsinomDataset import Catsinom_Dataset_CatineousStream as StreamedDS\n",
    "import matplotlib.pyplot as plt\n",
    "\n",
    "%load_ext autoreload\n",
    "%autoreload 2"
   ]
  },
  {
   "cell_type": "code",
   "execution_count": 68,
   "metadata": {},
   "outputs": [
    {
     "name": "stdout",
     "output_type": "stream",
     "text": "302\n1512\n"
    }
   ],
   "source": [
    "streamedDS = StreamedDS('/project/catinous/cat_data/','catsinom_combined_dataset.csv', transition_phase_after=0.2)"
   ]
  },
  {
   "cell_type": "code",
   "execution_count": 70,
   "metadata": {},
   "outputs": [
    {
     "data": {
      "text/html": "<div>\n<style scoped>\n    .dataframe tbody tr th:only-of-type {\n        vertical-align: middle;\n    }\n\n    .dataframe tbody tr th {\n        vertical-align: top;\n    }\n\n    .dataframe thead th {\n        text-align: right;\n    }\n</style>\n<table border=\"1\" class=\"dataframe\">\n  <thead>\n    <tr style=\"text-align: right;\">\n      <th></th>\n      <th>index</th>\n      <th>Unnamed: 0</th>\n      <th>image</th>\n      <th>label</th>\n      <th>split</th>\n      <th>res</th>\n    </tr>\n  </thead>\n  <tbody>\n    <tr>\n      <td>0</td>\n      <td>3700</td>\n      <td>1801</td>\n      <td>lr_cat/0024D9B1_20150121_dicom_40805.dcm</td>\n      <td>1</td>\n      <td>train</td>\n      <td>lr</td>\n    </tr>\n    <tr>\n      <td>1</td>\n      <td>1393</td>\n      <td>1393</td>\n      <td>lr/D5A638F9_20080617_dicom_67453.dcm</td>\n      <td>0</td>\n      <td>train</td>\n      <td>lr</td>\n    </tr>\n    <tr>\n      <td>2</td>\n      <td>3212</td>\n      <td>1313</td>\n      <td>lr_cat/4136AE7E_20091027_dicom_62353.dcm</td>\n      <td>1</td>\n      <td>train</td>\n      <td>lr</td>\n    </tr>\n    <tr>\n      <td>3</td>\n      <td>1387</td>\n      <td>1387</td>\n      <td>lr/1GZLGT80_20140224_dicom_143211.dcm</td>\n      <td>0</td>\n      <td>train</td>\n      <td>lr</td>\n    </tr>\n    <tr>\n      <td>4</td>\n      <td>1535</td>\n      <td>1535</td>\n      <td>lr/3AE5F66B_20131007_dicom_65203.dcm</td>\n      <td>0</td>\n      <td>train</td>\n      <td>lr</td>\n    </tr>\n    <tr>\n      <td>...</td>\n      <td>...</td>\n      <td>...</td>\n      <td>...</td>\n      <td>...</td>\n      <td>...</td>\n      <td>...</td>\n    </tr>\n    <tr>\n      <td>4861</td>\n      <td>7089</td>\n      <td>1172</td>\n      <td>hr_cat/1KKN6CCK_20131118_dicom_302030.dcm</td>\n      <td>1</td>\n      <td>train</td>\n      <td>hr</td>\n    </tr>\n    <tr>\n      <td>4862</td>\n      <td>7130</td>\n      <td>1213</td>\n      <td>hr_cat/08CM2YBK_20140504_dicom_269301.dcm</td>\n      <td>1</td>\n      <td>base_train</td>\n      <td>hr</td>\n    </tr>\n    <tr>\n      <td>4863</td>\n      <td>5571</td>\n      <td>1787</td>\n      <td>hr/05D4H8BZ_20140115_dicom_273245.dcm</td>\n      <td>0</td>\n      <td>base_train</td>\n      <td>hr</td>\n    </tr>\n    <tr>\n      <td>4864</td>\n      <td>7963</td>\n      <td>2046</td>\n      <td>hr_cat/1I6GX9AL_20150306_dicom_259319.dcm</td>\n      <td>1</td>\n      <td>base_train</td>\n      <td>hr</td>\n    </tr>\n    <tr>\n      <td>4865</td>\n      <td>7398</td>\n      <td>1481</td>\n      <td>hr_cat/1DFKXP8K_20140325_dicom_300992.dcm</td>\n      <td>1</td>\n      <td>train</td>\n      <td>hr</td>\n    </tr>\n  </tbody>\n</table>\n<p>4866 rows × 6 columns</p>\n</div>",
      "text/plain": "      index  Unnamed: 0  ...       split  res\n0      3700        1801  ...       train   lr\n1      1393        1393  ...       train   lr\n2      3212        1313  ...       train   lr\n3      1387        1387  ...       train   lr\n4      1535        1535  ...       train   lr\n...     ...         ...  ...         ...  ...\n4861   7089        1172  ...       train   hr\n4862   7130        1213  ...  base_train   hr\n4863   5571        1787  ...  base_train   hr\n4864   7963        2046  ...  base_train   hr\n4865   7398        1481  ...       train   hr\n\n[4866 rows x 6 columns]"
     },
     "execution_count": 70,
     "metadata": {},
     "output_type": "execute_result"
    }
   ],
   "source": [
    "streamedDS.df"
   ]
  },
  {
   "cell_type": "code",
   "execution_count": 71,
   "metadata": {},
   "outputs": [
    {
     "data": {
      "text/plain": "<matplotlib.image.AxesImage at 0x7fcfac4d7da0>"
     },
     "execution_count": 71,
     "metadata": {},
     "output_type": "execute_result"
    },
    {
     "data": {
      "image/png": "[encoded data removed]",
      "image/svg+xml": "<?xml version=\"1.0\" encoding=\"utf-8\" standalone=\"no\"?>\n<!DOCTYPE svg PUBLIC \"-//W3C//DTD SVG 1.1//EN\"\n  \"http://www.w3.org/Graphics/SVG/1.1/DTD/svg11.dtd\">\n<!-- Created with matplotlib (https://matplotlib.org/) -->\n<svg height=\"149.435913pt\" version=\"1.1\" viewBox=\"0 0 1156.4875 149.435913\" width=\"1156.4875pt\" xmlns=\"http://www.w3.org/2000/svg\" xmlns:xlink=\"http://www.w3.org/1999/xlink\">\n <defs>\n  <style type=\"text/css\">\n*{stroke-linecap:butt;stroke-linejoin:round;}\n  </style>\n </defs>\n <g id=\"figure_1\">\n  <g id=\"patch_1\">\n   <path d=\"M 0 149.435913 \nL 1156.4875 149.435913 \nL 1156.4875 -0 \nL 0 -0 \nz\n\" style=\"fill:none;\"/>\n  </g>\n  <g id=\"axes_1\">\n   <g id=\"patch_2\">\n    <path d=\"M 33.2875 125.557788 \nL 1149.2875 125.557788 \nL 1149.2875 10.884546 \nL 33.2875 10.884546 \nz\n\" style=\"fill:#ffffff;\"/>\n   </g>\n   <g clip-path=\"url(#pcaf0985fcc)\">\n    <image height=\"115\" id=\"image5dd0fe79ab\" transform=\"scale(1 -1)translate(0 -115)\" width=\"1116\" x=\"33.2875\" xlink:href=\"data:image/png;base64,\niVBORw0KGgoAAAANSUhEUgAABFwAAABzCAYAAAClzBY5AAAABHNCSVQICAgIfAhkiAAAA8VJREFUeJzt2MFOg0AUQNHi//8zrjCEzACtVxvNORuVwvAG7OYu67quD37UsiyP0WOeHX/1vGfPra9fluXr922N7dh31jxeux0b3e/uOq/s82wv+/Wu1n72fY7uebzfbK6rtUbPZXTO5s4e9+9n/3N23tm8Z3vcz7U3uued/5mzOY/rHo/NZpvdc7bm1cyj2Y+f31nr+B5HM8z2MHK8ZvbZne/ybL6r/c/2N/v7zp7uvIOrdUZr3p3hmfWuPhvd+9k9FDO/Szn7X34OAMDv+nj3AAAAAAD/jeACAAAAEBNcAAAAAGKCCwAAAEBMcAEAAACICS4AAAAAMcEFAAAAICa4AAAAAMQEFwAAAICY4AIAAAAQE1wAAAAAYoILAAAAQExwAQAAAIgJLgAAAAAxwQUAAAAgJrgAAAAAxAQXAAAAgJjgAgAAABATXAAAAABiggsAAABATHABAAAAiAkuAAAAADHBBQAAACAmuAAAAADEBBcAAACAmOACAAAAEBNcAAAAAGKCCwAAAEBMcAEAAACICS4AAAAAMcEFAAAAICa4AAAAAMQEFwAAAICY4AIAAAAQE1wAAAAAYoILAAAAQExwAQAAAIgJLgAAAAAxwQUAAAAgJrgAAAAAxAQXAAAAgJjgAgAAABATXAAAAABiggsAAABATHABAAAAiAkuAAAAADHBBQAAACAmuAAAAADEBBcAAACAmOACAAAAEBNcAAAAAGKCCwAAAEBMcAEAAACICS4AAAAAMcEFAAAAICa4AAAAAMQEFwAAAICY4AIAAAAQE1wAAAAAYoILAAAAQExwAQAAAIgJLgAAAAAxwQUAAAAgJrgAAAAAxAQXAAAAgJjgAgAAABATXAAAAABiggsAAABATHABAAAAiAkuAAAAADHBBQAAACAmuAAAAADEBBcAAACAmOACAAAAEBNcAAAAAGKCCwAAAEBMcAEAAACICS4AAAAAMcEFAAAAICa4AAAAAMQEFwAAAICY4AIAAAAQE1wAAAAAYoILAAAAQExwAQAAAIgJLgAAAAAxwQUAAAAgJrgAAAAAxAQXAAAAgJjgAgAAABATXAAAAABiggsAAABATHABAAAAiAkuAAAAADHBBQAAACAmuAAAAADEBBcAAACAmOACAAAAEBNcAAAAAGKCCwAAAEBMcAEAAACICS4AAAAAMcEFAAAAICa4AAAAAMQEFwAAAICY4AIAAAAQE1wAAAAAYoILAAAAQExwAQAAAIgJLgAAAAAxwQUAAAAgJrgAAAAAxAQXAAAAgJjgAgAAABD7BH027uUKnaeqAAAAAElFTkSuQmCC\" y=\"-10.557788\"/>\n   </g>\n   <g id=\"matplotlib.axis_1\">\n    <g id=\"xtick_1\">\n     <g id=\"line2d_1\">\n      <defs>\n       <path d=\"M 0 0 \nL 0 3.5 \n\" id=\"m83437c969f\" style=\"stroke:#000000;stroke-width:0.8;\"/>\n      </defs>\n      <g>\n       <use style=\"stroke:#000000;stroke-width:0.8;\" x=\"33.402173\" xlink:href=\"#m83437c969f\" y=\"125.557788\"/>\n      </g>\n     </g>\n     <g id=\"text_1\">\n      <!-- 0 -->\n      <defs>\n       <path d=\"M 31.78125 66.40625 \nQ 24.171875 66.40625 20.328125 58.90625 \nQ 16.5 51.421875 16.5 36.375 \nQ 16.5 21.390625 20.328125 13.890625 \nQ 24.171875 6.390625 31.78125 6.390625 \nQ 39.453125 6.390625 43.28125 13.890625 \nQ 47.125 21.390625 47.125 36.375 \nQ 47.125 51.421875 43.28125 58.90625 \nQ 39.453125 66.40625 31.78125 66.40625 \nz\nM 31.78125 74.21875 \nQ 44.046875 74.21875 50.515625 64.515625 \nQ 56.984375 54.828125 56.984375 36.375 \nQ 56.984375 17.96875 50.515625 8.265625 \nQ 44.046875 -1.421875 31.78125 -1.421875 \nQ 19.53125 -1.421875 13.0625 8.265625 \nQ 6.59375 17.96875 6.59375 36.375 \nQ 6.59375 54.828125 13.0625 64.515625 \nQ 19.53125 74.21875 31.78125 74.21875 \nz\n\" id=\"DejaVuSans-48\"/>\n      </defs>\n      <g transform=\"translate(30.220923 140.156226)scale(0.1 -0.1)\">\n       <use xlink:href=\"#DejaVuSans-48\"/>\n      </g>\n     </g>\n    </g>\n    <g id=\"xtick_2\">\n     <g id=\"line2d_2\">\n      <g>\n       <use style=\"stroke:#000000;stroke-width:0.8;\" x=\"262.748659\" xlink:href=\"#m83437c969f\" y=\"125.557788\"/>\n      </g>\n     </g>\n     <g id=\"text_2\">\n      <!-- 1000 -->\n      <defs>\n       <path d=\"M 12.40625 8.296875 \nL 28.515625 8.296875 \nL 28.515625 63.921875 \nL 10.984375 60.40625 \nL 10.984375 69.390625 \nL 28.421875 72.90625 \nL 38.28125 72.90625 \nL 38.28125 8.296875 \nL 54.390625 8.296875 \nL 54.390625 0 \nL 12.40625 0 \nz\n\" id=\"DejaVuSans-49\"/>\n      </defs>\n      <g transform=\"translate(250.023659 140.156226)scale(0.1 -0.1)\">\n       <use xlink:href=\"#DejaVuSans-49\"/>\n       <use x=\"63.623047\" xlink:href=\"#DejaVuSans-48\"/>\n       <use x=\"127.246094\" xlink:href=\"#DejaVuSans-48\"/>\n       <use x=\"190.869141\" xlink:href=\"#DejaVuSans-48\"/>\n      </g>\n     </g>\n    </g>\n    <g id=\"xtick_3\">\n     <g id=\"line2d_3\">\n      <g>\n       <use style=\"stroke:#000000;stroke-width:0.8;\" x=\"492.095145\" xlink:href=\"#m83437c969f\" y=\"125.557788\"/>\n      </g>\n     </g>\n     <g id=\"text_3\">\n      <!-- 2000 -->\n      <defs>\n       <path d=\"M 19.1875 8.296875 \nL 53.609375 8.296875 \nL 53.609375 0 \nL 7.328125 0 \nL 7.328125 8.296875 \nQ 12.9375 14.109375 22.625 23.890625 \nQ 32.328125 33.6875 34.8125 36.53125 \nQ 39.546875 41.84375 41.421875 45.53125 \nQ 43.3125 49.21875 43.3125 52.78125 \nQ 43.3125 58.59375 39.234375 62.25 \nQ 35.15625 65.921875 28.609375 65.921875 \nQ 23.96875 65.921875 18.8125 64.3125 \nQ 13.671875 62.703125 7.8125 59.421875 \nL 7.8125 69.390625 \nQ 13.765625 71.78125 18.9375 73 \nQ 24.125 74.21875 28.421875 74.21875 \nQ 39.75 74.21875 46.484375 68.546875 \nQ 53.21875 62.890625 53.21875 53.421875 \nQ 53.21875 48.921875 51.53125 44.890625 \nQ 49.859375 40.875 45.40625 35.40625 \nQ 44.1875 33.984375 37.640625 27.21875 \nQ 31.109375 20.453125 19.1875 8.296875 \nz\n\" id=\"DejaVuSans-50\"/>\n      </defs>\n      <g transform=\"translate(479.370145 140.156226)scale(0.1 -0.1)\">\n       <use xlink:href=\"#DejaVuSans-50\"/>\n       <use x=\"63.623047\" xlink:href=\"#DejaVuSans-48\"/>\n       <use x=\"127.246094\" xlink:href=\"#DejaVuSans-48\"/>\n       <use x=\"190.869141\" xlink:href=\"#DejaVuSans-48\"/>\n      </g>\n     </g>\n    </g>\n    <g id=\"xtick_4\">\n     <g id=\"line2d_4\">\n      <g>\n       <use style=\"stroke:#000000;stroke-width:0.8;\" x=\"721.441631\" xlink:href=\"#m83437c969f\" y=\"125.557788\"/>\n      </g>\n     </g>\n     <g id=\"text_4\">\n      <!-- 3000 -->\n      <defs>\n       <path d=\"M 40.578125 39.3125 \nQ 47.65625 37.796875 51.625 33 \nQ 55.609375 28.21875 55.609375 21.1875 \nQ 55.609375 10.40625 48.1875 4.484375 \nQ 40.765625 -1.421875 27.09375 -1.421875 \nQ 22.515625 -1.421875 17.65625 -0.515625 \nQ 12.796875 0.390625 7.625 2.203125 \nL 7.625 11.71875 \nQ 11.71875 9.328125 16.59375 8.109375 \nQ 21.484375 6.890625 26.8125 6.890625 \nQ 36.078125 6.890625 40.9375 10.546875 \nQ 45.796875 14.203125 45.796875 21.1875 \nQ 45.796875 27.640625 41.28125 31.265625 \nQ 36.765625 34.90625 28.71875 34.90625 \nL 20.21875 34.90625 \nL 20.21875 43.015625 \nL 29.109375 43.015625 \nQ 36.375 43.015625 40.234375 45.921875 \nQ 44.09375 48.828125 44.09375 54.296875 \nQ 44.09375 59.90625 40.109375 62.90625 \nQ 36.140625 65.921875 28.71875 65.921875 \nQ 24.65625 65.921875 20.015625 65.03125 \nQ 15.375 64.15625 9.8125 62.3125 \nL 9.8125 71.09375 \nQ 15.4375 72.65625 20.34375 73.4375 \nQ 25.25 74.21875 29.59375 74.21875 \nQ 40.828125 74.21875 47.359375 69.109375 \nQ 53.90625 64.015625 53.90625 55.328125 \nQ 53.90625 49.265625 50.4375 45.09375 \nQ 46.96875 40.921875 40.578125 39.3125 \nz\n\" id=\"DejaVuSans-51\"/>\n      </defs>\n      <g transform=\"translate(708.716631 140.156226)scale(0.1 -0.1)\">\n       <use xlink:href=\"#DejaVuSans-51\"/>\n       <use x=\"63.623047\" xlink:href=\"#DejaVuSans-48\"/>\n       <use x=\"127.246094\" xlink:href=\"#DejaVuSans-48\"/>\n       <use x=\"190.869141\" xlink:href=\"#DejaVuSans-48\"/>\n      </g>\n     </g>\n    </g>\n    <g id=\"xtick_5\">\n     <g id=\"line2d_5\">\n      <g>\n       <use style=\"stroke:#000000;stroke-width:0.8;\" x=\"950.788117\" xlink:href=\"#m83437c969f\" y=\"125.557788\"/>\n      </g>\n     </g>\n     <g id=\"text_5\">\n      <!-- 4000 -->\n      <defs>\n       <path d=\"M 37.796875 64.3125 \nL 12.890625 25.390625 \nL 37.796875 25.390625 \nz\nM 35.203125 72.90625 \nL 47.609375 72.90625 \nL 47.609375 25.390625 \nL 58.015625 25.390625 \nL 58.015625 17.1875 \nL 47.609375 17.1875 \nL 47.609375 0 \nL 37.796875 0 \nL 37.796875 17.1875 \nL 4.890625 17.1875 \nL 4.890625 26.703125 \nz\n\" id=\"DejaVuSans-52\"/>\n      </defs>\n      <g transform=\"translate(938.063117 140.156226)scale(0.1 -0.1)\">\n       <use xlink:href=\"#DejaVuSans-52\"/>\n       <use x=\"63.623047\" xlink:href=\"#DejaVuSans-48\"/>\n       <use x=\"127.246094\" xlink:href=\"#DejaVuSans-48\"/>\n       <use x=\"190.869141\" xlink:href=\"#DejaVuSans-48\"/>\n      </g>\n     </g>\n    </g>\n   </g>\n   <g id=\"matplotlib.axis_2\">\n    <g id=\"ytick_1\">\n     <g id=\"line2d_6\">\n      <defs>\n       <path d=\"M 0 0 \nL -3.5 0 \n\" id=\"mc0c56a3a9e\" style=\"stroke:#000000;stroke-width:0.8;\"/>\n      </defs>\n      <g>\n       <use style=\"stroke:#000000;stroke-width:0.8;\" x=\"33.2875\" xlink:href=\"#mc0c56a3a9e\" y=\"10.999219\"/>\n      </g>\n     </g>\n     <g id=\"text_6\">\n      <!-- 0 -->\n      <g transform=\"translate(19.925 14.798437)scale(0.1 -0.1)\">\n       <use xlink:href=\"#DejaVuSans-48\"/>\n      </g>\n     </g>\n    </g>\n    <g id=\"ytick_2\">\n     <g id=\"line2d_7\">\n      <g>\n       <use style=\"stroke:#000000;stroke-width:0.8;\" x=\"33.2875\" xlink:href=\"#mc0c56a3a9e\" y=\"33.933867\"/>\n      </g>\n     </g>\n     <g id=\"text_7\">\n      <!-- 100 -->\n      <g transform=\"translate(7.2 37.733086)scale(0.1 -0.1)\">\n       <use xlink:href=\"#DejaVuSans-49\"/>\n       <use x=\"63.623047\" xlink:href=\"#DejaVuSans-48\"/>\n       <use x=\"127.246094\" xlink:href=\"#DejaVuSans-48\"/>\n      </g>\n     </g>\n    </g>\n    <g id=\"ytick_3\">\n     <g id=\"line2d_8\">\n      <g>\n       <use style=\"stroke:#000000;stroke-width:0.8;\" x=\"33.2875\" xlink:href=\"#mc0c56a3a9e\" y=\"56.868516\"/>\n      </g>\n     </g>\n     <g id=\"text_8\">\n      <!-- 200 -->\n      <g transform=\"translate(7.2 60.667735)scale(0.1 -0.1)\">\n       <use xlink:href=\"#DejaVuSans-50\"/>\n       <use x=\"63.623047\" xlink:href=\"#DejaVuSans-48\"/>\n       <use x=\"127.246094\" xlink:href=\"#DejaVuSans-48\"/>\n      </g>\n     </g>\n    </g>\n    <g id=\"ytick_4\">\n     <g id=\"line2d_9\">\n      <g>\n       <use style=\"stroke:#000000;stroke-width:0.8;\" x=\"33.2875\" xlink:href=\"#mc0c56a3a9e\" y=\"79.803164\"/>\n      </g>\n     </g>\n     <g id=\"text_9\">\n      <!-- 300 -->\n      <g transform=\"translate(7.2 83.602383)scale(0.1 -0.1)\">\n       <use xlink:href=\"#DejaVuSans-51\"/>\n       <use x=\"63.623047\" xlink:href=\"#DejaVuSans-48\"/>\n       <use x=\"127.246094\" xlink:href=\"#DejaVuSans-48\"/>\n      </g>\n     </g>\n    </g>\n    <g id=\"ytick_5\">\n     <g id=\"line2d_10\">\n      <g>\n       <use style=\"stroke:#000000;stroke-width:0.8;\" x=\"33.2875\" xlink:href=\"#mc0c56a3a9e\" y=\"102.737813\"/>\n      </g>\n     </g>\n     <g id=\"text_10\">\n      <!-- 400 -->\n      <g transform=\"translate(7.2 106.537032)scale(0.1 -0.1)\">\n       <use xlink:href=\"#DejaVuSans-52\"/>\n       <use x=\"63.623047\" xlink:href=\"#DejaVuSans-48\"/>\n       <use x=\"127.246094\" xlink:href=\"#DejaVuSans-48\"/>\n      </g>\n     </g>\n    </g>\n   </g>\n   <g id=\"patch_3\">\n    <path d=\"M 33.2875 125.557788 \nL 33.2875 10.884546 \n\" style=\"fill:none;stroke:#000000;stroke-linecap:square;stroke-linejoin:miter;stroke-width:0.8;\"/>\n   </g>\n   <g id=\"patch_4\">\n    <path d=\"M 1149.2875 125.557788 \nL 1149.2875 10.884546 \n\" style=\"fill:none;stroke:#000000;stroke-linecap:square;stroke-linejoin:miter;stroke-width:0.8;\"/>\n   </g>\n   <g id=\"patch_5\">\n    <path d=\"M 33.2875 125.557788 \nL 1149.2875 125.557788 \n\" style=\"fill:none;stroke:#000000;stroke-linecap:square;stroke-linejoin:miter;stroke-width:0.8;\"/>\n   </g>\n   <g id=\"patch_6\">\n    <path d=\"M 33.2875 10.884546 \nL 1149.2875 10.884546 \n\" style=\"fill:none;stroke:#000000;stroke-linecap:square;stroke-linejoin:miter;stroke-width:0.8;\"/>\n   </g>\n  </g>\n </g>\n <defs>\n  <clipPath id=\"pcaf0985fcc\">\n   <rect height=\"114.673243\" width=\"1116\" x=\"33.2875\" y=\"10.884546\"/>\n  </clipPath>\n </defs>\n</svg>\n",
      "text/plain": "<Figure size 1440x1440 with 1 Axes>"
     },
     "metadata": {
      "needs_background": "light"
     },
     "output_type": "display_data"
    }
   ],
   "source": [
    "res = streamedDS.df.res == 'lr'\n",
    "plt.figure(figsize=(20,20))\n",
    "plt.imshow(np.tile(res,(500,1)))"
   ]
  },
  {
   "cell_type": "code",
   "execution_count": 25,
   "metadata": {},
   "outputs": [
    {
     "data": {
      "text/plain": "(8032,)"
     },
     "execution_count": 25,
     "metadata": {},
     "output_type": "execute_result"
    }
   ],
   "source": [
    "res.shape"
   ]
  }
 ]
}