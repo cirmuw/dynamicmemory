{
 "cells": [
  {
   "cell_type": "code",
   "execution_count": 4,
   "metadata": {},
   "outputs": [
    {
     "name": "stdout",
     "output_type": "stream",
     "text": [
      "The autoreload extension is already loaded. To reload it, use:\n",
      "  %reload_ext autoreload\n"
     ]
    }
   ],
   "source": [
    "# from py_jotools import boiler\n",
    "# boiler.autoreload()\n",
    "\n",
    "from catinous.CatsinomDataset import Catsinom_Dataset_CatineousStream as StreamedDS\n",
    "import matplotlib.pyplot as plt\n",
    "import numpy as np\n",
    "\n",
    "%load_ext autoreload\n",
    "%autoreload 2"
   ]
  },
  {
   "cell_type": "code",
   "execution_count": 11,
   "metadata": {},
   "outputs": [
    {
     "name": "stdout",
     "output_type": "stream",
     "text": [
      "1059\n",
      "1512\n"
     ]
    }
   ],
   "source": [
    "streamedDS = StreamedDS('/project/catinous/cat_data/','catsinom_combined_dataset.csv', transition_phase_after=0.7)"
   ]
  },
  {
   "cell_type": "code",
   "execution_count": 5,
   "metadata": {},
   "outputs": [
    {
     "data": {
      "text/html": [
       "<div>\n",
       "<style scoped>\n",
       "    .dataframe tbody tr th:only-of-type {\n",
       "        vertical-align: middle;\n",
       "    }\n",
       "\n",
       "    .dataframe tbody tr th {\n",
       "        vertical-align: top;\n",
       "    }\n",
       "\n",
       "    .dataframe thead th {\n",
       "        text-align: right;\n",
       "    }\n",
       "</style>\n",
       "<table border=\"1\" class=\"dataframe\">\n",
       "  <thead>\n",
       "    <tr style=\"text-align: right;\">\n",
       "      <th></th>\n",
       "      <th>index</th>\n",
       "      <th>Unnamed: 0</th>\n",
       "      <th>image</th>\n",
       "      <th>label</th>\n",
       "      <th>split</th>\n",
       "      <th>res</th>\n",
       "    </tr>\n",
       "  </thead>\n",
       "  <tbody>\n",
       "    <tr>\n",
       "      <th>0</th>\n",
       "      <td>3751</td>\n",
       "      <td>1852</td>\n",
       "      <td>lr_cat/4A6C3F29_20081014_dicom_45798.dcm</td>\n",
       "      <td>1</td>\n",
       "      <td>train</td>\n",
       "      <td>lr</td>\n",
       "    </tr>\n",
       "    <tr>\n",
       "      <th>1</th>\n",
       "      <td>3276</td>\n",
       "      <td>1377</td>\n",
       "      <td>lr_cat/07QPXVDT_20131207_dicom_100376.dcm</td>\n",
       "      <td>1</td>\n",
       "      <td>train</td>\n",
       "      <td>lr</td>\n",
       "    </tr>\n",
       "    <tr>\n",
       "      <th>2</th>\n",
       "      <td>3419</td>\n",
       "      <td>1520</td>\n",
       "      <td>lr_cat/5C31939F_20120625_dicom_78914.dcm</td>\n",
       "      <td>1</td>\n",
       "      <td>train</td>\n",
       "      <td>lr</td>\n",
       "    </tr>\n",
       "    <tr>\n",
       "      <th>3</th>\n",
       "      <td>2909</td>\n",
       "      <td>1010</td>\n",
       "      <td>lr_cat/58BA81FB_20050524_dicom_40372.dcm</td>\n",
       "      <td>1</td>\n",
       "      <td>train</td>\n",
       "      <td>lr</td>\n",
       "    </tr>\n",
       "    <tr>\n",
       "      <th>4</th>\n",
       "      <td>311</td>\n",
       "      <td>311</td>\n",
       "      <td>lr/61199725_20150227_dicom_87140.dcm</td>\n",
       "      <td>0</td>\n",
       "      <td>train</td>\n",
       "      <td>lr</td>\n",
       "    </tr>\n",
       "    <tr>\n",
       "      <th>...</th>\n",
       "      <td>...</td>\n",
       "      <td>...</td>\n",
       "      <td>...</td>\n",
       "      <td>...</td>\n",
       "      <td>...</td>\n",
       "      <td>...</td>\n",
       "    </tr>\n",
       "    <tr>\n",
       "      <th>4905</th>\n",
       "      <td>7066</td>\n",
       "      <td>1149</td>\n",
       "      <td>hr_cat/43D6911D_20050602_dicom_68720.dcm</td>\n",
       "      <td>1</td>\n",
       "      <td>train</td>\n",
       "      <td>hr</td>\n",
       "    </tr>\n",
       "    <tr>\n",
       "      <th>4906</th>\n",
       "      <td>7552</td>\n",
       "      <td>1635</td>\n",
       "      <td>hr_cat/BBFF1B4E_20090528_dicom_64667.dcm</td>\n",
       "      <td>1</td>\n",
       "      <td>base_train</td>\n",
       "      <td>hr</td>\n",
       "    </tr>\n",
       "    <tr>\n",
       "      <th>4907</th>\n",
       "      <td>5598</td>\n",
       "      <td>1814</td>\n",
       "      <td>hr/06JYIABY_20150409_dicom_278549.dcm</td>\n",
       "      <td>0</td>\n",
       "      <td>train</td>\n",
       "      <td>hr</td>\n",
       "    </tr>\n",
       "    <tr>\n",
       "      <th>4908</th>\n",
       "      <td>6485</td>\n",
       "      <td>568</td>\n",
       "      <td>hr_cat/79F171B3_20030522_dicom_81229.dcm</td>\n",
       "      <td>1</td>\n",
       "      <td>train</td>\n",
       "      <td>hr</td>\n",
       "    </tr>\n",
       "    <tr>\n",
       "      <th>4909</th>\n",
       "      <td>6554</td>\n",
       "      <td>637</td>\n",
       "      <td>hr_cat/888A127E_20120922_dicom_11460.dcm</td>\n",
       "      <td>1</td>\n",
       "      <td>train</td>\n",
       "      <td>hr</td>\n",
       "    </tr>\n",
       "  </tbody>\n",
       "</table>\n",
       "<p>4910 rows × 6 columns</p>\n",
       "</div>"
      ],
      "text/plain": [
       "      index  Unnamed: 0                                      image  label  \\\n",
       "0      3751        1852   lr_cat/4A6C3F29_20081014_dicom_45798.dcm      1   \n",
       "1      3276        1377  lr_cat/07QPXVDT_20131207_dicom_100376.dcm      1   \n",
       "2      3419        1520   lr_cat/5C31939F_20120625_dicom_78914.dcm      1   \n",
       "3      2909        1010   lr_cat/58BA81FB_20050524_dicom_40372.dcm      1   \n",
       "4       311         311       lr/61199725_20150227_dicom_87140.dcm      0   \n",
       "...     ...         ...                                        ...    ...   \n",
       "4905   7066        1149   hr_cat/43D6911D_20050602_dicom_68720.dcm      1   \n",
       "4906   7552        1635   hr_cat/BBFF1B4E_20090528_dicom_64667.dcm      1   \n",
       "4907   5598        1814      hr/06JYIABY_20150409_dicom_278549.dcm      0   \n",
       "4908   6485         568   hr_cat/79F171B3_20030522_dicom_81229.dcm      1   \n",
       "4909   6554         637   hr_cat/888A127E_20120922_dicom_11460.dcm      1   \n",
       "\n",
       "           split res  \n",
       "0          train  lr  \n",
       "1          train  lr  \n",
       "2          train  lr  \n",
       "3          train  lr  \n",
       "4          train  lr  \n",
       "...          ...  ..  \n",
       "4905       train  hr  \n",
       "4906  base_train  hr  \n",
       "4907       train  hr  \n",
       "4908       train  hr  \n",
       "4909       train  hr  \n",
       "\n",
       "[4910 rows x 6 columns]"
      ]
     },
     "execution_count": 5,
     "metadata": {},
     "output_type": "execute_result"
    }
   ],
   "source": [
    "streamedDS = StreamedDS('/project/catinous/cat_data/','catsinom_combined_dataset.csv', transition_phase_after=0.8, direction='hr->lr')"
   ]
  },
  {
   "cell_type": "code",
   "execution_count": 12,
   "metadata": {},
   "outputs": [
    {
     "data": {
      "text/plain": [
       "<matplotlib.image.AxesImage at 0x7f6aac70c2b0>"
      ]
     },
     "execution_count": 12,
     "metadata": {},
     "output_type": "execute_result"
    },
    {
     "data": {
      "image/png": "[encoded data removed]",
      "text/plain": [
       "<Figure size 1440x1440 with 1 Axes>"
      ]
     },
     "metadata": {
      "needs_background": "light"
     },
     "output_type": "display_data"
    }
   ],
   "source": [
    "res = streamedDS.df.res == 'lr'\n",
    "plt.figure(figsize=(20,20))\n",
    "plt.imshow(np.tile(res,(500,1)))"
   ]
  },
  {
   "cell_type": "code",
   "execution_count": 108,
   "metadata": {},
   "outputs": [
    {
     "data": {
      "text/plain": [
       "(8032,)"
      ]
     },
     "execution_count": 108,
     "metadata": {},
     "output_type": "execute_result"
    }
   ],
   "source": [
    "streamedDS.df"
   ]
  }
 ],
 "metadata": {
  "file_extension": ".py",
  "kernelspec": {
   "display_name": "Python 3",
   "language": "python",
   "name": "python3"
  },
  "language_info": {
   "codemirror_mode": {
    "name": "ipython",
    "version": 3
   },
   "file_extension": ".py",
   "mimetype": "text/x-python",
   "name": "python",
   "nbconvert_exporter": "python",
   "pygments_lexer": "ipython3",
   "version": "3.6.8"
  },
  "mimetype": "text/x-python",
  "name": "python",
  "npconvert_exporter": "python",
  "pygments_lexer": "ipython3",
  "version": 3
 },
 "nbformat": 4,
 "nbformat_minor": 4
}
