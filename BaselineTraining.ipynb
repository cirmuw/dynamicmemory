{
 "cells": [
  {
   "cell_type": "code",
   "execution_count": 3,
   "metadata": {},
   "outputs": [],
   "source": [
    "from pytorch_lightning import Trainer\n",
    "from catinous.CatsinomModel import CatsinomModel\n",
    "from catinous.CatsinomDataset import CatsinomDataset\n",
    "import matplotlib.pyplot as plt\n",
    "from pytorch_lightning.callbacks import ModelCheckpoint\n",
    "from torch.utils.data import DataLoader\n",
    "import os\n",
    "import torchvision.models as models\n",
    "import torch.nn as nn\n",
    "import torch\n",
    "import torch.nn.functional as F\n",
    "import argparse\n",
    "import pytorch_lightning.logging as pllogging\n",
    "import pytorch_lightning as pl\n",
    "\n",
    "import numpy as np\n",
    "\n",
    "%load_ext autoreload\n",
    "%autoreload 2"
   ]
  },
  {
   "cell_type": "markdown",
   "metadata": {},
   "source": [
    "### Dataset learning"
   ]
  },
  {
   "cell_type": "code",
   "execution_count": 9,
   "metadata": {},
   "outputs": [],
   "source": [
    "dsname = 'lr'\n",
    "\n",
    "def trained_full_dataset(dsname = 'lr', base_only=False, continue_from=None, continous=False, streamdirection='lr->hr', transition_phase_after=0.7):\n",
    "    \n",
    "    hparams = dict()\n",
    "    hparams['root_dir'] = '/project/catinous/cat_data/'\n",
    "    hparams['datasetfile'] = 'catsinom_' + dsname + '_dataset.csv'\n",
    "    hparams['batch_size'] = 8\n",
    "    hparams['train_iterations'] = 3000\n",
    "    hparams['continous'] = continous\n",
    "    hparams['streamdirection'] = streamdirection\n",
    "    hparams\n",
    "\n",
    "    if base_only:\n",
    "        hparams['trainsplit'] = ['base_train']\n",
    "        dsname = dsname + 'base'\n",
    "    else:\n",
    "        hparams['trainsplit'] = ['train','base_train']\n",
    "    \n",
    "    model = CatsinomModel(argparse.Namespace(**hparams))\n",
    "\n",
    "    if continue_from is not None:\n",
    "        model.load_state_dict(torch.load('/project/catinous/trained_models/' + continue_from + '_iterations.pt'))\n",
    "        outname = '/project/catinous/trained_models/' + continue_from + dsname + '_iterations.pt'\n",
    "        dsname = dsname + continue_from\n",
    "    else:\n",
    "        outname = '/project/catinous/trained_models/' + dsname + '_iterations.pt'\n",
    "        \n",
    "    if not os.path.exists(outname):\n",
    "        logger = pllogging.TestTubeLogger('catinous_log_iterations', name=dsname)\n",
    "        trainer = Trainer(gpus=1, max_epochs=1, early_stop_callback=False, logger=logger, val_check_interval=500)\n",
    "        trainer.fit(model)\n",
    "        torch.save(model.state_dict(), outname)\n",
    "\n",
    "    return outname"
   ]
  },
  {
   "cell_type": "code",
   "execution_count": 8,
   "metadata": {},
   "outputs": [
    {
     "data": {
      "text/plain": [
       "'/project/catinous/trained_models/hrlr_iterations.pt'"
      ]
     },
     "execution_count": 8,
     "metadata": {},
     "output_type": "execute_result"
    }
   ],
   "source": [
    "trained_full_dataset('hr')\n",
    "trained_full_dataset('lr')\n",
    "trained_full_dataset('combined')\n",
    "trained_full_dataset('hr', base_only=True)\n",
    "trained_full_dataset('lr', base_only=True)\n",
    "trained_full_dataset('hr', continue_from='lr')\n",
    "trained_full_dataset('lr', continue_from='hr')"
   ]
  },
  {
   "cell_type": "markdown",
   "metadata": {},
   "source": [
    "### Continous learning"
   ]
  },
  {
   "cell_type": "code",
   "execution_count": 6,
   "metadata": {},
   "outputs": [
    {
     "ename": "TypeError",
     "evalue": "trained_full_dataset() got an unexpected keyword argument 'streamdirection'",
     "output_type": "error",
     "traceback": [
      "\u001b[0;31m---------------------------------------------------------------------------\u001b[0m",
      "\u001b[0;31mTypeError\u001b[0m                                 Traceback (most recent call last)",
      "\u001b[0;32m<ipython-input-6-9bc63999bd37>\u001b[0m in \u001b[0;36m<module>\u001b[0;34m\u001b[0m\n\u001b[0;32m----> 1\u001b[0;31m \u001b[0mtrained_full_dataset\u001b[0m\u001b[0;34m(\u001b[0m\u001b[0;34m'combined'\u001b[0m\u001b[0;34m,\u001b[0m \u001b[0mcontinue_from\u001b[0m\u001b[0;34m=\u001b[0m\u001b[0;34m'lrbase'\u001b[0m\u001b[0;34m,\u001b[0m\u001b[0mstreamdirection\u001b[0m\u001b[0;34m=\u001b[0m\u001b[0;34m''\u001b[0m\u001b[0;34m)\u001b[0m\u001b[0;34m\u001b[0m\u001b[0;34m\u001b[0m\u001b[0m\n\u001b[0m",
      "\u001b[0;31mTypeError\u001b[0m: trained_full_dataset() got an unexpected keyword argument 'streamdirection'"
     ]
    }
   ],
   "source": [
    "trained_full_dataset('combined', continue_from='lrbase',\n",
    "                    ,continous=True, streamdirection='lr->hr', transition_phase_after=0.7)"
   ]
  },
  {
   "cell_type": "code",
   "execution_count": 9,
   "metadata": {},
   "outputs": [
    {
     "data": {
      "text/plain": [
       "['MLFlowLogger', 'TensorBoardLogger']"
      ]
     },
     "execution_count": 9,
     "metadata": {},
     "output_type": "execute_result"
    }
   ],
   "source": [
    "pllogging.__all__"
   ]
  },
  {
   "cell_type": "code",
   "execution_count": 4,
   "metadata": {},
   "outputs": [
    {
     "data": {
      "text/plain": [
       "<module 'pytorch_lightning.logging' from '/home/jhofmanninger/anaconda3/envs/candid/lib/python3.6/site-packages/pytorch_lightning/logging/__init__.py'>"
      ]
     },
     "execution_count": 4,
     "metadata": {},
     "output_type": "execute_result"
    }
   ],
   "source": [
    "pllogging"
   ]
  },
  {
   "cell_type": "code",
   "execution_count": 29,
   "metadata": {},
   "outputs": [
    {
     "name": "stdout",
     "output_type": "stream",
     "text": [
      "[4 2 1 3 5 6]\n"
     ]
    }
   ],
   "source": [
    "np.random.seed(9375)\n",
    "perm = np.random.permutation([1,2,3,4,5,6])\n",
    "print(perm)"
   ]
  }
 ],
 "metadata": {
  "file_extension": ".py",
  "kernelspec": {
   "display_name": "Python 3",
   "language": "python",
   "name": "python3"
  },
  "language_info": {
   "codemirror_mode": {
    "name": "ipython",
    "version": 3
   },
   "file_extension": ".py",
   "mimetype": "text/x-python",
   "name": "python",
   "nbconvert_exporter": "python",
   "pygments_lexer": "ipython3",
   "version": "3.6.8"
  },
  "mimetype": "text/x-python",
  "name": "python",
  "npconvert_exporter": "python",
  "pygments_lexer": "ipython3",
  "version": 3
 },
 "nbformat": 4,
 "nbformat_minor": 4
}
