{
 "cells": [
  {
   "cell_type": "code",
   "execution_count": 1,
   "metadata": {},
   "outputs": [],
   "source": [
    "from pytorch_lightning import Trainer\n",
    "from catinous.CatsinomModelGramCache import CatsinomModelGramCache\n",
    "from catinous.CatsinomDataset import CatsinomDataset\n",
    "import matplotlib.pyplot as plt\n",
    "from pytorch_lightning.callbacks import ModelCheckpoint\n",
    "from torch.utils.data import DataLoader\n",
    "import os\n",
    "import torchvision.models as models\n",
    "import torch.nn as nn\n",
    "import torch\n",
    "import torch.nn.functional as F\n",
    "import visualizationutils as vu\n",
    "import argparse\n",
    "import pytorch_lightning as pl\n",
    "import torchvision.models.resnet as rnet"
   ]
  },
  {
   "cell_type": "code",
   "execution_count": 2,
   "metadata": {},
   "outputs": [],
   "source": [
    "hparams = dict() #TODO: this shouldn't be like that\n",
    "hparams['root_dir'] = '/project/catinous/cat_data_harder/'\n",
    "hparams['datasetfile'] = 'catsinom_combined_harder_dataset.csv'\n",
    "hparams['batch_size'] = 1\n",
    "hparams['dataset_shuffle'] = False\n",
    "model = CatsinomModelGramCache(argparse.Namespace(**hparams))\n",
    "model.freeze()"
   ]
  },
  {
   "cell_type": "code",
   "execution_count": 3,
   "metadata": {},
   "outputs": [
    {
     "name": "stdout",
     "output_type": "stream",
     "text": [
      "Conv2d(256, 64, kernel_size=(1, 1), stride=(1, 1), bias=False) torch.Size([1, 256, 128, 128]) torch.Size([64, 128, 128])\n",
      "Conv2d(512, 128, kernel_size=(1, 1), stride=(1, 1), bias=False) torch.Size([1, 512, 64, 64]) torch.Size([128, 64, 64])\n",
      "Conv2d(1024, 256, kernel_size=(1, 1), stride=(1, 1), bias=False) torch.Size([1, 1024, 32, 32]) torch.Size([256, 32, 32])\n",
      "Conv2d(2048, 512, kernel_size=(1, 1), stride=(1, 1), bias=False) torch.Size([1, 2048, 16, 16]) torch.Size([512, 16, 16])\n"
     ]
    }
   ],
   "source": [
    "out = model(torch.randn(1,3,512,512))"
   ]
  },
  {
   "cell_type": "code",
   "execution_count": 4,
   "metadata": {},
   "outputs": [
    {
     "ename": "NameError",
     "evalue": "name 'gram_matrices' is not defined",
     "output_type": "error",
     "traceback": [
      "\u001b[0;31m---------------------------------------------------------------------------\u001b[0m",
      "\u001b[0;31mNameError\u001b[0m                                 Traceback (most recent call last)",
      "\u001b[0;32m<ipython-input-4-95a6bfbef0db>\u001b[0m in \u001b[0;36m<module>\u001b[0;34m\u001b[0m\n\u001b[0;32m----> 1\u001b[0;31m \u001b[0mlen\u001b[0m\u001b[0;34m(\u001b[0m\u001b[0mlist\u001b[0m\u001b[0;34m(\u001b[0m\u001b[0mgram_matrices\u001b[0m\u001b[0;34m.\u001b[0m\u001b[0mvalues\u001b[0m\u001b[0;34m(\u001b[0m\u001b[0;34m)\u001b[0m\u001b[0;34m)\u001b[0m\u001b[0;34m)\u001b[0m\u001b[0;34m\u001b[0m\u001b[0;34m\u001b[0m\u001b[0m\n\u001b[0m",
      "\u001b[0;31mNameError\u001b[0m: name 'gram_matrices' is not defined"
     ]
    }
   ],
   "source": [
    "len(list(gram_matrices.values()))"
   ]
  },
  {
   "cell_type": "code",
   "execution_count": 5,
   "metadata": {},
   "outputs": [
    {
     "data": {
      "text/plain": [
       "{Conv2d(256, 64, kernel_size=(1, 1), stride=(1, 1), bias=False): tensor([[4.2073e-07, 4.1007e-06, 1.3747e-05,  ..., 3.9390e-06, 1.1889e-05,\n",
       "          6.8651e-07],\n",
       "         [4.1007e-06, 1.4993e-04, 4.7228e-04,  ..., 1.3833e-04, 3.8664e-04,\n",
       "          2.3257e-05],\n",
       "         [1.3747e-05, 4.7228e-04, 2.0991e-03,  ..., 4.9141e-04, 1.6188e-03,\n",
       "          9.5365e-05],\n",
       "         ...,\n",
       "         [3.9390e-06, 1.3833e-04, 4.9141e-04,  ..., 1.4268e-04, 4.0443e-04,\n",
       "          2.3342e-05],\n",
       "         [1.1889e-05, 3.8664e-04, 1.6188e-03,  ..., 4.0443e-04, 1.7156e-03,\n",
       "          8.7410e-05],\n",
       "         [6.8651e-07, 2.3257e-05, 9.5365e-05,  ..., 2.3342e-05, 8.7410e-05,\n",
       "          3.2291e-05]]),\n",
       " Conv2d(512, 128, kernel_size=(1, 1), stride=(1, 1), bias=False): tensor([[1.4269e-08, 6.1581e-08, 1.3434e-07,  ..., 0.0000e+00, 6.4219e-08,\n",
       "          2.9932e-09],\n",
       "         [6.1581e-08, 1.1133e-05, 6.7607e-06,  ..., 2.9117e-07, 2.6085e-05,\n",
       "          1.5803e-07],\n",
       "         [1.3434e-07, 6.7607e-06, 1.5367e-05,  ..., 1.4601e-07, 1.5110e-05,\n",
       "          2.4545e-07],\n",
       "         ...,\n",
       "         [0.0000e+00, 2.9117e-07, 1.4601e-07,  ..., 7.6236e-07, 1.4920e-06,\n",
       "          1.3609e-07],\n",
       "         [6.4219e-08, 2.6085e-05, 1.5110e-05,  ..., 1.4920e-06, 9.5674e-05,\n",
       "          5.8803e-07],\n",
       "         [2.9932e-09, 1.5803e-07, 2.4545e-07,  ..., 1.3609e-07, 5.8803e-07,\n",
       "          4.1640e-07]]),\n",
       " Conv2d(1024, 256, kernel_size=(1, 1), stride=(1, 1), bias=False): tensor([[9.4028e-06, 1.6703e-08, 2.5530e-06,  ..., 2.7442e-06, 3.9530e-07,\n",
       "          1.1636e-08],\n",
       "         [1.6703e-08, 1.9841e-08, 1.5420e-09,  ..., 0.0000e+00, 7.3337e-10,\n",
       "          0.0000e+00],\n",
       "         [2.5530e-06, 1.5420e-09, 2.8754e-06,  ..., 1.1264e-06, 1.5794e-07,\n",
       "          1.4198e-09],\n",
       "         ...,\n",
       "         [2.7442e-06, 0.0000e+00, 1.1264e-06,  ..., 3.1883e-06, 1.5802e-07,\n",
       "          4.0457e-09],\n",
       "         [3.9530e-07, 7.3337e-10, 1.5794e-07,  ..., 1.5802e-07, 1.5573e-07,\n",
       "          7.2596e-10],\n",
       "         [1.1636e-08, 0.0000e+00, 1.4198e-09,  ..., 4.0457e-09, 7.2596e-10,\n",
       "          1.4325e-09]]),\n",
       " Conv2d(2048, 512, kernel_size=(1, 1), stride=(1, 1), bias=False): tensor([[1.3631e-05, 0.0000e+00, 0.0000e+00,  ..., 3.6603e-07, 9.1734e-07,\n",
       "          3.2103e-05],\n",
       "         [0.0000e+00, 0.0000e+00, 0.0000e+00,  ..., 0.0000e+00, 0.0000e+00,\n",
       "          0.0000e+00],\n",
       "         [0.0000e+00, 0.0000e+00, 0.0000e+00,  ..., 0.0000e+00, 0.0000e+00,\n",
       "          0.0000e+00],\n",
       "         ...,\n",
       "         [3.6603e-07, 0.0000e+00, 0.0000e+00,  ..., 8.9077e-08, 3.1878e-08,\n",
       "          9.2370e-07],\n",
       "         [9.1734e-07, 0.0000e+00, 0.0000e+00,  ..., 3.1878e-08, 4.1181e-07,\n",
       "          2.5002e-06],\n",
       "         [3.2103e-05, 0.0000e+00, 0.0000e+00,  ..., 9.2370e-07, 2.5002e-06,\n",
       "          9.1194e-05]])}"
      ]
     },
     "execution_count": 5,
     "metadata": {},
     "output_type": "execute_result"
    }
   ],
   "source": [
    "model.cachematrices"
   ]
  },
  {
   "cell_type": "code",
   "execution_count": null,
   "metadata": {},
   "outputs": [],
   "source": []
  }
 ],
 "metadata": {
  "kernelspec": {
   "display_name": "Python 3",
   "language": "python",
   "name": "python3"
  },
  "language_info": {
   "codemirror_mode": {
    "name": "ipython",
    "version": 3
   },
   "file_extension": ".py",
   "mimetype": "text/x-python",
   "name": "python",
   "nbconvert_exporter": "python",
   "pygments_lexer": "ipython3",
   "version": "3.6.8"
  }
 },
 "nbformat": 4,
 "nbformat_minor": 4
}
