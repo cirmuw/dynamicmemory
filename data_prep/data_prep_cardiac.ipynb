{
 "cells": [
  {
   "cell_type": "code",
   "execution_count": 1,
   "metadata": {},
   "outputs": [
    {
     "name": "stderr",
     "output_type": "stream",
     "text": [
      "In /home/mperkonigg/.local/lib/python3.6/site-packages/matplotlib/mpl-data/stylelib/_classic_test.mplstyle: \n",
      "The text.latex.preview rcparam was deprecated in Matplotlib 3.3 and will be removed two minor releases later.\n",
      "In /home/mperkonigg/.local/lib/python3.6/site-packages/matplotlib/mpl-data/stylelib/_classic_test.mplstyle: \n",
      "The mathtext.fallback_to_cm rcparam was deprecated in Matplotlib 3.3 and will be removed two minor releases later.\n",
      "In /home/mperkonigg/.local/lib/python3.6/site-packages/matplotlib/mpl-data/stylelib/_classic_test.mplstyle: Support for setting the 'mathtext.fallback_to_cm' rcParam is deprecated since 3.3 and will be removed two minor releases later; use 'mathtext.fallback : 'cm' instead.\n",
      "In /home/mperkonigg/.local/lib/python3.6/site-packages/matplotlib/mpl-data/stylelib/_classic_test.mplstyle: \n",
      "The validate_bool_maybe_none function was deprecated in Matplotlib 3.3 and will be removed two minor releases later.\n",
      "In /home/mperkonigg/.local/lib/python3.6/site-packages/matplotlib/mpl-data/stylelib/_classic_test.mplstyle: \n",
      "The savefig.jpeg_quality rcparam was deprecated in Matplotlib 3.3 and will be removed two minor releases later.\n",
      "In /home/mperkonigg/.local/lib/python3.6/site-packages/matplotlib/mpl-data/stylelib/_classic_test.mplstyle: \n",
      "The keymap.all_axes rcparam was deprecated in Matplotlib 3.3 and will be removed two minor releases later.\n",
      "In /home/mperkonigg/.local/lib/python3.6/site-packages/matplotlib/mpl-data/stylelib/_classic_test.mplstyle: \n",
      "The animation.avconv_path rcparam was deprecated in Matplotlib 3.3 and will be removed two minor releases later.\n",
      "In /home/mperkonigg/.local/lib/python3.6/site-packages/matplotlib/mpl-data/stylelib/_classic_test.mplstyle: \n",
      "The animation.avconv_args rcparam was deprecated in Matplotlib 3.3 and will be removed two minor releases later.\n"
     ]
    }
   ],
   "source": [
    "import nibabel as nib\n",
    "import matplotlib.pyplot as plt\n",
    "import pandas as pd\n",
    "from glob import glob\n",
    "import os\n",
    "import sys\n",
    "sys.path.append('../')\n",
    "#from models.unet3d import EncoderModelGenesis\n",
    "import torch\n",
    "import torchvision.models as models\n",
    "import matplotlib.patches as patches\n",
    "import torchvision.models as tvmodels\n",
    "from torch.utils.data.dataset import Dataset\n",
    "import os\n",
    "import pandas as pd\n",
    "from py_jotools import augmentation, mut\n",
    "import numpy as np\n",
    "import nibabel as nib\n",
    "import torch\n",
    "import pydicom as pyd\n",
    "import random\n",
    "from sklearn.manifold import TSNE\n",
    "from sklearn.decomposition import PCA"
   ]
  },
  {
   "cell_type": "code",
   "execution_count": 5,
   "metadata": {},
   "outputs": [],
   "source": [
    "seed = 516165"
   ]
  },
  {
   "cell_type": "code",
   "execution_count": 7,
   "metadata": {},
   "outputs": [],
   "source": [
    "df_dsinfo = pd.read_csv('/data/dataset/external/MandMs/201014_M&Ms_Dataset_Information_-_opendataset.csv')"
   ]
  },
  {
   "cell_type": "code",
   "execution_count": 8,
   "metadata": {},
   "outputs": [
    {
     "data": {
      "text/html": [
       "<div>\n",
       "<style scoped>\n",
       "    .dataframe tbody tr th:only-of-type {\n",
       "        vertical-align: middle;\n",
       "    }\n",
       "\n",
       "    .dataframe tbody tr th {\n",
       "        vertical-align: top;\n",
       "    }\n",
       "\n",
       "    .dataframe thead th {\n",
       "        text-align: right;\n",
       "    }\n",
       "</style>\n",
       "<table border=\"1\" class=\"dataframe\">\n",
       "  <thead>\n",
       "    <tr style=\"text-align: right;\">\n",
       "      <th></th>\n",
       "      <th>External code</th>\n",
       "      <th>VendorName</th>\n",
       "      <th>Vendor</th>\n",
       "      <th>Centre</th>\n",
       "      <th>ED</th>\n",
       "      <th>ES</th>\n",
       "    </tr>\n",
       "  </thead>\n",
       "  <tbody>\n",
       "    <tr>\n",
       "      <th>0</th>\n",
       "      <td>A0S9V9</td>\n",
       "      <td>Siemens</td>\n",
       "      <td>A</td>\n",
       "      <td>1</td>\n",
       "      <td>0</td>\n",
       "      <td>9</td>\n",
       "    </tr>\n",
       "    <tr>\n",
       "      <th>1</th>\n",
       "      <td>A1D0Q7</td>\n",
       "      <td>Philips</td>\n",
       "      <td>B</td>\n",
       "      <td>2</td>\n",
       "      <td>0</td>\n",
       "      <td>9</td>\n",
       "    </tr>\n",
       "    <tr>\n",
       "      <th>2</th>\n",
       "      <td>A1D9Z7</td>\n",
       "      <td>Siemens</td>\n",
       "      <td>A</td>\n",
       "      <td>1</td>\n",
       "      <td>22</td>\n",
       "      <td>11</td>\n",
       "    </tr>\n",
       "    <tr>\n",
       "      <th>3</th>\n",
       "      <td>A1E9Q1</td>\n",
       "      <td>Siemens</td>\n",
       "      <td>A</td>\n",
       "      <td>1</td>\n",
       "      <td>0</td>\n",
       "      <td>9</td>\n",
       "    </tr>\n",
       "    <tr>\n",
       "      <th>4</th>\n",
       "      <td>A1K2P5</td>\n",
       "      <td>Canon</td>\n",
       "      <td>D</td>\n",
       "      <td>5</td>\n",
       "      <td>33</td>\n",
       "      <td>11</td>\n",
       "    </tr>\n",
       "    <tr>\n",
       "      <th>...</th>\n",
       "      <td>...</td>\n",
       "      <td>...</td>\n",
       "      <td>...</td>\n",
       "      <td>...</td>\n",
       "      <td>...</td>\n",
       "      <td>...</td>\n",
       "    </tr>\n",
       "    <tr>\n",
       "      <th>340</th>\n",
       "      <td>T2Z1Z9</td>\n",
       "      <td>Canon</td>\n",
       "      <td>D</td>\n",
       "      <td>5</td>\n",
       "      <td>29</td>\n",
       "      <td>9</td>\n",
       "    </tr>\n",
       "    <tr>\n",
       "      <th>341</th>\n",
       "      <td>T9U9W2</td>\n",
       "      <td>Siemens</td>\n",
       "      <td>A</td>\n",
       "      <td>1</td>\n",
       "      <td>0</td>\n",
       "      <td>10</td>\n",
       "    </tr>\n",
       "    <tr>\n",
       "      <th>342</th>\n",
       "      <td>V4W8Z5</td>\n",
       "      <td>GE</td>\n",
       "      <td>C</td>\n",
       "      <td>4</td>\n",
       "      <td>19</td>\n",
       "      <td>9</td>\n",
       "    </tr>\n",
       "    <tr>\n",
       "      <th>343</th>\n",
       "      <td>W5Z4Z8</td>\n",
       "      <td>Philips</td>\n",
       "      <td>B</td>\n",
       "      <td>2</td>\n",
       "      <td>29</td>\n",
       "      <td>11</td>\n",
       "    </tr>\n",
       "    <tr>\n",
       "      <th>344</th>\n",
       "      <td>Y6Y9Z2</td>\n",
       "      <td>Philips</td>\n",
       "      <td>B</td>\n",
       "      <td>3</td>\n",
       "      <td>29</td>\n",
       "      <td>9</td>\n",
       "    </tr>\n",
       "  </tbody>\n",
       "</table>\n",
       "<p>345 rows × 6 columns</p>\n",
       "</div>"
      ],
      "text/plain": [
       "    External code VendorName Vendor  Centre  ED  ES\n",
       "0          A0S9V9    Siemens      A       1   0   9\n",
       "1          A1D0Q7    Philips      B       2   0   9\n",
       "2          A1D9Z7    Siemens      A       1  22  11\n",
       "3          A1E9Q1    Siemens      A       1   0   9\n",
       "4          A1K2P5      Canon      D       5  33  11\n",
       "..            ...        ...    ...     ...  ..  ..\n",
       "340        T2Z1Z9      Canon      D       5  29   9\n",
       "341        T9U9W2    Siemens      A       1   0  10\n",
       "342        V4W8Z5         GE      C       4  19   9\n",
       "343        W5Z4Z8    Philips      B       2  29  11\n",
       "344        Y6Y9Z2    Philips      B       3  29   9\n",
       "\n",
       "[345 rows x 6 columns]"
      ]
     },
     "execution_count": 8,
     "metadata": {},
     "output_type": "execute_result"
    }
   ],
   "source": [
    "df_dsinfo"
   ]
  },
  {
   "cell_type": "code",
   "execution_count": null,
   "metadata": {},
   "outputs": [],
   "source": [
    "df_dsinfo['labels'] = True\n",
    "\n",
    "for p in glob('/home/mperkonigg/Documents/ExternalData/MandMs/Training/Unlabeled/*'):\n",
    "    df_dsinfo.loc[df_dsinfo['External code']==p.split('/')[-1], 'labels'] = False"
   ]
  },
  {
   "cell_type": "code",
   "execution_count": 21,
   "metadata": {},
   "outputs": [],
   "source": [
    "def gram_matrix_3d(input, pool_factor=1):\n",
    "    # taken from: https://pytorch.org/tutorials/advanced/neural_style_tutorial.html\n",
    "    a, b, c, d, e = input.size()  # a=batch size(=1)\n",
    "    # b=number of feature maps\n",
    "    # (c,d)=dimensions of a f. map (N=c*d)\n",
    "\n",
    "    grams = []\n",
    "\n",
    "    for i in range(a):\n",
    "        features = input[i].view(b, c * d * e)  # resise F_XL into \\hat F_XL\n",
    "        G = torch.mm(features, features.t())  # compute the gram product\n",
    "        if pool_factor==1:\n",
    "            grams.append(G.div(b * c * d * e))\n",
    "        else:\n",
    "            pool = nn.MaxPool2d(pool_factor)\n",
    "            gram = G.div(b * c * d * e)\n",
    "            gram_pooled = pool(gram[None, :])\n",
    "            grams.append(gram_pooled[0])\n",
    "\n",
    "    return grams\n",
    "\n",
    "def gram_hook(m, input, output):\n",
    "    grammatrices.append(gram_matrix_3d(input[0]))\n",
    "\n",
    "def register_hooks():\n",
    "    for layer in gramlayers:\n",
    "        layer.register_forward_hook(gram_hook)\n",
    "        \n",
    "        \n",
    "class NiiDataset(Dataset):\n",
    "\n",
    "    def __init__(self, df):\n",
    "        self.df = df\n",
    "\n",
    "    def __len__(self):\n",
    "        return len(self.df)\n",
    "\n",
    "    def load_image(self, excode, t):\n",
    "        img = nib.load(f'/data/dataset/external/MandMs/nifti/{excode}/{excode}_sa.nii.gz')\n",
    "        img = img.get_fdata()[:, :, :, t]\n",
    "        img = mut.norm01(img)\n",
    "\n",
    "        # return img[None, :, :]\n",
    "        return img\n",
    "\n",
    "    def __getitem__(self, index):\n",
    "        elem = self.df.iloc[index]\n",
    "        img = self.load_image(elem['External code'], t=elem.ED)\n",
    "        return torch.as_tensor(img, dtype=torch.float32), elem.VendorName"
   ]
  },
  {
   "cell_type": "code",
   "execution_count": 22,
   "metadata": {},
   "outputs": [],
   "source": [
    "device = torch.device('cuda')\n",
    "\n",
    "stylemodel = EncoderModelGenesis()\n",
    "\n",
    "#Load pretrained model genesis\n",
    "weight_dir = '../models/Genesis_Chest_CT.pt'\n",
    "checkpoint = torch.load(weight_dir)\n",
    "state_dict = checkpoint['state_dict']\n",
    "unParalled_state_dict = {}\n",
    "for key in state_dict.keys():\n",
    "    if key.startswith('module.down_'):\n",
    "        unParalled_state_dict[key.replace(\"module.\", \"\")] = state_dict[key]\n",
    "stylemodel.load_state_dict(unParalled_state_dict)\n",
    "\n",
    "\n",
    "stylemodel = stylemodel.to(device)\n",
    "stylemodel.eval()\n",
    "\n",
    "grammatrices = []\n",
    "gramlayers = [stylemodel.down_tr64.ops[1].conv1]\n",
    "\n",
    "register_hooks()\n",
    "collected_matrices = {}"
   ]
  },
  {
   "cell_type": "code",
   "execution_count": 28,
   "metadata": {},
   "outputs": [],
   "source": [
    "ds = NiiDataset(df_dsinfo.loc[df_dsinfo.labels==True])\n",
    "dl = torch.utils.data.DataLoader(ds, batch_size=1, num_workers=4, pin_memory=True)"
   ]
  },
  {
   "cell_type": "code",
   "execution_count": 33,
   "metadata": {},
   "outputs": [],
   "source": [
    "matrices_for_embedding = []\n",
    "grammatrices = []\n",
    "scanners = []\n",
    "\n",
    "for batch in dl:\n",
    "    image, scanner = batch\n",
    "\n",
    "    x = image[None, :, :, :, :].to(device)\n",
    "    if x.shape[-1]>=8:\n",
    "        y_style = stylemodel(x.float())\n",
    "        for gm in grammatrices[0]:\n",
    "            matrices_for_embedding.append(gm.detach().cpu().numpy().flatten())\n",
    "        scanners.append(scanner)\n",
    "        grammatrices = []"
   ]
  },
  {
   "cell_type": "code",
   "execution_count": 34,
   "metadata": {},
   "outputs": [],
   "source": [
    "tsne = TSNE(n_components=2, perplexity=50)\n",
    "elements_tsne = tsne.fit_transform(matrices_for_embedding)"
   ]
  },
  {
   "cell_type": "code",
   "execution_count": 37,
   "metadata": {},
   "outputs": [
    {
     "data": {
      "text/plain": [
       "array(['Siemens', 'Philips', 'Canon', 'GE'], dtype=object)"
      ]
     },
     "execution_count": 37,
     "metadata": {},
     "output_type": "execute_result"
    }
   ],
   "source": [
    "df_dsinfo.VendorName.unique()"
   ]
  },
  {
   "cell_type": "code",
   "execution_count": 43,
   "metadata": {},
   "outputs": [],
   "source": [
    "i_scanners = []\n",
    "for s in scanners:\n",
    "    if s[0]=='Siemens':\n",
    "        i_scanners.append(0)\n",
    "    elif s[0]=='GE':\n",
    "        i_scanners.append(1)\n",
    "    elif s[0]=='Canon':\n",
    "        i_scanners.append(2)\n",
    "    elif s[0]=='Philips':\n",
    "        i_scanners.append(3)"
   ]
  },
  {
   "cell_type": "code",
   "execution_count": 44,
   "metadata": {},
   "outputs": [
    {
     "data": {
      "text/plain": [
       "<matplotlib.colorbar.Colorbar at 0x7f79d4a2f358>"
      ]
     },
     "execution_count": 44,
     "metadata": {},
     "output_type": "execute_result"
    },
    {
     "data": {
      "image/png": "[encoded data removed]",
      "text/plain": [
       "<Figure size 432x288 with 2 Axes>"
      ]
     },
     "metadata": {
      "needs_background": "light"
     },
     "output_type": "display_data"
    }
   ],
   "source": [
    "plt.scatter(elements_tsne[:, 0], elements_tsne[:, 1], c=i_scanners, cmap='Set1')\n",
    "plt.colorbar()"
   ]
  },
  {
   "cell_type": "code",
   "execution_count": 46,
   "metadata": {},
   "outputs": [
    {
     "data": {
      "text/html": [
       "<div>\n",
       "<style scoped>\n",
       "    .dataframe tbody tr th:only-of-type {\n",
       "        vertical-align: middle;\n",
       "    }\n",
       "\n",
       "    .dataframe tbody tr th {\n",
       "        vertical-align: top;\n",
       "    }\n",
       "\n",
       "    .dataframe thead th {\n",
       "        text-align: right;\n",
       "    }\n",
       "</style>\n",
       "<table border=\"1\" class=\"dataframe\">\n",
       "  <thead>\n",
       "    <tr style=\"text-align: right;\">\n",
       "      <th></th>\n",
       "      <th></th>\n",
       "      <th>External code</th>\n",
       "      <th>Vendor</th>\n",
       "      <th>ED</th>\n",
       "      <th>ES</th>\n",
       "      <th>labels</th>\n",
       "    </tr>\n",
       "    <tr>\n",
       "      <th>VendorName</th>\n",
       "      <th>Centre</th>\n",
       "      <th></th>\n",
       "      <th></th>\n",
       "      <th></th>\n",
       "      <th></th>\n",
       "      <th></th>\n",
       "    </tr>\n",
       "  </thead>\n",
       "  <tbody>\n",
       "    <tr>\n",
       "      <th>Canon</th>\n",
       "      <th>5</th>\n",
       "      <td>50</td>\n",
       "      <td>50</td>\n",
       "      <td>50</td>\n",
       "      <td>50</td>\n",
       "      <td>50</td>\n",
       "    </tr>\n",
       "    <tr>\n",
       "      <th>GE</th>\n",
       "      <th>4</th>\n",
       "      <td>75</td>\n",
       "      <td>75</td>\n",
       "      <td>75</td>\n",
       "      <td>75</td>\n",
       "      <td>75</td>\n",
       "    </tr>\n",
       "    <tr>\n",
       "      <th rowspan=\"2\" valign=\"top\">Philips</th>\n",
       "      <th>2</th>\n",
       "      <td>74</td>\n",
       "      <td>74</td>\n",
       "      <td>74</td>\n",
       "      <td>74</td>\n",
       "      <td>74</td>\n",
       "    </tr>\n",
       "    <tr>\n",
       "      <th>3</th>\n",
       "      <td>51</td>\n",
       "      <td>51</td>\n",
       "      <td>51</td>\n",
       "      <td>51</td>\n",
       "      <td>51</td>\n",
       "    </tr>\n",
       "    <tr>\n",
       "      <th>Siemens</th>\n",
       "      <th>1</th>\n",
       "      <td>95</td>\n",
       "      <td>95</td>\n",
       "      <td>95</td>\n",
       "      <td>95</td>\n",
       "      <td>95</td>\n",
       "    </tr>\n",
       "  </tbody>\n",
       "</table>\n",
       "</div>"
      ],
      "text/plain": [
       "                   External code  Vendor  ED  ES  labels\n",
       "VendorName Centre                                       \n",
       "Canon      5                  50      50  50  50      50\n",
       "GE         4                  75      75  75  75      75\n",
       "Philips    2                  74      74  74  74      74\n",
       "           3                  51      51  51  51      51\n",
       "Siemens    1                  95      95  95  95      95"
      ]
     },
     "execution_count": 46,
     "metadata": {},
     "output_type": "execute_result"
    }
   ],
   "source": [
    "df_dsinfo.groupby(['VendorName', 'Centre']).count()"
   ]
  },
  {
   "cell_type": "code",
   "execution_count": 49,
   "metadata": {},
   "outputs": [],
   "source": [
    "df_dsinfo = df_dsinfo.loc[df_dsinfo.labels]"
   ]
  },
  {
   "cell_type": "code",
   "execution_count": 52,
   "metadata": {},
   "outputs": [
    {
     "data": {
      "text/html": [
       "<div>\n",
       "<style scoped>\n",
       "    .dataframe tbody tr th:only-of-type {\n",
       "        vertical-align: middle;\n",
       "    }\n",
       "\n",
       "    .dataframe tbody tr th {\n",
       "        vertical-align: top;\n",
       "    }\n",
       "\n",
       "    .dataframe thead th {\n",
       "        text-align: right;\n",
       "    }\n",
       "</style>\n",
       "<table border=\"1\" class=\"dataframe\">\n",
       "  <thead>\n",
       "    <tr style=\"text-align: right;\">\n",
       "      <th></th>\n",
       "      <th></th>\n",
       "      <th>External code</th>\n",
       "      <th>Vendor</th>\n",
       "      <th>ED</th>\n",
       "      <th>ES</th>\n",
       "      <th>labels</th>\n",
       "    </tr>\n",
       "    <tr>\n",
       "      <th>VendorName</th>\n",
       "      <th>Centre</th>\n",
       "      <th></th>\n",
       "      <th></th>\n",
       "      <th></th>\n",
       "      <th></th>\n",
       "      <th></th>\n",
       "    </tr>\n",
       "  </thead>\n",
       "  <tbody>\n",
       "    <tr>\n",
       "      <th>Canon</th>\n",
       "      <th>5</th>\n",
       "      <td>50</td>\n",
       "      <td>50</td>\n",
       "      <td>50</td>\n",
       "      <td>50</td>\n",
       "      <td>50</td>\n",
       "    </tr>\n",
       "    <tr>\n",
       "      <th>GE</th>\n",
       "      <th>4</th>\n",
       "      <td>50</td>\n",
       "      <td>50</td>\n",
       "      <td>50</td>\n",
       "      <td>50</td>\n",
       "      <td>50</td>\n",
       "    </tr>\n",
       "    <tr>\n",
       "      <th rowspan=\"2\" valign=\"top\">Philips</th>\n",
       "      <th>2</th>\n",
       "      <td>74</td>\n",
       "      <td>74</td>\n",
       "      <td>74</td>\n",
       "      <td>74</td>\n",
       "      <td>74</td>\n",
       "    </tr>\n",
       "    <tr>\n",
       "      <th>3</th>\n",
       "      <td>51</td>\n",
       "      <td>51</td>\n",
       "      <td>51</td>\n",
       "      <td>51</td>\n",
       "      <td>51</td>\n",
       "    </tr>\n",
       "    <tr>\n",
       "      <th>Siemens</th>\n",
       "      <th>1</th>\n",
       "      <td>95</td>\n",
       "      <td>95</td>\n",
       "      <td>95</td>\n",
       "      <td>95</td>\n",
       "      <td>95</td>\n",
       "    </tr>\n",
       "  </tbody>\n",
       "</table>\n",
       "</div>"
      ],
      "text/plain": [
       "                   External code  Vendor  ED  ES  labels\n",
       "VendorName Centre                                       \n",
       "Canon      5                  50      50  50  50      50\n",
       "GE         4                  50      50  50  50      50\n",
       "Philips    2                  74      74  74  74      74\n",
       "           3                  51      51  51  51      51\n",
       "Siemens    1                  95      95  95  95      95"
      ]
     },
     "execution_count": 52,
     "metadata": {},
     "output_type": "execute_result"
    }
   ],
   "source": [
    "df_dsinfo.groupby(['VendorName', 'Centre']).count()"
   ]
  },
  {
   "cell_type": "code",
   "execution_count": 114,
   "metadata": {},
   "outputs": [
    {
     "name": "stderr",
     "output_type": "stream",
     "text": [
      "/home/mperkonigg/.local/lib/python3.6/site-packages/pandas/core/generic.py:5168: SettingWithCopyWarning: \n",
      "A value is trying to be set on a copy of a slice from a DataFrame.\n",
      "Try using .loc[row_indexer,col_indexer] = value instead\n",
      "\n",
      "See the caveats in the documentation: https://pandas.pydata.org/pandas-docs/stable/user_guide/indexing.html#returning-a-view-versus-a-copy\n",
      "  self[name] = value\n"
     ]
    }
   ],
   "source": [
    "df_base = df_dsinfo.loc[df_dsinfo.VendorName=='Siemens']\n",
    "df_base = df_base.sample(frac=1.0, random_state=seed).reset_index(drop=True)\n",
    "df_base['split'] = 'None'\n",
    "df_base.iloc[0:50].split='base'\n",
    "df_base.iloc[50:75].split='train'\n",
    "df_base.iloc[75:85].split='val'\n",
    "df_base.iloc[85:].split='test'\n",
    "\n",
    "df_phil = df_dsinfo.loc[df_dsinfo.VendorName=='Philips']\n",
    "df_phil = df_phil.sample(frac=1.0, random_state=seed).reset_index(drop=True)\n",
    "df_phil['split'] = 'None'\n",
    "df_phil.iloc[0:105].split='train'\n",
    "df_phil.iloc[105:115].split='val'\n",
    "df_phil.iloc[115:].split='test'\n",
    "\n",
    "df_ge = df_dsinfo.loc[df_dsinfo.VendorName=='GE']\n",
    "df_ge = df_ge.sample(frac=1.0, random_state=seed).reset_index(drop=True)\n",
    "df_ge['split'] = 'None'\n",
    "df_ge.iloc[0:30].split='train'\n",
    "df_ge.iloc[30:40].split='val'\n",
    "df_ge.iloc[40:].split='test'\n",
    "\n",
    "df_canon = df_dsinfo.loc[df_dsinfo.VendorName=='Canon']\n",
    "df_canon = df_canon.sample(frac=1.0, random_state=seed).reset_index(drop=True)\n",
    "df_canon['split'] = 'None'\n",
    "df_canon.iloc[0:30].split='train'\n",
    "df_canon.iloc[30:40].split='val'\n",
    "df_canon.iloc[40:].split='test'\n",
    "\n",
    "df_train = pd.concat([df_base, df_phil, df_ge, df_canon])\n",
    "df_train.groupby(['VendorName', 'split']).count()\n",
    "df_train.to_csv('/project/catinous/cardiac_patient_split.csv', index=False)"
   ]
  },
  {
   "cell_type": "code",
   "execution_count": 118,
   "metadata": {},
   "outputs": [],
   "source": [
    "scanners = []\n",
    "imgs = []\n",
    "ts = []\n",
    "slices = []\n",
    "splits = []\n",
    "for i, row in df_train.iterrows():\n",
    "    excode = row['External code']\n",
    "    filepath = f'/data/dataset/external/MandMs/nifti/{excode}/{excode}_sa.nii.gz'\n",
    "    img = nib.load(filepath)\n",
    "    sl = img.shape[2]\n",
    "    \n",
    "    slices.extend(list(range(0, sl)))\n",
    "    imgs.extend([filepath]*sl)\n",
    "    ts.extend([row.ED]*sl)\n",
    "    scanners.extend([row.VendorName]*sl)\n",
    "    splits.extend([row.split]*sl)\n",
    "    \n",
    "    slices.extend(list(range(0, sl)))\n",
    "    imgs.extend([filepath]*sl)\n",
    "    ts.extend([row.ES]*sl)\n",
    "    scanners.extend([row.VendorName]*sl)\n",
    "    splits.extend([row.split]*sl)\n",
    "    \n",
    "df_train_slices = pd.DataFrame({'scanner': scanners, 'filepath':imgs, 't': ts, 'slice': slices, 'split': splits})"
   ]
  },
  {
   "cell_type": "code",
   "execution_count": 125,
   "metadata": {},
   "outputs": [],
   "source": [
    "df_train_slices.to_csv('/project/catinous/cardiac_slices_split.csv', index=False)"
   ]
  },
  {
   "cell_type": "code",
   "execution_count": 6,
   "metadata": {},
   "outputs": [
    {
     "data": {
      "text/html": [
       "<div>\n",
       "<style scoped>\n",
       "    .dataframe tbody tr th:only-of-type {\n",
       "        vertical-align: middle;\n",
       "    }\n",
       "\n",
       "    .dataframe tbody tr th {\n",
       "        vertical-align: top;\n",
       "    }\n",
       "\n",
       "    .dataframe thead th {\n",
       "        text-align: right;\n",
       "    }\n",
       "</style>\n",
       "<table border=\"1\" class=\"dataframe\">\n",
       "  <thead>\n",
       "    <tr style=\"text-align: right;\">\n",
       "      <th></th>\n",
       "      <th>scanner</th>\n",
       "      <th>filepath</th>\n",
       "      <th>t</th>\n",
       "      <th>slice</th>\n",
       "      <th>split</th>\n",
       "    </tr>\n",
       "  </thead>\n",
       "  <tbody>\n",
       "    <tr>\n",
       "      <th>0</th>\n",
       "      <td>Siemens</td>\n",
       "      <td>/data/dataset/external/MandMs/nifti/D4M3Q2/D4M...</td>\n",
       "      <td>0</td>\n",
       "      <td>0</td>\n",
       "      <td>base</td>\n",
       "    </tr>\n",
       "    <tr>\n",
       "      <th>1</th>\n",
       "      <td>Siemens</td>\n",
       "      <td>/data/dataset/external/MandMs/nifti/D4M3Q2/D4M...</td>\n",
       "      <td>0</td>\n",
       "      <td>1</td>\n",
       "      <td>base</td>\n",
       "    </tr>\n",
       "    <tr>\n",
       "      <th>2</th>\n",
       "      <td>Siemens</td>\n",
       "      <td>/data/dataset/external/MandMs/nifti/D4M3Q2/D4M...</td>\n",
       "      <td>0</td>\n",
       "      <td>2</td>\n",
       "      <td>base</td>\n",
       "    </tr>\n",
       "    <tr>\n",
       "      <th>3</th>\n",
       "      <td>Siemens</td>\n",
       "      <td>/data/dataset/external/MandMs/nifti/D4M3Q2/D4M...</td>\n",
       "      <td>0</td>\n",
       "      <td>3</td>\n",
       "      <td>base</td>\n",
       "    </tr>\n",
       "    <tr>\n",
       "      <th>4</th>\n",
       "      <td>Siemens</td>\n",
       "      <td>/data/dataset/external/MandMs/nifti/D4M3Q2/D4M...</td>\n",
       "      <td>0</td>\n",
       "      <td>4</td>\n",
       "      <td>base</td>\n",
       "    </tr>\n",
       "    <tr>\n",
       "      <th>...</th>\n",
       "      <td>...</td>\n",
       "      <td>...</td>\n",
       "      <td>...</td>\n",
       "      <td>...</td>\n",
       "      <td>...</td>\n",
       "    </tr>\n",
       "    <tr>\n",
       "      <th>7315</th>\n",
       "      <td>Canon</td>\n",
       "      <td>/data/dataset/external/MandMs/nifti/N7P3T8/N7P...</td>\n",
       "      <td>10</td>\n",
       "      <td>9</td>\n",
       "      <td>test</td>\n",
       "    </tr>\n",
       "    <tr>\n",
       "      <th>7316</th>\n",
       "      <td>Canon</td>\n",
       "      <td>/data/dataset/external/MandMs/nifti/N7P3T8/N7P...</td>\n",
       "      <td>10</td>\n",
       "      <td>10</td>\n",
       "      <td>test</td>\n",
       "    </tr>\n",
       "    <tr>\n",
       "      <th>7317</th>\n",
       "      <td>Canon</td>\n",
       "      <td>/data/dataset/external/MandMs/nifti/N7P3T8/N7P...</td>\n",
       "      <td>10</td>\n",
       "      <td>11</td>\n",
       "      <td>test</td>\n",
       "    </tr>\n",
       "    <tr>\n",
       "      <th>7318</th>\n",
       "      <td>Canon</td>\n",
       "      <td>/data/dataset/external/MandMs/nifti/N7P3T8/N7P...</td>\n",
       "      <td>10</td>\n",
       "      <td>12</td>\n",
       "      <td>test</td>\n",
       "    </tr>\n",
       "    <tr>\n",
       "      <th>7319</th>\n",
       "      <td>Canon</td>\n",
       "      <td>/data/dataset/external/MandMs/nifti/N7P3T8/N7P...</td>\n",
       "      <td>10</td>\n",
       "      <td>13</td>\n",
       "      <td>test</td>\n",
       "    </tr>\n",
       "  </tbody>\n",
       "</table>\n",
       "<p>7320 rows × 5 columns</p>\n",
       "</div>"
      ],
      "text/plain": [
       "      scanner                                           filepath   t  slice  \\\n",
       "0     Siemens  /data/dataset/external/MandMs/nifti/D4M3Q2/D4M...   0      0   \n",
       "1     Siemens  /data/dataset/external/MandMs/nifti/D4M3Q2/D4M...   0      1   \n",
       "2     Siemens  /data/dataset/external/MandMs/nifti/D4M3Q2/D4M...   0      2   \n",
       "3     Siemens  /data/dataset/external/MandMs/nifti/D4M3Q2/D4M...   0      3   \n",
       "4     Siemens  /data/dataset/external/MandMs/nifti/D4M3Q2/D4M...   0      4   \n",
       "...       ...                                                ...  ..    ...   \n",
       "7315    Canon  /data/dataset/external/MandMs/nifti/N7P3T8/N7P...  10      9   \n",
       "7316    Canon  /data/dataset/external/MandMs/nifti/N7P3T8/N7P...  10     10   \n",
       "7317    Canon  /data/dataset/external/MandMs/nifti/N7P3T8/N7P...  10     11   \n",
       "7318    Canon  /data/dataset/external/MandMs/nifti/N7P3T8/N7P...  10     12   \n",
       "7319    Canon  /data/dataset/external/MandMs/nifti/N7P3T8/N7P...  10     13   \n",
       "\n",
       "     split  \n",
       "0     base  \n",
       "1     base  \n",
       "2     base  \n",
       "3     base  \n",
       "4     base  \n",
       "...    ...  \n",
       "7315  test  \n",
       "7316  test  \n",
       "7317  test  \n",
       "7318  test  \n",
       "7319  test  \n",
       "\n",
       "[7320 rows x 5 columns]"
      ]
     },
     "execution_count": 6,
     "metadata": {},
     "output_type": "execute_result"
    }
   ],
   "source": [
    "pd.read_csv('/project/catinous/cardiacslicessplit.csv')"
   ]
  },
  {
   "cell_type": "code",
   "execution_count": 4,
   "metadata": {},
   "outputs": [
    {
     "data": {
      "text/html": [
       "<div>\n",
       "<style scoped>\n",
       "    .dataframe tbody tr th:only-of-type {\n",
       "        vertical-align: middle;\n",
       "    }\n",
       "\n",
       "    .dataframe tbody tr th {\n",
       "        vertical-align: top;\n",
       "    }\n",
       "\n",
       "    .dataframe thead th {\n",
       "        text-align: right;\n",
       "    }\n",
       "</style>\n",
       "<table border=\"1\" class=\"dataframe\">\n",
       "  <thead>\n",
       "    <tr style=\"text-align: right;\">\n",
       "      <th></th>\n",
       "      <th>scanner</th>\n",
       "      <th>filepath</th>\n",
       "      <th>t</th>\n",
       "      <th>slice</th>\n",
       "      <th>split</th>\n",
       "    </tr>\n",
       "  </thead>\n",
       "  <tbody>\n",
       "    <tr>\n",
       "      <th>0</th>\n",
       "      <td>Siemens</td>\n",
       "      <td>/data/dataset/external/MandMs/nifti/D4M3Q2/D4M...</td>\n",
       "      <td>0</td>\n",
       "      <td>0</td>\n",
       "      <td>base</td>\n",
       "    </tr>\n",
       "    <tr>\n",
       "      <th>1</th>\n",
       "      <td>Siemens</td>\n",
       "      <td>/data/dataset/external/MandMs/nifti/D4M3Q2/D4M...</td>\n",
       "      <td>0</td>\n",
       "      <td>1</td>\n",
       "      <td>base</td>\n",
       "    </tr>\n",
       "    <tr>\n",
       "      <th>2</th>\n",
       "      <td>Siemens</td>\n",
       "      <td>/data/dataset/external/MandMs/nifti/D4M3Q2/D4M...</td>\n",
       "      <td>0</td>\n",
       "      <td>2</td>\n",
       "      <td>base</td>\n",
       "    </tr>\n",
       "    <tr>\n",
       "      <th>3</th>\n",
       "      <td>Siemens</td>\n",
       "      <td>/data/dataset/external/MandMs/nifti/D4M3Q2/D4M...</td>\n",
       "      <td>0</td>\n",
       "      <td>3</td>\n",
       "      <td>base</td>\n",
       "    </tr>\n",
       "    <tr>\n",
       "      <th>4</th>\n",
       "      <td>Siemens</td>\n",
       "      <td>/data/dataset/external/MandMs/nifti/D4M3Q2/D4M...</td>\n",
       "      <td>0</td>\n",
       "      <td>4</td>\n",
       "      <td>base</td>\n",
       "    </tr>\n",
       "    <tr>\n",
       "      <th>...</th>\n",
       "      <td>...</td>\n",
       "      <td>...</td>\n",
       "      <td>...</td>\n",
       "      <td>...</td>\n",
       "      <td>...</td>\n",
       "    </tr>\n",
       "    <tr>\n",
       "      <th>7315</th>\n",
       "      <td>Canon</td>\n",
       "      <td>/data/dataset/external/MandMs/nifti/N7P3T8/N7P...</td>\n",
       "      <td>10</td>\n",
       "      <td>9</td>\n",
       "      <td>test</td>\n",
       "    </tr>\n",
       "    <tr>\n",
       "      <th>7316</th>\n",
       "      <td>Canon</td>\n",
       "      <td>/data/dataset/external/MandMs/nifti/N7P3T8/N7P...</td>\n",
       "      <td>10</td>\n",
       "      <td>10</td>\n",
       "      <td>test</td>\n",
       "    </tr>\n",
       "    <tr>\n",
       "      <th>7317</th>\n",
       "      <td>Canon</td>\n",
       "      <td>/data/dataset/external/MandMs/nifti/N7P3T8/N7P...</td>\n",
       "      <td>10</td>\n",
       "      <td>11</td>\n",
       "      <td>test</td>\n",
       "    </tr>\n",
       "    <tr>\n",
       "      <th>7318</th>\n",
       "      <td>Canon</td>\n",
       "      <td>/data/dataset/external/MandMs/nifti/N7P3T8/N7P...</td>\n",
       "      <td>10</td>\n",
       "      <td>12</td>\n",
       "      <td>test</td>\n",
       "    </tr>\n",
       "    <tr>\n",
       "      <th>7319</th>\n",
       "      <td>Canon</td>\n",
       "      <td>/data/dataset/external/MandMs/nifti/N7P3T8/N7P...</td>\n",
       "      <td>10</td>\n",
       "      <td>13</td>\n",
       "      <td>test</td>\n",
       "    </tr>\n",
       "  </tbody>\n",
       "</table>\n",
       "<p>7320 rows × 5 columns</p>\n",
       "</div>"
      ],
      "text/plain": [
       "      scanner                                           filepath   t  slice  \\\n",
       "0     Siemens  /data/dataset/external/MandMs/nifti/D4M3Q2/D4M...   0      0   \n",
       "1     Siemens  /data/dataset/external/MandMs/nifti/D4M3Q2/D4M...   0      1   \n",
       "2     Siemens  /data/dataset/external/MandMs/nifti/D4M3Q2/D4M...   0      2   \n",
       "3     Siemens  /data/dataset/external/MandMs/nifti/D4M3Q2/D4M...   0      3   \n",
       "4     Siemens  /data/dataset/external/MandMs/nifti/D4M3Q2/D4M...   0      4   \n",
       "...       ...                                                ...  ..    ...   \n",
       "7315    Canon  /data/dataset/external/MandMs/nifti/N7P3T8/N7P...  10      9   \n",
       "7316    Canon  /data/dataset/external/MandMs/nifti/N7P3T8/N7P...  10     10   \n",
       "7317    Canon  /data/dataset/external/MandMs/nifti/N7P3T8/N7P...  10     11   \n",
       "7318    Canon  /data/dataset/external/MandMs/nifti/N7P3T8/N7P...  10     12   \n",
       "7319    Canon  /data/dataset/external/MandMs/nifti/N7P3T8/N7P...  10     13   \n",
       "\n",
       "     split  \n",
       "0     base  \n",
       "1     base  \n",
       "2     base  \n",
       "3     base  \n",
       "4     base  \n",
       "...    ...  \n",
       "7315  test  \n",
       "7316  test  \n",
       "7317  test  \n",
       "7318  test  \n",
       "7319  test  \n",
       "\n",
       "[7320 rows x 5 columns]"
      ]
     },
     "execution_count": 4,
     "metadata": {},
     "output_type": "execute_result"
    }
   ],
   "source": [
    "df = pd.read_csv('/project/catinous/cardiacslicessplit.csv')\n",
    "df"
   ]
  },
  {
   "cell_type": "code",
   "execution_count": 6,
   "metadata": {},
   "outputs": [
    {
     "data": {
      "text/plain": [
       "'/data/dataset/external/MandMs/nifti/D4M3Q2/D4M3Q2_sa.nii.gz'"
      ]
     },
     "execution_count": 6,
     "metadata": {},
     "output_type": "execute_result"
    }
   ],
   "source": [
    "df = pd.read_csv('/project/catinous/cardiacslicessplitsingle.csv')\n",
    "df.iloc[0].filepath"
   ]
  },
  {
   "cell_type": "code",
   "execution_count": 7,
   "metadata": {},
   "outputs": [
    {
     "data": {
      "text/plain": [
       "'/project/catinous/cardiac_data/singleSlices/D4M3Q2_sa/0_0.npy'"
      ]
     },
     "execution_count": 7,
     "metadata": {},
     "output_type": "execute_result"
    }
   ],
   "source": [
    "df.iloc[0].slicepath"
   ]
  },
  {
   "cell_type": "code",
   "execution_count": 2,
   "metadata": {},
   "outputs": [],
   "source": [
    "threshold = 20\n",
    "self.force_element = lambda m : m < threshold\n",
    "check_force_lidc  = lambda m : m > threshold"
   ]
  },
  {
   "cell_type": "code",
   "execution_count": 5,
   "metadata": {},
   "outputs": [
    {
     "data": {
      "text/plain": [
       "True"
      ]
     },
     "execution_count": 5,
     "metadata": {},
     "output_type": "execute_result"
    }
   ],
   "source": [
    "check_force_cardiac(15)"
   ]
  },
  {
   "cell_type": "code",
   "execution_count": 6,
   "metadata": {},
   "outputs": [
    {
     "data": {
      "text/plain": [
       "False"
      ]
     },
     "execution_count": 6,
     "metadata": {},
     "output_type": "execute_result"
    }
   ],
   "source": [
    "check_force_lidc(15)"
   ]
  },
  {
   "cell_type": "code",
   "execution_count": 7,
   "metadata": {},
   "outputs": [],
   "source": [
    "def add(x, y):\n",
    "    return x+y"
   ]
  },
  {
   "cell_type": "code",
   "execution_count": 8,
   "metadata": {},
   "outputs": [
    {
     "data": {
      "text/plain": [
       "7"
      ]
     },
     "execution_count": 8,
     "metadata": {},
     "output_type": "execute_result"
    }
   ],
   "source": [
    "add(4, 3)"
   ]
  },
  {
   "cell_type": "code",
   "execution_count": 9,
   "metadata": {},
   "outputs": [],
   "source": [
    "addanother = add"
   ]
  },
  {
   "cell_type": "code",
   "execution_count": 11,
   "metadata": {},
   "outputs": [
    {
     "data": {
      "text/plain": [
       "8"
      ]
     },
     "execution_count": 11,
     "metadata": {},
     "output_type": "execute_result"
    }
   ],
   "source": [
    "addanother(4, 4)"
   ]
  },
  {
   "cell_type": "code",
   "execution_count": null,
   "metadata": {},
   "outputs": [],
   "source": []
  }
 ],
 "metadata": {
  "kernelspec": {
   "display_name": "Python 3",
   "language": "python",
   "name": "python3"
  },
  "language_info": {
   "codemirror_mode": {
    "name": "ipython",
    "version": 3
   },
   "file_extension": ".py",
   "mimetype": "text/x-python",
   "name": "python",
   "nbconvert_exporter": "python",
   "pygments_lexer": "ipython3",
   "version": "3.6.9"
  }
 },
 "nbformat": 4,
 "nbformat_minor": 4
}
