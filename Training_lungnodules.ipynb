{
 "cells": [
  {
   "cell_type": "code",
   "execution_count": 1,
   "metadata": {},
   "outputs": [],
   "source": [
    "from catinous.dataset import BatchDataset, ContinuousDataset\n",
    "from catinous.dynamicmemory.DynamicMemoryModel import DynamicMemoryModel \n",
    "import catinous.dynamicmemory.DynamicMemoryModel as dmodel\n",
    "import catinous.utils as cutils\n",
    "import os\n",
    "import pandas as pd\n",
    "from py_jotools import mut, slurm\n",
    "import matplotlib.pyplot as plt\n",
    "import matplotlib.patches as patches\n",
    "import numpy as np\n",
    "#import seaborn as sns\n",
    "from matplotlib.colors import ListedColormap, LinearSegmentedColormap\n",
    "import torchvision.models as models\n",
    "from torchvision.models.detection.faster_rcnn import FastRCNNPredictor"
   ]
  },
  {
   "cell_type": "code",
   "execution_count": 2,
   "metadata": {},
   "outputs": [
    {
     "name": "stdout",
     "output_type": "stream",
     "text": [
      "lidc_batch08554\n",
      "sshpass -f ~/.ssh/pass ssh cn1.cir.meduniwien.ac.at sbatch --export=NONE --partition centos7 /scratch/lidc_batch08554.job\n",
      "Submitted batch job 3215875\n",
      "\n"
     ]
    }
   ],
   "source": [
    "schedule = True\n",
    "\n",
    "sparams = {\n",
    "    'binary': '/home/cir/mperkonigg/env/catinous/bin/python',\n",
    "    'cwd': '/home/cir/mperkonigg/catinous/catinous',\n",
    "    'gpu': 1,\n",
    "    'partition': 'centos7',\n",
    "    'memory': 100000,\n",
    "    'jobname': 'lidc_batch',\n",
    "    'outputpath': '/home/cir/mperkonigg/slurmoutput/',\n",
    "    'mailuser': 'matthias.perkonigg@meduniwien.ac.at',\n",
    "    'minutes': '240'}\n",
    "\n",
    "\n",
    "hparams = {\n",
    "    'continuous': False,\n",
    "    'datasetfile': '/project/catinous/lungnodulesfinalpatientsplit.csv',\n",
    "    'batch_size': 8,\n",
    "    'training_batch_size': 8,\n",
    "    'task': 'lidc',\n",
    "    'model': 'rnn',\n",
    "    'scanner': 'ges',\n",
    "    'val_check_interval': 50,\n",
    "     'noncontinuous_steps': 1000,\n",
    "    'noncontinuous_train_splits': ['base'],\n",
    "    'order': ['ges', 'geb', 'sie', 'time_siemens'],\n",
    "    'use_memory': False\n",
    "}\n",
    "\n",
    "if schedule:\n",
    "    slurm.srun(dmodel.trained_model, [hparams], params=sparams, remote=True)\n",
    "else:\n",
    "    model, logs, df_cache, basemodel_lr = dmodel.trained_model(hparams)"
   ]
  },
  {
   "cell_type": "code",
   "execution_count": null,
   "metadata": {},
   "outputs": [
    {
     "name": "stderr",
     "output_type": "stream",
     "text": [
      "GPU available: True, used: True\n",
      "TPU available: False, using: 0 TPU cores\n",
      "LOCAL_RANK: 0 - CUDA_VISIBLE_DEVICES: [0]\n"
     ]
    },
    {
     "name": "stdout",
     "output_type": "stream",
     "text": [
      "lidc_batch_lungnodulesfinalpatientsplit_base-train_1_728a91ffb9\n"
     ]
    },
    {
     "name": "stderr",
     "output_type": "stream",
     "text": [
      "\n",
      "  | Name  | Type       | Params\n",
      "-------------------------------------\n",
      "0 | model | FasterRCNN | 41.3 M\n"
     ]
    },
    {
     "name": "stdout",
     "output_type": "stream",
     "text": [
      "Validation sanity check: 0it [00:00, ?it/s]"
     ]
    },
    {
     "name": "stderr",
     "output_type": "stream",
     "text": [
      "/home/mperkonigg/venv_test/venv/local/lib/python3.6/site-packages/pytorch_lightning/utilities/distributed.py:45: UserWarning: The dataloader, val dataloader 0, does not have many workers which may be a bottleneck. Consider increasing the value of the `num_workers` argument` (try 8 which is the number of cpus on this machine) in the `DataLoader` init to improve performance.\n",
      "  warnings.warn(*args, **kwargs)\n"
     ]
    },
    {
     "name": "stdout",
     "output_type": "stream",
     "text": [
      "Validation sanity check:  50%|█████     | 1/2 [00:00<00:00,  1.99it/s]"
     ]
    },
    {
     "name": "stderr",
     "output_type": "stream",
     "text": [
      "/home/mperkonigg/venv_test/venv/local/lib/python3.6/site-packages/torchvision/ops/boxes.py:101: UserWarning: This overload of nonzero is deprecated:\n",
      "\tnonzero()\n",
      "Consider using one of the following signatures instead:\n",
      "\tnonzero(*, bool as_tuple) (Triggered internally at  /pytorch/torch/csrc/utils/python_arg_parser.cpp:766.)\n",
      "  keep = keep.nonzero().squeeze(1)\n"
     ]
    },
    {
     "name": "stdout",
     "output_type": "stream",
     "text": [
      "Epoch 0:   0%|          | 0/1580 [00:00<?, ?it/s]                     torch.Size([3, 288, 288]) {'boxes': tensor([[ 99., 259., 113., 273.]], device='cuda:0'), 'labels': tensor([2], device='cuda:0'), 'image_id': tensor([0], device='cuda:0'), 'area': tensor([196.], device='cuda:0', dtype=torch.float64), 'iscrowd': tensor([0], device='cuda:0')}\n",
      "Epoch 0:   0%|          | 1/1580 [00:02<1:13:05,  2.78s/it, loss=1.433, v_num=13]torch.Size([3, 288, 288]) {'boxes': tensor([[225.1275, 267.8867, 233.1275, 275.8867],\n",
      "        [147.7816, 227.2701, 161.7816, 241.2701]], device='cuda:0'), 'labels': tensor([2, 2], device='cuda:0'), 'image_id': tensor([8, 8], device='cuda:0'), 'area': tensor([ 64., 196.], device='cuda:0', dtype=torch.float64), 'iscrowd': tensor([0, 0], device='cuda:0')}\n",
      "Epoch 0:   0%|          | 2/1580 [00:03<47:23,  1.80s/it, loss=1.038, v_num=13]  torch.Size([3, 288, 288]) {'boxes': tensor([[125.4840, 151.0051, 139.4840, 165.0051],\n",
      "        [237.4840, 263.0052, 251.4840, 277.0052]], device='cuda:0'), 'labels': tensor([2, 2], device='cuda:0'), 'image_id': tensor([16, 16], device='cuda:0'), 'area': tensor([196., 196.], device='cuda:0', dtype=torch.float64), 'iscrowd': tensor([0, 0], device='cuda:0')}\n",
      "Epoch 0:   0%|          | 3/1580 [00:04<38:44,  1.47s/it, loss=0.787, v_num=13]torch.Size([3, 288, 288]) {'boxes': tensor([[ 43.1838,  60.0128,  49.1838,  66.0128],\n",
      "        [155.1838, 172.0128, 161.1838, 178.0128]], device='cuda:0'), 'labels': tensor([2, 2], device='cuda:0'), 'image_id': tensor([24, 24], device='cuda:0'), 'area': tensor([36., 36.], device='cuda:0', dtype=torch.float64), 'iscrowd': tensor([0, 0], device='cuda:0')}\n",
      "Epoch 0:   0%|          | 4/1580 [00:05<34:23,  1.31s/it, loss=0.690, v_num=13]torch.Size([3, 288, 288]) {'boxes': tensor([[-125.0472,   92.1811,   13.9528,  231.1811]], device='cuda:0'), 'labels': tensor([2], device='cuda:0'), 'image_id': tensor([32], device='cuda:0'), 'area': tensor([19321.], device='cuda:0', dtype=torch.float64), 'iscrowd': tensor([0], device='cuda:0')}\n",
      "Epoch 0:   0%|          | 5/1580 [00:06<31:49,  1.21s/it, loss=0.597, v_num=13]torch.Size([3, 288, 288]) {'boxes': tensor([[288.5964, 257.8633, 301.5964, 270.8633]], device='cuda:0'), 'labels': tensor([2], device='cuda:0'), 'image_id': tensor([40], device='cuda:0'), 'area': tensor([169.], device='cuda:0', dtype=torch.float64), 'iscrowd': tensor([0], device='cuda:0')}\n",
      "Epoch 0:   0%|          | 6/1580 [00:06<30:12,  1.15s/it, loss=0.531, v_num=13]torch.Size([3, 288, 288]) {'boxes': tensor([[330., 185., 338., 193.]], device='cuda:0'), 'labels': tensor([1], device='cuda:0'), 'image_id': tensor([48], device='cuda:0'), 'area': tensor([64.], device='cuda:0', dtype=torch.float64), 'iscrowd': tensor([0], device='cuda:0')}\n",
      "Epoch 0:   0%|          | 7/1580 [00:07<28:56,  1.10s/it, loss=0.488, v_num=13]torch.Size([3, 288, 288]) {'boxes': tensor([[206., 116., 213., 123.]], device='cuda:0'), 'labels': tensor([2], device='cuda:0'), 'image_id': tensor([56], device='cuda:0'), 'area': tensor([49.], device='cuda:0', dtype=torch.float64), 'iscrowd': tensor([0], device='cuda:0')}\n",
      "Epoch 0:   1%|          | 8/1580 [00:08<28:11,  1.08s/it, loss=0.450, v_num=13]torch.Size([3, 288, 288]) {'boxes': tensor([[319., 133., 325., 139.]], device='cuda:0'), 'labels': tensor([1], device='cuda:0'), 'image_id': tensor([64], device='cuda:0'), 'area': tensor([36.], device='cuda:0', dtype=torch.float64), 'iscrowd': tensor([0], device='cuda:0')}\n",
      "Epoch 0:   1%|          | 9/1580 [00:09<27:45,  1.06s/it, loss=0.424, v_num=13]torch.Size([3, 288, 288]) {'boxes': tensor([[264.6576, 264.4165, 277.6576, 277.4165],\n",
      "        [ 77.6390, 153.7673,  90.6390, 166.7673],\n",
      "        [130.0155, 152.3844, 143.0155, 165.3844],\n",
      "        [115.3447, 173.1421, 126.3447, 184.1421],\n",
      "        [172.4614, 195.6326, 182.4614, 205.6326]], device='cuda:0'), 'labels': tensor([2, 2, 2, 2, 2], device='cuda:0'), 'image_id': tensor([72, 72, 72, 72, 72], device='cuda:0'), 'area': tensor([169.0000, 169.0000, 169.0000, 121.0000, 100.0000], device='cuda:0',\n",
      "       dtype=torch.float64), 'iscrowd': tensor([0, 0, 0, 0, 0], device='cuda:0')}\n",
      "Epoch 0:   1%|          | 10/1580 [00:10<27:08,  1.04s/it, loss=0.403, v_num=13]torch.Size([3, 288, 288]) {'boxes': tensor([[323., 225., 330., 232.]], device='cuda:0'), 'labels': tensor([1], device='cuda:0'), 'image_id': tensor([80], device='cuda:0'), 'area': tensor([49.], device='cuda:0', dtype=torch.float64), 'iscrowd': tensor([0], device='cuda:0')}\n",
      "Epoch 0:   1%|          | 11/1580 [00:11<26:35,  1.02s/it, loss=0.387, v_num=13]torch.Size([3, 288, 288]) {'boxes': tensor([[-35.1102, 148.3400, -21.1102, 162.3400],\n",
      "        [ 76.8898, 260.3400,  90.8898, 274.3400]], device='cuda:0'), 'labels': tensor([2, 2], device='cuda:0'), 'image_id': tensor([88, 88], device='cuda:0'), 'area': tensor([196., 196.], device='cuda:0', dtype=torch.float64), 'iscrowd': tensor([0, 0], device='cuda:0')}\n",
      "Epoch 0:   1%|          | 12/1580 [00:12<26:08,  1.00s/it, loss=0.375, v_num=13]torch.Size([3, 288, 288]) {'boxes': tensor([[  5.,  94.,  13., 102.]], device='cuda:0'), 'labels': tensor([1], device='cuda:0'), 'image_id': tensor([96], device='cuda:0'), 'area': tensor([64.], device='cuda:0', dtype=torch.float64), 'iscrowd': tensor([0], device='cuda:0')}\n",
      "Epoch 0:   1%|          | 13/1580 [00:12<25:45,  1.01it/s, loss=0.362, v_num=13]torch.Size([3, 288, 288]) {'boxes': tensor([[-59., 162., -51., 170.]], device='cuda:0'), 'labels': tensor([2], device='cuda:0'), 'image_id': tensor([104], device='cuda:0'), 'area': tensor([64.], device='cuda:0', dtype=torch.float64), 'iscrowd': tensor([0], device='cuda:0')}\n",
      "Epoch 0:   1%|          | 14/1580 [00:13<25:26,  1.03it/s, loss=0.356, v_num=13]torch.Size([3, 288, 288]) {'boxes': tensor([[243., 152., 252., 161.]], device='cuda:0'), 'labels': tensor([2], device='cuda:0'), 'image_id': tensor([112], device='cuda:0'), 'area': tensor([81.], device='cuda:0', dtype=torch.float64), 'iscrowd': tensor([0], device='cuda:0')}\n",
      "Epoch 0:   1%|          | 15/1580 [00:14<25:08,  1.04it/s, loss=0.346, v_num=13]torch.Size([3, 288, 288]) {'boxes': tensor([[-14.,  81.,  -9.,  86.]], device='cuda:0'), 'labels': tensor([1], device='cuda:0'), 'image_id': tensor([120], device='cuda:0'), 'area': tensor([25.], device='cuda:0', dtype=torch.float64), 'iscrowd': tensor([0], device='cuda:0')}\n",
      "Epoch 0:   1%|          | 16/1580 [00:15<24:57,  1.04it/s, loss=0.333, v_num=13]torch.Size([3, 288, 288]) {'boxes': tensor([[389., 164., 398., 173.]], device='cuda:0'), 'labels': tensor([1], device='cuda:0'), 'image_id': tensor([128], device='cuda:0'), 'area': tensor([81.], device='cuda:0', dtype=torch.float64), 'iscrowd': tensor([0], device='cuda:0')}\n",
      "Epoch 0:   1%|          | 17/1580 [00:16<24:47,  1.05it/s, loss=0.323, v_num=13]torch.Size([3, 288, 288]) {'boxes': tensor([[241., 228., 252., 239.]], device='cuda:0'), 'labels': tensor([2], device='cuda:0'), 'image_id': tensor([136], device='cuda:0'), 'area': tensor([121.], device='cuda:0', dtype=torch.float64), 'iscrowd': tensor([0], device='cuda:0')}\n",
      "Epoch 0:   1%|          | 18/1580 [00:16<24:34,  1.06it/s, loss=0.312, v_num=13]torch.Size([3, 288, 288]) {'boxes': tensor([[-35.3262, 135.9608, -18.3262, 152.9608],\n",
      "        [ 49.1627, 268.7306,  62.1627, 281.7306],\n",
      "        [ 76.6738, 247.9608,  93.6738, 264.9608],\n",
      "        [240.1242, 283.9964, 254.1242, 297.9964],\n",
      "        [ 78.4225, 198.1597,  95.4225, 215.1597]], device='cuda:0'), 'labels': tensor([2, 2, 2, 2, 2], device='cuda:0'), 'image_id': tensor([144, 144, 144, 144, 144], device='cuda:0'), 'area': tensor([289.0000, 169.0000, 289.0000, 196.0000, 289.0000], device='cuda:0',\n",
      "       dtype=torch.float64), 'iscrowd': tensor([0, 0, 0, 0, 0], device='cuda:0')}\n",
      "Epoch 0:   1%|          | 19/1580 [00:17<24:25,  1.07it/s, loss=0.306, v_num=13]torch.Size([3, 288, 288]) {'boxes': tensor([[290., 145., 298., 153.]], device='cuda:0'), 'labels': tensor([2], device='cuda:0'), 'image_id': tensor([152], device='cuda:0'), 'area': tensor([64.], device='cuda:0', dtype=torch.float64), 'iscrowd': tensor([0], device='cuda:0')}\n",
      "Epoch 0:   1%|▏         | 20/1580 [00:18<24:17,  1.07it/s, loss=0.301, v_num=13]torch.Size([3, 288, 288]) {'boxes': tensor([[ 69.9487, 241.3333,  78.9487, 250.3333]], device='cuda:0'), 'labels': tensor([2], device='cuda:0'), 'image_id': tensor([160], device='cuda:0'), 'area': tensor([81.], device='cuda:0', dtype=torch.float64), 'iscrowd': tensor([0], device='cuda:0')}\n",
      "Epoch 0:   1%|▏         | 21/1580 [00:19<24:08,  1.08it/s, loss=0.238, v_num=13]torch.Size([3, 288, 288]) {'boxes': tensor([[ 50., 186.,  58., 194.]], device='cuda:0'), 'labels': tensor([1], device='cuda:0'), 'image_id': tensor([168], device='cuda:0'), 'area': tensor([64.], device='cuda:0', dtype=torch.float64), 'iscrowd': tensor([0], device='cuda:0')}\n",
      "Epoch 0:   1%|▏         | 22/1580 [00:20<23:59,  1.08it/s, loss=0.214, v_num=13]torch.Size([3, 288, 288]) {'boxes': tensor([[ -8., 253.,  -3., 258.]], device='cuda:0'), 'labels': tensor([2], device='cuda:0'), 'image_id': tensor([176], device='cuda:0'), 'area': tensor([25.], device='cuda:0', dtype=torch.float64), 'iscrowd': tensor([0], device='cuda:0')}\n",
      "Epoch 0:   1%|▏         | 23/1580 [00:21<23:54,  1.09it/s, loss=0.206, v_num=13]torch.Size([3, 288, 288]) {'boxes': tensor([[337.6467, 102.2984, 353.6467, 118.2984],\n",
      "        [156.1925, 152.1820, 171.1925, 167.1820]], device='cuda:0'), 'labels': tensor([2, 2], device='cuda:0'), 'image_id': tensor([184, 184], device='cuda:0'), 'area': tensor([256., 225.], device='cuda:0', dtype=torch.float64), 'iscrowd': tensor([0, 0], device='cuda:0')}\n",
      "Epoch 0:   2%|▏         | 24/1580 [00:22<23:48,  1.09it/s, loss=0.194, v_num=13]torch.Size([3, 288, 288]) {'boxes': tensor([[250., 176., 260., 186.]], device='cuda:0'), 'labels': tensor([2], device='cuda:0'), 'image_id': tensor([192], device='cuda:0'), 'area': tensor([100.], device='cuda:0', dtype=torch.float64), 'iscrowd': tensor([0], device='cuda:0')}\n",
      "Epoch 0:   2%|▏         | 25/1580 [00:22<23:42,  1.09it/s, loss=0.191, v_num=13]torch.Size([3, 288, 288]) {'boxes': tensor([[ 77., 203., 105., 231.]], device='cuda:0'), 'labels': tensor([2], device='cuda:0'), 'image_id': tensor([200], device='cuda:0'), 'area': tensor([784.], device='cuda:0', dtype=torch.float64), 'iscrowd': tensor([0], device='cuda:0')}\n",
      "Epoch 0:   2%|▏         | 26/1580 [00:23<23:36,  1.10it/s, loss=0.186, v_num=13]torch.Size([3, 288, 288]) {'boxes': tensor([[260.1629, 222.2603, 269.1629, 231.2603]], device='cuda:0'), 'labels': tensor([2], device='cuda:0'), 'image_id': tensor([208], device='cuda:0'), 'area': tensor([81.], device='cuda:0', dtype=torch.float64), 'iscrowd': tensor([0], device='cuda:0')}\n",
      "Epoch 0:   2%|▏         | 27/1580 [00:24<23:29,  1.10it/s, loss=0.181, v_num=13]torch.Size([3, 288, 288]) {'boxes': tensor([[12., 46., 22., 56.]], device='cuda:0'), 'labels': tensor([2], device='cuda:0'), 'image_id': tensor([216], device='cuda:0'), 'area': tensor([100.], device='cuda:0', dtype=torch.float64), 'iscrowd': tensor([0], device='cuda:0')}\n",
      "Epoch 0:   2%|▏         | 28/1580 [00:25<23:25,  1.10it/s, loss=0.183, v_num=13]torch.Size([3, 288, 288]) {'boxes': tensor([[ 81., 226.,  88., 233.]], device='cuda:0'), 'labels': tensor([1], device='cuda:0'), 'image_id': tensor([224], device='cuda:0'), 'area': tensor([49.], device='cuda:0', dtype=torch.float64), 'iscrowd': tensor([0], device='cuda:0')}\n",
      "Epoch 0:   2%|▏         | 29/1580 [00:26<23:21,  1.11it/s, loss=0.182, v_num=13]torch.Size([3, 288, 288]) {'boxes': tensor([[329., 267., 337., 275.]], device='cuda:0'), 'labels': tensor([2], device='cuda:0'), 'image_id': tensor([232], device='cuda:0'), 'area': tensor([64.], device='cuda:0', dtype=torch.float64), 'iscrowd': tensor([0], device='cuda:0')}\n",
      "Epoch 0:   2%|▏         | 30/1580 [00:27<23:26,  1.10it/s, loss=0.181, v_num=13]torch.Size([3, 288, 288]) {'boxes': tensor([[190., 259., 204., 273.]], device='cuda:0'), 'labels': tensor([2], device='cuda:0'), 'image_id': tensor([240], device='cuda:0'), 'area': tensor([196.], device='cuda:0', dtype=torch.float64), 'iscrowd': tensor([0], device='cuda:0')}\n",
      "Epoch 0:   2%|▏         | 31/1580 [00:28<23:22,  1.10it/s, loss=0.176, v_num=13]torch.Size([3, 288, 288]) {'boxes': tensor([[ 35.4590, 293.4385,  55.4590, 313.4385],\n",
      "        [ 19.3098, 263.9688,  32.3098, 276.9688]], device='cuda:0'), 'labels': tensor([2, 2], device='cuda:0'), 'image_id': tensor([248, 248], device='cuda:0'), 'area': tensor([400., 169.], device='cuda:0', dtype=torch.float64), 'iscrowd': tensor([0, 0], device='cuda:0')}\n",
      "Epoch 0:   2%|▏         | 32/1580 [00:28<23:18,  1.11it/s, loss=0.174, v_num=13]torch.Size([3, 288, 288]) {'boxes': tensor([[ 43.1105,  63.3666,  53.1105,  73.3666],\n",
      "        [155.1105, 175.3666, 165.1105, 185.3666]], device='cuda:0'), 'labels': tensor([2, 2], device='cuda:0'), 'image_id': tensor([256, 256], device='cuda:0'), 'area': tensor([100., 100.], device='cuda:0', dtype=torch.float64), 'iscrowd': tensor([0, 0], device='cuda:0')}\n",
      "Epoch 0:   2%|▏         | 33/1580 [00:29<23:14,  1.11it/s, loss=0.173, v_num=13]torch.Size([3, 288, 288]) {'boxes': tensor([[175., 262., 181., 268.]], device='cuda:0'), 'labels': tensor([1], device='cuda:0'), 'image_id': tensor([264], device='cuda:0'), 'area': tensor([36.], device='cuda:0', dtype=torch.float64), 'iscrowd': tensor([0], device='cuda:0')}\n",
      "Epoch 0:   2%|▏         | 34/1580 [00:30<23:10,  1.11it/s, loss=0.168, v_num=13]torch.Size([3, 288, 288]) {'boxes': tensor([[ 90., 215.,  99., 224.]], device='cuda:0'), 'labels': tensor([1], device='cuda:0'), 'image_id': tensor([272], device='cuda:0'), 'area': tensor([81.], device='cuda:0', dtype=torch.float64), 'iscrowd': tensor([0], device='cuda:0')}\n",
      "Epoch 0:   2%|▏         | 35/1580 [00:31<23:06,  1.11it/s, loss=0.169, v_num=13]torch.Size([3, 288, 288]) {'boxes': tensor([[-33.6976, 162.1304, -27.6976, 168.1304],\n",
      "        [ 78.3024, 274.1304,  84.3024, 280.1304]], device='cuda:0'), 'labels': tensor([2, 2], device='cuda:0'), 'image_id': tensor([280, 280], device='cuda:0'), 'area': tensor([36., 36.], device='cuda:0', dtype=torch.float64), 'iscrowd': tensor([0, 0], device='cuda:0')}\n",
      "Epoch 0:   2%|▏         | 36/1580 [00:32<23:02,  1.12it/s, loss=0.174, v_num=13]torch.Size([3, 288, 288]) {'boxes': tensor([[177., 199., 185., 207.]], device='cuda:0'), 'labels': tensor([1], device='cuda:0'), 'image_id': tensor([288], device='cuda:0'), 'area': tensor([64.], device='cuda:0', dtype=torch.float64), 'iscrowd': tensor([0], device='cuda:0')}\n",
      "Epoch 0:   2%|▏         | 37/1580 [00:33<22:59,  1.12it/s, loss=0.173, v_num=13]torch.Size([3, 288, 288]) {'boxes': tensor([[59., 74., 66., 81.]], device='cuda:0'), 'labels': tensor([1], device='cuda:0'), 'image_id': tensor([296], device='cuda:0'), 'area': tensor([49.], device='cuda:0', dtype=torch.float64), 'iscrowd': tensor([0], device='cuda:0')}\n",
      "Epoch 0:   2%|▏         | 38/1580 [00:33<22:55,  1.12it/s, loss=0.174, v_num=13]torch.Size([3, 288, 288]) {'boxes': tensor([[239., 248., 244., 253.]], device='cuda:0'), 'labels': tensor([2], device='cuda:0'), 'image_id': tensor([304], device='cuda:0'), 'area': tensor([25.], device='cuda:0', dtype=torch.float64), 'iscrowd': tensor([0], device='cuda:0')}\n",
      "Epoch 0:   2%|▏         | 38/1580 [00:34<23:16,  1.10it/s, loss=0.174, v_num=13]"
     ]
    },
    {
     "name": "stderr",
     "output_type": "stream",
     "text": [
      "Process Process-10:\n",
      "Process Process-8:\n",
      "Process Process-6:\n",
      "Process Process-5:\n",
      "Process Process-7:\n",
      "Process Process-9:\n",
      "Traceback (most recent call last):\n",
      "Traceback (most recent call last):\n",
      "Traceback (most recent call last):\n"
     ]
    }
   ],
   "source": [
    "schedule = False\n",
    "\n",
    "sparams = {\n",
    "    'binary': '/home/cir/mperkonigg/env/catinous/bin/python',\n",
    "    'cwd': '/home/cir/mperkonigg/catinous/catinous',\n",
    "    'gpu': 1,\n",
    "    'partition': 'centos7',\n",
    "    'memory': 100000,\n",
    "    'jobname': 'lidc_batch',\n",
    "    'outputpath': '/home/cir/mperkonigg/slurmoutput/',\n",
    "    'mailuser': 'matthias.perkonigg@meduniwien.ac.at',\n",
    "    'minutes': '240'}\n",
    "\n",
    "\n",
    "hparams = {\n",
    "    'continuous': False,\n",
    "    'datasetfile': '/project/catinous/lungnodulesfinalpatientsplit.csv',\n",
    "    'batch_size': 8,\n",
    "    'training_batch_size': 8,\n",
    "    'task': 'lidc',\n",
    "    'model': 'rnn',\n",
    "    'scanner': None,\n",
    "     'noncontinuous_steps': 1000,\n",
    "    'noncontinuous_train_splits': ['base', 'train'],\n",
    "    'order': ['ges', 'geb', 'sie', 'time_siemens'],\n",
    "    'use_memory': False,\n",
    "    'val_check_interval': 50\n",
    "}\n",
    "\n",
    "if schedule:\n",
    "    slurm.srun(dmodel.trained_model, [hparams], params=sparams, remote=True)\n",
    "else:\n",
    "    model, logs, df_cache, basemodel_lr = dmodel.trained_model(hparams)"
   ]
  },
  {
   "cell_type": "code",
   "execution_count": 4,
   "metadata": {},
   "outputs": [
    {
     "name": "stdout",
     "output_type": "stream",
     "text": [
      "lidc_batch60825\n",
      "sshpass -f ~/.ssh/pass ssh cn1.cir.meduniwien.ac.at sbatch --export=NONE --partition centos7 /scratch/lidc_batch60825.job\n",
      "Submitted batch job 3209849\n",
      "\n"
     ]
    }
   ],
   "source": [
    "schedule = True\n",
    "\n",
    "sparams = {\n",
    "    'binary': '/home/cir/mperkonigg/env/catinous/bin/python',\n",
    "    'cwd': '/home/cir/mperkonigg/catinous/catinous',\n",
    "    'gpu': 1,\n",
    "    'partition': 'centos7',\n",
    "    'memory': 100000,\n",
    "    'jobname': 'lidc_batch',\n",
    "    'outputpath': '/home/cir/mperkonigg/slurmoutput/',\n",
    "    'mailuser': 'matthias.perkonigg@meduniwien.ac.at',\n",
    "    'minutes': '240'}\n",
    "\n",
    "\n",
    "hparams = {\n",
    "    'continuous': False,\n",
    "    'datasetfile': '/project/catinous/lungnodulesfinalpatientsplit.csv',\n",
    "    'batch_size': 8,\n",
    "    'training_batch_size': 8,\n",
    "    'task': 'lidc',\n",
    "    'model': 'rnn',\n",
    "    'scanner': None,\n",
    "     'noncontinuous_steps': 1000,\n",
    "    'scanner': 'ges', \n",
    "    'noncontinuous_train_splits': ['base', 'train'],\n",
    "    'order': ['ges', 'geb', 'sie', 'time_siemens'],\n",
    "    'use_memory': False,\n",
    "        'val_check_interval': 50\n",
    "\n",
    "}\n",
    "\n",
    "if schedule:\n",
    "    slurm.srun(dmodel.trained_model, [hparams], params=sparams, remote=True)\n",
    "else:\n",
    "    model, logs, df_cache, basemodel_lr = dmodel.trained_model(hparams)"
   ]
  },
  {
   "cell_type": "code",
   "execution_count": 5,
   "metadata": {},
   "outputs": [
    {
     "name": "stdout",
     "output_type": "stream",
     "text": [
      "lidc_batch86498\n",
      "sshpass -f ~/.ssh/pass ssh cn1.cir.meduniwien.ac.at sbatch --export=NONE --partition centos7 /scratch/lidc_batch86498.job\n",
      "Submitted batch job 3209850\n",
      "\n"
     ]
    }
   ],
   "source": [
    "schedule = True\n",
    "\n",
    "sparams = {\n",
    "    'binary': '/home/cir/mperkonigg/env/catinous/bin/python',\n",
    "    'cwd': '/home/cir/mperkonigg/catinous/catinous',\n",
    "    'gpu': 1,\n",
    "    'partition': 'centos7',\n",
    "    'memory': 100000,\n",
    "    'jobname': 'lidc_batch',\n",
    "    'outputpath': '/home/cir/mperkonigg/slurmoutput/',\n",
    "    'mailuser': 'matthias.perkonigg@meduniwien.ac.at',\n",
    "    'minutes': '240'}\n",
    "\n",
    "\n",
    "hparams = {\n",
    "    'continuous': False,\n",
    "    'datasetfile': '/project/catinous/lungnodulesfinalpatientsplit.csv',\n",
    "    'batch_size': 8,\n",
    "    'training_batch_size': 8,\n",
    "    'task': 'lidc',\n",
    "    'model': 'rnn',\n",
    "    'scanner': None,\n",
    "     'noncontinuous_steps': 1000,\n",
    "    'scanner': 'geb', \n",
    "    'noncontinuous_train_splits': ['base', 'train'],\n",
    "    'order': ['ges', 'geb', 'sie', 'time_siemens'],\n",
    "    'use_memory': False,\n",
    "        'val_check_interval': 50\n",
    "\n",
    "}\n",
    "\n",
    "if schedule:\n",
    "    slurm.srun(dmodel.trained_model, [hparams], params=sparams, remote=True)\n",
    "else:\n",
    "    model, logs, df_cache, basemodel_lr = dmodel.trained_model(hparams)"
   ]
  },
  {
   "cell_type": "code",
   "execution_count": 6,
   "metadata": {},
   "outputs": [
    {
     "name": "stdout",
     "output_type": "stream",
     "text": [
      "lidc_batch06552\n",
      "sshpass -f ~/.ssh/pass ssh cn1.cir.meduniwien.ac.at sbatch --export=NONE --partition centos7 /scratch/lidc_batch06552.job\n",
      "Submitted batch job 3209851\n",
      "\n"
     ]
    }
   ],
   "source": [
    "schedule = True\n",
    "\n",
    "sparams = {\n",
    "    'binary': '/home/cir/mperkonigg/env/catinous/bin/python',\n",
    "    'cwd': '/home/cir/mperkonigg/catinous/catinous',\n",
    "    'gpu': 1,\n",
    "    'partition': 'centos7',\n",
    "    'memory': 100000,\n",
    "    'jobname': 'lidc_batch',\n",
    "    'outputpath': '/home/cir/mperkonigg/slurmoutput/',\n",
    "    'mailuser': 'matthias.perkonigg@meduniwien.ac.at',\n",
    "    'minutes': '240'}\n",
    "\n",
    "\n",
    "hparams = {\n",
    "    'continuous': False,\n",
    "    'datasetfile': '/project/catinous/lungnodulesfinalpatientsplit.csv',\n",
    "    'batch_size': 8,\n",
    "    'training_batch_size': 8,\n",
    "    'task': 'lidc',\n",
    "    'model': 'rnn',\n",
    "    'scanner': None,\n",
    "     'noncontinuous_steps': 1000,\n",
    "    'scanner': 'sie', \n",
    "    'noncontinuous_train_splits': ['base', 'train'],\n",
    "    'order': ['ges', 'geb', 'sie', 'time_siemens'],\n",
    "    'use_memory': False,\n",
    "        'val_check_interval': 50\n",
    "\n",
    "}\n",
    "\n",
    "if schedule:\n",
    "    slurm.srun(dmodel.trained_model, [hparams], params=sparams, remote=True)\n",
    "else:\n",
    "    model, logs, df_cache, basemodel_lr = dmodel.trained_model(hparams)"
   ]
  },
  {
   "cell_type": "code",
   "execution_count": 7,
   "metadata": {},
   "outputs": [
    {
     "name": "stdout",
     "output_type": "stream",
     "text": [
      "lidc_batch65834\n",
      "sshpass -f ~/.ssh/pass ssh cn1.cir.meduniwien.ac.at sbatch --export=NONE --partition centos7 /scratch/lidc_batch65834.job\n",
      "Submitted batch job 3209852\n",
      "\n"
     ]
    }
   ],
   "source": [
    "schedule = True\n",
    "\n",
    "sparams = {\n",
    "    'binary': '/home/cir/mperkonigg/env/catinous/bin/python',\n",
    "    'cwd': '/home/cir/mperkonigg/catinous/catinous',\n",
    "    'gpu': 1,\n",
    "    'partition': 'centos7',\n",
    "    'memory': 100000,\n",
    "    'jobname': 'lidc_batch',\n",
    "    'outputpath': '/home/cir/mperkonigg/slurmoutput/',\n",
    "    'mailuser': 'matthias.perkonigg@meduniwien.ac.at',\n",
    "    'minutes': '240'}\n",
    "\n",
    "\n",
    "hparams = {\n",
    "    'continuous': False,\n",
    "    'datasetfile': '/project/catinous/lungnodulesfinalpatientsplit.csv',\n",
    "    'batch_size': 8,\n",
    "    'training_batch_size': 8,\n",
    "    'task': 'lidc',\n",
    "    'model': 'rnn',\n",
    "    'scanner': None,\n",
    "     'noncontinuous_steps': 1000,\n",
    "    'scanner': 'time_siemens', \n",
    "    'noncontinuous_train_splits': ['base', 'train'],\n",
    "    'order': ['ges', 'geb', 'sie', 'time_siemens'],\n",
    "    'use_memory': False,\n",
    "        'val_check_interval': 50\n",
    "\n",
    "}\n",
    "\n",
    "if schedule:\n",
    "    slurm.srun(dmodel.trained_model, [hparams], params=sparams, remote=True)\n",
    "else:\n",
    "    model, logs, df_cache, basemodel_lr = dmodel.trained_model(hparams)"
   ]
  },
  {
   "cell_type": "code",
   "execution_count": null,
   "metadata": {},
   "outputs": [],
   "source": []
  }
 ],
 "metadata": {
  "kernelspec": {
   "display_name": "venv_test",
   "language": "python",
   "name": "venv_test"
  },
  "language_info": {
   "codemirror_mode": {
    "name": "ipython",
    "version": 3
   },
   "file_extension": ".py",
   "mimetype": "text/x-python",
   "name": "python",
   "nbconvert_exporter": "python",
   "pygments_lexer": "ipython3",
   "version": "3.6.9"
  }
 },
 "nbformat": 4,
 "nbformat_minor": 4
}
