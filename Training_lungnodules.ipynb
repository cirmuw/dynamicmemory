{
 "cells": [
  {
   "cell_type": "code",
   "execution_count": 1,
   "metadata": {},
   "outputs": [],
   "source": [
    "from catinous.dataset import BatchDataset, ContinuousDataset\n",
    "from catinous.dynamicmemory.DynamicMemoryModel import DynamicMemoryModel \n",
    "import catinous.dynamicmemory.DynamicMemoryModel as dmodel\n",
    "import catinous.utils as cutils\n",
    "import os\n",
    "import pandas as pd\n",
    "from py_jotools import mut, slurm\n",
    "import matplotlib.pyplot as plt\n",
    "import matplotlib.patches as patches\n",
    "import numpy as np\n",
    "#import seaborn as sns\n",
    "from matplotlib.colors import ListedColormap, LinearSegmentedColormap\n",
    "import torchvision.models as models\n",
    "from torchvision.models.detection.faster_rcnn import FastRCNNPredictor"
   ]
  },
  {
   "cell_type": "code",
   "execution_count": 2,
   "metadata": {},
   "outputs": [
    {
     "name": "stdout",
     "output_type": "stream",
     "text": [
      "lidc_batch44337\n",
      "sshpass -f ~/.ssh/pass ssh cn1.cir.meduniwien.ac.at sbatch --export=NONE --partition centos7 /scratch/lidc_batch44337.job\n",
      "Submitted batch job 3209847\n",
      "\n"
     ]
    }
   ],
   "source": [
    "schedule = True\n",
    "\n",
    "sparams = {\n",
    "    'binary': '/home/cir/mperkonigg/env/catinous/bin/python',\n",
    "    'cwd': '/home/cir/mperkonigg/catinous/catinous',\n",
    "    'gpu': 1,\n",
    "    'partition': 'centos7',\n",
    "    'memory': 100000,\n",
    "    'jobname': 'lidc_batch',\n",
    "    'outputpath': '/home/cir/mperkonigg/slurmoutput/',\n",
    "    'mailuser': 'matthias.perkonigg@meduniwien.ac.at',\n",
    "    'minutes': '240'}\n",
    "\n",
    "\n",
    "hparams = {\n",
    "    'continuous': False,\n",
    "    'datasetfile': '/project/catinous/lungnodulesfinalpatientsplit.csv',\n",
    "    'batch_size': 8,\n",
    "    'training_batch_size': 8,\n",
    "    'task': 'lidc',\n",
    "    'model': 'rnn',\n",
    "    'scanner': 'ges',\n",
    "    'val_check_interval': 50,\n",
    "     'noncontinuous_steps': 1000,\n",
    "    'noncontinuous_train_splits': ['base'],\n",
    "    'order': ['ges', 'geb', 'sie', 'time_siemens'],\n",
    "    'use_memory': False\n",
    "}\n",
    "\n",
    "if schedule:\n",
    "    slurm.srun(dmodel.trained_model, [hparams], params=sparams, remote=True)\n",
    "else:\n",
    "    model, logs, df_cache, basemodel_lr = dmodel.trained_model(hparams)"
   ]
  },
  {
   "cell_type": "code",
   "execution_count": 3,
   "metadata": {},
   "outputs": [
    {
     "name": "stdout",
     "output_type": "stream",
     "text": [
      "lidc_batch52251\n",
      "sshpass -f ~/.ssh/pass ssh cn1.cir.meduniwien.ac.at sbatch --export=NONE --partition centos7 /scratch/lidc_batch52251.job\n",
      "Submitted batch job 3209848\n",
      "\n"
     ]
    }
   ],
   "source": [
    "schedule = True\n",
    "\n",
    "sparams = {\n",
    "    'binary': '/home/cir/mperkonigg/env/catinous/bin/python',\n",
    "    'cwd': '/home/cir/mperkonigg/catinous/catinous',\n",
    "    'gpu': 1,\n",
    "    'partition': 'centos7',\n",
    "    'memory': 100000,\n",
    "    'jobname': 'lidc_batch',\n",
    "    'outputpath': '/home/cir/mperkonigg/slurmoutput/',\n",
    "    'mailuser': 'matthias.perkonigg@meduniwien.ac.at',\n",
    "    'minutes': '240'}\n",
    "\n",
    "\n",
    "hparams = {\n",
    "    'continuous': False,\n",
    "    'datasetfile': '/project/catinous/lungnodulesfinalpatientsplit.csv',\n",
    "    'batch_size': 8,\n",
    "    'training_batch_size': 8,\n",
    "    'task': 'lidc',\n",
    "    'model': 'rnn',\n",
    "    'scanner': None,\n",
    "     'noncontinuous_steps': 1000,\n",
    "    'noncontinuous_train_splits': ['base', 'train'],\n",
    "    'order': ['ges', 'geb', 'sie', 'time_siemens'],\n",
    "    'use_memory': False\n",
    "}\n",
    "\n",
    "if schedule:\n",
    "    slurm.srun(dmodel.trained_model, [hparams], params=sparams, remote=True)\n",
    "else:\n",
    "    model, logs, df_cache, basemodel_lr = dmodel.trained_model(hparams)"
   ]
  },
  {
   "cell_type": "code",
   "execution_count": 4,
   "metadata": {},
   "outputs": [
    {
     "name": "stdout",
     "output_type": "stream",
     "text": [
      "lidc_batch60825\n",
      "sshpass -f ~/.ssh/pass ssh cn1.cir.meduniwien.ac.at sbatch --export=NONE --partition centos7 /scratch/lidc_batch60825.job\n",
      "Submitted batch job 3209849\n",
      "\n"
     ]
    }
   ],
   "source": [
    "schedule = True\n",
    "\n",
    "sparams = {\n",
    "    'binary': '/home/cir/mperkonigg/env/catinous/bin/python',\n",
    "    'cwd': '/home/cir/mperkonigg/catinous/catinous',\n",
    "    'gpu': 1,\n",
    "    'partition': 'centos7',\n",
    "    'memory': 100000,\n",
    "    'jobname': 'lidc_batch',\n",
    "    'outputpath': '/home/cir/mperkonigg/slurmoutput/',\n",
    "    'mailuser': 'matthias.perkonigg@meduniwien.ac.at',\n",
    "    'minutes': '240'}\n",
    "\n",
    "\n",
    "hparams = {\n",
    "    'continuous': False,\n",
    "    'datasetfile': '/project/catinous/lungnodulesfinalpatientsplit.csv',\n",
    "    'batch_size': 8,\n",
    "    'training_batch_size': 8,\n",
    "    'task': 'lidc',\n",
    "    'model': 'rnn',\n",
    "    'scanner': None,\n",
    "     'noncontinuous_steps': 1000,\n",
    "    'scanner': 'ges', \n",
    "    'noncontinuous_train_splits': ['base', 'train'],\n",
    "    'order': ['ges', 'geb', 'sie', 'time_siemens'],\n",
    "    'use_memory': False\n",
    "}\n",
    "\n",
    "if schedule:\n",
    "    slurm.srun(dmodel.trained_model, [hparams], params=sparams, remote=True)\n",
    "else:\n",
    "    model, logs, df_cache, basemodel_lr = dmodel.trained_model(hparams)"
   ]
  },
  {
   "cell_type": "code",
   "execution_count": 5,
   "metadata": {},
   "outputs": [
    {
     "name": "stdout",
     "output_type": "stream",
     "text": [
      "lidc_batch86498\n",
      "sshpass -f ~/.ssh/pass ssh cn1.cir.meduniwien.ac.at sbatch --export=NONE --partition centos7 /scratch/lidc_batch86498.job\n",
      "Submitted batch job 3209850\n",
      "\n"
     ]
    }
   ],
   "source": [
    "schedule = True\n",
    "\n",
    "sparams = {\n",
    "    'binary': '/home/cir/mperkonigg/env/catinous/bin/python',\n",
    "    'cwd': '/home/cir/mperkonigg/catinous/catinous',\n",
    "    'gpu': 1,\n",
    "    'partition': 'centos7',\n",
    "    'memory': 100000,\n",
    "    'jobname': 'lidc_batch',\n",
    "    'outputpath': '/home/cir/mperkonigg/slurmoutput/',\n",
    "    'mailuser': 'matthias.perkonigg@meduniwien.ac.at',\n",
    "    'minutes': '240'}\n",
    "\n",
    "\n",
    "hparams = {\n",
    "    'continuous': False,\n",
    "    'datasetfile': '/project/catinous/lungnodulesfinalpatientsplit.csv',\n",
    "    'batch_size': 8,\n",
    "    'training_batch_size': 8,\n",
    "    'task': 'lidc',\n",
    "    'model': 'rnn',\n",
    "    'scanner': None,\n",
    "     'noncontinuous_steps': 1000,\n",
    "    'scanner': 'geb', \n",
    "    'noncontinuous_train_splits': ['base', 'train'],\n",
    "    'order': ['ges', 'geb', 'sie', 'time_siemens'],\n",
    "    'use_memory': False\n",
    "}\n",
    "\n",
    "if schedule:\n",
    "    slurm.srun(dmodel.trained_model, [hparams], params=sparams, remote=True)\n",
    "else:\n",
    "    model, logs, df_cache, basemodel_lr = dmodel.trained_model(hparams)"
   ]
  },
  {
   "cell_type": "code",
   "execution_count": 6,
   "metadata": {},
   "outputs": [
    {
     "name": "stdout",
     "output_type": "stream",
     "text": [
      "lidc_batch06552\n",
      "sshpass -f ~/.ssh/pass ssh cn1.cir.meduniwien.ac.at sbatch --export=NONE --partition centos7 /scratch/lidc_batch06552.job\n",
      "Submitted batch job 3209851\n",
      "\n"
     ]
    }
   ],
   "source": [
    "schedule = True\n",
    "\n",
    "sparams = {\n",
    "    'binary': '/home/cir/mperkonigg/env/catinous/bin/python',\n",
    "    'cwd': '/home/cir/mperkonigg/catinous/catinous',\n",
    "    'gpu': 1,\n",
    "    'partition': 'centos7',\n",
    "    'memory': 100000,\n",
    "    'jobname': 'lidc_batch',\n",
    "    'outputpath': '/home/cir/mperkonigg/slurmoutput/',\n",
    "    'mailuser': 'matthias.perkonigg@meduniwien.ac.at',\n",
    "    'minutes': '240'}\n",
    "\n",
    "\n",
    "hparams = {\n",
    "    'continuous': False,\n",
    "    'datasetfile': '/project/catinous/lungnodulesfinalpatientsplit.csv',\n",
    "    'batch_size': 8,\n",
    "    'training_batch_size': 8,\n",
    "    'task': 'lidc',\n",
    "    'model': 'rnn',\n",
    "    'scanner': None,\n",
    "     'noncontinuous_steps': 1000,\n",
    "    'scanner': 'sie', \n",
    "    'noncontinuous_train_splits': ['base', 'train'],\n",
    "    'order': ['ges', 'geb', 'sie', 'time_siemens'],\n",
    "    'use_memory': False\n",
    "}\n",
    "\n",
    "if schedule:\n",
    "    slurm.srun(dmodel.trained_model, [hparams], params=sparams, remote=True)\n",
    "else:\n",
    "    model, logs, df_cache, basemodel_lr = dmodel.trained_model(hparams)"
   ]
  },
  {
   "cell_type": "code",
   "execution_count": 7,
   "metadata": {},
   "outputs": [
    {
     "name": "stdout",
     "output_type": "stream",
     "text": [
      "lidc_batch65834\n",
      "sshpass -f ~/.ssh/pass ssh cn1.cir.meduniwien.ac.at sbatch --export=NONE --partition centos7 /scratch/lidc_batch65834.job\n",
      "Submitted batch job 3209852\n",
      "\n"
     ]
    }
   ],
   "source": [
    "schedule = True\n",
    "\n",
    "sparams = {\n",
    "    'binary': '/home/cir/mperkonigg/env/catinous/bin/python',\n",
    "    'cwd': '/home/cir/mperkonigg/catinous/catinous',\n",
    "    'gpu': 1,\n",
    "    'partition': 'centos7',\n",
    "    'memory': 100000,\n",
    "    'jobname': 'lidc_batch',\n",
    "    'outputpath': '/home/cir/mperkonigg/slurmoutput/',\n",
    "    'mailuser': 'matthias.perkonigg@meduniwien.ac.at',\n",
    "    'minutes': '240'}\n",
    "\n",
    "\n",
    "hparams = {\n",
    "    'continuous': False,\n",
    "    'datasetfile': '/project/catinous/lungnodulesfinalpatientsplit.csv',\n",
    "    'batch_size': 8,\n",
    "    'training_batch_size': 8,\n",
    "    'task': 'lidc',\n",
    "    'model': 'rnn',\n",
    "    'scanner': None,\n",
    "     'noncontinuous_steps': 1000,\n",
    "    'scanner': 'time_siemens', \n",
    "    'noncontinuous_train_splits': ['base', 'train'],\n",
    "    'order': ['ges', 'geb', 'sie', 'time_siemens'],\n",
    "    'use_memory': False\n",
    "}\n",
    "\n",
    "if schedule:\n",
    "    slurm.srun(dmodel.trained_model, [hparams], params=sparams, remote=True)\n",
    "else:\n",
    "    model, logs, df_cache, basemodel_lr = dmodel.trained_model(hparams)"
   ]
  },
  {
   "cell_type": "code",
   "execution_count": null,
   "metadata": {},
   "outputs": [],
   "source": []
  }
 ],
 "metadata": {
  "kernelspec": {
   "display_name": "venv_test",
   "language": "python",
   "name": "venv_test"
  },
  "language_info": {
   "codemirror_mode": {
    "name": "ipython",
    "version": 3
   },
   "file_extension": ".py",
   "mimetype": "text/x-python",
   "name": "python",
   "nbconvert_exporter": "python",
   "pygments_lexer": "ipython3",
   "version": "3.6.9"
  }
 },
 "nbformat": 4,
 "nbformat_minor": 4
}
