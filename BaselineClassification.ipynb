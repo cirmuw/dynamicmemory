{
 "cells": [
  {
   "cell_type": "markdown",
   "metadata": {},
   "source": [
    "## Baseline classification experiments for catinous"
   ]
  },
  {
   "cell_type": "code",
   "execution_count": 1,
   "metadata": {},
   "outputs": [],
   "source": [
    "from pytorch_lightning import Trainer\n",
    "from catinous.CatsinomModel import CatsinomModel\n",
    "from catinous.CatsinomDataset import CatsinomDataset\n",
    "import matplotlib.pyplot as plt\n",
    "from pytorch_lightning.callbacks import ModelCheckpoint\n",
    "from torch.utils.data import DataLoader\n",
    "import os\n",
    "import torchvision.models as models\n",
    "import torch.nn as nn\n",
    "import torch\n",
    "import torch.nn.functional as F\n",
    "import visualizationutils as vu\n",
    "import argparse\n",
    "import pytorch_lightning as pl"
   ]
  },
  {
   "cell_type": "code",
   "execution_count": 8,
   "metadata": {},
   "outputs": [],
   "source": [
    "hparams = dict() #TODO: this shouldn't be like that\n",
    "hparams['root_dir'] = '/project/catinous/cat_data_harder/'\n",
    "hparams['datasetfile'] = 'catsinom_combined_harder_dataset.csv'\n",
    "hparams['batch_size'] = 8\n",
    "model = CatsinomModel(argparse.Namespace(**hparams))"
   ]
  },
  {
   "cell_type": "code",
   "execution_count": 9,
   "metadata": {
    "scrolled": true
   },
   "outputs": [
    {
     "name": "stderr",
     "output_type": "stream",
     "text": [
      "Validation sanity check:   0%|          | 0/5 [00:00<?, ?batch/s]"
     ]
    },
    {
     "name": "stdout",
     "output_type": "stream",
     "text": [
      "/project/catinous/cat_data_harder/ catsinom_combined_harder_dataset.csv\n"
     ]
    },
    {
     "name": "stderr",
     "output_type": "stream",
     "text": [
      "Epoch 1:  87%|████████▋ | 702/803 [02:52<00:24,  4.15batch/s, batch_nb=701, gpu=0, loss=0.699, v_nb=0]\n",
      "Validating:   0%|          | 0/101 [00:00<?, ?batch/s]\u001b[A\n",
      "Epoch 1:  88%|████████▊ | 703/803 [02:53<00:42,  2.36batch/s, batch_nb=701, gpu=0, loss=0.699, v_nb=0]\n",
      "Epoch 1:  88%|████████▊ | 705/803 [02:54<00:39,  2.46batch/s, batch_nb=701, gpu=0, loss=0.699, v_nb=0]\n",
      "Epoch 1:  88%|████████▊ | 707/803 [02:54<00:35,  2.74batch/s, batch_nb=701, gpu=0, loss=0.699, v_nb=0]\n",
      "Epoch 1:  88%|████████▊ | 709/803 [02:55<00:31,  3.00batch/s, batch_nb=701, gpu=0, loss=0.699, v_nb=0]\n",
      "Epoch 1:  89%|████████▊ | 711/803 [02:56<00:30,  3.02batch/s, batch_nb=701, gpu=0, loss=0.699, v_nb=0]\n",
      "Epoch 1:  89%|████████▉ | 713/803 [02:56<00:30,  2.95batch/s, batch_nb=701, gpu=0, loss=0.699, v_nb=0]\n",
      "Epoch 1:  89%|████████▉ | 715/803 [02:57<00:28,  3.05batch/s, batch_nb=701, gpu=0, loss=0.699, v_nb=0]\n",
      "Epoch 1:  89%|████████▉ | 717/803 [02:58<00:27,  3.14batch/s, batch_nb=701, gpu=0, loss=0.699, v_nb=0]\n",
      "Epoch 1:  90%|████████▉ | 719/803 [02:58<00:25,  3.24batch/s, batch_nb=701, gpu=0, loss=0.699, v_nb=0]\n",
      "Epoch 1:  90%|████████▉ | 721/803 [02:59<00:26,  3.10batch/s, batch_nb=701, gpu=0, loss=0.699, v_nb=0]\n",
      "Epoch 1:  90%|█████████ | 723/803 [02:59<00:24,  3.26batch/s, batch_nb=701, gpu=0, loss=0.699, v_nb=0]\n",
      "Epoch 1:  90%|█████████ | 724/803 [03:00<00:20,  3.86batch/s, batch_nb=701, gpu=0, loss=0.699, v_nb=0]\n",
      "Epoch 1:  90%|█████████ | 725/803 [03:00<00:25,  3.02batch/s, batch_nb=701, gpu=0, loss=0.699, v_nb=0]\n",
      "Epoch 1:  90%|█████████ | 726/803 [03:00<00:20,  3.79batch/s, batch_nb=701, gpu=0, loss=0.699, v_nb=0]\n",
      "Epoch 1:  91%|█████████ | 727/803 [03:01<00:28,  2.71batch/s, batch_nb=701, gpu=0, loss=0.699, v_nb=0]\n",
      "Epoch 1:  91%|█████████ | 728/803 [03:01<00:21,  3.45batch/s, batch_nb=701, gpu=0, loss=0.699, v_nb=0]\n",
      "Epoch 1:  91%|█████████ | 729/803 [03:01<00:26,  2.80batch/s, batch_nb=701, gpu=0, loss=0.699, v_nb=0]\n",
      "Epoch 1:  91%|█████████ | 731/803 [03:02<00:23,  3.01batch/s, batch_nb=701, gpu=0, loss=0.699, v_nb=0]\n",
      "Epoch 1:  91%|█████████ | 732/803 [03:02<00:19,  3.70batch/s, batch_nb=701, gpu=0, loss=0.699, v_nb=0]\n",
      "Epoch 1:  91%|█████████▏| 733/803 [03:03<00:22,  3.09batch/s, batch_nb=701, gpu=0, loss=0.699, v_nb=0]\n",
      "Epoch 1:  91%|█████████▏| 734/803 [03:03<00:19,  3.59batch/s, batch_nb=701, gpu=0, loss=0.699, v_nb=0]\n",
      "Epoch 1:  92%|█████████▏| 735/803 [03:03<00:21,  3.18batch/s, batch_nb=701, gpu=0, loss=0.699, v_nb=0]\n",
      "Epoch 1:  92%|█████████▏| 736/803 [03:03<00:17,  3.78batch/s, batch_nb=701, gpu=0, loss=0.699, v_nb=0]\n",
      "Epoch 1:  92%|█████████▏| 737/803 [03:04<00:21,  3.06batch/s, batch_nb=701, gpu=0, loss=0.699, v_nb=0]\n",
      "Epoch 1:  92%|█████████▏| 738/803 [03:04<00:18,  3.58batch/s, batch_nb=701, gpu=0, loss=0.699, v_nb=0]\n",
      "Epoch 1:  92%|█████████▏| 739/803 [03:04<00:21,  3.00batch/s, batch_nb=701, gpu=0, loss=0.699, v_nb=0]\n",
      "Epoch 1:  92%|█████████▏| 741/803 [03:05<00:19,  3.14batch/s, batch_nb=701, gpu=0, loss=0.699, v_nb=0]\n",
      "Epoch 1:  93%|█████████▎| 743/803 [03:06<00:20,  2.97batch/s, batch_nb=701, gpu=0, loss=0.699, v_nb=0]\n",
      "Epoch 1:  93%|█████████▎| 745/803 [03:06<00:19,  3.02batch/s, batch_nb=701, gpu=0, loss=0.699, v_nb=0]\n",
      "Epoch 1:  93%|█████████▎| 747/803 [03:07<00:17,  3.17batch/s, batch_nb=701, gpu=0, loss=0.699, v_nb=0]\n",
      "Epoch 1:  93%|█████████▎| 749/803 [03:07<00:16,  3.24batch/s, batch_nb=701, gpu=0, loss=0.699, v_nb=0]\n",
      "Epoch 1:  93%|█████████▎| 750/803 [03:08<00:13,  3.97batch/s, batch_nb=701, gpu=0, loss=0.699, v_nb=0]\n",
      "Epoch 1:  94%|█████████▎| 751/803 [03:08<00:16,  3.06batch/s, batch_nb=701, gpu=0, loss=0.699, v_nb=0]\n",
      "Epoch 1:  94%|█████████▎| 752/803 [03:08<00:13,  3.86batch/s, batch_nb=701, gpu=0, loss=0.699, v_nb=0]\n",
      "Epoch 1:  94%|█████████▍| 753/803 [03:09<00:16,  3.02batch/s, batch_nb=701, gpu=0, loss=0.699, v_nb=0]\n",
      "Epoch 1:  94%|█████████▍| 754/803 [03:09<00:13,  3.57batch/s, batch_nb=701, gpu=0, loss=0.699, v_nb=0]\n",
      "Epoch 1:  94%|█████████▍| 755/803 [03:09<00:15,  3.09batch/s, batch_nb=701, gpu=0, loss=0.699, v_nb=0]\n",
      "Epoch 1:  94%|█████████▍| 756/803 [03:09<00:13,  3.38batch/s, batch_nb=701, gpu=0, loss=0.699, v_nb=0]\n",
      "Epoch 1:  94%|█████████▍| 757/803 [03:10<00:14,  3.13batch/s, batch_nb=701, gpu=0, loss=0.699, v_nb=0]\n",
      "Epoch 1:  94%|█████████▍| 758/803 [03:10<00:13,  3.43batch/s, batch_nb=701, gpu=0, loss=0.699, v_nb=0]\n",
      "Epoch 1:  95%|█████████▍| 759/803 [03:10<00:13,  3.14batch/s, batch_nb=701, gpu=0, loss=0.699, v_nb=0]\n",
      "Epoch 1:  95%|█████████▍| 760/803 [03:11<00:12,  3.40batch/s, batch_nb=701, gpu=0, loss=0.699, v_nb=0]\n",
      "Epoch 1:  95%|█████████▍| 761/803 [03:11<00:13,  3.22batch/s, batch_nb=701, gpu=0, loss=0.699, v_nb=0]\n",
      "Epoch 1:  95%|█████████▍| 762/803 [03:11<00:11,  3.71batch/s, batch_nb=701, gpu=0, loss=0.699, v_nb=0]\n",
      "Epoch 1:  95%|█████████▌| 763/803 [03:12<00:11,  3.43batch/s, batch_nb=701, gpu=0, loss=0.699, v_nb=0]\n",
      "Epoch 1:  95%|█████████▌| 764/803 [03:12<00:11,  3.44batch/s, batch_nb=701, gpu=0, loss=0.699, v_nb=0]\n",
      "Epoch 1:  95%|█████████▌| 765/803 [03:12<00:10,  3.46batch/s, batch_nb=701, gpu=0, loss=0.699, v_nb=0]\n",
      "Epoch 1:  95%|█████████▌| 766/803 [03:12<00:11,  3.33batch/s, batch_nb=701, gpu=0, loss=0.699, v_nb=0]\n",
      "Epoch 1:  96%|█████████▌| 767/803 [03:13<00:09,  3.65batch/s, batch_nb=701, gpu=0, loss=0.699, v_nb=0]\n",
      "Epoch 1:  96%|█████████▌| 768/803 [03:13<00:11,  3.17batch/s, batch_nb=701, gpu=0, loss=0.699, v_nb=0]\n",
      "Epoch 1:  96%|█████████▌| 769/803 [03:13<00:09,  3.67batch/s, batch_nb=701, gpu=0, loss=0.699, v_nb=0]\n",
      "Epoch 1:  96%|█████████▌| 770/803 [03:14<00:10,  3.17batch/s, batch_nb=701, gpu=0, loss=0.699, v_nb=0]\n",
      "Epoch 1:  96%|█████████▌| 771/803 [03:14<00:09,  3.55batch/s, batch_nb=701, gpu=0, loss=0.699, v_nb=0]\n",
      "Epoch 1:  96%|█████████▌| 772/803 [03:14<00:09,  3.30batch/s, batch_nb=701, gpu=0, loss=0.699, v_nb=0]\n",
      "Epoch 1:  96%|█████████▋| 773/803 [03:14<00:08,  3.64batch/s, batch_nb=701, gpu=0, loss=0.699, v_nb=0]\n",
      "Epoch 1:  96%|█████████▋| 774/803 [03:15<00:09,  3.13batch/s, batch_nb=701, gpu=0, loss=0.699, v_nb=0]\n",
      "Epoch 1:  97%|█████████▋| 775/803 [03:15<00:07,  3.84batch/s, batch_nb=701, gpu=0, loss=0.699, v_nb=0]\n",
      "Epoch 1:  97%|█████████▋| 776/803 [03:15<00:08,  3.21batch/s, batch_nb=701, gpu=0, loss=0.699, v_nb=0]\n",
      "Epoch 1:  97%|█████████▋| 777/803 [03:16<00:07,  3.49batch/s, batch_nb=701, gpu=0, loss=0.699, v_nb=0]\n",
      "Epoch 1:  97%|█████████▋| 778/803 [03:16<00:07,  3.15batch/s, batch_nb=701, gpu=0, loss=0.699, v_nb=0]\n",
      "Epoch 1:  97%|█████████▋| 779/803 [03:16<00:06,  3.43batch/s, batch_nb=701, gpu=0, loss=0.699, v_nb=0]\n",
      "Epoch 1:  97%|█████████▋| 780/803 [03:17<00:07,  3.07batch/s, batch_nb=701, gpu=0, loss=0.699, v_nb=0]\n",
      "Epoch 1:  97%|█████████▋| 781/803 [03:17<00:06,  3.60batch/s, batch_nb=701, gpu=0, loss=0.699, v_nb=0]\n",
      "Epoch 1:  97%|█████████▋| 782/803 [03:17<00:06,  3.14batch/s, batch_nb=701, gpu=0, loss=0.699, v_nb=0]\n",
      "Epoch 1:  98%|█████████▊| 783/803 [03:17<00:05,  3.58batch/s, batch_nb=701, gpu=0, loss=0.699, v_nb=0]\n",
      "Epoch 1:  98%|█████████▊| 784/803 [03:18<00:06,  3.05batch/s, batch_nb=701, gpu=0, loss=0.699, v_nb=0]\n",
      "Epoch 1:  98%|█████████▊| 785/803 [03:18<00:04,  3.66batch/s, batch_nb=701, gpu=0, loss=0.699, v_nb=0]\n",
      "Epoch 1:  98%|█████████▊| 786/803 [03:19<00:05,  2.87batch/s, batch_nb=701, gpu=0, loss=0.699, v_nb=0]\n",
      "Epoch 1:  98%|█████████▊| 787/803 [03:19<00:04,  3.46batch/s, batch_nb=701, gpu=0, loss=0.699, v_nb=0]\n",
      "Epoch 1:  98%|█████████▊| 788/803 [03:19<00:04,  3.03batch/s, batch_nb=701, gpu=0, loss=0.699, v_nb=0]\n",
      "Epoch 1:  98%|█████████▊| 789/803 [03:19<00:04,  3.44batch/s, batch_nb=701, gpu=0, loss=0.699, v_nb=0]\n",
      "Epoch 1:  98%|█████████▊| 790/803 [03:20<00:04,  3.10batch/s, batch_nb=701, gpu=0, loss=0.699, v_nb=0]\n",
      "Epoch 1:  99%|█████████▊| 791/803 [03:20<00:03,  3.17batch/s, batch_nb=701, gpu=0, loss=0.699, v_nb=0]\n",
      "Epoch 1:  99%|█████████▊| 792/803 [03:20<00:03,  3.36batch/s, batch_nb=701, gpu=0, loss=0.699, v_nb=0]\n",
      "Epoch 1:  99%|█████████▉| 793/803 [03:21<00:02,  3.34batch/s, batch_nb=701, gpu=0, loss=0.699, v_nb=0]\n",
      "Epoch 1:  99%|█████████▉| 794/803 [03:21<00:02,  3.37batch/s, batch_nb=701, gpu=0, loss=0.699, v_nb=0]\n",
      "Epoch 1:  99%|█████████▉| 795/803 [03:21<00:02,  3.26batch/s, batch_nb=701, gpu=0, loss=0.699, v_nb=0]\n",
      "Epoch 1:  99%|█████████▉| 796/803 [03:21<00:02,  3.46batch/s, batch_nb=701, gpu=0, loss=0.699, v_nb=0]\n",
      "Epoch 1:  99%|█████████▉| 797/803 [03:22<00:01,  3.32batch/s, batch_nb=701, gpu=0, loss=0.699, v_nb=0]\n",
      "Epoch 1:  99%|█████████▉| 798/803 [03:22<00:01,  3.56batch/s, batch_nb=701, gpu=0, loss=0.699, v_nb=0]\n",
      "Epoch 1: 100%|█████████▉| 799/803 [03:22<00:01,  3.46batch/s, batch_nb=701, gpu=0, loss=0.699, v_nb=0]\n",
      "Epoch 1: 100%|█████████▉| 800/803 [03:23<00:00,  3.36batch/s, batch_nb=701, gpu=0, loss=0.699, v_nb=0]\n",
      "Epoch 1: 100%|█████████▉| 801/803 [03:23<00:00,  3.48batch/s, batch_nb=701, gpu=0, loss=0.699, v_nb=0]\n",
      "Epoch 1: 100%|██████████| 803/803 [03:23<00:00,  3.34batch/s, batch_nb=701, gpu=0, loss=0.699, v_nb=0]\n",
      "Epoch 2:  87%|████████▋ | 702/803 [02:55<00:24,  4.12batch/s, batch_nb=701, gpu=0, loss=0.368, v_nb=0]\n",
      "Validating:   0%|          | 0/101 [00:00<?, ?batch/s]\u001b[A\n",
      "Epoch 2:  88%|████████▊ | 703/803 [02:56<00:42,  2.35batch/s, batch_nb=701, gpu=0, loss=0.368, v_nb=0]\n",
      "Epoch 2:  88%|████████▊ | 705/803 [02:57<00:36,  2.70batch/s, batch_nb=701, gpu=0, loss=0.368, v_nb=0]\n",
      "Epoch 2:  88%|████████▊ | 707/803 [02:57<00:32,  2.95batch/s, batch_nb=701, gpu=0, loss=0.368, v_nb=0]\n",
      "Epoch 2:  88%|████████▊ | 709/803 [02:58<00:30,  3.09batch/s, batch_nb=701, gpu=0, loss=0.368, v_nb=0]\n",
      "Epoch 2:  89%|████████▊ | 711/803 [02:58<00:28,  3.22batch/s, batch_nb=701, gpu=0, loss=0.368, v_nb=0]\n",
      "Epoch 2:  89%|████████▉ | 713/803 [02:59<00:27,  3.33batch/s, batch_nb=701, gpu=0, loss=0.368, v_nb=0]\n",
      "Epoch 2:  89%|████████▉ | 715/803 [03:00<00:26,  3.30batch/s, batch_nb=701, gpu=0, loss=0.368, v_nb=0]\n",
      "Epoch 2:  89%|████████▉ | 717/803 [03:00<00:25,  3.36batch/s, batch_nb=701, gpu=0, loss=0.368, v_nb=0]\n",
      "Epoch 2:  90%|████████▉ | 719/803 [03:01<00:25,  3.36batch/s, batch_nb=701, gpu=0, loss=0.368, v_nb=0]\n",
      "Epoch 2:  90%|████████▉ | 721/803 [03:01<00:24,  3.34batch/s, batch_nb=701, gpu=0, loss=0.368, v_nb=0]\n",
      "Epoch 2:  90%|█████████ | 723/803 [03:02<00:23,  3.45batch/s, batch_nb=701, gpu=0, loss=0.368, v_nb=0]\n",
      "Epoch 2:  90%|█████████ | 725/803 [03:02<00:22,  3.43batch/s, batch_nb=701, gpu=0, loss=0.368, v_nb=0]\n",
      "Epoch 2:  91%|█████████ | 727/803 [03:03<00:21,  3.46batch/s, batch_nb=701, gpu=0, loss=0.368, v_nb=0]\n",
      "Epoch 2:  91%|█████████ | 729/803 [03:04<00:20,  3.57batch/s, batch_nb=701, gpu=0, loss=0.368, v_nb=0]\n",
      "Epoch 2:  91%|█████████ | 731/803 [03:04<00:20,  3.59batch/s, batch_nb=701, gpu=0, loss=0.368, v_nb=0]\n",
      "Epoch 2:  91%|█████████▏| 733/803 [03:05<00:19,  3.53batch/s, batch_nb=701, gpu=0, loss=0.368, v_nb=0]\n",
      "Epoch 2:  92%|█████████▏| 735/803 [03:05<00:18,  3.65batch/s, batch_nb=701, gpu=0, loss=0.368, v_nb=0]\n",
      "Epoch 2:  92%|█████████▏| 737/803 [03:06<00:18,  3.61batch/s, batch_nb=701, gpu=0, loss=0.368, v_nb=0]\n",
      "Epoch 2:  92%|█████████▏| 738/803 [03:06<00:15,  4.27batch/s, batch_nb=701, gpu=0, loss=0.368, v_nb=0]\n",
      "Epoch 2:  92%|█████████▏| 739/803 [03:06<00:18,  3.53batch/s, batch_nb=701, gpu=0, loss=0.368, v_nb=0]\n",
      "Epoch 2:  92%|█████████▏| 740/803 [03:06<00:15,  4.11batch/s, batch_nb=701, gpu=0, loss=0.368, v_nb=0]\n",
      "Epoch 2:  92%|█████████▏| 741/803 [03:07<00:18,  3.35batch/s, batch_nb=701, gpu=0, loss=0.368, v_nb=0]\n",
      "Epoch 2:  92%|█████████▏| 742/803 [03:07<00:15,  4.07batch/s, batch_nb=701, gpu=0, loss=0.368, v_nb=0]\n",
      "Epoch 2:  93%|█████████▎| 743/803 [03:07<00:17,  3.42batch/s, batch_nb=701, gpu=0, loss=0.368, v_nb=0]\n",
      "Epoch 2:  93%|█████████▎| 745/803 [03:08<00:16,  3.52batch/s, batch_nb=701, gpu=0, loss=0.368, v_nb=0]\n",
      "Epoch 2:  93%|█████████▎| 746/803 [03:08<00:14,  4.01batch/s, batch_nb=701, gpu=0, loss=0.368, v_nb=0]\n",
      "Epoch 2:  93%|█████████▎| 747/803 [03:08<00:15,  3.69batch/s, batch_nb=701, gpu=0, loss=0.368, v_nb=0]\n",
      "Epoch 2:  93%|█████████▎| 748/803 [03:09<00:14,  3.80batch/s, batch_nb=701, gpu=0, loss=0.368, v_nb=0]\n",
      "Epoch 2:  93%|█████████▎| 749/803 [03:09<00:14,  3.70batch/s, batch_nb=701, gpu=0, loss=0.368, v_nb=0]\n",
      "Epoch 2:  93%|█████████▎| 750/803 [03:09<00:14,  3.76batch/s, batch_nb=701, gpu=0, loss=0.368, v_nb=0]\n",
      "Epoch 2:  94%|█████████▎| 751/803 [03:09<00:13,  3.75batch/s, batch_nb=701, gpu=0, loss=0.368, v_nb=0]\n",
      "Epoch 2:  94%|█████████▎| 752/803 [03:10<00:14,  3.50batch/s, batch_nb=701, gpu=0, loss=0.368, v_nb=0]\n",
      "Epoch 2:  94%|█████████▍| 753/803 [03:10<00:14,  3.52batch/s, batch_nb=701, gpu=0, loss=0.368, v_nb=0]\n",
      "Epoch 2:  94%|█████████▍| 754/803 [03:10<00:14,  3.47batch/s, batch_nb=701, gpu=0, loss=0.368, v_nb=0]\n",
      "Epoch 2:  94%|█████████▍| 755/803 [03:11<00:13,  3.51batch/s, batch_nb=701, gpu=0, loss=0.368, v_nb=0]\n",
      "Epoch 2:  94%|█████████▍| 756/803 [03:11<00:12,  3.71batch/s, batch_nb=701, gpu=0, loss=0.368, v_nb=0]\n",
      "Epoch 2:  94%|█████████▍| 757/803 [03:11<00:12,  3.76batch/s, batch_nb=701, gpu=0, loss=0.368, v_nb=0]\n",
      "Epoch 2:  94%|█████████▍| 758/803 [03:12<00:13,  3.40batch/s, batch_nb=701, gpu=0, loss=0.368, v_nb=0]\n",
      "Epoch 2:  95%|█████████▍| 759/803 [03:12<00:11,  3.71batch/s, batch_nb=701, gpu=0, loss=0.368, v_nb=0]\n",
      "Epoch 2:  95%|█████████▍| 760/803 [03:12<00:12,  3.43batch/s, batch_nb=701, gpu=0, loss=0.368, v_nb=0]\n",
      "Epoch 2:  95%|█████████▍| 761/803 [03:12<00:11,  3.68batch/s, batch_nb=701, gpu=0, loss=0.368, v_nb=0]\n",
      "Epoch 2:  95%|█████████▍| 762/803 [03:13<00:12,  3.38batch/s, batch_nb=701, gpu=0, loss=0.368, v_nb=0]\n",
      "Epoch 2:  95%|█████████▌| 763/803 [03:13<00:10,  3.66batch/s, batch_nb=701, gpu=0, loss=0.368, v_nb=0]\n",
      "Epoch 2:  95%|█████████▌| 764/803 [03:13<00:11,  3.33batch/s, batch_nb=701, gpu=0, loss=0.368, v_nb=0]\n",
      "Epoch 2:  95%|█████████▌| 765/803 [03:13<00:10,  3.77batch/s, batch_nb=701, gpu=0, loss=0.368, v_nb=0]\n",
      "Epoch 2:  95%|█████████▌| 766/803 [03:14<00:10,  3.50batch/s, batch_nb=701, gpu=0, loss=0.368, v_nb=0]\n",
      "Epoch 2:  96%|█████████▌| 767/803 [03:14<00:09,  3.83batch/s, batch_nb=701, gpu=0, loss=0.368, v_nb=0]\n",
      "Epoch 2:  96%|█████████▌| 768/803 [03:14<00:09,  3.59batch/s, batch_nb=701, gpu=0, loss=0.368, v_nb=0]\n",
      "Epoch 2:  96%|█████████▌| 769/803 [03:14<00:09,  3.76batch/s, batch_nb=701, gpu=0, loss=0.368, v_nb=0]\n",
      "Epoch 2:  96%|█████████▌| 770/803 [03:15<00:10,  3.20batch/s, batch_nb=701, gpu=0, loss=0.368, v_nb=0]\n",
      "Epoch 2:  96%|█████████▌| 772/803 [03:15<00:09,  3.36batch/s, batch_nb=701, gpu=0, loss=0.368, v_nb=0]\n",
      "Epoch 2:  96%|█████████▋| 773/803 [03:16<00:07,  4.01batch/s, batch_nb=701, gpu=0, loss=0.368, v_nb=0]\n",
      "Epoch 2:  96%|█████████▋| 774/803 [03:16<00:08,  3.35batch/s, batch_nb=701, gpu=0, loss=0.368, v_nb=0]\n",
      "Epoch 2:  97%|█████████▋| 775/803 [03:16<00:07,  3.99batch/s, batch_nb=701, gpu=0, loss=0.368, v_nb=0]\n",
      "Epoch 2:  97%|█████████▋| 776/803 [03:17<00:07,  3.38batch/s, batch_nb=701, gpu=0, loss=0.368, v_nb=0]\n",
      "Epoch 2:  97%|█████████▋| 777/803 [03:17<00:06,  3.96batch/s, batch_nb=701, gpu=0, loss=0.368, v_nb=0]\n",
      "Epoch 2:  97%|█████████▋| 778/803 [03:17<00:07,  3.24batch/s, batch_nb=701, gpu=0, loss=0.368, v_nb=0]\n",
      "Epoch 2:  97%|█████████▋| 779/803 [03:17<00:06,  3.94batch/s, batch_nb=701, gpu=0, loss=0.368, v_nb=0]\n",
      "Epoch 2:  97%|█████████▋| 780/803 [03:18<00:07,  3.06batch/s, batch_nb=701, gpu=0, loss=0.368, v_nb=0]\n",
      "Epoch 2:  97%|█████████▋| 782/803 [03:18<00:06,  3.14batch/s, batch_nb=701, gpu=0, loss=0.368, v_nb=0]\n",
      "Epoch 2:  98%|█████████▊| 784/803 [03:19<00:05,  3.23batch/s, batch_nb=701, gpu=0, loss=0.368, v_nb=0]\n",
      "Epoch 2:  98%|█████████▊| 786/803 [03:20<00:05,  3.19batch/s, batch_nb=701, gpu=0, loss=0.368, v_nb=0]\n",
      "Epoch 2:  98%|█████████▊| 788/803 [03:20<00:04,  3.29batch/s, batch_nb=701, gpu=0, loss=0.368, v_nb=0]\n",
      "Epoch 2:  98%|█████████▊| 790/803 [03:21<00:03,  3.33batch/s, batch_nb=701, gpu=0, loss=0.368, v_nb=0]\n",
      "Epoch 2:  99%|█████████▊| 792/803 [03:21<00:03,  3.49batch/s, batch_nb=701, gpu=0, loss=0.368, v_nb=0]\n",
      "Epoch 2:  99%|█████████▉| 794/803 [03:22<00:02,  3.53batch/s, batch_nb=701, gpu=0, loss=0.368, v_nb=0]\n",
      "Epoch 2:  99%|█████████▉| 796/803 [03:22<00:01,  3.51batch/s, batch_nb=701, gpu=0, loss=0.368, v_nb=0]\n",
      "Epoch 2:  99%|█████████▉| 798/803 [03:23<00:01,  3.60batch/s, batch_nb=701, gpu=0, loss=0.368, v_nb=0]\n",
      "Epoch 2: 100%|█████████▉| 800/803 [03:23<00:00,  3.61batch/s, batch_nb=701, gpu=0, loss=0.368, v_nb=0]\n",
      "Epoch 2: 100%|██████████| 803/803 [03:24<00:00,  3.54batch/s, batch_nb=701, gpu=0, loss=0.368, v_nb=0]\n",
      "Epoch 3:  87%|████████▋ | 702/803 [02:55<00:24,  4.13batch/s, batch_nb=701, gpu=0, loss=0.264, v_nb=0]\n",
      "Validating:   0%|          | 0/101 [00:00<?, ?batch/s]\u001b[A\n",
      "Epoch 3:  88%|████████▊ | 703/803 [02:56<00:42,  2.37batch/s, batch_nb=701, gpu=0, loss=0.264, v_nb=0]\n",
      "Epoch 3:  88%|████████▊ | 705/803 [02:56<00:36,  2.67batch/s, batch_nb=701, gpu=0, loss=0.264, v_nb=0]\n",
      "Epoch 3:  88%|████████▊ | 707/803 [02:57<00:34,  2.79batch/s, batch_nb=701, gpu=0, loss=0.264, v_nb=0]\n",
      "Epoch 3:  88%|████████▊ | 709/803 [02:57<00:30,  3.06batch/s, batch_nb=701, gpu=0, loss=0.264, v_nb=0]\n",
      "Epoch 3:  89%|████████▊ | 711/803 [02:58<00:28,  3.17batch/s, batch_nb=701, gpu=0, loss=0.264, v_nb=0]\n",
      "Epoch 3:  89%|████████▉ | 713/803 [02:59<00:27,  3.24batch/s, batch_nb=701, gpu=0, loss=0.264, v_nb=0]\n",
      "Epoch 3:  89%|████████▉ | 715/803 [02:59<00:26,  3.33batch/s, batch_nb=701, gpu=0, loss=0.264, v_nb=0]\n",
      "Epoch 3:  89%|████████▉ | 717/803 [03:00<00:25,  3.31batch/s, batch_nb=701, gpu=0, loss=0.264, v_nb=0]\n",
      "Epoch 3:  90%|████████▉ | 719/803 [03:00<00:23,  3.51batch/s, batch_nb=701, gpu=0, loss=0.264, v_nb=0]\n",
      "Epoch 3:  90%|████████▉ | 721/803 [03:01<00:22,  3.69batch/s, batch_nb=701, gpu=0, loss=0.264, v_nb=0]\n",
      "Epoch 3:  90%|████████▉ | 722/803 [03:01<00:19,  4.13batch/s, batch_nb=701, gpu=0, loss=0.264, v_nb=0]\n",
      "Epoch 3:  90%|█████████ | 723/803 [03:01<00:21,  3.70batch/s, batch_nb=701, gpu=0, loss=0.264, v_nb=0]\n",
      "Epoch 3:  90%|█████████ | 724/803 [03:01<00:19,  4.03batch/s, batch_nb=701, gpu=0, loss=0.264, v_nb=0]\n",
      "Epoch 3:  90%|█████████ | 725/803 [03:02<00:22,  3.52batch/s, batch_nb=701, gpu=0, loss=0.264, v_nb=0]\n",
      "Epoch 3:  90%|█████████ | 726/803 [03:02<00:19,  3.89batch/s, batch_nb=701, gpu=0, loss=0.264, v_nb=0]\n",
      "Epoch 3:  91%|█████████ | 727/803 [03:02<00:21,  3.56batch/s, batch_nb=701, gpu=0, loss=0.264, v_nb=0]\n",
      "Epoch 3:  91%|█████████ | 728/803 [03:03<00:19,  3.82batch/s, batch_nb=701, gpu=0, loss=0.264, v_nb=0]\n",
      "Epoch 3:  91%|█████████ | 729/803 [03:03<00:20,  3.65batch/s, batch_nb=701, gpu=0, loss=0.264, v_nb=0]\n",
      "Epoch 3:  91%|█████████ | 730/803 [03:03<00:19,  3.66batch/s, batch_nb=701, gpu=0, loss=0.264, v_nb=0]\n",
      "Epoch 3:  91%|█████████ | 731/803 [03:03<00:20,  3.58batch/s, batch_nb=701, gpu=0, loss=0.264, v_nb=0]\n",
      "Epoch 3:  91%|█████████ | 732/803 [03:04<00:19,  3.61batch/s, batch_nb=701, gpu=0, loss=0.264, v_nb=0]\n",
      "Epoch 3:  91%|█████████▏| 733/803 [03:04<00:19,  3.54batch/s, batch_nb=701, gpu=0, loss=0.264, v_nb=0]\n",
      "Epoch 3:  91%|█████████▏| 734/803 [03:04<00:17,  3.99batch/s, batch_nb=701, gpu=0, loss=0.264, v_nb=0]\n",
      "Epoch 3:  92%|█████████▏| 735/803 [03:05<00:20,  3.38batch/s, batch_nb=701, gpu=0, loss=0.264, v_nb=0]\n",
      "Epoch 3:  92%|█████████▏| 736/803 [03:05<00:18,  3.68batch/s, batch_nb=701, gpu=0, loss=0.264, v_nb=0]\n",
      "Epoch 3:  92%|█████████▏| 737/803 [03:05<00:20,  3.21batch/s, batch_nb=701, gpu=0, loss=0.264, v_nb=0]\n",
      "Epoch 3:  92%|█████████▏| 738/803 [03:05<00:17,  3.74batch/s, batch_nb=701, gpu=0, loss=0.264, v_nb=0]\n",
      "Epoch 3:  92%|█████████▏| 739/803 [03:06<00:20,  3.15batch/s, batch_nb=701, gpu=0, loss=0.264, v_nb=0]\n",
      "Epoch 3:  92%|█████████▏| 740/803 [03:06<00:16,  3.87batch/s, batch_nb=701, gpu=0, loss=0.264, v_nb=0]\n",
      "Epoch 3:  92%|█████████▏| 741/803 [03:06<00:19,  3.13batch/s, batch_nb=701, gpu=0, loss=0.264, v_nb=0]\n",
      "Epoch 3:  92%|█████████▏| 742/803 [03:07<00:15,  3.86batch/s, batch_nb=701, gpu=0, loss=0.264, v_nb=0]\n",
      "Epoch 3:  93%|█████████▎| 743/803 [03:07<00:18,  3.18batch/s, batch_nb=701, gpu=0, loss=0.264, v_nb=0]\n",
      "Epoch 3:  93%|█████████▎| 744/803 [03:07<00:15,  3.75batch/s, batch_nb=701, gpu=0, loss=0.264, v_nb=0]\n",
      "Epoch 3:  93%|█████████▎| 745/803 [03:08<00:18,  3.10batch/s, batch_nb=701, gpu=0, loss=0.264, v_nb=0]\n",
      "Epoch 3:  93%|█████████▎| 746/803 [03:08<00:14,  3.81batch/s, batch_nb=701, gpu=0, loss=0.264, v_nb=0]\n",
      "Epoch 3:  93%|█████████▎| 747/803 [03:08<00:17,  3.25batch/s, batch_nb=701, gpu=0, loss=0.264, v_nb=0]\n",
      "Epoch 3:  93%|█████████▎| 748/803 [03:08<00:14,  3.89batch/s, batch_nb=701, gpu=0, loss=0.264, v_nb=0]\n",
      "Epoch 3:  93%|█████████▎| 749/803 [03:09<00:16,  3.19batch/s, batch_nb=701, gpu=0, loss=0.264, v_nb=0]\n",
      "Epoch 3:  93%|█████████▎| 750/803 [03:09<00:14,  3.74batch/s, batch_nb=701, gpu=0, loss=0.264, v_nb=0]\n",
      "Epoch 3:  94%|█████████▎| 751/803 [03:09<00:15,  3.26batch/s, batch_nb=701, gpu=0, loss=0.264, v_nb=0]\n",
      "Epoch 3:  94%|█████████▎| 752/803 [03:09<00:12,  4.06batch/s, batch_nb=701, gpu=0, loss=0.264, v_nb=0]\n",
      "Epoch 3:  94%|█████████▍| 753/803 [03:10<00:14,  3.39batch/s, batch_nb=701, gpu=0, loss=0.264, v_nb=0]\n",
      "Epoch 3:  94%|█████████▍| 754/803 [03:10<00:13,  3.76batch/s, batch_nb=701, gpu=0, loss=0.264, v_nb=0]\n",
      "Epoch 3:  94%|█████████▍| 755/803 [03:10<00:13,  3.59batch/s, batch_nb=701, gpu=0, loss=0.264, v_nb=0]\n",
      "Epoch 3:  94%|█████████▍| 756/803 [03:10<00:11,  4.05batch/s, batch_nb=701, gpu=0, loss=0.264, v_nb=0]\n",
      "Epoch 3:  94%|█████████▍| 757/803 [03:11<00:12,  3.59batch/s, batch_nb=701, gpu=0, loss=0.264, v_nb=0]\n",
      "Epoch 3:  94%|█████████▍| 758/803 [03:11<00:10,  4.25batch/s, batch_nb=701, gpu=0, loss=0.264, v_nb=0]\n",
      "Epoch 3:  95%|█████████▍| 759/803 [03:11<00:13,  3.33batch/s, batch_nb=701, gpu=0, loss=0.264, v_nb=0]\n",
      "Epoch 3:  95%|█████████▍| 760/803 [03:12<00:10,  4.07batch/s, batch_nb=701, gpu=0, loss=0.264, v_nb=0]\n",
      "Epoch 3:  95%|█████████▍| 761/803 [03:12<00:12,  3.43batch/s, batch_nb=701, gpu=0, loss=0.264, v_nb=0]\n",
      "Epoch 3:  95%|█████████▍| 762/803 [03:12<00:10,  3.87batch/s, batch_nb=701, gpu=0, loss=0.264, v_nb=0]\n",
      "Epoch 3:  95%|█████████▌| 763/803 [03:12<00:11,  3.35batch/s, batch_nb=701, gpu=0, loss=0.264, v_nb=0]\n",
      "Epoch 3:  95%|█████████▌| 764/803 [03:13<00:10,  3.78batch/s, batch_nb=701, gpu=0, loss=0.264, v_nb=0]\n",
      "Epoch 3:  95%|█████████▌| 765/803 [03:13<00:11,  3.27batch/s, batch_nb=701, gpu=0, loss=0.264, v_nb=0]\n",
      "Epoch 3:  95%|█████████▌| 766/803 [03:13<00:09,  3.74batch/s, batch_nb=701, gpu=0, loss=0.264, v_nb=0]\n",
      "Epoch 3:  96%|█████████▌| 767/803 [03:14<00:10,  3.28batch/s, batch_nb=701, gpu=0, loss=0.264, v_nb=0]\n",
      "Epoch 3:  96%|█████████▌| 768/803 [03:14<00:09,  3.56batch/s, batch_nb=701, gpu=0, loss=0.264, v_nb=0]\n",
      "Epoch 3:  96%|█████████▌| 769/803 [03:14<00:09,  3.46batch/s, batch_nb=701, gpu=0, loss=0.264, v_nb=0]\n",
      "Epoch 3:  96%|█████████▌| 770/803 [03:14<00:09,  3.47batch/s, batch_nb=701, gpu=0, loss=0.264, v_nb=0]\n",
      "Epoch 3:  96%|█████████▌| 771/803 [03:15<00:08,  3.59batch/s, batch_nb=701, gpu=0, loss=0.264, v_nb=0]\n",
      "Epoch 3:  96%|█████████▌| 772/803 [03:15<00:09,  3.42batch/s, batch_nb=701, gpu=0, loss=0.264, v_nb=0]\n",
      "Epoch 3:  96%|█████████▋| 773/803 [03:15<00:08,  3.65batch/s, batch_nb=701, gpu=0, loss=0.264, v_nb=0]\n",
      "Epoch 3:  96%|█████████▋| 774/803 [03:16<00:08,  3.36batch/s, batch_nb=701, gpu=0, loss=0.264, v_nb=0]\n",
      "Epoch 3:  97%|█████████▋| 775/803 [03:16<00:06,  4.05batch/s, batch_nb=701, gpu=0, loss=0.264, v_nb=0]\n",
      "Epoch 3:  97%|█████████▋| 776/803 [03:16<00:08,  3.24batch/s, batch_nb=701, gpu=0, loss=0.264, v_nb=0]\n",
      "Epoch 3:  97%|█████████▋| 777/803 [03:16<00:06,  3.91batch/s, batch_nb=701, gpu=0, loss=0.264, v_nb=0]\n",
      "Epoch 3:  97%|█████████▋| 778/803 [03:17<00:08,  3.10batch/s, batch_nb=701, gpu=0, loss=0.264, v_nb=0]\n",
      "Epoch 3:  97%|█████████▋| 780/803 [03:17<00:06,  3.31batch/s, batch_nb=701, gpu=0, loss=0.264, v_nb=0]\n",
      "Epoch 3:  97%|█████████▋| 781/803 [03:18<00:05,  3.71batch/s, batch_nb=701, gpu=0, loss=0.264, v_nb=0]\n",
      "Epoch 3:  97%|█████████▋| 782/803 [03:18<00:06,  3.27batch/s, batch_nb=701, gpu=0, loss=0.264, v_nb=0]\n",
      "Epoch 3:  98%|█████████▊| 783/803 [03:18<00:05,  3.57batch/s, batch_nb=701, gpu=0, loss=0.264, v_nb=0]\n",
      "Epoch 3:  98%|█████████▊| 784/803 [03:18<00:05,  3.32batch/s, batch_nb=701, gpu=0, loss=0.264, v_nb=0]\n",
      "Epoch 3:  98%|█████████▊| 785/803 [03:19<00:04,  3.75batch/s, batch_nb=701, gpu=0, loss=0.264, v_nb=0]\n",
      "Epoch 3:  98%|█████████▊| 786/803 [03:19<00:04,  3.44batch/s, batch_nb=701, gpu=0, loss=0.264, v_nb=0]\n",
      "Epoch 3:  98%|█████████▊| 787/803 [03:19<00:04,  3.51batch/s, batch_nb=701, gpu=0, loss=0.264, v_nb=0]\n",
      "Epoch 3:  98%|█████████▊| 788/803 [03:20<00:04,  3.72batch/s, batch_nb=701, gpu=0, loss=0.264, v_nb=0]\n",
      "Epoch 3:  98%|█████████▊| 789/803 [03:20<00:03,  3.52batch/s, batch_nb=701, gpu=0, loss=0.264, v_nb=0]\n",
      "Epoch 3:  98%|█████████▊| 790/803 [03:20<00:03,  3.55batch/s, batch_nb=701, gpu=0, loss=0.264, v_nb=0]\n",
      "Epoch 3:  99%|█████████▊| 791/803 [03:20<00:03,  3.62batch/s, batch_nb=701, gpu=0, loss=0.264, v_nb=0]\n",
      "Epoch 3:  99%|█████████▊| 792/803 [03:21<00:03,  3.54batch/s, batch_nb=701, gpu=0, loss=0.264, v_nb=0]\n",
      "Epoch 3:  99%|█████████▉| 793/803 [03:21<00:02,  3.38batch/s, batch_nb=701, gpu=0, loss=0.264, v_nb=0]\n",
      "Epoch 3:  99%|█████████▉| 794/803 [03:21<00:02,  3.52batch/s, batch_nb=701, gpu=0, loss=0.264, v_nb=0]\n",
      "Epoch 3:  99%|█████████▉| 795/803 [03:22<00:02,  3.61batch/s, batch_nb=701, gpu=0, loss=0.264, v_nb=0]\n",
      "Epoch 3:  99%|█████████▉| 796/803 [03:22<00:02,  3.44batch/s, batch_nb=701, gpu=0, loss=0.264, v_nb=0]\n",
      "Epoch 3:  99%|█████████▉| 797/803 [03:22<00:01,  3.49batch/s, batch_nb=701, gpu=0, loss=0.264, v_nb=0]\n",
      "Epoch 3:  99%|█████████▉| 798/803 [03:22<00:01,  3.47batch/s, batch_nb=701, gpu=0, loss=0.264, v_nb=0]\n",
      "Epoch 3: 100%|█████████▉| 799/803 [03:23<00:01,  3.40batch/s, batch_nb=701, gpu=0, loss=0.264, v_nb=0]\n",
      "Epoch 3: 100%|█████████▉| 800/803 [03:23<00:00,  3.42batch/s, batch_nb=701, gpu=0, loss=0.264, v_nb=0]\n",
      "Epoch 3: 100%|█████████▉| 801/803 [03:23<00:00,  3.55batch/s, batch_nb=701, gpu=0, loss=0.264, v_nb=0]\n",
      "Epoch 3: 100%|██████████| 803/803 [03:24<00:00,  3.62batch/s, batch_nb=701, gpu=0, loss=0.264, v_nb=0]\n",
      "Epoch 4:  87%|████████▋ | 702/803 [02:52<00:28,  3.52batch/s, batch_nb=701, gpu=0, loss=0.267, v_nb=0]\n",
      "Validating:   0%|          | 0/101 [00:00<?, ?batch/s]\u001b[A\n",
      "Epoch 4:  88%|████████▊ | 703/803 [02:53<00:53,  1.88batch/s, batch_nb=701, gpu=0, loss=0.267, v_nb=0]\n",
      "Epoch 4:  88%|████████▊ | 705/803 [02:54<00:44,  2.22batch/s, batch_nb=701, gpu=0, loss=0.267, v_nb=0]\n",
      "Epoch 4:  88%|████████▊ | 707/803 [02:54<00:39,  2.45batch/s, batch_nb=701, gpu=0, loss=0.267, v_nb=0]\n",
      "Epoch 4:  88%|████████▊ | 708/803 [02:55<00:30,  3.14batch/s, batch_nb=701, gpu=0, loss=0.267, v_nb=0]\n",
      "Epoch 4:  88%|████████▊ | 709/803 [02:55<00:33,  2.82batch/s, batch_nb=701, gpu=0, loss=0.267, v_nb=0]\n",
      "Epoch 4:  89%|████████▊ | 711/803 [02:56<00:30,  2.98batch/s, batch_nb=701, gpu=0, loss=0.267, v_nb=0]\n",
      "Epoch 4:  89%|████████▉ | 713/803 [02:56<00:28,  3.12batch/s, batch_nb=701, gpu=0, loss=0.267, v_nb=0]\n",
      "Epoch 4:  89%|████████▉ | 715/803 [02:57<00:27,  3.14batch/s, batch_nb=701, gpu=0, loss=0.267, v_nb=0]\n",
      "Epoch 4:  89%|████████▉ | 717/803 [02:57<00:26,  3.30batch/s, batch_nb=701, gpu=0, loss=0.267, v_nb=0]\n",
      "Epoch 4:  90%|████████▉ | 719/803 [02:58<00:25,  3.30batch/s, batch_nb=701, gpu=0, loss=0.267, v_nb=0]\n",
      "Epoch 4:  90%|████████▉ | 721/803 [02:59<00:25,  3.23batch/s, batch_nb=701, gpu=0, loss=0.267, v_nb=0]\n",
      "Epoch 4:  90%|█████████ | 723/803 [02:59<00:24,  3.30batch/s, batch_nb=701, gpu=0, loss=0.267, v_nb=0]\n",
      "Epoch 4:  90%|█████████ | 725/803 [03:00<00:23,  3.37batch/s, batch_nb=701, gpu=0, loss=0.267, v_nb=0]\n",
      "Epoch 4:  91%|█████████ | 727/803 [03:00<00:21,  3.48batch/s, batch_nb=701, gpu=0, loss=0.267, v_nb=0]\n",
      "Epoch 4:  91%|█████████ | 729/803 [03:01<00:21,  3.51batch/s, batch_nb=701, gpu=0, loss=0.267, v_nb=0]\n",
      "Epoch 4:  91%|█████████ | 731/803 [03:01<00:19,  3.67batch/s, batch_nb=701, gpu=0, loss=0.267, v_nb=0]\n",
      "Epoch 4:  91%|█████████▏| 733/803 [03:02<00:19,  3.57batch/s, batch_nb=701, gpu=0, loss=0.267, v_nb=0]\n",
      "Epoch 4:  92%|█████████▏| 735/803 [03:02<00:19,  3.54batch/s, batch_nb=701, gpu=0, loss=0.267, v_nb=0]\n",
      "Epoch 4:  92%|█████████▏| 737/803 [03:03<00:18,  3.49batch/s, batch_nb=701, gpu=0, loss=0.267, v_nb=0]\n",
      "Epoch 4:  92%|█████████▏| 739/803 [03:04<00:18,  3.55batch/s, batch_nb=701, gpu=0, loss=0.267, v_nb=0]\n",
      "Epoch 4:  92%|█████████▏| 741/803 [03:04<00:17,  3.54batch/s, batch_nb=701, gpu=0, loss=0.267, v_nb=0]\n",
      "Epoch 4:  93%|█████████▎| 743/803 [03:05<00:18,  3.32batch/s, batch_nb=701, gpu=0, loss=0.267, v_nb=0]\n",
      "Epoch 4:  93%|█████████▎| 745/803 [03:05<00:17,  3.34batch/s, batch_nb=701, gpu=0, loss=0.267, v_nb=0]\n",
      "Epoch 4:  93%|█████████▎| 747/803 [03:06<00:16,  3.39batch/s, batch_nb=701, gpu=0, loss=0.267, v_nb=0]\n",
      "Epoch 4:  93%|█████████▎| 749/803 [03:07<00:15,  3.50batch/s, batch_nb=701, gpu=0, loss=0.267, v_nb=0]\n",
      "Epoch 4:  94%|█████████▎| 751/803 [03:07<00:14,  3.47batch/s, batch_nb=701, gpu=0, loss=0.267, v_nb=0]\n",
      "Epoch 4:  94%|█████████▍| 753/803 [03:08<00:14,  3.44batch/s, batch_nb=701, gpu=0, loss=0.267, v_nb=0]\n",
      "Validating:  51%|█████▏    | 52/101 [00:15<00:11,  4.28batch/s]\u001b[A\n",
      "Epoch 4:  94%|█████████▍| 755/803 [03:08<00:13,  3.47batch/s, batch_nb=701, gpu=0, loss=0.267, v_nb=0]\n",
      "Epoch 4:  94%|█████████▍| 757/803 [03:09<00:12,  3.56batch/s, batch_nb=701, gpu=0, loss=0.267, v_nb=0]\n",
      "Epoch 4:  95%|█████████▍| 759/803 [03:09<00:12,  3.49batch/s, batch_nb=701, gpu=0, loss=0.267, v_nb=0]\n",
      "Epoch 4:  95%|█████████▍| 761/803 [03:10<00:11,  3.50batch/s, batch_nb=701, gpu=0, loss=0.267, v_nb=0]\n",
      "Epoch 4:  95%|█████████▌| 763/803 [03:11<00:11,  3.43batch/s, batch_nb=701, gpu=0, loss=0.267, v_nb=0]\n",
      "Epoch 4:  95%|█████████▌| 765/803 [03:11<00:11,  3.38batch/s, batch_nb=701, gpu=0, loss=0.267, v_nb=0]\n",
      "Epoch 4:  96%|█████████▌| 767/803 [03:12<00:10,  3.37batch/s, batch_nb=701, gpu=0, loss=0.267, v_nb=0]\n",
      "Epoch 4:  96%|█████████▌| 769/803 [03:12<00:09,  3.53batch/s, batch_nb=701, gpu=0, loss=0.267, v_nb=0]\n",
      "Epoch 4:  96%|█████████▌| 771/803 [03:13<00:08,  3.62batch/s, batch_nb=701, gpu=0, loss=0.267, v_nb=0]\n",
      "Epoch 4:  96%|█████████▋| 773/803 [03:13<00:08,  3.45batch/s, batch_nb=701, gpu=0, loss=0.267, v_nb=0]\n",
      "Epoch 4:  97%|█████████▋| 775/803 [03:14<00:08,  3.46batch/s, batch_nb=701, gpu=0, loss=0.267, v_nb=0]\n",
      "Epoch 4:  97%|█████████▋| 777/803 [03:15<00:07,  3.43batch/s, batch_nb=701, gpu=0, loss=0.267, v_nb=0]\n",
      "Epoch 4:  97%|█████████▋| 779/803 [03:15<00:07,  3.39batch/s, batch_nb=701, gpu=0, loss=0.267, v_nb=0]\n",
      "Epoch 4:  97%|█████████▋| 781/803 [03:16<00:06,  3.50batch/s, batch_nb=701, gpu=0, loss=0.267, v_nb=0]\n",
      "Epoch 4:  98%|█████████▊| 783/803 [03:16<00:05,  3.41batch/s, batch_nb=701, gpu=0, loss=0.267, v_nb=0]\n",
      "Epoch 4:  98%|█████████▊| 785/803 [03:17<00:05,  3.38batch/s, batch_nb=701, gpu=0, loss=0.267, v_nb=0]\n",
      "Epoch 4:  98%|█████████▊| 787/803 [03:18<00:04,  3.44batch/s, batch_nb=701, gpu=0, loss=0.267, v_nb=0]\n",
      "Epoch 4:  98%|█████████▊| 789/803 [03:18<00:04,  3.49batch/s, batch_nb=701, gpu=0, loss=0.267, v_nb=0]\n",
      "Epoch 4:  99%|█████████▊| 791/803 [03:19<00:03,  3.51batch/s, batch_nb=701, gpu=0, loss=0.267, v_nb=0]\n",
      "Epoch 4:  99%|█████████▉| 793/803 [03:19<00:02,  3.59batch/s, batch_nb=701, gpu=0, loss=0.267, v_nb=0]\n",
      "Epoch 4:  99%|█████████▉| 795/803 [03:20<00:02,  3.55batch/s, batch_nb=701, gpu=0, loss=0.267, v_nb=0]\n",
      "Epoch 4:  99%|█████████▉| 797/803 [03:20<00:01,  3.46batch/s, batch_nb=701, gpu=0, loss=0.267, v_nb=0]\n",
      "Epoch 4: 100%|█████████▉| 799/803 [03:21<00:01,  3.47batch/s, batch_nb=701, gpu=0, loss=0.267, v_nb=0]\n",
      "Epoch 4: 100%|██████████| 803/803 [03:22<00:00,  3.44batch/s, batch_nb=701, gpu=0, loss=0.267, v_nb=0]\n",
      "Epoch 5:  87%|████████▋ | 702/803 [02:53<00:24,  4.06batch/s, batch_nb=701, gpu=0, loss=0.244, v_nb=0]\n",
      "Validating:   0%|          | 0/101 [00:00<?, ?batch/s]\u001b[A\n",
      "Epoch 5:  88%|████████▊ | 703/803 [02:54<00:41,  2.44batch/s, batch_nb=701, gpu=0, loss=0.244, v_nb=0]\n",
      "Epoch 5:  88%|████████▊ | 705/803 [02:54<00:36,  2.65batch/s, batch_nb=701, gpu=0, loss=0.244, v_nb=0]\n",
      "Epoch 5:  88%|████████▊ | 707/803 [02:55<00:34,  2.79batch/s, batch_nb=701, gpu=0, loss=0.244, v_nb=0]\n",
      "Epoch 5:  88%|████████▊ | 709/803 [02:56<00:32,  2.87batch/s, batch_nb=701, gpu=0, loss=0.244, v_nb=0]\n",
      "Epoch 5:  89%|████████▊ | 711/803 [02:56<00:30,  3.05batch/s, batch_nb=701, gpu=0, loss=0.244, v_nb=0]\n",
      "Epoch 5:  89%|████████▉ | 713/803 [02:57<00:28,  3.15batch/s, batch_nb=701, gpu=0, loss=0.244, v_nb=0]\n",
      "Epoch 5:  89%|████████▉ | 715/803 [02:57<00:26,  3.28batch/s, batch_nb=701, gpu=0, loss=0.244, v_nb=0]\n",
      "Epoch 5:  89%|████████▉ | 716/803 [02:57<00:21,  4.09batch/s, batch_nb=701, gpu=0, loss=0.244, v_nb=0]\n",
      "Epoch 5:  89%|████████▉ | 717/803 [02:58<00:28,  2.97batch/s, batch_nb=701, gpu=0, loss=0.244, v_nb=0]\n",
      "Epoch 5:  90%|████████▉ | 719/803 [02:59<00:27,  3.02batch/s, batch_nb=701, gpu=0, loss=0.244, v_nb=0]\n",
      "Epoch 5:  90%|████████▉ | 721/803 [02:59<00:25,  3.21batch/s, batch_nb=701, gpu=0, loss=0.244, v_nb=0]\n",
      "Epoch 5:  90%|█████████ | 723/803 [03:00<00:23,  3.35batch/s, batch_nb=701, gpu=0, loss=0.244, v_nb=0]\n",
      "Epoch 5:  90%|█████████ | 725/803 [03:00<00:22,  3.50batch/s, batch_nb=701, gpu=0, loss=0.244, v_nb=0]\n",
      "Epoch 5:  91%|█████████ | 727/803 [03:01<00:21,  3.53batch/s, batch_nb=701, gpu=0, loss=0.244, v_nb=0]\n",
      "Epoch 5:  91%|█████████ | 729/803 [03:01<00:20,  3.57batch/s, batch_nb=701, gpu=0, loss=0.244, v_nb=0]\n",
      "Epoch 5:  91%|█████████ | 731/803 [03:02<00:19,  3.62batch/s, batch_nb=701, gpu=0, loss=0.244, v_nb=0]\n",
      "Epoch 5:  91%|█████████▏| 733/803 [03:02<00:20,  3.49batch/s, batch_nb=701, gpu=0, loss=0.244, v_nb=0]\n",
      "Epoch 5:  92%|█████████▏| 735/803 [03:03<00:19,  3.52batch/s, batch_nb=701, gpu=0, loss=0.244, v_nb=0]\n",
      "Epoch 5:  92%|█████████▏| 737/803 [03:04<00:18,  3.50batch/s, batch_nb=701, gpu=0, loss=0.244, v_nb=0]\n",
      "Epoch 5:  92%|█████████▏| 739/803 [03:04<00:18,  3.52batch/s, batch_nb=701, gpu=0, loss=0.244, v_nb=0]\n",
      "Epoch 5:  92%|█████████▏| 741/803 [03:05<00:16,  3.71batch/s, batch_nb=701, gpu=0, loss=0.244, v_nb=0]\n",
      "Epoch 5:  93%|█████████▎| 743/803 [03:05<00:16,  3.61batch/s, batch_nb=701, gpu=0, loss=0.244, v_nb=0]\n",
      "Epoch 5:  93%|█████████▎| 745/803 [03:06<00:15,  3.73batch/s, batch_nb=701, gpu=0, loss=0.244, v_nb=0]\n",
      "Epoch 5:  93%|█████████▎| 747/803 [03:06<00:14,  3.77batch/s, batch_nb=701, gpu=0, loss=0.244, v_nb=0]\n",
      "Epoch 5:  93%|█████████▎| 749/803 [03:07<00:15,  3.56batch/s, batch_nb=701, gpu=0, loss=0.244, v_nb=0]\n",
      "Epoch 5:  94%|█████████▎| 751/803 [03:07<00:14,  3.62batch/s, batch_nb=701, gpu=0, loss=0.244, v_nb=0]\n",
      "Epoch 5:  94%|█████████▍| 753/803 [03:08<00:14,  3.53batch/s, batch_nb=701, gpu=0, loss=0.244, v_nb=0]\n",
      "Epoch 5:  94%|█████████▍| 755/803 [03:09<00:14,  3.39batch/s, batch_nb=701, gpu=0, loss=0.244, v_nb=0]\n",
      "Epoch 5:  94%|█████████▍| 757/803 [03:09<00:13,  3.43batch/s, batch_nb=701, gpu=0, loss=0.244, v_nb=0]\n",
      "Epoch 5:  95%|█████████▍| 759/803 [03:10<00:12,  3.46batch/s, batch_nb=701, gpu=0, loss=0.244, v_nb=0]\n",
      "Epoch 5:  95%|█████████▍| 761/803 [03:10<00:12,  3.47batch/s, batch_nb=701, gpu=0, loss=0.244, v_nb=0]\n",
      "Epoch 5:  95%|█████████▌| 763/803 [03:11<00:11,  3.35batch/s, batch_nb=701, gpu=0, loss=0.244, v_nb=0]\n",
      "Epoch 5:  95%|█████████▌| 765/803 [03:12<00:11,  3.42batch/s, batch_nb=701, gpu=0, loss=0.244, v_nb=0]\n",
      "Epoch 5:  96%|█████████▌| 767/803 [03:12<00:10,  3.33batch/s, batch_nb=701, gpu=0, loss=0.244, v_nb=0]\n",
      "Epoch 5:  96%|█████████▌| 769/803 [03:13<00:09,  3.45batch/s, batch_nb=701, gpu=0, loss=0.244, v_nb=0]\n",
      "Epoch 5:  96%|█████████▌| 771/803 [03:13<00:09,  3.45batch/s, batch_nb=701, gpu=0, loss=0.244, v_nb=0]\n",
      "Epoch 5:  96%|█████████▋| 773/803 [03:14<00:09,  3.33batch/s, batch_nb=701, gpu=0, loss=0.244, v_nb=0]\n",
      "Epoch 5:  97%|█████████▋| 775/803 [03:15<00:08,  3.36batch/s, batch_nb=701, gpu=0, loss=0.244, v_nb=0]\n",
      "Epoch 5:  97%|█████████▋| 777/803 [03:15<00:07,  3.35batch/s, batch_nb=701, gpu=0, loss=0.244, v_nb=0]\n",
      "Epoch 5:  97%|█████████▋| 779/803 [03:16<00:06,  3.47batch/s, batch_nb=701, gpu=0, loss=0.244, v_nb=0]\n",
      "Epoch 5:  97%|█████████▋| 781/803 [03:16<00:06,  3.44batch/s, batch_nb=701, gpu=0, loss=0.244, v_nb=0]\n",
      "Epoch 5:  98%|█████████▊| 783/803 [03:17<00:05,  3.39batch/s, batch_nb=701, gpu=0, loss=0.244, v_nb=0]\n",
      "Epoch 5:  98%|█████████▊| 785/803 [03:17<00:05,  3.38batch/s, batch_nb=701, gpu=0, loss=0.244, v_nb=0]\n",
      "Epoch 5:  98%|█████████▊| 787/803 [03:18<00:04,  3.45batch/s, batch_nb=701, gpu=0, loss=0.244, v_nb=0]\n",
      "Epoch 5:  98%|█████████▊| 789/803 [03:19<00:04,  3.36batch/s, batch_nb=701, gpu=0, loss=0.244, v_nb=0]\n",
      "Epoch 5:  99%|█████████▊| 791/803 [03:19<00:03,  3.53batch/s, batch_nb=701, gpu=0, loss=0.244, v_nb=0]\n",
      "Epoch 5:  99%|█████████▉| 793/803 [03:20<00:02,  3.50batch/s, batch_nb=701, gpu=0, loss=0.244, v_nb=0]\n",
      "Epoch 5:  99%|█████████▉| 795/803 [03:20<00:02,  3.55batch/s, batch_nb=701, gpu=0, loss=0.244, v_nb=0]\n",
      "Epoch 5:  99%|█████████▉| 797/803 [03:21<00:01,  3.59batch/s, batch_nb=701, gpu=0, loss=0.244, v_nb=0]\n",
      "Epoch 5: 100%|█████████▉| 799/803 [03:21<00:01,  3.50batch/s, batch_nb=701, gpu=0, loss=0.244, v_nb=0]\n",
      "Epoch 5: 100%|██████████| 803/803 [03:22<00:00,  3.44batch/s, batch_nb=701, gpu=0, loss=0.244, v_nb=0]\n",
      "Epoch 5: 100%|██████████| 803/803 [03:22<00:00,  3.96batch/s, batch_nb=701, gpu=0, loss=0.244, v_nb=0]\n"
     ]
    },
    {
     "data": {
      "text/plain": [
       "1"
      ]
     },
     "execution_count": 9,
     "metadata": {},
     "output_type": "execute_result"
    }
   ],
   "source": [
    "logger = pl.logging.TestTubeLogger(\"catinous_log\", name=\"harder_combined\")\n",
    "trainer = Trainer(gpus=1, max_nb_epochs=5, early_stop_callback=False, logger=logger)\n",
    "trainer.fit(model)"
   ]
  },
  {
   "cell_type": "markdown",
   "metadata": {},
   "source": [
    "# Loading test sets"
   ]
  },
  {
   "cell_type": "code",
   "execution_count": 2,
   "metadata": {},
   "outputs": [],
   "source": [
    "test_lr = DataLoader(CatsinomDataset('/project/catinous/cat_data_harder/', 'catsinom_lr_harder_dataset.csv', split='test'), batch_size=8, num_workers=4)\n",
    "test_hr = DataLoader(CatsinomDataset('/project/catinous/cat_data_harder/', 'catsinom_hr_harder_dataset.csv', split='test'), batch_size=8, num_workers=4)\n",
    "device = torch.device('cuda')"
   ]
  },
  {
   "cell_type": "markdown",
   "metadata": {},
   "source": [
    "## Testing LR model"
   ]
  },
  {
   "cell_type": "code",
   "execution_count": 4,
   "metadata": {},
   "outputs": [],
   "source": [
    "model = CatsinomModel.load_from_checkpoint('/project/catinous/trained_models/baseline_harder_lr.ckpt')\n",
    "model.to(device)\n",
    "model.freeze()"
   ]
  },
  {
   "cell_type": "code",
   "execution_count": 5,
   "metadata": {},
   "outputs": [
    {
     "data": {
      "text/plain": [
       "<matplotlib.axes._subplots.AxesSubplot at 0x7f5d31301198>"
      ]
     },
     "execution_count": 5,
     "metadata": {},
     "output_type": "execute_result"
    },
    {
     "data": {
      "image/png": "[encoded data removed]",
      "text/plain": [
       "<Figure size 432x288 with 1 Axes>"
      ]
     },
     "metadata": {
      "needs_background": "light"
     },
     "output_type": "display_data"
    },
    {
     "data": {
      "image/png": "[encoded data removed]",
      "text/plain": [
       "<Figure size 432x288 with 1 Axes>"
      ]
     },
     "metadata": {
      "needs_background": "light"
     },
     "output_type": "display_data"
    }
   ],
   "source": [
    "out_proba = []\n",
    "true = []\n",
    "for data in test_lr:\n",
    "    x, y, img = data\n",
    "    x = x.float().to(device)\n",
    "    y_out = model.forward(x)\n",
    "    y_out = torch.sigmoid(y_out)\n",
    "    \n",
    "    true.extend(y.cpu().numpy())\n",
    "    out_proba.extend([o[0] for o in y_out.cpu().numpy()])\n",
    "vu.plot_roc_curve(true, out_proba, title='LR Test (trained on LR dataset)')\n",
    "\n",
    "out_proba = []\n",
    "true = []\n",
    "for data in test_hr:\n",
    "    x, y, img = data\n",
    "    x = x.float().to(device)\n",
    "    y_out = model.forward(x)\n",
    "    y_out = torch.sigmoid(y_out)\n",
    "    \n",
    "    true.extend(y.cpu().numpy())\n",
    "    out_proba.extend([o[0] for o in y_out.cpu().numpy()])\n",
    "vu.plot_roc_curve(true, out_proba, title='HR Test (trained on LR dataset)')"
   ]
  },
  {
   "cell_type": "markdown",
   "metadata": {},
   "source": [
    "## Testing HR Model"
   ]
  },
  {
   "cell_type": "code",
   "execution_count": 6,
   "metadata": {},
   "outputs": [],
   "source": [
    "model = CatsinomModel.load_from_checkpoint('/project/catinous/trained_models/baseline_harder_hr.ckpt')\n",
    "model.to(device)\n",
    "model.freeze()"
   ]
  },
  {
   "cell_type": "code",
   "execution_count": 7,
   "metadata": {},
   "outputs": [
    {
     "data": {
      "text/plain": [
       "<matplotlib.axes._subplots.AxesSubplot at 0x7f5d28ac6c18>"
      ]
     },
     "execution_count": 7,
     "metadata": {},
     "output_type": "execute_result"
    },
    {
     "data": {
      "image/png": "[encoded data removed]",
      "text/plain": [
       "<Figure size 432x288 with 1 Axes>"
      ]
     },
     "metadata": {
      "needs_background": "light"
     },
     "output_type": "display_data"
    },
    {
     "data": {
      "image/png": "[encoded data removed]",
      "text/plain": [
       "<Figure size 432x288 with 1 Axes>"
      ]
     },
     "metadata": {
      "needs_background": "light"
     },
     "output_type": "display_data"
    }
   ],
   "source": [
    "out_proba = []\n",
    "true = []\n",
    "for data in test_lr:\n",
    "    x, y, img = data\n",
    "    x = x.float().to(device)\n",
    "    y_out = model.forward(x)\n",
    "    y_out = torch.sigmoid(y_out)\n",
    "    \n",
    "    true.extend(y.cpu().numpy())\n",
    "    out_proba.extend([o[0] for o in y_out.cpu().numpy()])\n",
    "vu.plot_roc_curve(true, out_proba, title='LR Test (trained on HR dataset)')\n",
    "\n",
    "out_proba = []\n",
    "true = []\n",
    "for data in test_hr:\n",
    "    x, y, img = data\n",
    "    x = x.float().to(device)\n",
    "    y_out = model.forward(x)\n",
    "    y_out = torch.sigmoid(y_out)\n",
    "    \n",
    "    true.extend(y.cpu().numpy())\n",
    "    out_proba.extend([o[0] for o in y_out.cpu().numpy()])\n",
    "vu.plot_roc_curve(true, out_proba, title='HR Test (trained on HR dataset)')"
   ]
  },
  {
   "cell_type": "markdown",
   "metadata": {},
   "source": [
    "## Testing combined model"
   ]
  },
  {
   "cell_type": "code",
   "execution_count": 4,
   "metadata": {},
   "outputs": [],
   "source": [
    "model = CatsinomModel.load_from_checkpoint('/project/catinous/trained_models/baseline_harder_combined.ckpt')\n",
    "model.to(device)\n",
    "model.freeze()"
   ]
  },
  {
   "cell_type": "code",
   "execution_count": 5,
   "metadata": {},
   "outputs": [
    {
     "data": {
      "text/plain": [
       "<matplotlib.axes._subplots.AxesSubplot at 0x7f460fe02a20>"
      ]
     },
     "execution_count": 5,
     "metadata": {},
     "output_type": "execute_result"
    },
    {
     "data": {
      "image/png": "[encoded data removed]",
      "text/plain": [
       "<Figure size 432x288 with 1 Axes>"
      ]
     },
     "metadata": {
      "needs_background": "light"
     },
     "output_type": "display_data"
    },
    {
     "data": {
      "image/png": "[encoded data removed]",
      "text/plain": [
       "<Figure size 432x288 with 1 Axes>"
      ]
     },
     "metadata": {
      "needs_background": "light"
     },
     "output_type": "display_data"
    }
   ],
   "source": [
    "out_proba = []\n",
    "true = []\n",
    "for data in test_lr:\n",
    "    x, y, img = data\n",
    "    x = x.float().to(device)\n",
    "    y_out = model.forward(x)\n",
    "    y_out = torch.sigmoid(y_out)\n",
    "    \n",
    "    true.extend(y.cpu().numpy())\n",
    "    out_proba.extend([o[0] for o in y_out.cpu().numpy()])\n",
    "vu.plot_roc_curve(true, out_proba, title='LR Test (trained on combined dataset)')\n",
    "\n",
    "out_proba = []\n",
    "true = []\n",
    "for data in test_hr:\n",
    "    x, y, img = data\n",
    "    x = x.float().to(device)\n",
    "    y_out = model.forward(x)\n",
    "    y_out = torch.sigmoid(y_out)\n",
    "    \n",
    "    true.extend(y.cpu().numpy())\n",
    "    out_proba.extend([o[0] for o in y_out.cpu().numpy()])\n",
    "vu.plot_roc_curve(true, out_proba, title='HR Test (trained on combined dataset)')"
   ]
  },
  {
   "cell_type": "markdown",
   "metadata": {},
   "source": [
    "## Loading lr checkpoint, train hr"
   ]
  },
  {
   "cell_type": "code",
   "execution_count": 6,
   "metadata": {},
   "outputs": [
    {
     "data": {
      "text/plain": [
       "<All keys matched successfully>"
      ]
     },
     "execution_count": 6,
     "metadata": {},
     "output_type": "execute_result"
    }
   ],
   "source": [
    "hparams = dict() #TODO: this shouldn't be like that\n",
    "hparams['root_dir'] = '/project/catinous/cat_data_harder/'\n",
    "hparams['datasetfile'] = 'catsinom_hr_harder_dataset.csv'\n",
    "hparams['batch_size'] = 8\n",
    "model = CatsinomModel(argparse.Namespace(**hparams))\n",
    "checkpoint = torch.load('/project/catinous/trained_models/baseline_harder_lr.ckpt')\n",
    "model.load_state_dict(checkpoint['state_dict'])"
   ]
  },
  {
   "cell_type": "code",
   "execution_count": 7,
   "metadata": {
    "scrolled": true
   },
   "outputs": [
    {
     "name": "stderr",
     "output_type": "stream",
     "text": [
      "Validation sanity check:   0%|          | 0/5 [00:00<?, ?batch/s]"
     ]
    },
    {
     "name": "stdout",
     "output_type": "stream",
     "text": [
      "/project/catinous/cat_data_harder/ catsinom_hr_harder_dataset.csv\n"
     ]
    },
    {
     "name": "stderr",
     "output_type": "stream",
     "text": [
      "Epoch 1:  88%|████████▊ | 371/424 [01:32<00:13,  4.07batch/s, batch_nb=370, gpu=0, loss=0.252, v_nb=0]\n",
      "Validating:   0%|          | 0/53 [00:00<?, ?batch/s]\u001b[A\n",
      "Epoch 1:  88%|████████▊ | 372/424 [01:33<00:21,  2.44batch/s, batch_nb=370, gpu=0, loss=0.252, v_nb=0]\n",
      "Epoch 1:  88%|████████▊ | 374/424 [01:33<00:18,  2.74batch/s, batch_nb=370, gpu=0, loss=0.252, v_nb=0]\n",
      "Epoch 1:  89%|████████▊ | 376/424 [01:34<00:16,  2.98batch/s, batch_nb=370, gpu=0, loss=0.252, v_nb=0]\n",
      "Epoch 1:  89%|████████▉ | 378/424 [01:34<00:14,  3.11batch/s, batch_nb=370, gpu=0, loss=0.252, v_nb=0]\n",
      "Epoch 1:  90%|████████▉ | 380/424 [01:35<00:13,  3.21batch/s, batch_nb=370, gpu=0, loss=0.252, v_nb=0]\n",
      "Epoch 1:  90%|█████████ | 382/424 [01:35<00:12,  3.29batch/s, batch_nb=370, gpu=0, loss=0.252, v_nb=0]\n",
      "Epoch 1:  91%|█████████ | 384/424 [01:36<00:11,  3.44batch/s, batch_nb=370, gpu=0, loss=0.252, v_nb=0]\n",
      "Epoch 1:  91%|█████████ | 386/424 [01:36<00:10,  3.50batch/s, batch_nb=370, gpu=0, loss=0.252, v_nb=0]\n",
      "Epoch 1:  92%|█████████▏| 388/424 [01:37<00:10,  3.53batch/s, batch_nb=370, gpu=0, loss=0.252, v_nb=0]\n",
      "Epoch 1:  92%|█████████▏| 390/424 [01:38<00:09,  3.58batch/s, batch_nb=370, gpu=0, loss=0.252, v_nb=0]\n",
      "Epoch 1:  92%|█████████▏| 392/424 [01:38<00:08,  3.58batch/s, batch_nb=370, gpu=0, loss=0.252, v_nb=0]\n",
      "Epoch 1:  93%|█████████▎| 394/424 [01:39<00:08,  3.56batch/s, batch_nb=370, gpu=0, loss=0.252, v_nb=0]\n",
      "Epoch 1:  93%|█████████▎| 396/424 [01:39<00:07,  3.64batch/s, batch_nb=370, gpu=0, loss=0.252, v_nb=0]\n",
      "Epoch 1:  94%|█████████▍| 398/424 [01:40<00:07,  3.62batch/s, batch_nb=370, gpu=0, loss=0.252, v_nb=0]\n",
      "Epoch 1:  94%|█████████▍| 400/424 [01:40<00:06,  3.59batch/s, batch_nb=370, gpu=0, loss=0.252, v_nb=0]\n",
      "Epoch 1:  95%|█████████▍| 402/424 [01:41<00:06,  3.65batch/s, batch_nb=370, gpu=0, loss=0.252, v_nb=0]\n",
      "Epoch 1:  95%|█████████▌| 404/424 [01:41<00:05,  3.59batch/s, batch_nb=370, gpu=0, loss=0.252, v_nb=0]\n",
      "Epoch 1:  96%|█████████▌| 406/424 [01:42<00:05,  3.59batch/s, batch_nb=370, gpu=0, loss=0.252, v_nb=0]\n",
      "Epoch 1:  96%|█████████▌| 408/424 [01:43<00:04,  3.59batch/s, batch_nb=370, gpu=0, loss=0.252, v_nb=0]\n",
      "Epoch 1:  97%|█████████▋| 410/424 [01:43<00:03,  3.57batch/s, batch_nb=370, gpu=0, loss=0.252, v_nb=0]\n",
      "Epoch 1:  97%|█████████▋| 412/424 [01:44<00:03,  3.68batch/s, batch_nb=370, gpu=0, loss=0.252, v_nb=0]\n",
      "Epoch 1:  97%|█████████▋| 413/424 [01:44<00:02,  4.45batch/s, batch_nb=370, gpu=0, loss=0.252, v_nb=0]\n",
      "Epoch 1:  98%|█████████▊| 414/424 [01:44<00:03,  3.33batch/s, batch_nb=370, gpu=0, loss=0.252, v_nb=0]\n",
      "Epoch 1:  98%|█████████▊| 416/424 [01:45<00:02,  3.45batch/s, batch_nb=370, gpu=0, loss=0.252, v_nb=0]\n",
      "Epoch 1:  98%|█████████▊| 417/424 [01:45<00:01,  4.17batch/s, batch_nb=370, gpu=0, loss=0.252, v_nb=0]\n",
      "Epoch 1:  99%|█████████▊| 418/424 [01:45<00:01,  3.43batch/s, batch_nb=370, gpu=0, loss=0.252, v_nb=0]\n",
      "Epoch 1:  99%|█████████▉| 419/424 [01:45<00:01,  3.88batch/s, batch_nb=370, gpu=0, loss=0.252, v_nb=0]\n",
      "Epoch 1:  99%|█████████▉| 420/424 [01:46<00:01,  3.43batch/s, batch_nb=370, gpu=0, loss=0.252, v_nb=0]\n",
      "Epoch 1:  99%|█████████▉| 421/424 [01:46<00:00,  3.08batch/s, batch_nb=370, gpu=0, loss=0.252, v_nb=0]\n",
      "Epoch 1: 100%|█████████▉| 422/424 [01:46<00:00,  3.28batch/s, batch_nb=370, gpu=0, loss=0.252, v_nb=0]\n",
      "Epoch 1: 100%|█████████▉| 423/424 [01:47<00:00,  3.31batch/s, batch_nb=370, gpu=0, loss=0.252, v_nb=0]\n",
      "Epoch 1: 100%|██████████| 424/424 [01:47<00:00,  3.41batch/s, batch_nb=370, gpu=0, loss=0.252, v_nb=0]\n",
      "Epoch 2:  88%|████████▊ | 371/424 [01:31<00:13,  3.80batch/s, batch_nb=370, gpu=0, loss=0.214, v_nb=0]\n",
      "Validating:   0%|          | 0/53 [00:00<?, ?batch/s]\u001b[A\n",
      "Epoch 2:  88%|████████▊ | 372/424 [01:32<00:21,  2.42batch/s, batch_nb=370, gpu=0, loss=0.214, v_nb=0]\n",
      "Epoch 2:  88%|████████▊ | 374/424 [01:33<00:18,  2.69batch/s, batch_nb=370, gpu=0, loss=0.214, v_nb=0]\n",
      "Epoch 2:  89%|████████▊ | 376/424 [01:33<00:16,  2.96batch/s, batch_nb=370, gpu=0, loss=0.214, v_nb=0]\n",
      "Epoch 2:  89%|████████▉ | 378/424 [01:34<00:15,  3.05batch/s, batch_nb=370, gpu=0, loss=0.214, v_nb=0]\n",
      "Epoch 2:  90%|████████▉ | 380/424 [01:34<00:13,  3.18batch/s, batch_nb=370, gpu=0, loss=0.214, v_nb=0]\n",
      "Epoch 2:  90%|█████████ | 382/424 [01:35<00:12,  3.26batch/s, batch_nb=370, gpu=0, loss=0.214, v_nb=0]\n",
      "Epoch 2:  91%|█████████ | 384/424 [01:35<00:12,  3.30batch/s, batch_nb=370, gpu=0, loss=0.214, v_nb=0]\n",
      "Epoch 2:  91%|█████████ | 386/424 [01:36<00:11,  3.39batch/s, batch_nb=370, gpu=0, loss=0.214, v_nb=0]\n",
      "Epoch 2:  92%|█████████▏| 388/424 [01:37<00:10,  3.46batch/s, batch_nb=370, gpu=0, loss=0.214, v_nb=0]\n",
      "Epoch 2:  92%|█████████▏| 390/424 [01:37<00:09,  3.51batch/s, batch_nb=370, gpu=0, loss=0.214, v_nb=0]\n",
      "Epoch 2:  92%|█████████▏| 392/424 [01:38<00:09,  3.48batch/s, batch_nb=370, gpu=0, loss=0.214, v_nb=0]\n",
      "Epoch 2:  93%|█████████▎| 394/424 [01:38<00:08,  3.52batch/s, batch_nb=370, gpu=0, loss=0.214, v_nb=0]\n",
      "Epoch 2:  93%|█████████▎| 396/424 [01:39<00:08,  3.49batch/s, batch_nb=370, gpu=0, loss=0.214, v_nb=0]\n",
      "Epoch 2:  94%|█████████▍| 398/424 [01:39<00:07,  3.54batch/s, batch_nb=370, gpu=0, loss=0.214, v_nb=0]\n",
      "Epoch 2:  94%|█████████▍| 400/424 [01:40<00:06,  3.49batch/s, batch_nb=370, gpu=0, loss=0.214, v_nb=0]\n",
      "Epoch 2:  95%|█████████▍| 402/424 [01:41<00:06,  3.50batch/s, batch_nb=370, gpu=0, loss=0.214, v_nb=0]\n",
      "Epoch 2:  95%|█████████▌| 404/424 [01:41<00:05,  3.52batch/s, batch_nb=370, gpu=0, loss=0.214, v_nb=0]\n",
      "Epoch 2:  96%|█████████▌| 406/424 [01:42<00:05,  3.49batch/s, batch_nb=370, gpu=0, loss=0.214, v_nb=0]\n",
      "Epoch 2:  96%|█████████▌| 408/424 [01:42<00:04,  3.55batch/s, batch_nb=370, gpu=0, loss=0.214, v_nb=0]\n",
      "Epoch 2:  97%|█████████▋| 410/424 [01:43<00:03,  3.50batch/s, batch_nb=370, gpu=0, loss=0.214, v_nb=0]\n",
      "Epoch 2:  97%|█████████▋| 412/424 [01:43<00:03,  3.41batch/s, batch_nb=370, gpu=0, loss=0.214, v_nb=0]\n",
      "Epoch 2:  98%|█████████▊| 414/424 [01:44<00:02,  3.43batch/s, batch_nb=370, gpu=0, loss=0.214, v_nb=0]\n",
      "Epoch 2:  98%|█████████▊| 416/424 [01:45<00:02,  3.41batch/s, batch_nb=370, gpu=0, loss=0.214, v_nb=0]\n",
      "Epoch 2:  99%|█████████▊| 418/424 [01:45<00:01,  3.36batch/s, batch_nb=370, gpu=0, loss=0.214, v_nb=0]\n",
      "Epoch 2:  99%|█████████▉| 420/424 [01:46<00:01,  3.34batch/s, batch_nb=370, gpu=0, loss=0.214, v_nb=0]\n",
      "Epoch 2: 100%|█████████▉| 422/424 [01:46<00:00,  3.30batch/s, batch_nb=370, gpu=0, loss=0.214, v_nb=0]\n",
      "Epoch 2: 100%|██████████| 424/424 [01:47<00:00,  3.33batch/s, batch_nb=370, gpu=0, loss=0.214, v_nb=0]\n",
      "Epoch 3:  88%|████████▊ | 371/424 [01:36<00:14,  3.59batch/s, batch_nb=370, gpu=0, loss=0.191, v_nb=0]\n",
      "Validating:   0%|          | 0/53 [00:00<?, ?batch/s]\u001b[A\n",
      "Epoch 3:  88%|████████▊ | 372/424 [01:37<00:25,  2.07batch/s, batch_nb=370, gpu=0, loss=0.191, v_nb=0]\n",
      "Epoch 3:  88%|████████▊ | 374/424 [01:37<00:21,  2.30batch/s, batch_nb=370, gpu=0, loss=0.191, v_nb=0]\n",
      "Epoch 3:  89%|████████▊ | 376/424 [01:38<00:19,  2.51batch/s, batch_nb=370, gpu=0, loss=0.191, v_nb=0]\n",
      "Epoch 3:  89%|████████▉ | 378/424 [01:39<00:17,  2.68batch/s, batch_nb=370, gpu=0, loss=0.191, v_nb=0]\n",
      "Epoch 3:  90%|████████▉ | 380/424 [01:39<00:15,  2.76batch/s, batch_nb=370, gpu=0, loss=0.191, v_nb=0]\n",
      "Epoch 3:  90%|█████████ | 382/424 [01:40<00:15,  2.78batch/s, batch_nb=370, gpu=0, loss=0.191, v_nb=0]\n",
      "Epoch 3:  91%|█████████ | 384/424 [01:41<00:13,  2.90batch/s, batch_nb=370, gpu=0, loss=0.191, v_nb=0]\n",
      "Epoch 3:  91%|█████████ | 386/424 [01:41<00:12,  2.94batch/s, batch_nb=370, gpu=0, loss=0.191, v_nb=0]\n",
      "Epoch 3:  92%|█████████▏| 388/424 [01:42<00:12,  2.94batch/s, batch_nb=370, gpu=0, loss=0.191, v_nb=0]\n",
      "Epoch 3:  92%|█████████▏| 390/424 [01:43<00:11,  2.84batch/s, batch_nb=370, gpu=0, loss=0.191, v_nb=0]\n",
      "Epoch 3:  92%|█████████▏| 392/424 [01:44<00:11,  2.83batch/s, batch_nb=370, gpu=0, loss=0.191, v_nb=0]\n",
      "Epoch 3:  93%|█████████▎| 394/424 [01:44<00:10,  2.88batch/s, batch_nb=370, gpu=0, loss=0.191, v_nb=0]\n",
      "Epoch 3:  93%|█████████▎| 396/424 [01:45<00:09,  3.00batch/s, batch_nb=370, gpu=0, loss=0.191, v_nb=0]\n",
      "Epoch 3:  94%|█████████▍| 398/424 [01:45<00:08,  3.05batch/s, batch_nb=370, gpu=0, loss=0.191, v_nb=0]\n",
      "Epoch 3:  94%|█████████▍| 400/424 [01:46<00:07,  3.10batch/s, batch_nb=370, gpu=0, loss=0.191, v_nb=0]\n",
      "Epoch 3:  95%|█████████▍| 402/424 [01:47<00:07,  3.14batch/s, batch_nb=370, gpu=0, loss=0.191, v_nb=0]\n",
      "Epoch 3:  95%|█████████▌| 404/424 [01:47<00:06,  3.18batch/s, batch_nb=370, gpu=0, loss=0.191, v_nb=0]\n",
      "Epoch 3:  96%|█████████▌| 405/424 [01:47<00:04,  3.98batch/s, batch_nb=370, gpu=0, loss=0.191, v_nb=0]\n",
      "Epoch 3:  96%|█████████▌| 406/424 [01:48<00:06,  2.89batch/s, batch_nb=370, gpu=0, loss=0.191, v_nb=0]\n",
      "Epoch 3:  96%|█████████▌| 408/424 [01:49<00:05,  3.00batch/s, batch_nb=370, gpu=0, loss=0.191, v_nb=0]\n",
      "Epoch 3:  97%|█████████▋| 410/424 [01:49<00:04,  3.09batch/s, batch_nb=370, gpu=0, loss=0.191, v_nb=0]\n",
      "Epoch 3:  97%|█████████▋| 412/424 [01:50<00:04,  2.99batch/s, batch_nb=370, gpu=0, loss=0.191, v_nb=0]\n",
      "Epoch 3:  98%|█████████▊| 414/424 [01:51<00:03,  3.01batch/s, batch_nb=370, gpu=0, loss=0.191, v_nb=0]\n",
      "Epoch 3:  98%|█████████▊| 416/424 [01:51<00:02,  2.99batch/s, batch_nb=370, gpu=0, loss=0.191, v_nb=0]\n",
      "Epoch 3:  99%|█████████▊| 418/424 [01:52<00:01,  3.11batch/s, batch_nb=370, gpu=0, loss=0.191, v_nb=0]\n",
      "Epoch 3:  99%|█████████▉| 420/424 [01:53<00:01,  3.04batch/s, batch_nb=370, gpu=0, loss=0.191, v_nb=0]\n",
      "Epoch 3: 100%|█████████▉| 422/424 [01:53<00:00,  3.05batch/s, batch_nb=370, gpu=0, loss=0.191, v_nb=0]\n",
      "Epoch 3: 100%|██████████| 424/424 [01:54<00:00,  3.05batch/s, batch_nb=370, gpu=0, loss=0.191, v_nb=0]\n",
      "Epoch 4:  88%|████████▊ | 371/424 [01:33<00:12,  4.11batch/s, batch_nb=370, gpu=0, loss=0.146, v_nb=0]\n",
      "Validating:   0%|          | 0/53 [00:00<?, ?batch/s]\u001b[A\n",
      "Epoch 4:  88%|████████▊ | 372/424 [01:34<00:21,  2.38batch/s, batch_nb=370, gpu=0, loss=0.146, v_nb=0]\n",
      "Epoch 4:  88%|████████▊ | 374/424 [01:35<00:18,  2.69batch/s, batch_nb=370, gpu=0, loss=0.146, v_nb=0]\n",
      "Epoch 4:  89%|████████▊ | 376/424 [01:35<00:16,  2.91batch/s, batch_nb=370, gpu=0, loss=0.146, v_nb=0]\n",
      "Epoch 4:  89%|████████▉ | 378/424 [01:36<00:14,  3.09batch/s, batch_nb=370, gpu=0, loss=0.146, v_nb=0]\n",
      "Epoch 4:  90%|████████▉ | 380/424 [01:36<00:13,  3.27batch/s, batch_nb=370, gpu=0, loss=0.146, v_nb=0]\n",
      "Epoch 4:  90%|█████████ | 382/424 [01:37<00:12,  3.35batch/s, batch_nb=370, gpu=0, loss=0.146, v_nb=0]\n",
      "Epoch 4:  91%|█████████ | 384/424 [01:37<00:11,  3.46batch/s, batch_nb=370, gpu=0, loss=0.146, v_nb=0]\n",
      "Epoch 4:  91%|█████████ | 386/424 [01:38<00:10,  3.52batch/s, batch_nb=370, gpu=0, loss=0.146, v_nb=0]\n",
      "Epoch 4:  92%|█████████▏| 388/424 [01:38<00:09,  3.61batch/s, batch_nb=370, gpu=0, loss=0.146, v_nb=0]\n",
      "Epoch 4:  92%|█████████▏| 389/424 [01:39<00:08,  4.04batch/s, batch_nb=370, gpu=0, loss=0.146, v_nb=0]\n",
      "Epoch 4:  92%|█████████▏| 390/424 [01:39<00:09,  3.55batch/s, batch_nb=370, gpu=0, loss=0.146, v_nb=0]\n",
      "Epoch 4:  92%|█████████▏| 391/424 [01:39<00:08,  3.77batch/s, batch_nb=370, gpu=0, loss=0.146, v_nb=0]\n",
      "Epoch 4:  92%|█████████▏| 392/424 [01:39<00:08,  3.62batch/s, batch_nb=370, gpu=0, loss=0.146, v_nb=0]\n",
      "Epoch 4:  93%|█████████▎| 393/424 [01:40<00:08,  3.72batch/s, batch_nb=370, gpu=0, loss=0.146, v_nb=0]\n",
      "Epoch 4:  93%|█████████▎| 394/424 [01:40<00:08,  3.68batch/s, batch_nb=370, gpu=0, loss=0.146, v_nb=0]\n",
      "Epoch 4:  93%|█████████▎| 395/424 [01:40<00:07,  3.63batch/s, batch_nb=370, gpu=0, loss=0.146, v_nb=0]\n",
      "Epoch 4:  93%|█████████▎| 396/424 [01:40<00:07,  3.62batch/s, batch_nb=370, gpu=0, loss=0.146, v_nb=0]\n",
      "Epoch 4:  94%|█████████▎| 397/424 [01:41<00:07,  3.77batch/s, batch_nb=370, gpu=0, loss=0.146, v_nb=0]\n",
      "Epoch 4:  94%|█████████▍| 398/424 [01:41<00:07,  3.49batch/s, batch_nb=370, gpu=0, loss=0.146, v_nb=0]\n",
      "Epoch 4:  94%|█████████▍| 399/424 [01:41<00:06,  3.80batch/s, batch_nb=370, gpu=0, loss=0.146, v_nb=0]\n",
      "Epoch 4:  94%|█████████▍| 400/424 [01:42<00:07,  3.24batch/s, batch_nb=370, gpu=0, loss=0.146, v_nb=0]\n",
      "Epoch 4:  95%|█████████▍| 401/424 [01:42<00:06,  3.75batch/s, batch_nb=370, gpu=0, loss=0.146, v_nb=0]\n",
      "Epoch 4:  95%|█████████▍| 402/424 [01:42<00:06,  3.19batch/s, batch_nb=370, gpu=0, loss=0.146, v_nb=0]\n",
      "Epoch 4:  95%|█████████▌| 403/424 [01:42<00:05,  3.74batch/s, batch_nb=370, gpu=0, loss=0.146, v_nb=0]\n",
      "Epoch 4:  95%|█████████▌| 404/424 [01:43<00:06,  3.30batch/s, batch_nb=370, gpu=0, loss=0.146, v_nb=0]\n",
      "Epoch 4:  96%|█████████▌| 405/424 [01:43<00:05,  3.77batch/s, batch_nb=370, gpu=0, loss=0.146, v_nb=0]\n",
      "Epoch 4:  96%|█████████▌| 406/424 [01:43<00:05,  3.40batch/s, batch_nb=370, gpu=0, loss=0.146, v_nb=0]\n",
      "Epoch 4:  96%|█████████▌| 407/424 [01:44<00:04,  3.72batch/s, batch_nb=370, gpu=0, loss=0.146, v_nb=0]\n",
      "Epoch 4:  96%|█████████▌| 408/424 [01:44<00:04,  3.39batch/s, batch_nb=370, gpu=0, loss=0.146, v_nb=0]\n",
      "Epoch 4:  96%|█████████▋| 409/424 [01:44<00:03,  3.85batch/s, batch_nb=370, gpu=0, loss=0.146, v_nb=0]\n",
      "Epoch 4:  97%|█████████▋| 410/424 [01:45<00:04,  3.33batch/s, batch_nb=370, gpu=0, loss=0.146, v_nb=0]\n",
      "Epoch 4:  97%|█████████▋| 411/424 [01:45<00:03,  3.88batch/s, batch_nb=370, gpu=0, loss=0.146, v_nb=0]\n",
      "Epoch 4:  97%|█████████▋| 412/424 [01:45<00:03,  3.33batch/s, batch_nb=370, gpu=0, loss=0.146, v_nb=0]\n",
      "Epoch 4:  97%|█████████▋| 413/424 [01:45<00:03,  3.44batch/s, batch_nb=370, gpu=0, loss=0.146, v_nb=0]\n",
      "Epoch 4:  98%|█████████▊| 414/424 [01:46<00:02,  3.45batch/s, batch_nb=370, gpu=0, loss=0.146, v_nb=0]\n",
      "Epoch 4:  98%|█████████▊| 415/424 [01:46<00:02,  3.15batch/s, batch_nb=370, gpu=0, loss=0.146, v_nb=0]\n",
      "Epoch 4:  98%|█████████▊| 416/424 [01:46<00:02,  3.31batch/s, batch_nb=370, gpu=0, loss=0.146, v_nb=0]\n",
      "Epoch 4:  98%|█████████▊| 417/424 [01:47<00:02,  3.16batch/s, batch_nb=370, gpu=0, loss=0.146, v_nb=0]\n",
      "Epoch 4:  99%|█████████▊| 418/424 [01:47<00:01,  3.44batch/s, batch_nb=370, gpu=0, loss=0.146, v_nb=0]\n",
      "Epoch 4:  99%|█████████▉| 419/424 [01:47<00:01,  3.24batch/s, batch_nb=370, gpu=0, loss=0.146, v_nb=0]\n",
      "Epoch 4:  99%|█████████▉| 420/424 [01:47<00:01,  3.82batch/s, batch_nb=370, gpu=0, loss=0.146, v_nb=0]\n",
      "Epoch 4:  99%|█████████▉| 421/424 [01:48<00:00,  3.13batch/s, batch_nb=370, gpu=0, loss=0.146, v_nb=0]\n",
      "Epoch 4: 100%|█████████▉| 422/424 [01:48<00:00,  3.72batch/s, batch_nb=370, gpu=0, loss=0.146, v_nb=0]\n",
      "Epoch 4: 100%|█████████▉| 423/424 [01:48<00:00,  3.18batch/s, batch_nb=370, gpu=0, loss=0.146, v_nb=0]\n",
      "Epoch 4: 100%|██████████| 424/424 [01:49<00:00,  3.61batch/s, batch_nb=370, gpu=0, loss=0.146, v_nb=0]\n",
      "Epoch 5:  88%|████████▊ | 371/424 [01:34<00:14,  3.56batch/s, batch_nb=370, gpu=0, loss=0.133, v_nb=0]\n",
      "Validating:   0%|          | 0/53 [00:00<?, ?batch/s]\u001b[A\n",
      "Epoch 5:  88%|████████▊ | 372/424 [01:35<00:24,  2.09batch/s, batch_nb=370, gpu=0, loss=0.133, v_nb=0]\n",
      "Epoch 5:  88%|████████▊ | 374/424 [01:36<00:21,  2.33batch/s, batch_nb=370, gpu=0, loss=0.133, v_nb=0]\n",
      "Epoch 5:  89%|████████▊ | 376/424 [01:36<00:19,  2.51batch/s, batch_nb=370, gpu=0, loss=0.133, v_nb=0]\n",
      "Epoch 5:  89%|████████▉ | 378/424 [01:37<00:17,  2.71batch/s, batch_nb=370, gpu=0, loss=0.133, v_nb=0]\n",
      "Epoch 5:  90%|████████▉ | 380/424 [01:38<00:15,  2.82batch/s, batch_nb=370, gpu=0, loss=0.133, v_nb=0]\n",
      "Epoch 5:  90%|█████████ | 382/424 [01:38<00:14,  2.95batch/s, batch_nb=370, gpu=0, loss=0.133, v_nb=0]\n",
      "Epoch 5:  91%|█████████ | 384/424 [01:39<00:13,  3.01batch/s, batch_nb=370, gpu=0, loss=0.133, v_nb=0]\n",
      "Epoch 5:  91%|█████████ | 386/424 [01:39<00:12,  2.98batch/s, batch_nb=370, gpu=0, loss=0.133, v_nb=0]\n",
      "Epoch 5:  92%|█████████▏| 388/424 [01:40<00:11,  3.02batch/s, batch_nb=370, gpu=0, loss=0.133, v_nb=0]\n",
      "Epoch 5:  92%|█████████▏| 390/424 [01:41<00:11,  3.02batch/s, batch_nb=370, gpu=0, loss=0.133, v_nb=0]\n",
      "Epoch 5:  92%|█████████▏| 392/424 [01:41<00:10,  3.09batch/s, batch_nb=370, gpu=0, loss=0.133, v_nb=0]\n",
      "Epoch 5:  93%|█████████▎| 394/424 [01:42<00:09,  3.09batch/s, batch_nb=370, gpu=0, loss=0.133, v_nb=0]\n",
      "Epoch 5:  93%|█████████▎| 396/424 [01:43<00:09,  3.08batch/s, batch_nb=370, gpu=0, loss=0.133, v_nb=0]\n",
      "Epoch 5:  94%|█████████▍| 398/424 [01:43<00:08,  3.09batch/s, batch_nb=370, gpu=0, loss=0.133, v_nb=0]\n",
      "Epoch 5:  94%|█████████▍| 400/424 [01:44<00:07,  3.12batch/s, batch_nb=370, gpu=0, loss=0.133, v_nb=0]\n",
      "Epoch 5:  95%|█████████▍| 402/424 [01:45<00:07,  3.06batch/s, batch_nb=370, gpu=0, loss=0.133, v_nb=0]\n",
      "Epoch 5:  95%|█████████▌| 404/424 [01:45<00:06,  3.10batch/s, batch_nb=370, gpu=0, loss=0.133, v_nb=0]\n",
      "Epoch 5:  96%|█████████▌| 406/424 [01:46<00:05,  3.11batch/s, batch_nb=370, gpu=0, loss=0.133, v_nb=0]\n",
      "Epoch 5:  96%|█████████▌| 408/424 [01:47<00:05,  3.03batch/s, batch_nb=370, gpu=0, loss=0.133, v_nb=0]\n",
      "Epoch 5:  97%|█████████▋| 410/424 [01:47<00:04,  3.10batch/s, batch_nb=370, gpu=0, loss=0.133, v_nb=0]\n",
      "Epoch 5:  97%|█████████▋| 412/424 [01:48<00:03,  3.06batch/s, batch_nb=370, gpu=0, loss=0.133, v_nb=0]\n",
      "Epoch 5:  98%|█████████▊| 414/424 [01:48<00:03,  3.14batch/s, batch_nb=370, gpu=0, loss=0.133, v_nb=0]\n",
      "Epoch 5:  98%|█████████▊| 416/424 [01:49<00:02,  3.11batch/s, batch_nb=370, gpu=0, loss=0.133, v_nb=0]\n",
      "Epoch 5:  99%|█████████▊| 418/424 [01:50<00:01,  3.07batch/s, batch_nb=370, gpu=0, loss=0.133, v_nb=0]\n",
      "Epoch 5:  99%|█████████▉| 420/424 [01:50<00:01,  3.11batch/s, batch_nb=370, gpu=0, loss=0.133, v_nb=0]\n",
      "Epoch 5: 100%|█████████▉| 422/424 [01:51<00:00,  3.15batch/s, batch_nb=370, gpu=0, loss=0.133, v_nb=0]\n",
      "Epoch 5: 100%|██████████| 424/424 [01:52<00:00,  3.14batch/s, batch_nb=370, gpu=0, loss=0.133, v_nb=0]\n",
      "Epoch 5: 100%|██████████| 424/424 [01:52<00:00,  3.78batch/s, batch_nb=370, gpu=0, loss=0.133, v_nb=0]\n"
     ]
    },
    {
     "data": {
      "text/plain": [
       "1"
      ]
     },
     "execution_count": 7,
     "metadata": {},
     "output_type": "execute_result"
    }
   ],
   "source": [
    "logger = pl.logging.TestTubeLogger(\"catinous_log\", name=\"harder_hr_on_lr\")\n",
    "trainer = Trainer(gpus=1, max_nb_epochs=5, early_stop_callback=False, logger=logger)\n",
    "trainer.fit(model)"
   ]
  },
  {
   "cell_type": "code",
   "execution_count": 3,
   "metadata": {},
   "outputs": [],
   "source": [
    "model = CatsinomModel.load_from_checkpoint('/project/catinous/trained_models/baseline_harder_lrhr.ckpt')\n",
    "model.to(device)\n",
    "model.freeze()"
   ]
  },
  {
   "cell_type": "code",
   "execution_count": 4,
   "metadata": {},
   "outputs": [
    {
     "data": {
      "text/plain": [
       "<matplotlib.axes._subplots.AxesSubplot at 0x7f034ebf8ba8>"
      ]
     },
     "execution_count": 4,
     "metadata": {},
     "output_type": "execute_result"
    },
    {
     "data": {
      "image/png": "[encoded data removed]",
      "text/plain": [
       "<Figure size 432x288 with 1 Axes>"
      ]
     },
     "metadata": {
      "needs_background": "light"
     },
     "output_type": "display_data"
    },
    {
     "data": {
      "image/png": "[encoded data removed]",
      "text/plain": [
       "<Figure size 432x288 with 1 Axes>"
      ]
     },
     "metadata": {
      "needs_background": "light"
     },
     "output_type": "display_data"
    }
   ],
   "source": [
    "out_proba = []\n",
    "true = []\n",
    "for data in test_lr:\n",
    "    x, y, img = data\n",
    "    x = x.float().to(device)\n",
    "    y_out = model.forward(x)\n",
    "    y_out = torch.sigmoid(y_out)\n",
    "    \n",
    "    true.extend(y.cpu().numpy())\n",
    "    out_proba.extend([o[0] for o in y_out.cpu().numpy()])\n",
    "vu.plot_roc_curve(true, out_proba, title='LR Test (trained on LR-HR)')\n",
    "\n",
    "out_proba = []\n",
    "true = []\n",
    "for data in test_hr:\n",
    "    x, y, img = data\n",
    "    x = x.float().to(device)\n",
    "    y_out = model.forward(x)\n",
    "    y_out = torch.sigmoid(y_out)\n",
    "    \n",
    "    true.extend(y.cpu().numpy())\n",
    "    out_proba.extend([o[0] for o in y_out.cpu().numpy()])\n",
    "vu.plot_roc_curve(true, out_proba, title='HR Test (trained on LR-HR)')"
   ]
  },
  {
   "cell_type": "markdown",
   "metadata": {},
   "source": [
    "## Loading hr checkpoint, train lr"
   ]
  },
  {
   "cell_type": "code",
   "execution_count": 5,
   "metadata": {},
   "outputs": [
    {
     "data": {
      "text/plain": [
       "<All keys matched successfully>"
      ]
     },
     "execution_count": 5,
     "metadata": {},
     "output_type": "execute_result"
    }
   ],
   "source": [
    "hparams = dict() #TODO: this shouldn't be like that\n",
    "hparams['root_dir'] = '/project/catinous/cat_data_harder/'\n",
    "hparams['datasetfile'] = 'catsinom_lr_harder_dataset.csv'\n",
    "hparams['batch_size'] = 8\n",
    "model = CatsinomModel(argparse.Namespace(**hparams))\n",
    "checkpoint = torch.load('/project/catinous/trained_models/baseline_harder_hr.ckpt')\n",
    "model.load_state_dict(checkpoint['state_dict'])"
   ]
  },
  {
   "cell_type": "code",
   "execution_count": 6,
   "metadata": {
    "scrolled": true
   },
   "outputs": [
    {
     "name": "stderr",
     "output_type": "stream",
     "text": [
      "Validation sanity check:   0%|          | 0/5 [00:00<?, ?batch/s]"
     ]
    },
    {
     "name": "stdout",
     "output_type": "stream",
     "text": [
      "/project/catinous/cat_data_harder/ catsinom_lr_harder_dataset.csv\n"
     ]
    },
    {
     "name": "stderr",
     "output_type": "stream",
     "text": [
      "Epoch 1:  87%|████████▋ | 331/379 [01:24<00:12,  3.95batch/s, batch_nb=330, gpu=0, loss=0.340, v_nb=0]\n",
      "Validating:   0%|          | 0/48 [00:00<?, ?batch/s]\u001b[A\n",
      "Epoch 1:  88%|████████▊ | 332/379 [01:25<00:19,  2.42batch/s, batch_nb=330, gpu=0, loss=0.340, v_nb=0]\n",
      "Epoch 1:  88%|████████▊ | 334/379 [01:25<00:16,  2.71batch/s, batch_nb=330, gpu=0, loss=0.340, v_nb=0]\n",
      "Epoch 1:  88%|████████▊ | 335/379 [01:25<00:12,  3.47batch/s, batch_nb=330, gpu=0, loss=0.340, v_nb=0]\n",
      "Epoch 1:  89%|████████▊ | 336/379 [01:26<00:16,  2.54batch/s, batch_nb=330, gpu=0, loss=0.340, v_nb=0]\n",
      "Epoch 1:  89%|████████▉ | 338/379 [01:27<00:14,  2.83batch/s, batch_nb=330, gpu=0, loss=0.340, v_nb=0]\n",
      "Epoch 1:  90%|████████▉ | 340/379 [01:27<00:12,  3.02batch/s, batch_nb=330, gpu=0, loss=0.340, v_nb=0]\n",
      "Epoch 1:  90%|█████████ | 342/379 [01:28<00:11,  3.30batch/s, batch_nb=330, gpu=0, loss=0.340, v_nb=0]\n",
      "Epoch 1:  91%|█████████ | 344/379 [01:28<00:10,  3.45batch/s, batch_nb=330, gpu=0, loss=0.340, v_nb=0]\n",
      "Epoch 1:  91%|█████████▏| 346/379 [01:29<00:09,  3.57batch/s, batch_nb=330, gpu=0, loss=0.340, v_nb=0]\n",
      "Epoch 1:  92%|█████████▏| 348/379 [01:29<00:08,  3.56batch/s, batch_nb=330, gpu=0, loss=0.340, v_nb=0]\n",
      "Epoch 1:  92%|█████████▏| 350/379 [01:30<00:07,  3.67batch/s, batch_nb=330, gpu=0, loss=0.340, v_nb=0]\n",
      "Epoch 1:  93%|█████████▎| 352/379 [01:30<00:07,  3.70batch/s, batch_nb=330, gpu=0, loss=0.340, v_nb=0]\n",
      "Epoch 1:  93%|█████████▎| 354/379 [01:31<00:06,  3.72batch/s, batch_nb=330, gpu=0, loss=0.340, v_nb=0]\n",
      "Epoch 1:  94%|█████████▍| 356/379 [01:31<00:06,  3.78batch/s, batch_nb=330, gpu=0, loss=0.340, v_nb=0]\n",
      "Epoch 1:  94%|█████████▍| 358/379 [01:32<00:05,  3.72batch/s, batch_nb=330, gpu=0, loss=0.340, v_nb=0]\n",
      "Epoch 1:  95%|█████████▍| 360/379 [01:32<00:05,  3.79batch/s, batch_nb=330, gpu=0, loss=0.340, v_nb=0]\n",
      "Epoch 1:  96%|█████████▌| 362/379 [01:33<00:04,  3.96batch/s, batch_nb=330, gpu=0, loss=0.340, v_nb=0]\n",
      "Epoch 1:  96%|█████████▌| 364/379 [01:33<00:03,  3.94batch/s, batch_nb=330, gpu=0, loss=0.340, v_nb=0]\n",
      "Epoch 1:  97%|█████████▋| 366/379 [01:34<00:03,  3.51batch/s, batch_nb=330, gpu=0, loss=0.340, v_nb=0]\n",
      "Epoch 1:  97%|█████████▋| 368/379 [01:35<00:02,  3.70batch/s, batch_nb=330, gpu=0, loss=0.340, v_nb=0]\n",
      "Epoch 1:  98%|█████████▊| 370/379 [01:35<00:02,  3.64batch/s, batch_nb=330, gpu=0, loss=0.340, v_nb=0]\n",
      "Epoch 1:  98%|█████████▊| 372/379 [01:36<00:01,  3.67batch/s, batch_nb=330, gpu=0, loss=0.340, v_nb=0]\n",
      "Epoch 1:  99%|█████████▊| 374/379 [01:36<00:01,  3.74batch/s, batch_nb=330, gpu=0, loss=0.340, v_nb=0]\n",
      "Epoch 1:  99%|█████████▉| 376/379 [01:37<00:00,  3.84batch/s, batch_nb=330, gpu=0, loss=0.340, v_nb=0]\n",
      "Epoch 1: 100%|██████████| 379/379 [01:37<00:00,  3.86batch/s, batch_nb=330, gpu=0, loss=0.340, v_nb=0]\n",
      "Epoch 2:  87%|████████▋ | 331/379 [01:23<00:11,  4.13batch/s, batch_nb=330, gpu=0, loss=0.245, v_nb=0]\n",
      "Validating:   0%|          | 0/48 [00:00<?, ?batch/s]\u001b[A\n",
      "Epoch 2:  88%|████████▊ | 332/379 [01:23<00:18,  2.55batch/s, batch_nb=330, gpu=0, loss=0.245, v_nb=0]\n",
      "Epoch 2:  88%|████████▊ | 334/379 [01:24<00:15,  2.88batch/s, batch_nb=330, gpu=0, loss=0.245, v_nb=0]\n",
      "Epoch 2:  89%|████████▊ | 336/379 [01:24<00:13,  3.13batch/s, batch_nb=330, gpu=0, loss=0.245, v_nb=0]\n",
      "Epoch 2:  89%|████████▉ | 338/379 [01:25<00:11,  3.42batch/s, batch_nb=330, gpu=0, loss=0.245, v_nb=0]\n",
      "Epoch 2:  90%|████████▉ | 340/379 [01:25<00:10,  3.73batch/s, batch_nb=330, gpu=0, loss=0.245, v_nb=0]\n",
      "Epoch 2:  90%|█████████ | 342/379 [01:26<00:09,  3.87batch/s, batch_nb=330, gpu=0, loss=0.245, v_nb=0]\n",
      "Epoch 2:  91%|█████████ | 344/379 [01:26<00:08,  4.11batch/s, batch_nb=330, gpu=0, loss=0.245, v_nb=0]\n",
      "Epoch 2:  91%|█████████▏| 346/379 [01:27<00:07,  4.37batch/s, batch_nb=330, gpu=0, loss=0.245, v_nb=0]\n",
      "Epoch 2:  92%|█████████▏| 348/379 [01:27<00:07,  4.33batch/s, batch_nb=330, gpu=0, loss=0.245, v_nb=0]\n",
      "Epoch 2:  92%|█████████▏| 350/379 [01:27<00:06,  4.24batch/s, batch_nb=330, gpu=0, loss=0.245, v_nb=0]\n",
      "Epoch 2:  93%|█████████▎| 352/379 [01:28<00:06,  4.20batch/s, batch_nb=330, gpu=0, loss=0.245, v_nb=0]\n",
      "Epoch 2:  93%|█████████▎| 354/379 [01:28<00:05,  4.18batch/s, batch_nb=330, gpu=0, loss=0.245, v_nb=0]\n",
      "Epoch 2:  94%|█████████▍| 356/379 [01:29<00:05,  4.13batch/s, batch_nb=330, gpu=0, loss=0.245, v_nb=0]\n",
      "Epoch 2:  94%|█████████▍| 358/379 [01:29<00:05,  4.04batch/s, batch_nb=330, gpu=0, loss=0.245, v_nb=0]\n",
      "Epoch 2:  95%|█████████▍| 360/379 [01:30<00:04,  4.17batch/s, batch_nb=330, gpu=0, loss=0.245, v_nb=0]\n",
      "Epoch 2:  96%|█████████▌| 362/379 [01:30<00:03,  4.25batch/s, batch_nb=330, gpu=0, loss=0.245, v_nb=0]\n",
      "Epoch 2:  96%|█████████▌| 364/379 [01:31<00:03,  4.38batch/s, batch_nb=330, gpu=0, loss=0.245, v_nb=0]\n",
      "Epoch 2:  97%|█████████▋| 366/379 [01:31<00:02,  4.49batch/s, batch_nb=330, gpu=0, loss=0.245, v_nb=0]\n",
      "Epoch 2:  97%|█████████▋| 368/379 [01:32<00:02,  4.46batch/s, batch_nb=330, gpu=0, loss=0.245, v_nb=0]\n",
      "Epoch 2:  98%|█████████▊| 370/379 [01:32<00:02,  4.31batch/s, batch_nb=330, gpu=0, loss=0.245, v_nb=0]\n",
      "Epoch 2:  98%|█████████▊| 372/379 [01:33<00:01,  4.39batch/s, batch_nb=330, gpu=0, loss=0.245, v_nb=0]\n",
      "Epoch 2:  99%|█████████▊| 374/379 [01:33<00:01,  4.27batch/s, batch_nb=330, gpu=0, loss=0.245, v_nb=0]\n",
      "Epoch 2:  99%|█████████▉| 375/379 [01:33<00:00,  4.96batch/s, batch_nb=330, gpu=0, loss=0.245, v_nb=0]\n",
      "Epoch 2:  99%|█████████▉| 376/379 [01:34<00:00,  3.92batch/s, batch_nb=330, gpu=0, loss=0.245, v_nb=0]\n",
      "Epoch 2:  99%|█████████▉| 377/379 [01:34<00:00,  4.51batch/s, batch_nb=330, gpu=0, loss=0.245, v_nb=0]\n",
      "Epoch 2: 100%|██████████| 379/379 [01:34<00:00,  4.07batch/s, batch_nb=330, gpu=0, loss=0.245, v_nb=0]\n",
      "Epoch 3:  87%|████████▋ | 331/379 [01:23<00:11,  4.08batch/s, batch_nb=330, gpu=0, loss=0.224, v_nb=0]\n",
      "Validating:   0%|          | 0/48 [00:00<?, ?batch/s]\u001b[A\n",
      "Epoch 3:  88%|████████▊ | 332/379 [01:23<00:18,  2.60batch/s, batch_nb=330, gpu=0, loss=0.224, v_nb=0]\n",
      "Epoch 3:  88%|████████▊ | 334/379 [01:24<00:14,  3.04batch/s, batch_nb=330, gpu=0, loss=0.224, v_nb=0]\n",
      "Epoch 3:  89%|████████▊ | 336/379 [01:24<00:12,  3.34batch/s, batch_nb=330, gpu=0, loss=0.224, v_nb=0]\n",
      "Epoch 3:  89%|████████▉ | 338/379 [01:25<00:11,  3.65batch/s, batch_nb=330, gpu=0, loss=0.224, v_nb=0]\n",
      "Epoch 3:  89%|████████▉ | 339/379 [01:25<00:09,  4.29batch/s, batch_nb=330, gpu=0, loss=0.224, v_nb=0]\n",
      "Epoch 3:  90%|████████▉ | 340/379 [01:25<00:10,  3.73batch/s, batch_nb=330, gpu=0, loss=0.224, v_nb=0]\n",
      "Epoch 3:  90%|█████████ | 342/379 [01:26<00:09,  3.91batch/s, batch_nb=330, gpu=0, loss=0.224, v_nb=0]\n",
      "Epoch 3:  91%|█████████ | 344/379 [01:26<00:08,  3.94batch/s, batch_nb=330, gpu=0, loss=0.224, v_nb=0]\n",
      "Epoch 3:  91%|█████████▏| 346/379 [01:26<00:08,  4.09batch/s, batch_nb=330, gpu=0, loss=0.224, v_nb=0]\n",
      "Epoch 3:  92%|█████████▏| 347/379 [01:27<00:06,  4.81batch/s, batch_nb=330, gpu=0, loss=0.224, v_nb=0]\n",
      "Epoch 3:  92%|█████████▏| 348/379 [01:27<00:07,  3.91batch/s, batch_nb=330, gpu=0, loss=0.224, v_nb=0]\n",
      "Epoch 3:  92%|█████████▏| 349/379 [01:27<00:06,  4.65batch/s, batch_nb=330, gpu=0, loss=0.224, v_nb=0]\n",
      "Epoch 3:  92%|█████████▏| 350/379 [01:27<00:07,  3.97batch/s, batch_nb=330, gpu=0, loss=0.224, v_nb=0]\n",
      "Epoch 3:  93%|█████████▎| 352/379 [01:28<00:06,  4.04batch/s, batch_nb=330, gpu=0, loss=0.224, v_nb=0]\n",
      "Epoch 3:  93%|█████████▎| 354/379 [01:28<00:06,  4.10batch/s, batch_nb=330, gpu=0, loss=0.224, v_nb=0]\n",
      "Epoch 3:  94%|█████████▍| 356/379 [01:29<00:05,  4.22batch/s, batch_nb=330, gpu=0, loss=0.224, v_nb=0]\n",
      "Epoch 3:  94%|█████████▍| 358/379 [01:29<00:04,  4.22batch/s, batch_nb=330, gpu=0, loss=0.224, v_nb=0]\n",
      "Epoch 3:  95%|█████████▍| 360/379 [01:30<00:04,  4.31batch/s, batch_nb=330, gpu=0, loss=0.224, v_nb=0]\n",
      "Epoch 3:  95%|█████████▌| 361/379 [01:30<00:03,  5.06batch/s, batch_nb=330, gpu=0, loss=0.224, v_nb=0]\n",
      "Epoch 3:  96%|█████████▌| 362/379 [01:30<00:04,  3.88batch/s, batch_nb=330, gpu=0, loss=0.224, v_nb=0]\n",
      "Epoch 3:  96%|█████████▌| 364/379 [01:31<00:03,  4.00batch/s, batch_nb=330, gpu=0, loss=0.224, v_nb=0]\n",
      "Epoch 3:  97%|█████████▋| 366/379 [01:31<00:03,  4.09batch/s, batch_nb=330, gpu=0, loss=0.224, v_nb=0]\n",
      "Epoch 3:  97%|█████████▋| 368/379 [01:32<00:02,  4.14batch/s, batch_nb=330, gpu=0, loss=0.224, v_nb=0]\n",
      "Epoch 3:  98%|█████████▊| 370/379 [01:32<00:02,  4.11batch/s, batch_nb=330, gpu=0, loss=0.224, v_nb=0]\n",
      "Epoch 3:  98%|█████████▊| 372/379 [01:33<00:01,  4.19batch/s, batch_nb=330, gpu=0, loss=0.224, v_nb=0]\n",
      "Epoch 3:  99%|█████████▊| 374/379 [01:33<00:01,  4.16batch/s, batch_nb=330, gpu=0, loss=0.224, v_nb=0]\n",
      "Epoch 3:  99%|█████████▉| 376/379 [01:34<00:00,  4.24batch/s, batch_nb=330, gpu=0, loss=0.224, v_nb=0]\n",
      "Epoch 3: 100%|██████████| 379/379 [01:34<00:00,  4.35batch/s, batch_nb=330, gpu=0, loss=0.224, v_nb=0]\n",
      "Epoch 4:  87%|████████▋ | 331/379 [01:23<00:12,  3.87batch/s, batch_nb=330, gpu=0, loss=0.148, v_nb=0]\n",
      "Validating:   0%|          | 0/48 [00:00<?, ?batch/s]\u001b[A\n",
      "Epoch 4:  88%|████████▊ | 332/379 [01:23<00:17,  2.62batch/s, batch_nb=330, gpu=0, loss=0.148, v_nb=0]\n",
      "Epoch 4:  88%|████████▊ | 334/379 [01:24<00:15,  2.84batch/s, batch_nb=330, gpu=0, loss=0.148, v_nb=0]\n",
      "Epoch 4:  89%|████████▊ | 336/379 [01:24<00:14,  3.07batch/s, batch_nb=330, gpu=0, loss=0.148, v_nb=0]\n",
      "Epoch 4:  89%|████████▉ | 338/379 [01:25<00:12,  3.34batch/s, batch_nb=330, gpu=0, loss=0.148, v_nb=0]\n",
      "Epoch 4:  90%|████████▉ | 340/379 [01:25<00:11,  3.53batch/s, batch_nb=330, gpu=0, loss=0.148, v_nb=0]\n",
      "Epoch 4:  90%|█████████ | 342/379 [01:26<00:10,  3.63batch/s, batch_nb=330, gpu=0, loss=0.148, v_nb=0]\n",
      "Epoch 4:  91%|█████████ | 344/379 [01:26<00:09,  3.81batch/s, batch_nb=330, gpu=0, loss=0.148, v_nb=0]\n",
      "Validating:  29%|██▉       | 14/48 [00:03<00:08,  4.22batch/s]\u001b[A\n",
      "Epoch 4:  91%|█████████▏| 346/379 [01:27<00:08,  4.02batch/s, batch_nb=330, gpu=0, loss=0.148, v_nb=0]\n",
      "Epoch 4:  92%|█████████▏| 348/379 [01:27<00:07,  4.08batch/s, batch_nb=330, gpu=0, loss=0.148, v_nb=0]\n",
      "Epoch 4:  92%|█████████▏| 350/379 [01:28<00:06,  4.15batch/s, batch_nb=330, gpu=0, loss=0.148, v_nb=0]\n",
      "Epoch 4:  93%|█████████▎| 352/379 [01:28<00:06,  4.10batch/s, batch_nb=330, gpu=0, loss=0.148, v_nb=0]\n",
      "Epoch 4:  93%|█████████▎| 354/379 [01:29<00:05,  4.27batch/s, batch_nb=330, gpu=0, loss=0.148, v_nb=0]\n",
      "Epoch 4:  94%|█████████▍| 356/379 [01:29<00:05,  4.45batch/s, batch_nb=330, gpu=0, loss=0.148, v_nb=0]\n",
      "Epoch 4:  94%|█████████▍| 358/379 [01:29<00:04,  4.35batch/s, batch_nb=330, gpu=0, loss=0.148, v_nb=0]\n",
      "Epoch 4:  95%|█████████▍| 360/379 [01:30<00:04,  4.23batch/s, batch_nb=330, gpu=0, loss=0.148, v_nb=0]\n",
      "Epoch 4:  96%|█████████▌| 362/379 [01:30<00:04,  4.21batch/s, batch_nb=330, gpu=0, loss=0.148, v_nb=0]\n",
      "Epoch 4:  96%|█████████▌| 364/379 [01:31<00:03,  4.32batch/s, batch_nb=330, gpu=0, loss=0.148, v_nb=0]\n",
      "Epoch 4:  97%|█████████▋| 366/379 [01:31<00:03,  4.20batch/s, batch_nb=330, gpu=0, loss=0.148, v_nb=0]\n",
      "Epoch 4:  97%|█████████▋| 368/379 [01:32<00:02,  4.16batch/s, batch_nb=330, gpu=0, loss=0.148, v_nb=0]\n",
      "Epoch 4:  98%|█████████▊| 370/379 [01:32<00:02,  4.19batch/s, batch_nb=330, gpu=0, loss=0.148, v_nb=0]\n",
      "Epoch 4:  98%|█████████▊| 372/379 [01:33<00:01,  4.28batch/s, batch_nb=330, gpu=0, loss=0.148, v_nb=0]\n",
      "Epoch 4:  99%|█████████▊| 374/379 [01:33<00:01,  4.37batch/s, batch_nb=330, gpu=0, loss=0.148, v_nb=0]\n",
      "Epoch 4:  99%|█████████▉| 376/379 [01:34<00:00,  4.26batch/s, batch_nb=330, gpu=0, loss=0.148, v_nb=0]\n",
      "Epoch 4: 100%|██████████| 379/379 [01:34<00:00,  4.20batch/s, batch_nb=330, gpu=0, loss=0.148, v_nb=0]\n",
      "Epoch 5:  87%|████████▋ | 331/379 [01:22<00:11,  4.13batch/s, batch_nb=330, gpu=0, loss=0.193, v_nb=0]\n",
      "Validating:   0%|          | 0/48 [00:00<?, ?batch/s]\u001b[A\n",
      "Epoch 5:  88%|████████▊ | 332/379 [01:23<00:18,  2.49batch/s, batch_nb=330, gpu=0, loss=0.193, v_nb=0]\n",
      "Epoch 5:  88%|████████▊ | 334/379 [01:23<00:15,  2.87batch/s, batch_nb=330, gpu=0, loss=0.193, v_nb=0]\n",
      "Epoch 5:  89%|████████▊ | 336/379 [01:24<00:13,  3.22batch/s, batch_nb=330, gpu=0, loss=0.193, v_nb=0]\n",
      "Epoch 5:  89%|████████▉ | 338/379 [01:24<00:11,  3.51batch/s, batch_nb=330, gpu=0, loss=0.193, v_nb=0]\n",
      "Epoch 5:  90%|████████▉ | 340/379 [01:24<00:10,  3.62batch/s, batch_nb=330, gpu=0, loss=0.193, v_nb=0]\n",
      "Epoch 5:  90%|█████████ | 342/379 [01:25<00:09,  3.71batch/s, batch_nb=330, gpu=0, loss=0.193, v_nb=0]\n",
      "Epoch 5:  91%|█████████ | 344/379 [01:25<00:09,  3.86batch/s, batch_nb=330, gpu=0, loss=0.193, v_nb=0]\n",
      "Epoch 5:  91%|█████████▏| 346/379 [01:26<00:08,  4.00batch/s, batch_nb=330, gpu=0, loss=0.193, v_nb=0]\n",
      "Epoch 5:  92%|█████████▏| 347/379 [01:26<00:06,  4.79batch/s, batch_nb=330, gpu=0, loss=0.193, v_nb=0]\n",
      "Epoch 5:  92%|█████████▏| 348/379 [01:26<00:08,  3.87batch/s, batch_nb=330, gpu=0, loss=0.193, v_nb=0]\n",
      "Epoch 5:  92%|█████████▏| 349/379 [01:27<00:06,  4.64batch/s, batch_nb=330, gpu=0, loss=0.193, v_nb=0]\n",
      "Epoch 5:  92%|█████████▏| 350/379 [01:27<00:07,  3.83batch/s, batch_nb=330, gpu=0, loss=0.193, v_nb=0]\n",
      "Epoch 5:  93%|█████████▎| 351/379 [01:27<00:06,  4.61batch/s, batch_nb=330, gpu=0, loss=0.193, v_nb=0]\n",
      "Epoch 5:  93%|█████████▎| 352/379 [01:27<00:07,  3.68batch/s, batch_nb=330, gpu=0, loss=0.193, v_nb=0]\n",
      "Epoch 5:  93%|█████████▎| 354/379 [01:28<00:06,  3.74batch/s, batch_nb=330, gpu=0, loss=0.193, v_nb=0]\n",
      "Epoch 5:  94%|█████████▍| 356/379 [01:28<00:06,  3.80batch/s, batch_nb=330, gpu=0, loss=0.193, v_nb=0]\n",
      "Epoch 5:  94%|█████████▍| 358/379 [01:29<00:05,  3.99batch/s, batch_nb=330, gpu=0, loss=0.193, v_nb=0]\n",
      "Epoch 5:  95%|█████████▍| 360/379 [01:29<00:04,  3.83batch/s, batch_nb=330, gpu=0, loss=0.193, v_nb=0]\n",
      "Epoch 5:  96%|█████████▌| 362/379 [01:30<00:04,  4.06batch/s, batch_nb=330, gpu=0, loss=0.193, v_nb=0]\n",
      "Epoch 5:  96%|█████████▌| 364/379 [01:30<00:03,  4.15batch/s, batch_nb=330, gpu=0, loss=0.193, v_nb=0]\n",
      "Epoch 5:  96%|█████████▋| 365/379 [01:30<00:02,  4.95batch/s, batch_nb=330, gpu=0, loss=0.193, v_nb=0]\n",
      "Epoch 5:  97%|█████████▋| 366/379 [01:31<00:03,  3.66batch/s, batch_nb=330, gpu=0, loss=0.193, v_nb=0]\n",
      "Epoch 5:  97%|█████████▋| 368/379 [01:31<00:02,  3.81batch/s, batch_nb=330, gpu=0, loss=0.193, v_nb=0]\n",
      "Epoch 5:  98%|█████████▊| 370/379 [01:32<00:02,  3.83batch/s, batch_nb=330, gpu=0, loss=0.193, v_nb=0]\n",
      "Epoch 5:  98%|█████████▊| 372/379 [01:32<00:01,  3.91batch/s, batch_nb=330, gpu=0, loss=0.193, v_nb=0]\n",
      "Epoch 5:  99%|█████████▊| 374/379 [01:33<00:01,  3.86batch/s, batch_nb=330, gpu=0, loss=0.193, v_nb=0]\n",
      "Epoch 5:  99%|█████████▉| 376/379 [01:33<00:00,  3.97batch/s, batch_nb=330, gpu=0, loss=0.193, v_nb=0]\n",
      "Epoch 5: 100%|██████████| 379/379 [01:34<00:00,  4.02batch/s, batch_nb=330, gpu=0, loss=0.193, v_nb=0]\n",
      "Epoch 5: 100%|██████████| 379/379 [01:34<00:00,  4.01batch/s, batch_nb=330, gpu=0, loss=0.193, v_nb=0]\n"
     ]
    },
    {
     "data": {
      "text/plain": [
       "1"
      ]
     },
     "execution_count": 6,
     "metadata": {},
     "output_type": "execute_result"
    }
   ],
   "source": [
    "logger = pl.logging.TestTubeLogger(\"catinous_log\", name=\"harder_lr_on_hr\")\n",
    "trainer = Trainer(gpus=1, max_nb_epochs=5, early_stop_callback=False, logger=logger)\n",
    "trainer.fit(model)"
   ]
  },
  {
   "cell_type": "code",
   "execution_count": 3,
   "metadata": {},
   "outputs": [],
   "source": [
    "model = CatsinomModel.load_from_checkpoint('/project/catinous/trained_models/baseline_harder_hrlr.ckpt')\n",
    "model.to(device)\n",
    "model.freeze()"
   ]
  },
  {
   "cell_type": "code",
   "execution_count": 4,
   "metadata": {},
   "outputs": [
    {
     "data": {
      "text/plain": [
       "<matplotlib.axes._subplots.AxesSubplot at 0x7fafb48b9ef0>"
      ]
     },
     "execution_count": 4,
     "metadata": {},
     "output_type": "execute_result"
    },
    {
     "data": {
      "image/png": "[encoded data removed]",
      "text/plain": [
       "<Figure size 432x288 with 1 Axes>"
      ]
     },
     "metadata": {
      "needs_background": "light"
     },
     "output_type": "display_data"
    },
    {
     "data": {
      "image/png": "[encoded data removed]",
      "text/plain": [
       "<Figure size 432x288 with 1 Axes>"
      ]
     },
     "metadata": {
      "needs_background": "light"
     },
     "output_type": "display_data"
    }
   ],
   "source": [
    "out_proba = []\n",
    "true = []\n",
    "for data in test_lr:\n",
    "    x, y, img = data\n",
    "    x = x.float().to(device)\n",
    "    y_out = model.forward(x)\n",
    "    y_out = torch.sigmoid(y_out)\n",
    "    \n",
    "    true.extend(y.cpu().numpy())\n",
    "    out_proba.extend([o[0] for o in y_out.cpu().numpy()])\n",
    "vu.plot_roc_curve(true, out_proba, title='LR Test (trained on HR-LR)')\n",
    "\n",
    "out_proba = []\n",
    "true = []\n",
    "for data in test_hr:\n",
    "    x, y, img = data\n",
    "    x = x.float().to(device)\n",
    "    y_out = model.forward(x)\n",
    "    y_out = torch.sigmoid(y_out)\n",
    "    \n",
    "    true.extend(y.cpu().numpy())\n",
    "    out_proba.extend([o[0] for o in y_out.cpu().numpy()])\n",
    "vu.plot_roc_curve(true, out_proba, title='HR Test (trained on HR-LR)')"
   ]
  }
 ],
 "metadata": {
  "kernelspec": {
   "display_name": "Python 3",
   "language": "python",
   "name": "python3"
  },
  "language_info": {
   "codemirror_mode": {
    "name": "ipython",
    "version": 3
   },
   "file_extension": ".py",
   "mimetype": "text/x-python",
   "name": "python",
   "nbconvert_exporter": "python",
   "pygments_lexer": "ipython3",
   "version": "3.6.8"
  }
 },
 "nbformat": 4,
 "nbformat_minor": 4
}
