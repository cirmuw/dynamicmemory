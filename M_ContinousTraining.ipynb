{
 "cells": [
  {
   "cell_type": "code",
   "execution_count": 1,
   "metadata": {},
   "outputs": [],
   "source": [
    "from pytorch_lightning import Trainer\n",
    "from catinous.CatsinomModelGramCache import CatsinomModelGramCache\n",
    "import catinous.CatsinomModelGramCache as catsmodel\n",
    "from catinous import utils as cutils\n",
    "from catinous import CatsinomDataset\n",
    "\n",
    "import matplotlib.pyplot as plt\n",
    "from pytorch_lightning.callbacks import ModelCheckpoint\n",
    "from torch.utils.data import DataLoader\n",
    "import os\n",
    "import torchvision.models as models\n",
    "import torch.nn as nn\n",
    "import torch\n",
    "import torch.nn.functional as F\n",
    "import argparse\n",
    "import pytorch_lightning as pl\n",
    "import sklearn \n",
    "from sklearn.metrics import confusion_matrix, auc, roc_curve\n",
    "import torch\n",
    "import pandas as pd\n",
    "import seaborn as sns\n",
    "import pickle\n",
    "from py_jotools import mut, slurm\n",
    "import numpy as np\n",
    "import gc\n",
    "import hashlib\n",
    "import dill\n",
    "\n",
    "%load_ext autoreload\n",
    "%autoreload "
   ]
  },
  {
   "cell_type": "code",
   "execution_count": null,
   "metadata": {},
   "outputs": [],
   "source": [
    "hparams={'continous':False,\n",
    "         'datasetfile': 'catsinom_lr_dataset.csv',\n",
    "         'noncontinous_train_splits': ['base_train'],\n",
    "         'noncontinous_steps': 3000}\n",
    "\n",
    "model, logs, df_cache = catsmodel.trained_model(hparams)"
   ]
  },
  {
   "cell_type": "code",
   "execution_count": 4,
   "metadata": {},
   "outputs": [
    {
     "name": "stdout",
     "output_type": "stream",
     "text": [
      "1581592020997853\n",
      "sshpass -f ~/.ssh/pass ssh cn1.cir.meduniwien.ac.at sbatch --export=NONE --partition full /scratch/1581592020997853.job\n"
     ]
    },
    {
     "data": {
      "text/plain": [
       "'/scratch/1581592020997853_res.dll'"
      ]
     },
     "execution_count": 4,
     "metadata": {},
     "output_type": "execute_result"
    }
   ],
   "source": [
    "hparams={'continous':False,\n",
    "         'datasetfile': 'catsinom_hr_dataset.csv',\n",
    "         'noncontinous_train_splits': ['base_train'],\n",
    "         'noncontinous_steps': 3000}\n",
    "\n",
    "sparams = {\n",
    "    'binary': '/home/cir/jhofmanninger/env/candid/bin/python',\n",
    "    'cwd': '/home/cir/mperkonigg/catinous/catinous',\n",
    "    'gpu': 1,\n",
    "    'partition': 'full',\n",
    "    'memory': 100000,\n",
    "    'jobname': 'catinous_base',\n",
    "    'outputpath': '/home/cir/mperkonigg/slurmoutput/',\n",
    "    'mailuser': 'matthias.perkonigg@meduniwien.ac.at',\n",
    "    'minutes': '240'}\n",
    "slurm.srun(catsmodel.trained_model, [hparams], params=sparams, remote=True)"
   ]
  },
  {
   "cell_type": "code",
   "execution_count": 6,
   "metadata": {},
   "outputs": [
    {
     "name": "stdout",
     "output_type": "stream",
     "text": [
      "15815988583478262\n",
      "sshpass -f ~/.ssh/pass ssh cn1.cir.meduniwien.ac.at sbatch --export=NONE --partition full /scratch/15815988583478262.job\n"
     ]
    },
    {
     "data": {
      "text/plain": [
       "'/scratch/15815988583478262_res.dll'"
      ]
     },
     "execution_count": 6,
     "metadata": {},
     "output_type": "execute_result"
    }
   ],
   "source": [
    "hparams={'continous':False,\n",
    "         'datasetfile': 'catsinom_hr_dataset.csv',\n",
    "         'noncontinous_train_splits': ['train', 'base_train'],\n",
    "         'noncontinous_steps': 3000}\n",
    "\n",
    "sparams = {\n",
    "    'binary': '/home/cir/jhofmanninger/env/candid/bin/python',\n",
    "    'cwd': '/home/cir/mperkonigg/catinous/catinous',\n",
    "    'gpu': 1,\n",
    "    'partition': 'full',\n",
    "    'memory': 100000,\n",
    "    'jobname': 'catinous_base',\n",
    "    'outputpath': '/home/cir/mperkonigg/slurmoutput/',\n",
    "    'mailuser': 'matthias.perkonigg@meduniwien.ac.at',\n",
    "    'minutes': '240'}\n",
    "slurm.srun(catsmodel.trained_model, [hparams], params=sparams, remote=True)"
   ]
  },
  {
   "cell_type": "code",
   "execution_count": null,
   "metadata": {},
   "outputs": [],
   "source": [
    "hparams={'continous':False,\n",
    "         'datasetfile': '/home/cir/mperkonigg/catinous/catinous/catsinom_lr_dataset.csv',\n",
    "         'noncontinous_train_splits': ['base_train'],\n",
    "         'noncontinous_steps': 3000}\n",
    "\n",
    "sparams = {\n",
    "    'binary': '/home/cir/jhofmanninger/env/candid/bin/python',\n",
    "    'cwd': '/home/cir/mperkonigg/catinous/catinous/',\n",
    "    'gpu': 1,\n",
    "    'partition': 'full',\n",
    "    'memory': 100000,\n",
    "    'jobname': 'catinous_base',\n",
    "    'outputpath': '/home/cir/mperkonigg/slurmoutput/',\n",
    "    'mailuser': 'matthias.perkonigg@meduniwien.ac.at',\n",
    "    'minutes': '240'}\n",
    "slurm.srun(catsmodel.trained_model, [hparams], params=sparams, remote=True)"
   ]
  },
  {
   "cell_type": "code",
   "execution_count": 20,
   "metadata": {},
   "outputs": [
    {
     "name": "stdout",
     "output_type": "stream",
     "text": [
      "15815167604523635\n",
      "sshpass -f ~/.ssh/pass ssh cn1.cir.meduniwien.ac.at sbatch --export=NONE --partition full /scratch/15815167604523635.job\n"
     ]
    },
    {
     "data": {
      "text/plain": [
       "'/scratch/15815167604523635_res.dll'"
      ]
     },
     "execution_count": 20,
     "metadata": {},
     "output_type": "execute_result"
    }
   ],
   "source": [
    "hparams={'continous':False,\n",
    "         'datasetfile': '/home/cir/mperkonigg/catinous/catinous/catsinom_hr_dataset.csv',\n",
    "         'noncontinous_train_splits': ['base_train'],\n",
    "         'noncontinous_steps': 3000}\n",
    "\n",
    "sparams = {\n",
    "    'binary': '/home/cir/jhofmanninger/env/candid/bin/python',\n",
    "    'cwd': '/home/cir/mperkonigg/catinous/catinous/',\n",
    "    'gpu': 1,\n",
    "    'partition': 'full',\n",
    "    'memory': 100000,\n",
    "    'jobname': 'catinous_base',\n",
    "    'outputpath': '/home/cir/mperkonigg/slurmoutput/',\n",
    "    'mailuser': 'matthias.perkonigg@meduniwien.ac.at',\n",
    "    'minutes': '240'}\n",
    "slurm.srun(catsmodel.trained_model, [hparams], params=sparams, remote=True)"
   ]
  },
  {
   "cell_type": "code",
   "execution_count": 21,
   "metadata": {},
   "outputs": [
    {
     "name": "stdout",
     "output_type": "stream",
     "text": [
      "15815167838628182\n",
      "sshpass -f ~/.ssh/pass ssh cn1.cir.meduniwien.ac.at sbatch --export=NONE --partition full /scratch/15815167838628182.job\n"
     ]
    },
    {
     "data": {
      "text/plain": [
       "'/scratch/15815167838628182_res.dll'"
      ]
     },
     "execution_count": 21,
     "metadata": {},
     "output_type": "execute_result"
    }
   ],
   "source": [
    "hparams={'continous':False,\n",
    "         'datasetfile': '/home/cir/mperkonigg/catinous/catinous/catsinom_lr_dataset.csv',\n",
    "         'noncontinous_train_splits': ['train', 'base_train'],\n",
    "         'noncontinous_steps': 3000}\n",
    "\n",
    "sparams = {\n",
    "    'binary': '/home/cir/jhofmanninger/env/candid/bin/python',\n",
    "    'cwd': '/home/cir/mperkonigg/catinous/catinous/',\n",
    "    'gpu': 1,\n",
    "    'partition': 'full',\n",
    "    'memory': 100000,\n",
    "    'jobname': 'catinous_base',\n",
    "    'outputpath': '/home/cir/mperkonigg/slurmoutput/',\n",
    "    'mailuser': 'matthias.perkonigg@meduniwien.ac.at',\n",
    "    'minutes': '240'}\n",
    "slurm.srun(catsmodel.trained_model, [hparams], params=sparams, remote=True)"
   ]
  },
  {
   "cell_type": "code",
   "execution_count": 12,
   "metadata": {},
   "outputs": [
    {
     "name": "stdout",
     "output_type": "stream",
     "text": [
      "15815994990085804\n",
      "sshpass -f ~/.ssh/pass ssh cn1.cir.meduniwien.ac.at sbatch --export=NONE --partition full /scratch/15815994990085804.job\n",
      "15815995009130664\n",
      "sshpass -f ~/.ssh/pass ssh cn1.cir.meduniwien.ac.at sbatch --export=NONE --partition full /scratch/15815995009130664.job\n",
      "15815995022054114\n",
      "sshpass -f ~/.ssh/pass ssh cn1.cir.meduniwien.ac.at sbatch --export=NONE --partition full /scratch/15815995022054114.job\n",
      "15815995034810586\n",
      "sshpass -f ~/.ssh/pass ssh cn1.cir.meduniwien.ac.at sbatch --export=NONE --partition full /scratch/15815995034810586.job\n",
      "15815995048052921\n",
      "sshpass -f ~/.ssh/pass ssh cn1.cir.meduniwien.ac.at sbatch --export=NONE --partition full /scratch/15815995048052921.job\n"
     ]
    }
   ],
   "source": [
    "for i in range(1, 6):    \n",
    "    hparams={'continous': True,\n",
    "             'force_misclassified': True,\n",
    "            'datasetfile': 'catsinom_combined_dataset.csv',\n",
    "            'base_model': 'batch_lr_base_train_1_2d20289ac9.pt',\n",
    "            'val_check_interval': 30,\n",
    "            'run_postfix': str(i)}\n",
    "\n",
    "    sparams = {\n",
    "        'binary': '/home/cir/jhofmanninger/env/candid/bin/python',\n",
    "        'cwd': '/home/cir/mperkonigg/catinous/catinous/',\n",
    "        'gpu': 1,\n",
    "        'partition': 'full',\n",
    "        'memory': 100000,\n",
    "        'jobname': 'catinous_cont',\n",
    "        'outputpath': '/home/cir/mperkonigg/slurmoutput/',\n",
    "        'mailuser': 'matthias.perkonigg@meduniwien.ac.at',\n",
    "        'minutes': '240'}\n",
    "    slurm.srun(catsmodel.trained_model, [hparams], params=sparams, remote=True)"
   ]
  },
  {
   "cell_type": "code",
   "execution_count": 13,
   "metadata": {},
   "outputs": [
    {
     "name": "stdout",
     "output_type": "stream",
     "text": [
      "1581599595229717\n",
      "sshpass -f ~/.ssh/pass ssh cn1.cir.meduniwien.ac.at sbatch --export=NONE --partition full /scratch/1581599595229717.job\n",
      "15815995971508608\n",
      "sshpass -f ~/.ssh/pass ssh cn1.cir.meduniwien.ac.at sbatch --export=NONE --partition full /scratch/15815995971508608.job\n",
      "1581599598450569\n",
      "sshpass -f ~/.ssh/pass ssh cn1.cir.meduniwien.ac.at sbatch --export=NONE --partition full /scratch/1581599598450569.job\n",
      "15815995997408586\n",
      "sshpass -f ~/.ssh/pass ssh cn1.cir.meduniwien.ac.at sbatch --export=NONE --partition full /scratch/15815995997408586.job\n",
      "15815996010963075\n",
      "sshpass -f ~/.ssh/pass ssh cn1.cir.meduniwien.ac.at sbatch --export=NONE --partition full /scratch/15815996010963075.job\n"
     ]
    }
   ],
   "source": [
    "for i in range(1, 6):    \n",
    "    hparams={'continous': True,\n",
    "             'use_cache':False,\n",
    "            'datasetfile': 'catsinom_combined_dataset.csv',\n",
    "            'base_model': 'batch_lr_base_train_1_2d20289ac9.pt',\n",
    "            'val_check_interval': 30,\n",
    "            'run_postfix': str(i)}\n",
    "\n",
    "    sparams = {\n",
    "        'binary': '/home/cir/jhofmanninger/env/candid/bin/python',\n",
    "        'cwd': '/home/cir/mperkonigg/catinous/catinous/',\n",
    "        'gpu': 1,\n",
    "        'partition': 'full',\n",
    "        'memory': 100000,\n",
    "        'jobname': 'catinous_cont',\n",
    "        'outputpath': '/home/cir/mperkonigg/slurmoutput/',\n",
    "        'mailuser': 'matthias.perkonigg@meduniwien.ac.at',\n",
    "        'minutes': '240'}\n",
    "    slurm.srun(catsmodel.trained_model, [hparams], params=sparams, remote=True)"
   ]
  },
  {
   "cell_type": "code",
   "execution_count": 9,
   "metadata": {},
   "outputs": [
    {
     "name": "stdout",
     "output_type": "stream",
     "text": [
      "15815992068173108\n",
      "sshpass -f ~/.ssh/pass ssh cn1.cir.meduniwien.ac.at sbatch --export=NONE --partition full /scratch/15815992068173108.job\n"
     ]
    },
    {
     "data": {
      "text/plain": [
       "'/scratch/15815992068173108_res.dll'"
      ]
     },
     "execution_count": 9,
     "metadata": {},
     "output_type": "execute_result"
    }
   ],
   "source": [
    "hparams={'continous':False,\n",
    "         'datasetfile': 'catsinom_lr_dataset.csv',\n",
    "         'noncontinous_train_splits': ['train', 'base_train'],\n",
    "         'noncontinous_steps': 3000,\n",
    "        'base_model': 'batch_hr_train-base_train_1_157f172f1b.pt'}\n",
    "\n",
    "sparams = {\n",
    "    'binary': '/home/cir/jhofmanninger/env/candid/bin/python',\n",
    "    'cwd': '/home/cir/mperkonigg/catinous/catinous',\n",
    "    'gpu': 1,\n",
    "    'partition': 'full',\n",
    "    'memory': 100000,\n",
    "    'jobname': 'catinous_base',\n",
    "    'outputpath': '/home/cir/mperkonigg/slurmoutput/',\n",
    "    'mailuser': 'matthias.perkonigg@meduniwien.ac.at',\n",
    "    'minutes': '240'}\n",
    "slurm.srun(catsmodel.trained_model, [hparams], params=sparams, remote=True)"
   ]
  },
  {
   "cell_type": "code",
   "execution_count": 10,
   "metadata": {},
   "outputs": [
    {
     "name": "stdout",
     "output_type": "stream",
     "text": [
      "1581599222024125\n",
      "sshpass -f ~/.ssh/pass ssh cn1.cir.meduniwien.ac.at sbatch --export=NONE --partition full /scratch/1581599222024125.job\n"
     ]
    },
    {
     "data": {
      "text/plain": [
       "'/scratch/1581599222024125_res.dll'"
      ]
     },
     "execution_count": 10,
     "metadata": {},
     "output_type": "execute_result"
    }
   ],
   "source": [
    "hparams={'continous':False,\n",
    "         'datasetfile': 'catsinom_hr_dataset.csv',\n",
    "         'noncontinous_train_splits': ['train', 'base_train'],\n",
    "         'noncontinous_steps': 3000,\n",
    "        'base_model': 'batch_lr_train-base_train_1_ff8d796f2c.pt'}\n",
    "\n",
    "sparams = {\n",
    "    'binary': '/home/cir/jhofmanninger/env/candid/bin/python',\n",
    "    'cwd': '/home/cir/mperkonigg/catinous/catinous',\n",
    "    'gpu': 1,\n",
    "    'partition': 'full',\n",
    "    'memory': 100000,\n",
    "    'jobname': 'catinous_base',\n",
    "    'outputpath': '/home/cir/mperkonigg/slurmoutput/',\n",
    "    'mailuser': 'matthias.perkonigg@meduniwien.ac.at',\n",
    "    'minutes': '240'}\n",
    "slurm.srun(catsmodel.trained_model, [hparams], params=sparams, remote=True)"
   ]
  },
  {
   "cell_type": "code",
   "execution_count": 23,
   "metadata": {},
   "outputs": [
    {
     "name": "stdout",
     "output_type": "stream",
     "text": [
      "15815828724120963\n",
      "sshpass -f ~/.ssh/pass ssh cn1.cir.meduniwien.ac.at sbatch --export=NONE --partition full /scratch/15815828724120963.job\n"
     ]
    },
    {
     "data": {
      "text/plain": [
       "'/scratch/15815828724120963_res.dll'"
      ]
     },
     "execution_count": 23,
     "metadata": {},
     "output_type": "execute_result"
    }
   ],
   "source": [
    "hparams={'continous':False,\n",
    "         'datasetfile': '/home/cir/mperkonigg/catinous/catinous/catsinom_combined_dataset.csv',\n",
    "         'noncontinous_train_splits': ['train', 'base_train'],\n",
    "         'noncontinous_steps': 3000}\n",
    "\n",
    "sparams = {\n",
    "    'binary': '/home/cir/jhofmanninger/env/candid/bin/python',\n",
    "    'cwd': '/home/cir/mperkonigg/catinous/catinous/',\n",
    "    'gpu': 1,\n",
    "    'partition': 'full',\n",
    "    'memory': 100000,\n",
    "    'jobname': 'catinous_base',\n",
    "    'outputpath': '/home/cir/mperkonigg/slurmoutput/',\n",
    "    'mailuser': 'matthias.perkonigg@meduniwien.ac.at',\n",
    "    'minutes': '240'}\n",
    "slurm.srun(catsmodel.trained_model, [hparams], params=sparams, remote=True)"
   ]
  },
  {
   "cell_type": "code",
   "execution_count": null,
   "metadata": {},
   "outputs": [],
   "source": [
    "/scratch/15815045002145245_res.dll"
   ]
  },
  {
   "cell_type": "code",
   "execution_count": null,
   "metadata": {},
   "outputs": [],
   "source": [
    "model = CatsinomModelGramCache(hparams=hparams, device=torch.device('cuda'))\n",
    "logger = cutils.pllogger(model.hparams)\n",
    "trainer = Trainer(gpus=1, max_epochs=1, early_stop_callback=False, logger=logger, val_check_interval=3000, show_progress_bar=True, checkpoint_callback=False)\n",
    "trainer.fit(model)\n",
    "torch.save(model.state_dict(), '/project/catinous/trained_models/' + expname + '_run_'+str(i)+'.pt')\n",
    "save_cache_to_csv(model.trainingscache.cachelist, '/project/catinous/trained_cache/' + expname + '_run_'+str(i)+'.csv')"
   ]
  },
  {
   "cell_type": "code",
   "execution_count": 8,
   "metadata": {},
   "outputs": [],
   "source": []
  },
  {
   "cell_type": "code",
   "execution_count": null,
   "metadata": {},
   "outputs": [],
   "source": []
  },
  {
   "cell_type": "code",
   "execution_count": null,
   "metadata": {},
   "outputs": [],
   "source": [
    "slurm.srun(trainer.fit, model, params=sparams, remote=True)"
   ]
  },
  {
   "cell_type": "code",
   "execution_count": 7,
   "metadata": {},
   "outputs": [
    {
     "data": {
      "text/plain": [
       "{'binary': '/home/jhofmanninger/anaconda3/envs/candid/bin/python',\n",
       " 'outputpath': '/home/cir/jhofmanninger/slurmoutput/',\n",
       " 'jobname': '',\n",
       " 'days': 0,\n",
       " 'hours': '0',\n",
       " 'minutes': '10',\n",
       " 'memory': 2000,\n",
       " 'ntasks': 1,\n",
       " 'cpusptask': 4,\n",
       " 'qos': 'normal',\n",
       " 'mailuser': 'johannes.hofmanninger@meduniwien.ac.at',\n",
       " 'cwd': '/home/jhofmanninger/Projects/catinous',\n",
       " 'dillfile': '',\n",
       " 'gpu': 0,\n",
       " 'partition': 'cir',\n",
       " 'paths': []}"
      ]
     },
     "execution_count": 7,
     "metadata": {},
     "output_type": "execute_result"
    }
   ],
   "source": [
    "slurm.slurm_params_default"
   ]
  },
  {
   "cell_type": "code",
   "execution_count": 4,
   "metadata": {},
   "outputs": [],
   "source": [
    "def save_cache_to_csv(cache, savepath):\n",
    "    df_cache = pd.DataFrame({'filepath':[ci.filepath for ci in cache], 'label': [ci.label.cpu().numpy()[0] for ci in cache], 'res': [ci.res for ci in cache], 'traincounter': [ci.traincounter for ci in cache]})\n",
    "    df_cache.to_csv(savepath, index=False, index_label=False)"
   ]
  },
  {
   "cell_type": "code",
   "execution_count": null,
   "metadata": {},
   "outputs": [
    {
     "name": "stderr",
     "output_type": "stream",
     "text": [
      "INFO:root:gpu available: True, used: True\n",
      "INFO:root:VISIBLE GPUS: 0\n",
      "INFO:root:\n",
      "              Name               Type Params\n",
      "0            model             ResNet   24 M\n",
      "1      model.conv1             Conv2d    9 K\n",
      "2        model.bn1        BatchNorm2d  128  \n",
      "3       model.relu               ReLU    0  \n",
      "4    model.maxpool          MaxPool2d    0  \n",
      "..             ...                ...    ...\n",
      "150       model.fc         Sequential    1 M\n",
      "151     model.fc.0             Linear    1 M\n",
      "152     model.fc.1        BatchNorm1d    1 K\n",
      "153     model.fc.2             Linear  513  \n",
      "154           loss  BCEWithLogitsLoss    0  \n",
      "\n",
      "[155 rows x 3 columns]\n",
      "/home/jhofmanninger/anaconda3/envs/candid/lib/python3.6/site-packages/pytorch_lightning/callbacks/pt_callbacks.py:314: RuntimeWarning: Can save best model only with val_loss available, skipping.\n",
      "  ' skipping.', RuntimeWarning)\n"
     ]
    }
   ],
   "source": [
    "hparams = get_default_hparams()\n",
    "hparams['force_misclassified'] = True\n",
    "hparams['cachemaximum'] = 128\n",
    "hparams['continous'] = False\n",
    "expname = 'continous_random_cache_transphase_force_misclassified_bsize123'\n",
    "model = CatsinomModelGramCache(argparse.Namespace(**hparams), device = torch.device('cuda'))\n",
    "\n",
    "basemodel = '/project/catinous/trained_models/lrbase_iterations.pt'\n",
    "model.load_state_dict(torch.load(basemodel))\n",
    "\n",
    "logger = pllogging.TestTubeLogger( 'catinous_log_iterations', name=expname)\n",
    "trainer = Trainer(gpus=1, max_epochs=1, early_stop_callback=False, logger=logger, val_check_interval=10, show_progress_bar=False, checkpoint_callback=False)\n",
    "trainer.fit(model)"
   ]
  },
  {
   "cell_type": "code",
   "execution_count": null,
   "metadata": {},
   "outputs": [],
   "source": []
  },
  {
   "cell_type": "code",
   "execution_count": null,
   "metadata": {},
   "outputs": [
    {
     "name": "stderr",
     "output_type": "stream",
     "text": [
      "INFO:root:gpu available: True, used: True\n",
      "INFO:root:VISIBLE GPUS: 0\n",
      "/home/mperkonigg/.local/lib/python3.6/site-packages/tensorflow/python/framework/dtypes.py:516: FutureWarning: Passing (type, 1) or '1type' as a synonym of type is deprecated; in a future version of numpy, it will be understood as (type, (1,)) / '(1,)type'.\n",
      "  _np_qint8 = np.dtype([(\"qint8\", np.int8, 1)])\n",
      "/home/mperkonigg/.local/lib/python3.6/site-packages/tensorflow/python/framework/dtypes.py:517: FutureWarning: Passing (type, 1) or '1type' as a synonym of type is deprecated; in a future version of numpy, it will be understood as (type, (1,)) / '(1,)type'.\n",
      "  _np_quint8 = np.dtype([(\"quint8\", np.uint8, 1)])\n",
      "/home/mperkonigg/.local/lib/python3.6/site-packages/tensorflow/python/framework/dtypes.py:518: FutureWarning: Passing (type, 1) or '1type' as a synonym of type is deprecated; in a future version of numpy, it will be understood as (type, (1,)) / '(1,)type'.\n",
      "  _np_qint16 = np.dtype([(\"qint16\", np.int16, 1)])\n",
      "/home/mperkonigg/.local/lib/python3.6/site-packages/tensorflow/python/framework/dtypes.py:519: FutureWarning: Passing (type, 1) or '1type' as a synonym of type is deprecated; in a future version of numpy, it will be understood as (type, (1,)) / '(1,)type'.\n",
      "  _np_quint16 = np.dtype([(\"quint16\", np.uint16, 1)])\n",
      "/home/mperkonigg/.local/lib/python3.6/site-packages/tensorflow/python/framework/dtypes.py:520: FutureWarning: Passing (type, 1) or '1type' as a synonym of type is deprecated; in a future version of numpy, it will be understood as (type, (1,)) / '(1,)type'.\n",
      "  _np_qint32 = np.dtype([(\"qint32\", np.int32, 1)])\n",
      "/home/mperkonigg/.local/lib/python3.6/site-packages/tensorflow/python/framework/dtypes.py:525: FutureWarning: Passing (type, 1) or '1type' as a synonym of type is deprecated; in a future version of numpy, it will be understood as (type, (1,)) / '(1,)type'.\n",
      "  np_resource = np.dtype([(\"resource\", np.ubyte, 1)])\n",
      "INFO:root:\n",
      "              Name               Type Params\n",
      "0            model             ResNet   24 M\n",
      "1      model.conv1             Conv2d    9 K\n",
      "2        model.bn1        BatchNorm2d  128  \n",
      "3       model.relu               ReLU    0  \n",
      "4    model.maxpool          MaxPool2d    0  \n",
      "..             ...                ...    ...\n",
      "150       model.fc         Sequential    1 M\n",
      "151     model.fc.0             Linear    1 M\n",
      "152     model.fc.1        BatchNorm1d    1 K\n",
      "153     model.fc.2             Linear  513  \n",
      "154           loss  BCEWithLogitsLoss    0  \n",
      "\n",
      "[155 rows x 3 columns]\n",
      "/home/mperkonigg/.local/lib/python3.6/site-packages/pytorch_lightning/callbacks/pt_callbacks.py:314: RuntimeWarning: Can save best model only with val_loss available, skipping.\n",
      "  ' skipping.', RuntimeWarning)\n"
     ]
    }
   ],
   "source": [
    "#testing different transition phases\n",
    "\n",
    "transitionphase = [1.0]\n",
    "\n",
    "for tp in transitionphase:\n",
    "    for i in range(2):\n",
    "        hparams = get_default_hparams()\n",
    "        hparams['transition_phase_after'] = tp\n",
    "        \n",
    "        expname = 'continous_random_cache_transphase_' + str(tp)\n",
    "        \n",
    "        model = CatsinomModelGramCache(argparse.Namespace(**hparams), device = torch.device('cuda'))\n",
    "\n",
    "        model.load_state_dict(torch.load(basemodel))\n",
    "\n",
    "        logger = pllogging.TestTubeLogger('catinous_log_iterations', name=expname)\n",
    "        trainer = Trainer(gpus=1, max_epochs=1, early_stop_callback=False, logger=logger, val_check_interval=10, show_progress_bar=False)\n",
    "        trainer.fit(model)\n",
    "        torch.save(model.state_dict(), '/project/catinous/trained_models/' + expname + '_run_'+str(i)+'.pt')\n",
    "\n",
    "        save_cache_to_csv(model.trainingscache.cachelist, '/project/catinous/trained_cache/' + expname + '_run_'+str(i)+'.csv')\n",
    "        \n",
    "        trainer = None\n",
    "        model = None\n",
    "        trainer = None\n",
    "        torch.cuda.empty_cache()\n",
    "        gc.collect()"
   ]
  },
  {
   "cell_type": "code",
   "execution_count": null,
   "metadata": {},
   "outputs": [],
   "source": [
    "#testing different cache sizes\n",
    "cache_size = [16, 128, 256]\n",
    "\n",
    "for cs in cache_size:\n",
    "    for i in range(3):\n",
    "        hparams = get_default_hparams()\n",
    "        hparams['cachemaximum'] = cs\n",
    "        \n",
    "        expname = 'continous_random_cache_cachesize_' + str(cs)\n",
    "        \n",
    "        model = CatsinomModelGramCache(argparse.Namespace(**hparams), device = torch.device('cuda'))\n",
    "\n",
    "        model.load_state_dict(torch.load(basemodel))\n",
    "\n",
    "        logger = pllogging.TestTubeLogger('catinous_log_iterations', name=expname)\n",
    "        trainer = Trainer(gpus=1, max_epochs=1, early_stop_callback=False, logger=logger, val_check_interval=10, show_progress_bar=False)\n",
    "        trainer.fit(model)\n",
    "        torch.save(model.state_dict(), '/project/catinous/trained_models/' + expname + '_run_'+str(i)+'.pt')\n",
    "\n",
    "        save_cache_to_csv(model.trainingscache.cachelist, '/project/catinous/trained_cache/' + expname + '_run_'+str(i)+'.csv')\n",
    "\n",
    "        trainer = None\n",
    "        model = None\n",
    "        torch.cuda.empty_cache()"
   ]
  }
 ],
 "metadata": {
  "kernelspec": {
   "display_name": "Python 3",
   "language": "python",
   "name": "python3"
  },
  "language_info": {
   "codemirror_mode": {
    "name": "ipython",
    "version": 3
   },
   "file_extension": ".py",
   "mimetype": "text/x-python",
   "name": "python",
   "nbconvert_exporter": "python",
   "pygments_lexer": "ipython3",
   "version": "3.6.9"
  }
 },
 "nbformat": 4,
 "nbformat_minor": 4
}
