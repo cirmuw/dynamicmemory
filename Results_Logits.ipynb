{
 "cells": [
  {
   "cell_type": "markdown",
   "metadata": {},
   "source": [
    "## Baseline classification results for catinous"
   ]
  },
  {
   "cell_type": "code",
   "execution_count": 1,
   "metadata": {},
   "outputs": [],
   "source": [
    "from pytorch_lightning import Trainer\n",
    "#from catinous.CatsinomModel import CatsinomModel\n",
    "from catinous.CatsinomDataset import CatsinomDataset\n",
    "import catinous.CatsinomModelLogitsCache as catslogmodel\n",
    "import matplotlib.pyplot as plt\n",
    "from pytorch_lightning.callbacks import ModelCheckpoint\n",
    "from torch.utils.data import DataLoader\n",
    "import os\n",
    "import torchvision.models as models\n",
    "import torch.nn as nn\n",
    "import torch\n",
    "import torch.nn.functional as F\n",
    "import argparse\n",
    "import pytorch_lightning as pl\n",
    "from sklearn.metrics import confusion_matrix, auc, roc_curve, accuracy_score\n",
    "import pandas as pd\n",
    "import seaborn as sns\n",
    "from catinous.CatsinomDataset import Catsinom_Dataset_CatineousStream as StreamedDS\n",
    "import numpy as np\n",
    "from matplotlib import cm\n",
    "from matplotlib.colors import ListedColormap, LinearSegmentedColormap\n",
    "import pickle\n",
    "from py_jotools import mut, cache\n",
    "import SimpleITK as sitk\n",
    "\n",
    "import catinous.utils as catutils\n",
    "\n",
    "\n",
    "%load_ext autoreload\n",
    "%autoreload 2"
   ]
  },
  {
   "cell_type": "code",
   "execution_count": 151,
   "metadata": {},
   "outputs": [],
   "source": [
    "def test_model(model, ds, device):\n",
    "    output = []\n",
    "    target = []\n",
    "    for data in ds:\n",
    "        x, y, img, res = data\n",
    "        x = x.float().to(device)\n",
    "        y_out = model.forward(x)\n",
    "        y_out = torch.sigmoid(y_out)\n",
    "\n",
    "        target.extend(y.detach().cpu().numpy())\n",
    "        output.extend([o[0] for o in y_out.detach().cpu().numpy()])\n",
    "        \n",
    "        model.grammatrices = []\n",
    "        \n",
    "    return target, output\n",
    "\n",
    "def plot_test_roc(model, datasets, device, mname=''):\n",
    "    \n",
    "    model.freeze()\n",
    "    \n",
    "    fig, ax = plt.subplots()    \n",
    "    for ds in datasets:\n",
    "        target, output = test_model(model, datasets[ds], device)\n",
    "    \n",
    "        #vu.plot_roc_curve(target, output, title= ds + ' Test (trained on ' + dsname + ' dataset)')\n",
    "        fpr, tpr, threshold = roc_curve(target, output)\n",
    "        roc_auc = auc(fpr, tpr)\n",
    "        ax.plot(fpr, tpr, label=ds + ' AUC = %0.2f' % roc_auc)\n",
    "        \n",
    "    ax.set_title(mname + ' Test')\n",
    "    ax.legend(loc='lower right')\n",
    "    ax.plot([0, 1], [0, 1], 'k--')\n",
    "    ax.set_xlim([0, 1])\n",
    "    ax.set_ylim([0, 1])\n",
    "    ax.set_ylabel('True Positive Rate')\n",
    "    ax.set_xlabel('False Positive Rate')"
   ]
  },
  {
   "cell_type": "markdown",
   "metadata": {},
   "source": [
    "# Loading test sets"
   ]
  },
  {
   "cell_type": "code",
   "execution_count": 16,
   "metadata": {},
   "outputs": [],
   "source": [
    "def res_data_for_params(hparams):\n",
    "    df = pd.DataFrame()\n",
    "    base_params = []\n",
    "    for i in range(5):\n",
    "        base_params.append(hparams.copy())\n",
    "        base_params[-1]['run_postfix'] = i+1\n",
    "        if not catsmodel.is_cached(base_params[-1]):\n",
    "            print('not cached')\n",
    "            #slurm.srun(catsmodel.trained_model, [base_params[-1]], params=sparams, remote=True)    \n",
    "        else:\n",
    "            _, df_temp, _, _ = catsmodel.trained_model(base_params[-1])\n",
    "            df_temp = df_temp.loc[df_temp['val_loss_lr']==df_temp['val_loss_lr']]\n",
    "            df_temp['idx'] = range(1,len(df_temp)+1)\n",
    "            df = df.append(df_temp)\n",
    "    return df"
   ]
  },
  {
   "cell_type": "markdown",
   "metadata": {},
   "source": [
    "# BWT/FWT/Accuracies"
   ]
  },
  {
   "cell_type": "code",
   "execution_count": 2,
   "metadata": {},
   "outputs": [],
   "source": [
    "test_lr = DataLoader(CatsinomDataset('/project/catinous/cat_data/', 'catsinom_combined_dsts3_dataset.csv', split='test', res='lr'), batch_size=8, num_workers=4)\n",
    "test_hr = DataLoader(CatsinomDataset('/project/catinous/cat_data/', 'catsinom_combined_dsts3_dataset.csv', split='test', res='hr'), batch_size=8, num_workers=4)\n",
    "test_hr_ts = DataLoader(CatsinomDataset('/project/catinous/cat_data/', 'catsinom_combined_dsts3_dataset.csv', split='test', res='hr_ts'), batch_size=8, num_workers=4)\n",
    "device = torch.device('cuda')"
   ]
  },
  {
   "cell_type": "code",
   "execution_count": 3,
   "metadata": {},
   "outputs": [],
   "source": [
    "val_lr = DataLoader(CatsinomDataset('/project/catinous/cat_data/', 'catsinom_combined_dsts3_dataset.csv', split='val', res='lr'), batch_size=8, num_workers=4)\n",
    "val_hr = DataLoader(CatsinomDataset('/project/catinous/cat_data/', 'catsinom_combined_dsts3_dataset.csv', split='val', res='hr'), batch_size=8, num_workers=4)\n",
    "val_hr_ts = DataLoader(CatsinomDataset('/project/catinous/cat_data/', 'catsinom_combined_dsts3_dataset.csv', split='val', res='hr_ts'), batch_size=8, num_workers=4)\n",
    "device = torch.device('cuda')"
   ]
  },
  {
   "cell_type": "code",
   "execution_count": 6,
   "metadata": {},
   "outputs": [],
   "source": [
    "def test_model(model, ds, device):\n",
    "    output = []\n",
    "    target = []\n",
    "    for data in ds:\n",
    "        x, y, img, res = data\n",
    "        x = x.float().to(device)\n",
    "        y_out = model.forward(x)\n",
    "        y_out = torch.sigmoid(y_out)\n",
    "\n",
    "        target.extend(y.detach().cpu().numpy())\n",
    "        output.extend([o[0] for o in y_out.detach().cpu().numpy()])\n",
    "        \n",
    "        model.grammatrices = []\n",
    "        \n",
    "    return target, output\n",
    "\n",
    "def test_metrices(hparams, datasets, device, suffix='.pt'):\n",
    "    roc_aucs = dict()\n",
    "    accuracies = dict()\n",
    "    \n",
    "    for i in range(1, 6):\n",
    "        hparams['run_postfix'] = i\n",
    "        model = catslogmodel.CatsinomModelLogitsCache(hparams=hparams, device=device)\n",
    "        exp_name = catutils.get_expname(model.hparams)\n",
    "        weights_path = catutils.TRAINED_MODELS_FOLDER + exp_name + suffix\n",
    "        if os.path.exists(weights_path):\n",
    "            if suffix == '.pt': #HACK hack hack\n",
    "                print('loading', weights_path)\n",
    "                model.load_state_dict(torch.load(weights_path))\n",
    "            else:\n",
    "                model.model.load_state_dict(torch.load(weights_path))\n",
    "            model.to(device)\n",
    "            model.freeze()\n",
    "        \n",
    "            for ds in datasets:\n",
    "                target, output = test_model(model, datasets[ds], device)\n",
    "\n",
    "                #vu.plot_roc_curve(target, output, title= ds + ' Test (trained on ' + dsname + ' dataset)')\n",
    "\n",
    "                output_bin = [int(o>0.5) for o in output]\n",
    "                fpr, tpr, _ = roc_curve(target, output)\n",
    "\n",
    "                if i==1:\n",
    "                    roc_aucs[ds] = list()\n",
    "                    accuracies[ds] = list()\n",
    "                    \n",
    "                roc_aucs[ds].append(auc(fpr, tpr))\n",
    "                accuracies[ds].append(accuracy_score(target, output_bin))\n",
    "        else:\n",
    "            print('model checkpoint doesnt exist', weights_path)\n",
    "            \n",
    "    return (roc_aucs, accuracies)\n",
    "\n",
    "def get_rocs_accuracies_bwts_fwts(hparams, datasets):\n",
    "    roc_aucs_lr, accuracies_lr = test_metrices(hparams, datasets, device, suffix='_lr_checkpoint.pt')\n",
    "    roc_aucs_hr, accuracies_hr = test_metrices(hparams, datasets, device, suffix='_hr_checkpoint.pt')\n",
    "    roc_aucs_end, accuracies_end = test_metrices(hparams, datasets, device, suffix='.pt')\n",
    "\n",
    "\n",
    "    bwts=[]\n",
    "    fwts=[]\n",
    "    for i in range(len(accuracies_lr['LR'])):\n",
    "        R = np.array([[accuracies_lr['LR'][i], accuracies_lr['HR'][i], accuracies_lr['HR TS'][i]],\n",
    "                  [accuracies_hr['LR'][i], accuracies_hr['HR'][i], accuracies_hr['HR TS'][i]],\n",
    "                  [accuracies_end['LR'][i], accuracies_end['HR'][i], accuracies_end['HR TS'][i]]])\n",
    "\n",
    "        bwts.append(((R[2][0] - R[0][0]) + (R[2][1] - R[1][1]))/2)\n",
    "        fwts.append((R[0][1]-0.5 + R[1][2]-0.5)/2)\n",
    "        \n",
    "    return roc_aucs_lr, roc_aucs_hr, roc_aucs_end, accuracies_lr, accuracies_hr, accuracies_end, bwts, fwts"
   ]
  },
  {
   "cell_type": "code",
   "execution_count": 10,
   "metadata": {},
   "outputs": [
    {
     "name": "stderr",
     "output_type": "stream",
     "text": [
      "INFO:root:Logits hooks and cache initialized. Cachesize: 32\n"
     ]
    },
    {
     "name": "stdout",
     "output_type": "stream",
     "text": [
      "loading /project/catinous/trained_models/cont_combined_logits_basemodel_lr_fmiss_cache_tf07_1_d6d3a4b8c8.pt\n"
     ]
    },
    {
     "name": "stderr",
     "output_type": "stream",
     "text": [
      "INFO:root:Logits hooks and cache initialized. Cachesize: 32\n"
     ]
    },
    {
     "name": "stdout",
     "output_type": "stream",
     "text": [
      "loading /project/catinous/trained_models/cont_combined_logits_basemodel_lr_fmiss_cache_tf07_2_724bdb10dc.pt\n"
     ]
    },
    {
     "name": "stderr",
     "output_type": "stream",
     "text": [
      "INFO:root:Logits hooks and cache initialized. Cachesize: 32\n"
     ]
    },
    {
     "name": "stdout",
     "output_type": "stream",
     "text": [
      "loading /project/catinous/trained_models/cont_combined_logits_basemodel_lr_fmiss_cache_tf07_3_54465ad537.pt\n"
     ]
    },
    {
     "name": "stderr",
     "output_type": "stream",
     "text": [
      "INFO:root:Logits hooks and cache initialized. Cachesize: 32\n"
     ]
    },
    {
     "name": "stdout",
     "output_type": "stream",
     "text": [
      "loading /project/catinous/trained_models/cont_combined_logits_basemodel_lr_fmiss_cache_tf07_4_8ee373c98a.pt\n"
     ]
    },
    {
     "name": "stderr",
     "output_type": "stream",
     "text": [
      "INFO:root:Logits hooks and cache initialized. Cachesize: 32\n"
     ]
    },
    {
     "name": "stdout",
     "output_type": "stream",
     "text": [
      "loading /project/catinous/trained_models/cont_combined_logits_basemodel_lr_fmiss_cache_tf07_5_09d8b99615.pt\n",
      "LR 0.709814323607427 0.07882225188905362\n",
      "HR 0.769811320754717 0.05443159145944018\n",
      "HR TS 0.9580188679245282 0.01574369742290435\n",
      "mean 0.8125481707622241 0.11967457956598937\n"
     ]
    }
   ],
   "source": [
    "hparams={'continous': True,\n",
    "         'use_cache':True,\n",
    "        'datasetfile': 'catsinom_combined_dsts3_dataset.csv',\n",
    "        'base_model': 'batch_lr_base_train_1_2d20289ac9.pt',\n",
    "        'val_check_interval': 30,\n",
    "        'cachemaximum':32,\n",
    "        'force_misclassified':True}\n",
    "\n",
    "(roc_aucs_val, accuracies_val) = test_metrices(hparams, {'LR': val_lr, 'HR': val_hr, 'HR TS': val_hr_ts}, device)\n",
    "\n",
    "print('LR', np.array(accuracies_val['LR']).mean(), np.array(accuracies_val['LR']).std())\n",
    "print('HR', np.array(accuracies_val['HR']).mean(), np.array(accuracies_val['HR']).std())\n",
    "print('HR TS', np.array(accuracies_val['HR TS']).mean(), np.array(accuracies_val['HR TS']).std())\n",
    "print('mean', np.array([accuracies_val['LR'], accuracies_val['HR'], accuracies_val['HR TS']]).mean(), np.array([accuracies_val['LR'], accuracies_val['HR'], accuracies_val['HR TS']]).std())"
   ]
  },
  {
   "cell_type": "code",
   "execution_count": 14,
   "metadata": {},
   "outputs": [
    {
     "name": "stderr",
     "output_type": "stream",
     "text": [
      "INFO:root:Logits hooks and cache initialized. Cachesize: 32\n"
     ]
    },
    {
     "name": "stdout",
     "output_type": "stream",
     "text": [
      "loading /project/catinous/trained_models/cont_combined_logits_basemodel_lr_fmiss_cache_tf07_1_d6d3a4b8c8.pt\n"
     ]
    },
    {
     "name": "stderr",
     "output_type": "stream",
     "text": [
      "INFO:root:Logits hooks and cache initialized. Cachesize: 32\n"
     ]
    },
    {
     "name": "stdout",
     "output_type": "stream",
     "text": [
      "loading /project/catinous/trained_models/cont_combined_logits_basemodel_lr_fmiss_cache_tf07_2_724bdb10dc.pt\n"
     ]
    },
    {
     "name": "stderr",
     "output_type": "stream",
     "text": [
      "INFO:root:Logits hooks and cache initialized. Cachesize: 32\n"
     ]
    },
    {
     "name": "stdout",
     "output_type": "stream",
     "text": [
      "loading /project/catinous/trained_models/cont_combined_logits_basemodel_lr_fmiss_cache_tf07_3_54465ad537.pt\n"
     ]
    },
    {
     "name": "stderr",
     "output_type": "stream",
     "text": [
      "INFO:root:Logits hooks and cache initialized. Cachesize: 32\n"
     ]
    },
    {
     "name": "stdout",
     "output_type": "stream",
     "text": [
      "loading /project/catinous/trained_models/cont_combined_logits_basemodel_lr_fmiss_cache_tf07_4_8ee373c98a.pt\n"
     ]
    },
    {
     "name": "stderr",
     "output_type": "stream",
     "text": [
      "INFO:root:Logits hooks and cache initialized. Cachesize: 32\n"
     ]
    },
    {
     "name": "stdout",
     "output_type": "stream",
     "text": [
      "loading /project/catinous/trained_models/cont_combined_logits_basemodel_lr_fmiss_cache_tf07_5_09d8b99615.pt\n",
      "LR 0.7128608923884514 0.06829394308032488\n",
      "HR 0.7789227166276347 0.05170501965238625\n",
      "HR TS 0.9511737089201878 0.01926599486261331\n",
      "mean 0.8143191059787579 0.11252333995968353\n"
     ]
    }
   ],
   "source": [
    "hparams={'continous': True,\n",
    "         'use_cache':True,\n",
    "        'datasetfile': 'catsinom_combined_dsts3_dataset.csv',\n",
    "        'base_model': 'batch_lr_base_train_1_2d20289ac9.pt',\n",
    "        'val_check_interval': 30,\n",
    "        'cachemaximum':32,\n",
    "        'force_misclassified':True}\n",
    "\n",
    "(roc_aucs_test, accuracies_test) = test_metrices(hparams, {'LR': test_lr, 'HR': test_hr, 'HR TS': test_hr_ts}, device)\n",
    "\n",
    "print('LR', np.array(accuracies_test['LR']).mean(), np.array(accuracies_test['LR']).std())\n",
    "print('HR', np.array(accuracies_test['HR']).mean(), np.array(accuracies_test['HR']).std())\n",
    "print('HR TS', np.array(accuracies_test['HR TS']).mean(), np.array(accuracies_test['HR TS']).std())\n",
    "print('mean', np.array([accuracies_test['LR'], accuracies_test['HR'], accuracies_test['HR TS']]).mean(), np.array([accuracies_test['LR'], accuracies_test['HR'], accuracies_test['HR TS']]).std())"
   ]
  },
  {
   "cell_type": "code",
   "execution_count": 29,
   "metadata": {},
   "outputs": [
    {
     "data": {
      "text/html": [
       "<div>\n",
       "<style scoped>\n",
       "    .dataframe tbody tr th:only-of-type {\n",
       "        vertical-align: middle;\n",
       "    }\n",
       "\n",
       "    .dataframe tbody tr th {\n",
       "        vertical-align: top;\n",
       "    }\n",
       "\n",
       "    .dataframe thead th {\n",
       "        text-align: right;\n",
       "    }\n",
       "</style>\n",
       "<table border=\"1\" class=\"dataframe\">\n",
       "  <thead>\n",
       "    <tr style=\"text-align: right;\">\n",
       "      <th></th>\n",
       "      <th>filepath</th>\n",
       "      <th>label</th>\n",
       "      <th>traincounter</th>\n",
       "    </tr>\n",
       "    <tr>\n",
       "      <th>res</th>\n",
       "      <th></th>\n",
       "      <th></th>\n",
       "      <th></th>\n",
       "    </tr>\n",
       "  </thead>\n",
       "  <tbody>\n",
       "    <tr>\n",
       "      <th>hr_ts</th>\n",
       "      <td>30</td>\n",
       "      <td>30</td>\n",
       "      <td>30</td>\n",
       "    </tr>\n",
       "    <tr>\n",
       "      <th>lr</th>\n",
       "      <td>2</td>\n",
       "      <td>2</td>\n",
       "      <td>2</td>\n",
       "    </tr>\n",
       "  </tbody>\n",
       "</table>\n",
       "</div>"
      ],
      "text/plain": [
       "       filepath  label  traincounter\n",
       "res                                 \n",
       "hr_ts        30     30            30\n",
       "lr            2      2             2"
      ]
     },
     "execution_count": 29,
     "metadata": {},
     "output_type": "execute_result"
    }
   ],
   "source": [
    "df_cache = pd.read_csv('/project/catinous/trained_cache/cont_combined_logits_basemodel_lr_fmiss_cache_tf07_2_724bdb10dc.csv')\n",
    "df_cache.groupby('res').count()"
   ]
  },
  {
   "cell_type": "code",
   "execution_count": 21,
   "metadata": {},
   "outputs": [],
   "source": [
    "streamedDS = StreamedDS('/project/catinous/cat_data/','catsinom_combined_dsts2_dataset.csv', transition_phase_after=0.7, direction='lr->hr')\n",
    "res = streamedDS.df.res == 'hr'\n",
    "res[streamedDS.df.res == 'hr_ts'] = 2\n",
    "newcmp = ListedColormap([sns.color_palette()[0], sns.color_palette()[1], sns.color_palette()[2]], name='OrangeBlue')"
   ]
  },
  {
   "cell_type": "code",
   "execution_count": 29,
   "metadata": {},
   "outputs": [
    {
     "name": "stdout",
     "output_type": "stream",
     "text": [
      "Load: /home/mperkonigg/zzz/__main__.res_data_for_params_cee5e3f299f69c0a5197608e6e1068d22f499d84.p in: 0.00s\n",
      "Load: /home/mperkonigg/zzz/__main__.res_data_for_params_4f1753dd7e9c890be4a037aa3166e0ad4df68bd6.p in: 0.00s\n",
      "Load: /home/mperkonigg/zzz/__main__.res_data_for_params_00d49c59e3e8ef04477454eb503742f8cf1a5e27.p in: 0.00s\n",
      "Load: /home/mperkonigg/zzz/__main__.res_data_for_params_3ca5064e01b971f79169548951366679ff9e357f.p in: 0.00s\n",
      "Load: /home/mperkonigg/zzz/__main__.res_data_for_params_3354d16c54f4c408dcb1fc74af7f21e9ddcc55ee.p in: 0.00s\n",
      "Load: /home/mperkonigg/zzz/__main__.res_data_for_params_496f8e6bdae02cf7a39c80a61b65b39c9c6075be.p in: 0.00s\n"
     ]
    },
    {
     "data": {
      "image/png": "[encoded data removed]",
      "text/plain": [
       "<Figure size 504x504 with 7 Axes>"
      ]
     },
     "metadata": {
      "needs_background": "light"
     },
     "output_type": "display_data"
    }
   ],
   "source": [
    "c_sizes = [16, 32, 48, 64, 80, 96, 128, 160]\n",
    "c_sizes = [16, 32, 64, 80, 128, 160]\n",
    "datas = ['catsinom_combined_dsts3_dataset.csv']\n",
    "fig, ax = plt.subplots(7,1, figsize=(7, 7), frameon=False)\n",
    "plt.subplots_adjust(hspace=0.0)\n",
    "for j, c_size in enumerate(c_sizes):\n",
    "    hparams={'continous': True,\n",
    "             'use_cache':True,\n",
    "            'datasetfile': 'catsinom_combined_dsts3_dataset.csv',\n",
    "            'base_model': 'batch_lr_base_train_1_2d20289ac9.pt',\n",
    "            'val_check_interval': 30,\n",
    "            'cachemaximum': c_size,\n",
    "            'force_misclassified':True}\n",
    "    t_ews_res = cache.cache(res_data_for_params,hparams)\n",
    "\n",
    "    axis = ax[j]\n",
    "    sns.lineplot(data=t_ews_res, y='val_acc_lr', x='idx', ax=axis, err_style=None)\n",
    "    sns.lineplot(data=t_ews_res, y='val_acc_hr', x='idx', ax=axis, err_style=None)\n",
    "    sns.lineplot(data=t_ews_res, y='val_acc_hr_ts', x='idx', ax=axis, err_style=None)\n",
    "    axis.get_xaxis().set_visible(False)\n",
    "    axis.set_xlim(0, 20)\n",
    "    axis.set_ylim(.4, 1.1)\n",
    "    axis.set_ylabel('')\n",
    "    axis.set_ylabel(r'%i' % c_size)\n",
    "    axis.tick_params(labelright=True, right=True)\n",
    "    axis.get_xaxis().set_visible(False)\n",
    "\n",
    "ax[6].imshow(np.tile(res,(300,1)), cmap=newcmp, alpha=0.8)\n",
    "ax[6].get_yaxis().set_visible(False)\n",
    "ax[6].get_yaxis()\n",
    "plt.savefig(catutils.RESPATH+ 'memory_size_effect_learning.pdf', bbox_inches='tight', pad_inches=0.1)"
   ]
  },
  {
   "cell_type": "code",
   "execution_count": 24,
   "metadata": {},
   "outputs": [],
   "source": [
    "def res_data_for_params(hparams):\n",
    "    df = pd.DataFrame()\n",
    "    base_params = []\n",
    "    for i in range(5):\n",
    "        base_params.append(hparams.copy())\n",
    "        base_params[-1]['run_postfix'] = i+1\n",
    "        if not catslogmodel.is_cached(base_params[-1]):\n",
    "            print('not cached')\n",
    "            #slurm.srun(catsmodel.trained_model, [base_params[-1]], params=sparams, remote=True)    \n",
    "        else:\n",
    "            _, df_temp, _, _ = catslogmodel.trained_model(base_params[-1])\n",
    "            df_temp = df_temp.loc[df_temp['val_loss_lr']==df_temp['val_loss_lr']]\n",
    "            df_temp['idx'] = range(1,len(df_temp)+1)\n",
    "            df = df.append(df_temp)\n",
    "    return df"
   ]
  },
  {
   "cell_type": "code",
   "execution_count": 25,
   "metadata": {},
   "outputs": [
    {
     "name": "stderr",
     "output_type": "stream",
     "text": [
      "INFO:root:Logits hooks and cache initialized. Cachesize: 32\n",
      "INFO:root:Logits hooks and cache initialized. Cachesize: 32\n"
     ]
    },
    {
     "name": "stdout",
     "output_type": "stream",
     "text": [
      "Read: /project/catinous/trained_models/cont_combined_logits_basemodel_lr_fmiss_cache_tf07_1_d6d3a4b8c8.pt\n"
     ]
    },
    {
     "name": "stderr",
     "output_type": "stream",
     "text": [
      "INFO:root:Logits hooks and cache initialized. Cachesize: 32\n",
      "INFO:root:Logits hooks and cache initialized. Cachesize: 32\n"
     ]
    },
    {
     "name": "stdout",
     "output_type": "stream",
     "text": [
      "Read: /project/catinous/trained_models/cont_combined_logits_basemodel_lr_fmiss_cache_tf07_2_724bdb10dc.pt\n"
     ]
    },
    {
     "name": "stderr",
     "output_type": "stream",
     "text": [
      "INFO:root:Logits hooks and cache initialized. Cachesize: 32\n",
      "INFO:root:Logits hooks and cache initialized. Cachesize: 32\n"
     ]
    },
    {
     "name": "stdout",
     "output_type": "stream",
     "text": [
      "Read: /project/catinous/trained_models/cont_combined_logits_basemodel_lr_fmiss_cache_tf07_3_54465ad537.pt\n"
     ]
    },
    {
     "name": "stderr",
     "output_type": "stream",
     "text": [
      "INFO:root:Logits hooks and cache initialized. Cachesize: 32\n",
      "INFO:root:Logits hooks and cache initialized. Cachesize: 32\n"
     ]
    },
    {
     "name": "stdout",
     "output_type": "stream",
     "text": [
      "Read: /project/catinous/trained_models/cont_combined_logits_basemodel_lr_fmiss_cache_tf07_4_8ee373c98a.pt\n"
     ]
    },
    {
     "name": "stderr",
     "output_type": "stream",
     "text": [
      "INFO:root:Logits hooks and cache initialized. Cachesize: 32\n",
      "INFO:root:Logits hooks and cache initialized. Cachesize: 32\n"
     ]
    },
    {
     "name": "stdout",
     "output_type": "stream",
     "text": [
      "Read: /project/catinous/trained_models/cont_combined_logits_basemodel_lr_fmiss_cache_tf07_5_09d8b99615.pt\n"
     ]
    },
    {
     "data": {
      "image/png": "[encoded data removed]",
      "text/plain": [
       "<Figure size 504x72 with 1 Axes>"
      ]
     },
     "metadata": {
      "needs_background": "light"
     },
     "output_type": "display_data"
    }
   ],
   "source": [
    "fig, ax = plt.subplots(1,1, figsize=(7, 1), frameon=False)\n",
    "plt.subplots_adjust(hspace=0.0)\n",
    "hparams={'continous': True,\n",
    "         'use_cache':True,\n",
    "        'datasetfile': 'catsinom_combined_dsts3_dataset.csv',\n",
    "        'base_model': 'batch_lr_base_train_1_2d20289ac9.pt',\n",
    "        'val_check_interval': 30,\n",
    "        'cachemaximum':32,\n",
    "        'force_misclassified':True}\n",
    "\n",
    "t_ews_res = res_data_for_params(hparams)\n",
    "\n",
    "axis = ax\n",
    "sns.lineplot(data=t_ews_res, y='val_acc_lr', x='idx', ax=axis, err_style=None)\n",
    "sns.lineplot(data=t_ews_res, y='val_acc_hr', x='idx', ax=axis, err_style=None)\n",
    "sns.lineplot(data=t_ews_res, y='val_acc_hr_ts', x='idx', ax=axis, err_style=None)\n",
    "axis.get_xaxis().set_visible(False)\n",
    "axis.set_xlim(0, 20)\n",
    "axis.set_ylim(.4, 1.1)\n",
    "axis.set_ylabel('')\n",
    "axis.tick_params(labelright=True, right=True)\n",
    "axis.get_xaxis().set_visible(False)"
   ]
  },
  {
   "cell_type": "code",
   "execution_count": null,
   "metadata": {},
   "outputs": [],
   "source": []
  }
 ],
 "metadata": {
  "kernelspec": {
   "display_name": "Python 3",
   "language": "python",
   "name": "python3"
  },
  "language_info": {
   "codemirror_mode": {
    "name": "ipython",
    "version": 3
   },
   "file_extension": ".py",
   "mimetype": "text/x-python",
   "name": "python",
   "nbconvert_exporter": "python",
   "pygments_lexer": "ipython3",
   "version": "3.6.9"
  }
 },
 "nbformat": 4,
 "nbformat_minor": 4
}
