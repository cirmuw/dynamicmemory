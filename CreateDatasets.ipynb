{
 "cells": [
  {
   "cell_type": "code",
   "execution_count": 24,
   "metadata": {},
   "outputs": [],
   "source": [
    "import random\n",
    "import pandas as pd\n",
    "from glob import glob\n",
    "import numpy as np  \n",
    "import os"
   ]
  },
  {
   "cell_type": "code",
   "execution_count": 25,
   "metadata": {},
   "outputs": [],
   "source": [
    "def train_validate_test_split(img_dir, class_label=0, train_percent=.4, validate_percent=.1, base_train_percent=.4, seed=87264):\n",
    "    img_list = glob(img_dir + '*.dcm')\n",
    "    img_list = [os.path.join(s.split('/')[-2], s.split('/')[-1]) for s in img_list] #this is really ugly!\n",
    "    df = pd.DataFrame({'image':img_list, 'label':[class_label]*len(img_list), 'split':['-']*len(img_list)})\n",
    "    np.random.seed(seed)\n",
    "    perm = np.random.permutation(df.index)\n",
    "    m = len(df)\n",
    "    train_end = int(train_percent * m)\n",
    "    base_train_end = int(base_train_percent * m) + train_end\n",
    "    validate_end = int(validate_percent * m) + base_train_end\n",
    "    df.loc[perm[:train_end], 'split'] = 'train'\n",
    "    df.loc[perm[train_end:base_train_end], 'split'] = 'base_train'\n",
    "    df.loc[perm[base_train_end:validate_end], 'split'] = 'val'\n",
    "    df.loc[perm[validate_end:], 'split'] = 'test'\n",
    "    return df"
   ]
  },
  {
   "cell_type": "code",
   "execution_count": 26,
   "metadata": {},
   "outputs": [],
   "source": [
    "df_hr = train_validate_test_split('/project/catinous/cat_data/hr/', class_label=0)\n",
    "df_hr_cat = train_validate_test_split('/project/catinous/cat_data/hr_cat/', class_label=1)\n",
    "df_hr = df_hr.append(df_hr_cat)\n",
    "df_hr['res'] = 'hr'\n",
    "df_hr.to_csv('catsinom_hr_dataset.csv')"
   ]
  },
  {
   "cell_type": "code",
   "execution_count": 27,
   "metadata": {},
   "outputs": [],
   "source": [
    "df_lr = train_validate_test_split('/project/catinous/cat_data/lr/', class_label=0)\n",
    "df_lr_cat = train_validate_test_split('/project/catinous/cat_data/lr_cat/', class_label=1)\n",
    "df_lr = df_lr.append(df_lr_cat)\n",
    "df_lr['res'] = 'lr'\n",
    "df_lr.to_csv('catsinom_lr_dataset.csv')"
   ]
  },
  {
   "cell_type": "code",
   "execution_count": 28,
   "metadata": {},
   "outputs": [],
   "source": [
    "df = df_lr.append(df_hr, sort=False)\n",
    "df.to_csv('catsinom_combined_dataset.csv')"
   ]
  },
  {
   "cell_type": "code",
   "execution_count": 29,
   "metadata": {},
   "outputs": [],
   "source": [
    "df.sample(100, replace=False).to_csv('test_catsinom_combined_dataset.csv')"
   ]
  },
  {
   "cell_type": "code",
   "execution_count": 32,
   "metadata": {},
   "outputs": [
    {
     "data": {
      "text/html": [
       "<div>\n",
       "<style scoped>\n",
       "    .dataframe tbody tr th:only-of-type {\n",
       "        vertical-align: middle;\n",
       "    }\n",
       "\n",
       "    .dataframe tbody tr th {\n",
       "        vertical-align: top;\n",
       "    }\n",
       "\n",
       "    .dataframe thead th {\n",
       "        text-align: right;\n",
       "    }\n",
       "</style>\n",
       "<table border=\"1\" class=\"dataframe\">\n",
       "  <thead>\n",
       "    <tr style=\"text-align: right;\">\n",
       "      <th></th>\n",
       "      <th>image</th>\n",
       "      <th>label</th>\n",
       "      <th>split</th>\n",
       "      <th>res</th>\n",
       "    </tr>\n",
       "  </thead>\n",
       "  <tbody>\n",
       "    <tr>\n",
       "      <td>77</td>\n",
       "      <td>lr/4C028FA1_20090213_dicom_107694.dcm</td>\n",
       "      <td>0</td>\n",
       "      <td>base_train</td>\n",
       "      <td>lr</td>\n",
       "    </tr>\n",
       "    <tr>\n",
       "      <td>321</td>\n",
       "      <td>hr_cat/08CJP4BK_20140310_dicom_300399.dcm</td>\n",
       "      <td>1</td>\n",
       "      <td>base_train</td>\n",
       "      <td>hr</td>\n",
       "    </tr>\n",
       "    <tr>\n",
       "      <td>466</td>\n",
       "      <td>lr_cat/D99A97A4_20120508_dicom_499.dcm</td>\n",
       "      <td>1</td>\n",
       "      <td>base_train</td>\n",
       "      <td>lr</td>\n",
       "    </tr>\n",
       "    <tr>\n",
       "      <td>178</td>\n",
       "      <td>hr/06JTXSAL_20131127_dicom_304361.dcm</td>\n",
       "      <td>0</td>\n",
       "      <td>train</td>\n",
       "      <td>hr</td>\n",
       "    </tr>\n",
       "    <tr>\n",
       "      <td>1562</td>\n",
       "      <td>hr/02Z6XGC1_20141020_dicom_238091.dcm</td>\n",
       "      <td>0</td>\n",
       "      <td>train</td>\n",
       "      <td>hr</td>\n",
       "    </tr>\n",
       "    <tr>\n",
       "      <td>...</td>\n",
       "      <td>...</td>\n",
       "      <td>...</td>\n",
       "      <td>...</td>\n",
       "      <td>...</td>\n",
       "    </tr>\n",
       "    <tr>\n",
       "      <td>1242</td>\n",
       "      <td>lr_cat/D3310295_20110322_dicom_404.dcm</td>\n",
       "      <td>1</td>\n",
       "      <td>test</td>\n",
       "      <td>lr</td>\n",
       "    </tr>\n",
       "    <tr>\n",
       "      <td>798</td>\n",
       "      <td>hr/1GEFYV85_20140919_dicom_228126.dcm</td>\n",
       "      <td>0</td>\n",
       "      <td>train</td>\n",
       "      <td>hr</td>\n",
       "    </tr>\n",
       "    <tr>\n",
       "      <td>1768</td>\n",
       "      <td>lr/8F25F061_20060427_dicom_100369.dcm</td>\n",
       "      <td>0</td>\n",
       "      <td>train</td>\n",
       "      <td>lr</td>\n",
       "    </tr>\n",
       "    <tr>\n",
       "      <td>242</td>\n",
       "      <td>hr/1H0EI18K_20141022_dicom_235295.dcm</td>\n",
       "      <td>0</td>\n",
       "      <td>train</td>\n",
       "      <td>hr</td>\n",
       "    </tr>\n",
       "    <tr>\n",
       "      <td>404</td>\n",
       "      <td>lr/202255A6_20061116_dicom_9895.dcm</td>\n",
       "      <td>0</td>\n",
       "      <td>train</td>\n",
       "      <td>lr</td>\n",
       "    </tr>\n",
       "  </tbody>\n",
       "</table>\n",
       "<p>10000 rows × 4 columns</p>\n",
       "</div>"
      ],
      "text/plain": [
       "                                          image  label       split res\n",
       "77        lr/4C028FA1_20090213_dicom_107694.dcm      0  base_train  lr\n",
       "321   hr_cat/08CJP4BK_20140310_dicom_300399.dcm      1  base_train  hr\n",
       "466      lr_cat/D99A97A4_20120508_dicom_499.dcm      1  base_train  lr\n",
       "178       hr/06JTXSAL_20131127_dicom_304361.dcm      0       train  hr\n",
       "1562      hr/02Z6XGC1_20141020_dicom_238091.dcm      0       train  hr\n",
       "...                                         ...    ...         ...  ..\n",
       "1242     lr_cat/D3310295_20110322_dicom_404.dcm      1        test  lr\n",
       "798       hr/1GEFYV85_20140919_dicom_228126.dcm      0       train  hr\n",
       "1768      lr/8F25F061_20060427_dicom_100369.dcm      0       train  lr\n",
       "242       hr/1H0EI18K_20141022_dicom_235295.dcm      0       train  hr\n",
       "404         lr/202255A6_20061116_dicom_9895.dcm      0       train  lr\n",
       "\n",
       "[10000 rows x 4 columns]"
      ]
     },
     "execution_count": 32,
     "metadata": {},
     "output_type": "execute_result"
    }
   ],
   "source": [
    "df.sample(10000, replace=True)"
   ]
  },
  {
   "cell_type": "code",
   "execution_count": 8,
   "metadata": {},
   "outputs": [
    {
     "data": {
      "text/plain": [
       "(8033, 3)"
      ]
     },
     "execution_count": 8,
     "metadata": {},
     "output_type": "execute_result"
    }
   ],
   "source": [
    "df.shape"
   ]
  }
 ],
 "metadata": {
  "kernelspec": {
   "display_name": "Candid (new)",
   "language": "python",
   "name": "candid2"
  },
  "language_info": {
   "codemirror_mode": {
    "name": "ipython",
    "version": 3
   },
   "file_extension": ".py",
   "mimetype": "text/x-python",
   "name": "python",
   "nbconvert_exporter": "python",
   "pygments_lexer": "ipython3",
   "version": "3.6.9"
  }
 },
 "nbformat": 4,
 "nbformat_minor": 4
}
