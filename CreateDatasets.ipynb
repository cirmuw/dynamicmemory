{
 "cells": [
  {
   "cell_type": "code",
   "execution_count": 1,
   "metadata": {},
   "outputs": [],
   "source": [
    "import random\n",
    "import pandas as pd\n",
    "from glob import glob\n",
    "import numpy as np\n",
    "import os"
   ]
  },
  {
   "cell_type": "code",
   "execution_count": 2,
   "metadata": {},
   "outputs": [],
   "source": [
    "def train_validate_test_split(img_dir, class_label=0, train_percent=.7, validate_percent=.1, seed=None):\n",
    "    img_list = glob(img_dir + '*.dcm')\n",
    "    img_list = [os.path.join(s.split('/')[-2], s.split('/')[-1]) for s in img_list] #this is really ugly!\n",
    "    df = pd.DataFrame({'image':img_list, 'label':[class_label]*len(img_list), 'split':['-']*len(img_list)})\n",
    "    np.random.seed(seed)\n",
    "    perm = np.random.permutation(df.index)\n",
    "    m = len(df.index)\n",
    "    train_end = int(train_percent * m)\n",
    "    validate_end = int(validate_percent * m) + train_end\n",
    "    df.loc[perm[:train_end], 'split'] = 'train'\n",
    "    df.loc[perm[train_end:validate_end], 'split'] = 'val'\n",
    "    df.loc[perm[validate_end:], 'split'] = 'test'\n",
    "    return df"
   ]
  },
  {
   "cell_type": "code",
   "execution_count": 3,
   "metadata": {},
   "outputs": [],
   "source": [
    "df_hr = train_validate_test_split('/project/catinous/cat_data_hardballs/hr/', class_label=0)\n",
    "df_hr_cat = train_validate_test_split('/project/catinous/cat_data_hardballs/hr_cat/', class_label=1)\n",
    "df_hr = df_hr.append(df_hr_cat)\n",
    "\n",
    "df_hr.to_csv('catsinom_hr_hardballs_dataset.csv')"
   ]
  },
  {
   "cell_type": "code",
   "execution_count": 6,
   "metadata": {},
   "outputs": [],
   "source": [
    "df_lr = train_validate_test_split('/project/catinous/cat_data_hardballs/lr/', class_label=0)\n",
    "df_lr_cat = train_validate_test_split('/project/catinous/cat_data_hardballs/lr_cat/', class_label=1)\n",
    "df_lr = df_lr.append(df_lr_cat)\n",
    "\n",
    "df_lr.to_csv('catsinom_lr_hardballs_dataset.csv')"
   ]
  },
  {
   "cell_type": "code",
   "execution_count": 7,
   "metadata": {},
   "outputs": [],
   "source": [
    "df = df_lr.append(df_hr)\n",
    "df.to_csv('catsinom_combined_hardballs_dataset.csv')"
   ]
  },
  {
   "cell_type": "code",
   "execution_count": 5,
   "metadata": {},
   "outputs": [
    {
     "data": {
      "text/html": [
       "<div>\n",
       "<style scoped>\n",
       "    .dataframe tbody tr th:only-of-type {\n",
       "        vertical-align: middle;\n",
       "    }\n",
       "\n",
       "    .dataframe tbody tr th {\n",
       "        vertical-align: top;\n",
       "    }\n",
       "\n",
       "    .dataframe thead th {\n",
       "        text-align: right;\n",
       "    }\n",
       "</style>\n",
       "<table border=\"1\" class=\"dataframe\">\n",
       "  <thead>\n",
       "    <tr style=\"text-align: right;\">\n",
       "      <th></th>\n",
       "      <th>image</th>\n",
       "      <th>label</th>\n",
       "      <th>split</th>\n",
       "    </tr>\n",
       "  </thead>\n",
       "  <tbody>\n",
       "    <tr>\n",
       "      <th>0</th>\n",
       "      <td>lr/D4EDA423_20040121_dicom_38786.dcm</td>\n",
       "      <td>0</td>\n",
       "      <td>val</td>\n",
       "    </tr>\n",
       "    <tr>\n",
       "      <th>1</th>\n",
       "      <td>lr/29522EA0_20101128_dicom_8439.dcm</td>\n",
       "      <td>0</td>\n",
       "      <td>train</td>\n",
       "    </tr>\n",
       "    <tr>\n",
       "      <th>2</th>\n",
       "      <td>lr/AE6E3CE1_20150623_dicom_13352.dcm</td>\n",
       "      <td>0</td>\n",
       "      <td>train</td>\n",
       "    </tr>\n",
       "    <tr>\n",
       "      <th>3</th>\n",
       "      <td>lr/02ZIRSCG_20140826_dicom_192535.dcm</td>\n",
       "      <td>0</td>\n",
       "      <td>train</td>\n",
       "    </tr>\n",
       "    <tr>\n",
       "      <th>4</th>\n",
       "      <td>lr/27956E43_20100823_dicom_38760.dcm</td>\n",
       "      <td>0</td>\n",
       "      <td>train</td>\n",
       "    </tr>\n",
       "    <tr>\n",
       "      <th>...</th>\n",
       "      <td>...</td>\n",
       "      <td>...</td>\n",
       "      <td>...</td>\n",
       "    </tr>\n",
       "    <tr>\n",
       "      <th>1624</th>\n",
       "      <td>lr_cat/864A6EBF_20110202_dicom_95524.dcm</td>\n",
       "      <td>1</td>\n",
       "      <td>test</td>\n",
       "    </tr>\n",
       "    <tr>\n",
       "      <th>1625</th>\n",
       "      <td>lr_cat/84848F27_20141227_dicom_53712.dcm</td>\n",
       "      <td>1</td>\n",
       "      <td>test</td>\n",
       "    </tr>\n",
       "    <tr>\n",
       "      <th>1626</th>\n",
       "      <td>lr_cat/CAE95966_20070903_dicom_110359.dcm</td>\n",
       "      <td>1</td>\n",
       "      <td>train</td>\n",
       "    </tr>\n",
       "    <tr>\n",
       "      <th>1627</th>\n",
       "      <td>lr_cat/F79D9291_20110304_dicom_76391.dcm</td>\n",
       "      <td>1</td>\n",
       "      <td>train</td>\n",
       "    </tr>\n",
       "    <tr>\n",
       "      <th>1628</th>\n",
       "      <td>lr_cat/D54D8E4D_20090721_dicom_64934.dcm</td>\n",
       "      <td>1</td>\n",
       "      <td>val</td>\n",
       "    </tr>\n",
       "  </tbody>\n",
       "</table>\n",
       "<p>3736 rows × 3 columns</p>\n",
       "</div>"
      ],
      "text/plain": [
       "                                          image  label  split\n",
       "0          lr/D4EDA423_20040121_dicom_38786.dcm      0    val\n",
       "1           lr/29522EA0_20101128_dicom_8439.dcm      0  train\n",
       "2          lr/AE6E3CE1_20150623_dicom_13352.dcm      0  train\n",
       "3         lr/02ZIRSCG_20140826_dicom_192535.dcm      0  train\n",
       "4          lr/27956E43_20100823_dicom_38760.dcm      0  train\n",
       "...                                         ...    ...    ...\n",
       "1624   lr_cat/864A6EBF_20110202_dicom_95524.dcm      1   test\n",
       "1625   lr_cat/84848F27_20141227_dicom_53712.dcm      1   test\n",
       "1626  lr_cat/CAE95966_20070903_dicom_110359.dcm      1  train\n",
       "1627   lr_cat/F79D9291_20110304_dicom_76391.dcm      1  train\n",
       "1628   lr_cat/D54D8E4D_20090721_dicom_64934.dcm      1    val\n",
       "\n",
       "[3736 rows x 3 columns]"
      ]
     },
     "execution_count": 5,
     "metadata": {},
     "output_type": "execute_result"
    }
   ],
   "source": [
    "df_lr"
   ]
  },
  {
   "cell_type": "code",
   "execution_count": 3,
   "metadata": {},
   "outputs": [],
   "source": [
    "df_hr = train_validate_test_split('/project/catinous/cat_data_harder/hr/', class_label=0)\n",
    "df_hr_cat = train_validate_test_split('/project/catinous/cat_data_harder/hr_cat/', class_label=1)\n",
    "df_hr = df_hr.append(df_hr_cat)\n",
    "\n",
    "df_hr.to_csv('catsinom_hr_harder_dataset.csv')"
   ]
  },
  {
   "cell_type": "code",
   "execution_count": 4,
   "metadata": {},
   "outputs": [],
   "source": [
    "df_lr = train_validate_test_split('/project/catinous/cat_data_harder/lr/', class_label=0)\n",
    "df_lr_cat = train_validate_test_split('/project/catinous/cat_data_harder/lr_cat/', class_label=1)\n",
    "df_lr = df_lr.append(df_lr_cat)\n",
    "\n",
    "df_lr.to_csv('catsinom_lr_harder_dataset.csv')"
   ]
  },
  {
   "cell_type": "code",
   "execution_count": 5,
   "metadata": {},
   "outputs": [],
   "source": [
    "df = df_lr.append(df_hr)\n",
    "df.to_csv('catsinom_combined_harder_dataset.csv')"
   ]
  },
  {
   "cell_type": "code",
   "execution_count": null,
   "metadata": {},
   "outputs": [],
   "source": []
  }
 ],
 "metadata": {
  "kernelspec": {
   "display_name": "Python 3",
   "language": "python",
   "name": "python3"
  },
  "language_info": {
   "codemirror_mode": {
    "name": "ipython",
    "version": 3
   },
   "file_extension": ".py",
   "mimetype": "text/x-python",
   "name": "python",
   "nbconvert_exporter": "python",
   "pygments_lexer": "ipython3",
   "version": "3.6.8"
  }
 },
 "nbformat": 4,
 "nbformat_minor": 4
}
