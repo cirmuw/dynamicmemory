{
 "cells": [
  {
   "cell_type": "code",
   "execution_count": 16,
   "metadata": {},
   "outputs": [],
   "source": [
    "import random\n",
    "import pandas as pd\n",
    "from glob import glob\n",
    "import numpy as np  \n",
    "import os"
   ]
  },
  {
   "cell_type": "code",
   "execution_count": 43,
   "metadata": {},
   "outputs": [],
   "source": [
    "def train_validate_test_split(img_dir, class_label=0, train_percent=.4, validate_percent=.1, base_train_percent=.4, seed=87264):\n",
    "    img_list = glob(img_dir + '*.dcm')\n",
    "    img_list = [os.path.join(s.split('/')[-2], s.split('/')[-1]) for s in img_list] #this is really ugly!\n",
    "    df = pd.DataFrame({'image':img_list, 'label':[class_label]*len(img_list), 'split':['-']*len(img_list)})\n",
    "    np.random.seed(seed)\n",
    "    perm = np.random.permutation(df.index)\n",
    "    m = len(df)\n",
    "    train_end = int(train_percent * m)\n",
    "    base_train_end = int(base_train_percent * m) + train_end\n",
    "    validate_end = int(validate_percent * m) + base_train_end\n",
    "    df.loc[perm[:train_end], 'split'] = 'train'\n",
    "    df.loc[perm[train_end:base_train_end], 'split'] = 'base_train'\n",
    "    df.loc[perm[base_train_end:validate_end], 'split'] = 'val'\n",
    "    df.loc[perm[validate_end:], 'split'] = 'test'\n",
    "    return df"
   ]
  },
  {
   "cell_type": "code",
   "execution_count": 44,
   "metadata": {},
   "outputs": [],
   "source": [
    "df_hr = train_validate_test_split('/project/catinous/cat_data/hr/', class_label=0)\n",
    "df_hr_cat = train_validate_test_split('/project/catinous/cat_data/hr_cat/', class_label=1)\n",
    "df_hr = df_hr.append(df_hr_cat)\n",
    "\n",
    "df_hr.to_csv('catsinom_hr_dataset.csv')"
   ]
  },
  {
   "cell_type": "code",
   "execution_count": 45,
   "metadata": {},
   "outputs": [],
   "source": [
    "df_lr = train_validate_test_split('/project/catinous/cat_data/lr/', class_label=0)\n",
    "df_lr_cat = train_validate_test_split('/project/catinous/cat_data/lr_cat/', class_label=1)\n",
    "df_lr = df_lr.append(df_lr_cat)\n",
    "\n",
    "df_lr.to_csv('catsinom_lr_dataset.csv')"
   ]
  },
  {
   "cell_type": "code",
   "execution_count": 46,
   "metadata": {},
   "outputs": [],
   "source": [
    "df = df_lr.append(df_hr)\n",
    "df.to_csv('catsinom_combined_dataset.csv')"
   ]
  },
  {
   "cell_type": "code",
   "execution_count": 47,
   "metadata": {},
   "outputs": [
    {
     "data": {
      "text/html": "<div>\n<style scoped>\n    .dataframe tbody tr th:only-of-type {\n        vertical-align: middle;\n    }\n\n    .dataframe tbody tr th {\n        vertical-align: top;\n    }\n\n    .dataframe thead th {\n        text-align: right;\n    }\n</style>\n<table border=\"1\" class=\"dataframe\">\n  <thead>\n    <tr style=\"text-align: right;\">\n      <th></th>\n      <th>image</th>\n      <th>label</th>\n      <th>split</th>\n    </tr>\n  </thead>\n  <tbody>\n    <tr>\n      <td>721</td>\n      <td>lr_cat/26416C06_20130903_dicom_86438.dcm</td>\n      <td>1</td>\n      <td>test</td>\n    </tr>\n    <tr>\n      <td>1157</td>\n      <td>lr/23CDE306_20150723_dicom_70216.dcm</td>\n      <td>0</td>\n      <td>base_train</td>\n    </tr>\n    <tr>\n      <td>1179</td>\n      <td>lr_cat/CFC6D2FE_20080505_dicom_49442.dcm</td>\n      <td>1</td>\n      <td>base_train</td>\n    </tr>\n    <tr>\n      <td>278</td>\n      <td>lr_cat/AE9D4C2D_20111017_dicom_57598.dcm</td>\n      <td>1</td>\n      <td>base_train</td>\n    </tr>\n    <tr>\n      <td>664</td>\n      <td>lr_cat/1MY48MCG_20150106_dicom_279577.dcm</td>\n      <td>1</td>\n      <td>test</td>\n    </tr>\n    <tr>\n      <td>...</td>\n      <td>...</td>\n      <td>...</td>\n      <td>...</td>\n    </tr>\n    <tr>\n      <td>826</td>\n      <td>lr/4d61d27a_20140202_dicom_2793264.dcm</td>\n      <td>0</td>\n      <td>test</td>\n    </tr>\n    <tr>\n      <td>894</td>\n      <td>lr/8A09FF04_20091119_dicom_76889.dcm</td>\n      <td>0</td>\n      <td>base_train</td>\n    </tr>\n    <tr>\n      <td>1485</td>\n      <td>lr_cat/97675744_20130518_dicom_44500.dcm</td>\n      <td>1</td>\n      <td>train</td>\n    </tr>\n    <tr>\n      <td>1516</td>\n      <td>lr_cat/D1381C6B_20130521_dicom_61588.dcm</td>\n      <td>1</td>\n      <td>train</td>\n    </tr>\n    <tr>\n      <td>114</td>\n      <td>lr_cat/1115B0D5_20180217_dicom_39531.dcm</td>\n      <td>1</td>\n      <td>train</td>\n    </tr>\n  </tbody>\n</table>\n<p>10000 rows × 3 columns</p>\n</div>",
      "text/plain": "                                          image  label       split\n721    lr_cat/26416C06_20130903_dicom_86438.dcm      1        test\n1157       lr/23CDE306_20150723_dicom_70216.dcm      0  base_train\n1179   lr_cat/CFC6D2FE_20080505_dicom_49442.dcm      1  base_train\n278    lr_cat/AE9D4C2D_20111017_dicom_57598.dcm      1  base_train\n664   lr_cat/1MY48MCG_20150106_dicom_279577.dcm      1        test\n...                                         ...    ...         ...\n826      lr/4d61d27a_20140202_dicom_2793264.dcm      0        test\n894        lr/8A09FF04_20091119_dicom_76889.dcm      0  base_train\n1485   lr_cat/97675744_20130518_dicom_44500.dcm      1       train\n1516   lr_cat/D1381C6B_20130521_dicom_61588.dcm      1       train\n114    lr_cat/1115B0D5_20180217_dicom_39531.dcm      1       train\n\n[10000 rows x 3 columns]"
     },
     "execution_count": 47,
     "metadata": {},
     "output_type": "execute_result"
    }
   ],
   "source": [
    "df_lr.sample(10000, replace=True)"
   ]
  },
  {
   "cell_type": "code",
   "execution_count": null,
   "metadata": {},
   "outputs": [],
   "source": []
  }
 ],
 "metadata": {
  "kernelspec": {
   "display_name": "Candid (new)",
   "language": "python",
   "name": "candid2"
  },
  "language_info": {
   "codemirror_mode": {
    "name": "ipython",
    "version": 3
   },
   "file_extension": ".py",
   "mimetype": "text/x-python",
   "name": "python",
   "nbconvert_exporter": "python",
   "pygments_lexer": "ipython3",
   "version": "3.6.8-final"
  }
 },
 "nbformat": 4,
 "nbformat_minor": 4
}